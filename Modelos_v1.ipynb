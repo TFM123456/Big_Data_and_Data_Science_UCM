{
 "cells": [
  {
   "cell_type": "markdown",
   "metadata": {},
   "source": [
    "### Importar las librerías necesarias"
   ]
  },
  {
   "cell_type": "code",
   "execution_count": 107,
   "metadata": {},
   "outputs": [],
   "source": [
    "import pandas as pd\n",
    "import numpy as np\n",
    "import matplotlib.pyplot as plt\n",
    "from scipy import stats\n",
    "from data_dashboard import Dashboard\n",
    "import seaborn as sns\n",
    "from sklearn.preprocessing import LabelEncoder\n",
    "from sklearn.model_selection import train_test_split\n",
    "from sklearn.linear_model import LinearRegression\n",
    "from sklearn.linear_model import LogisticRegression\n",
    "from sklearn.linear_model import LogisticRegressionCV\n",
    "from sklearn.ensemble import RandomForestClassifier\n",
    "from sklearn.model_selection import cross_val_score\n",
    "from sklearn.model_selection import GridSearchCV\n",
    "from sklearn.preprocessing import StandardScaler\n",
    "from sklearn.model_selection import RepeatedKFold"
   ]
  },
  {
   "cell_type": "markdown",
   "metadata": {},
   "source": [
    "### Leer el dataset de Galicia"
   ]
  },
  {
   "cell_type": "code",
   "execution_count": 2,
   "metadata": {},
   "outputs": [],
   "source": [
    "# Dataset Galicia preprocesado FINAL, encoding='ISO-8859-1'\n",
    "\n",
    "url = 'https://raw.githubusercontent.com/TFM123456/Big_Data_and_Data_Science_UCM/main/datos_galicia_limpio.csv'\n",
    "df_galicia = pd.read_csv(url, low_memory=False, encoding='ISO-8859-1')"
   ]
  },
  {
   "cell_type": "markdown",
   "metadata": {},
   "source": [
    "### EDA"
   ]
  },
  {
   "cell_type": "code",
   "execution_count": 3,
   "metadata": {},
   "outputs": [
    {
     "data": {
      "text/html": [
       "<div>\n",
       "<style scoped>\n",
       "    .dataframe tbody tr th:only-of-type {\n",
       "        vertical-align: middle;\n",
       "    }\n",
       "\n",
       "    .dataframe tbody tr th {\n",
       "        vertical-align: top;\n",
       "    }\n",
       "\n",
       "    .dataframe thead th {\n",
       "        text-align: right;\n",
       "    }\n",
       "</style>\n",
       "<table border=\"1\" class=\"dataframe\">\n",
       "  <thead>\n",
       "    <tr style=\"text-align: right;\">\n",
       "      <th></th>\n",
       "      <th>Unnamed: 0</th>\n",
       "      <th>id</th>\n",
       "      <th>superficie</th>\n",
       "      <th>fecha</th>\n",
       "      <th>lat</th>\n",
       "      <th>lng</th>\n",
       "      <th>idprovincia</th>\n",
       "      <th>idmunicipio</th>\n",
       "      <th>causa</th>\n",
       "      <th>muertos</th>\n",
       "      <th>...</th>\n",
       "      <th>TMIN</th>\n",
       "      <th>TMAX</th>\n",
       "      <th>VELMEDIA</th>\n",
       "      <th>RACHA</th>\n",
       "      <th>SOL</th>\n",
       "      <th>Trimestre</th>\n",
       "      <th>Mes</th>\n",
       "      <th>Año</th>\n",
       "      <th>DIR_VIENTO</th>\n",
       "      <th>PRES_RANGE</th>\n",
       "    </tr>\n",
       "  </thead>\n",
       "  <tbody>\n",
       "    <tr>\n",
       "      <th>0</th>\n",
       "      <td>1</td>\n",
       "      <td>2001150021</td>\n",
       "      <td>5.0</td>\n",
       "      <td>2001-02-20</td>\n",
       "      <td>43.703581</td>\n",
       "      <td>-8.038777</td>\n",
       "      <td>A Coruña</td>\n",
       "      <td>CEDEIRA</td>\n",
       "      <td>negligencia</td>\n",
       "      <td>0</td>\n",
       "      <td>...</td>\n",
       "      <td>7.0</td>\n",
       "      <td>15.6</td>\n",
       "      <td>2-4 m/s</td>\n",
       "      <td>16.9</td>\n",
       "      <td>10.2</td>\n",
       "      <td>Q1</td>\n",
       "      <td>febrero</td>\n",
       "      <td>2001</td>\n",
       "      <td>E</td>\n",
       "      <td>4.4</td>\n",
       "    </tr>\n",
       "    <tr>\n",
       "      <th>1</th>\n",
       "      <td>3</td>\n",
       "      <td>2001150094</td>\n",
       "      <td>1.5</td>\n",
       "      <td>2001-02-25</td>\n",
       "      <td>43.186836</td>\n",
       "      <td>-8.685470</td>\n",
       "      <td>A Coruña</td>\n",
       "      <td>CARBALLO</td>\n",
       "      <td>intencionado</td>\n",
       "      <td>0</td>\n",
       "      <td>...</td>\n",
       "      <td>6.5</td>\n",
       "      <td>11.6</td>\n",
       "      <td>4-6 m/s</td>\n",
       "      <td>11.1</td>\n",
       "      <td>10.2</td>\n",
       "      <td>Q1</td>\n",
       "      <td>febrero</td>\n",
       "      <td>2001</td>\n",
       "      <td>NE</td>\n",
       "      <td>4.7</td>\n",
       "    </tr>\n",
       "    <tr>\n",
       "      <th>2</th>\n",
       "      <td>5</td>\n",
       "      <td>2001150145</td>\n",
       "      <td>1.5</td>\n",
       "      <td>2001-04-13</td>\n",
       "      <td>43.699889</td>\n",
       "      <td>-7.984566</td>\n",
       "      <td>A Coruña</td>\n",
       "      <td>CEDEIRA</td>\n",
       "      <td>negligencia</td>\n",
       "      <td>0</td>\n",
       "      <td>...</td>\n",
       "      <td>10.4</td>\n",
       "      <td>17.4</td>\n",
       "      <td>4-6 m/s</td>\n",
       "      <td>13.9</td>\n",
       "      <td>12.1</td>\n",
       "      <td>Q2</td>\n",
       "      <td>abril</td>\n",
       "      <td>2001</td>\n",
       "      <td>NE</td>\n",
       "      <td>3.2</td>\n",
       "    </tr>\n",
       "    <tr>\n",
       "      <th>3</th>\n",
       "      <td>6</td>\n",
       "      <td>2001150151</td>\n",
       "      <td>1.1</td>\n",
       "      <td>2001-04-13</td>\n",
       "      <td>42.758649</td>\n",
       "      <td>-8.917814</td>\n",
       "      <td>A Coruña</td>\n",
       "      <td>LOUSAME</td>\n",
       "      <td>causa desconocida</td>\n",
       "      <td>0</td>\n",
       "      <td>...</td>\n",
       "      <td>10.4</td>\n",
       "      <td>17.4</td>\n",
       "      <td>4-6 m/s</td>\n",
       "      <td>13.9</td>\n",
       "      <td>12.1</td>\n",
       "      <td>Q2</td>\n",
       "      <td>abril</td>\n",
       "      <td>2001</td>\n",
       "      <td>NE</td>\n",
       "      <td>3.2</td>\n",
       "    </tr>\n",
       "    <tr>\n",
       "      <th>4</th>\n",
       "      <td>7</td>\n",
       "      <td>2001150153</td>\n",
       "      <td>1.5</td>\n",
       "      <td>2001-04-13</td>\n",
       "      <td>43.063218</td>\n",
       "      <td>-9.235604</td>\n",
       "      <td>A Coruña</td>\n",
       "      <td>MUXÃÂA</td>\n",
       "      <td>intencionado</td>\n",
       "      <td>0</td>\n",
       "      <td>...</td>\n",
       "      <td>10.4</td>\n",
       "      <td>17.4</td>\n",
       "      <td>4-6 m/s</td>\n",
       "      <td>13.9</td>\n",
       "      <td>12.1</td>\n",
       "      <td>Q2</td>\n",
       "      <td>abril</td>\n",
       "      <td>2001</td>\n",
       "      <td>NE</td>\n",
       "      <td>3.2</td>\n",
       "    </tr>\n",
       "  </tbody>\n",
       "</table>\n",
       "<p>5 rows × 29 columns</p>\n",
       "</div>"
      ],
      "text/plain": [
       "   Unnamed: 0          id  superficie       fecha        lat       lng  \\\n",
       "0           1  2001150021         5.0  2001-02-20  43.703581 -8.038777   \n",
       "1           3  2001150094         1.5  2001-02-25  43.186836 -8.685470   \n",
       "2           5  2001150145         1.5  2001-04-13  43.699889 -7.984566   \n",
       "3           6  2001150151         1.1  2001-04-13  42.758649 -8.917814   \n",
       "4           7  2001150153         1.5  2001-04-13  43.063218 -9.235604   \n",
       "\n",
       "  idprovincia idmunicipio              causa  muertos  ...  TMIN  TMAX  \\\n",
       "0    A Coruña     CEDEIRA        negligencia        0  ...   7.0  15.6   \n",
       "1    A Coruña    CARBALLO       intencionado        0  ...   6.5  11.6   \n",
       "2    A Coruña     CEDEIRA        negligencia        0  ...  10.4  17.4   \n",
       "3    A Coruña     LOUSAME  causa desconocida        0  ...  10.4  17.4   \n",
       "4    A Coruña    MUXÃÂA       intencionado        0  ...  10.4  17.4   \n",
       "\n",
       "   VELMEDIA  RACHA   SOL Trimestre      Mes   Año  DIR_VIENTO  PRES_RANGE  \n",
       "0   2-4 m/s   16.9  10.2        Q1  febrero  2001           E         4.4  \n",
       "1   4-6 m/s   11.1  10.2        Q1  febrero  2001          NE         4.7  \n",
       "2   4-6 m/s   13.9  12.1        Q2    abril  2001          NE         3.2  \n",
       "3   4-6 m/s   13.9  12.1        Q2    abril  2001          NE         3.2  \n",
       "4   4-6 m/s   13.9  12.1        Q2    abril  2001          NE         3.2  \n",
       "\n",
       "[5 rows x 29 columns]"
      ]
     },
     "execution_count": 3,
     "metadata": {},
     "output_type": "execute_result"
    }
   ],
   "source": [
    "df_galicia.head()"
   ]
  },
  {
   "cell_type": "code",
   "execution_count": 4,
   "metadata": {},
   "outputs": [
    {
     "name": "stdout",
     "output_type": "stream",
     "text": [
      "El dataset tiene un total de 12976 lineas y 29 columnas\n"
     ]
    }
   ],
   "source": [
    "print('El dataset tiene un total de {} lineas y {} columnas'.format(df_galicia.shape[0],df_galicia.shape[1]))"
   ]
  },
  {
   "cell_type": "code",
   "execution_count": 5,
   "metadata": {},
   "outputs": [
    {
     "data": {
      "text/plain": [
       "RangeIndex(start=0, stop=12976, step=1)"
      ]
     },
     "execution_count": 5,
     "metadata": {},
     "output_type": "execute_result"
    }
   ],
   "source": [
    "df_galicia.index"
   ]
  },
  {
   "cell_type": "code",
   "execution_count": 6,
   "metadata": {},
   "outputs": [
    {
     "data": {
      "text/html": [
       "<div>\n",
       "<style scoped>\n",
       "    .dataframe tbody tr th:only-of-type {\n",
       "        vertical-align: middle;\n",
       "    }\n",
       "\n",
       "    .dataframe tbody tr th {\n",
       "        vertical-align: top;\n",
       "    }\n",
       "\n",
       "    .dataframe thead th {\n",
       "        text-align: right;\n",
       "    }\n",
       "</style>\n",
       "<table border=\"1\" class=\"dataframe\">\n",
       "  <thead>\n",
       "    <tr style=\"text-align: right;\">\n",
       "      <th></th>\n",
       "      <th>Unnamed: 0</th>\n",
       "      <th>id</th>\n",
       "      <th>superficie</th>\n",
       "      <th>lat</th>\n",
       "      <th>lng</th>\n",
       "      <th>muertos</th>\n",
       "      <th>heridos</th>\n",
       "      <th>time_ctrl</th>\n",
       "      <th>time_ext</th>\n",
       "      <th>personal</th>\n",
       "      <th>medios</th>\n",
       "      <th>TMEDIA</th>\n",
       "      <th>PRECIPITACION</th>\n",
       "      <th>TMIN</th>\n",
       "      <th>TMAX</th>\n",
       "      <th>RACHA</th>\n",
       "      <th>SOL</th>\n",
       "      <th>Año</th>\n",
       "      <th>PRES_RANGE</th>\n",
       "    </tr>\n",
       "  </thead>\n",
       "  <tbody>\n",
       "    <tr>\n",
       "      <th>count</th>\n",
       "      <td>12976.000000</td>\n",
       "      <td>1.297600e+04</td>\n",
       "      <td>12976.000000</td>\n",
       "      <td>12976.000000</td>\n",
       "      <td>12976.000000</td>\n",
       "      <td>12976.000000</td>\n",
       "      <td>12976.000000</td>\n",
       "      <td>12976.000000</td>\n",
       "      <td>12976.000000</td>\n",
       "      <td>12976.000000</td>\n",
       "      <td>12976.000000</td>\n",
       "      <td>12976.000000</td>\n",
       "      <td>12976.000000</td>\n",
       "      <td>12976.000000</td>\n",
       "      <td>12976.000000</td>\n",
       "      <td>12976.000000</td>\n",
       "      <td>12976.000000</td>\n",
       "      <td>12976.000000</td>\n",
       "      <td>12976.000000</td>\n",
       "    </tr>\n",
       "    <tr>\n",
       "      <th>mean</th>\n",
       "      <td>9781.431181</td>\n",
       "      <td>2.005867e+09</td>\n",
       "      <td>2.586703</td>\n",
       "      <td>42.555421</td>\n",
       "      <td>-7.994614</td>\n",
       "      <td>0.000077</td>\n",
       "      <td>0.000462</td>\n",
       "      <td>1.781149</td>\n",
       "      <td>1.781149</td>\n",
       "      <td>12.281520</td>\n",
       "      <td>1.964396</td>\n",
       "      <td>16.584664</td>\n",
       "      <td>0.132167</td>\n",
       "      <td>9.717810</td>\n",
       "      <td>23.452366</td>\n",
       "      <td>8.537230</td>\n",
       "      <td>8.547102</td>\n",
       "      <td>2005.592555</td>\n",
       "      <td>3.836675</td>\n",
       "    </tr>\n",
       "    <tr>\n",
       "      <th>std</th>\n",
       "      <td>5848.203194</td>\n",
       "      <td>3.830998e+06</td>\n",
       "      <td>1.863610</td>\n",
       "      <td>0.451212</td>\n",
       "      <td>0.562395</td>\n",
       "      <td>0.008779</td>\n",
       "      <td>0.021499</td>\n",
       "      <td>0.894420</td>\n",
       "      <td>0.894420</td>\n",
       "      <td>7.252796</td>\n",
       "      <td>1.674277</td>\n",
       "      <td>5.954963</td>\n",
       "      <td>0.338685</td>\n",
       "      <td>6.252533</td>\n",
       "      <td>7.001220</td>\n",
       "      <td>3.298872</td>\n",
       "      <td>3.549735</td>\n",
       "      <td>3.828872</td>\n",
       "      <td>1.639618</td>\n",
       "    </tr>\n",
       "    <tr>\n",
       "      <th>min</th>\n",
       "      <td>1.000000</td>\n",
       "      <td>2.001150e+09</td>\n",
       "      <td>1.000000</td>\n",
       "      <td>41.833819</td>\n",
       "      <td>-9.293500</td>\n",
       "      <td>0.000000</td>\n",
       "      <td>0.000000</td>\n",
       "      <td>0.040000</td>\n",
       "      <td>0.040000</td>\n",
       "      <td>0.000000</td>\n",
       "      <td>0.000000</td>\n",
       "      <td>-1.300000</td>\n",
       "      <td>0.000000</td>\n",
       "      <td>-8.600000</td>\n",
       "      <td>5.600000</td>\n",
       "      <td>1.700000</td>\n",
       "      <td>0.000000</td>\n",
       "      <td>2001.000000</td>\n",
       "      <td>0.000000</td>\n",
       "    </tr>\n",
       "    <tr>\n",
       "      <th>25%</th>\n",
       "      <td>4839.750000</td>\n",
       "      <td>2.003150e+09</td>\n",
       "      <td>1.250000</td>\n",
       "      <td>42.189372</td>\n",
       "      <td>-8.422458</td>\n",
       "      <td>0.000000</td>\n",
       "      <td>0.000000</td>\n",
       "      <td>1.170000</td>\n",
       "      <td>1.170000</td>\n",
       "      <td>6.000000</td>\n",
       "      <td>1.000000</td>\n",
       "      <td>12.400000</td>\n",
       "      <td>0.000000</td>\n",
       "      <td>5.200000</td>\n",
       "      <td>18.600000</td>\n",
       "      <td>6.100000</td>\n",
       "      <td>6.500000</td>\n",
       "      <td>2003.000000</td>\n",
       "      <td>2.600000</td>\n",
       "    </tr>\n",
       "    <tr>\n",
       "      <th>50%</th>\n",
       "      <td>9402.500000</td>\n",
       "      <td>2.005151e+09</td>\n",
       "      <td>2.000000</td>\n",
       "      <td>42.470163</td>\n",
       "      <td>-7.987553</td>\n",
       "      <td>0.000000</td>\n",
       "      <td>0.000000</td>\n",
       "      <td>1.500000</td>\n",
       "      <td>1.500000</td>\n",
       "      <td>11.000000</td>\n",
       "      <td>2.000000</td>\n",
       "      <td>17.400000</td>\n",
       "      <td>0.000000</td>\n",
       "      <td>10.600000</td>\n",
       "      <td>23.400000</td>\n",
       "      <td>8.100000</td>\n",
       "      <td>9.400000</td>\n",
       "      <td>2005.000000</td>\n",
       "      <td>3.600000</td>\n",
       "    </tr>\n",
       "    <tr>\n",
       "      <th>75%</th>\n",
       "      <td>14958.500000</td>\n",
       "      <td>2.009150e+09</td>\n",
       "      <td>3.000000</td>\n",
       "      <td>42.932203</td>\n",
       "      <td>-7.556844</td>\n",
       "      <td>0.000000</td>\n",
       "      <td>0.000000</td>\n",
       "      <td>2.310000</td>\n",
       "      <td>2.310000</td>\n",
       "      <td>16.000000</td>\n",
       "      <td>3.000000</td>\n",
       "      <td>21.100000</td>\n",
       "      <td>0.000000</td>\n",
       "      <td>14.900000</td>\n",
       "      <td>28.400000</td>\n",
       "      <td>10.600000</td>\n",
       "      <td>11.200000</td>\n",
       "      <td>2009.000000</td>\n",
       "      <td>4.900000</td>\n",
       "    </tr>\n",
       "    <tr>\n",
       "      <th>max</th>\n",
       "      <td>20544.000000</td>\n",
       "      <td>2.015361e+09</td>\n",
       "      <td>10.200000</td>\n",
       "      <td>43.730713</td>\n",
       "      <td>-6.771548</td>\n",
       "      <td>1.000000</td>\n",
       "      <td>1.000000</td>\n",
       "      <td>4.190000</td>\n",
       "      <td>4.190000</td>\n",
       "      <td>33.000000</td>\n",
       "      <td>8.000000</td>\n",
       "      <td>31.200000</td>\n",
       "      <td>1.000000</td>\n",
       "      <td>23.400000</td>\n",
       "      <td>42.000000</td>\n",
       "      <td>28.300000</td>\n",
       "      <td>14.800000</td>\n",
       "      <td>2015.000000</td>\n",
       "      <td>8.600000</td>\n",
       "    </tr>\n",
       "  </tbody>\n",
       "</table>\n",
       "</div>"
      ],
      "text/plain": [
       "         Unnamed: 0            id    superficie           lat           lng  \\\n",
       "count  12976.000000  1.297600e+04  12976.000000  12976.000000  12976.000000   \n",
       "mean    9781.431181  2.005867e+09      2.586703     42.555421     -7.994614   \n",
       "std     5848.203194  3.830998e+06      1.863610      0.451212      0.562395   \n",
       "min        1.000000  2.001150e+09      1.000000     41.833819     -9.293500   \n",
       "25%     4839.750000  2.003150e+09      1.250000     42.189372     -8.422458   \n",
       "50%     9402.500000  2.005151e+09      2.000000     42.470163     -7.987553   \n",
       "75%    14958.500000  2.009150e+09      3.000000     42.932203     -7.556844   \n",
       "max    20544.000000  2.015361e+09     10.200000     43.730713     -6.771548   \n",
       "\n",
       "            muertos       heridos     time_ctrl      time_ext      personal  \\\n",
       "count  12976.000000  12976.000000  12976.000000  12976.000000  12976.000000   \n",
       "mean       0.000077      0.000462      1.781149      1.781149     12.281520   \n",
       "std        0.008779      0.021499      0.894420      0.894420      7.252796   \n",
       "min        0.000000      0.000000      0.040000      0.040000      0.000000   \n",
       "25%        0.000000      0.000000      1.170000      1.170000      6.000000   \n",
       "50%        0.000000      0.000000      1.500000      1.500000     11.000000   \n",
       "75%        0.000000      0.000000      2.310000      2.310000     16.000000   \n",
       "max        1.000000      1.000000      4.190000      4.190000     33.000000   \n",
       "\n",
       "             medios        TMEDIA  PRECIPITACION          TMIN          TMAX  \\\n",
       "count  12976.000000  12976.000000   12976.000000  12976.000000  12976.000000   \n",
       "mean       1.964396     16.584664       0.132167      9.717810     23.452366   \n",
       "std        1.674277      5.954963       0.338685      6.252533      7.001220   \n",
       "min        0.000000     -1.300000       0.000000     -8.600000      5.600000   \n",
       "25%        1.000000     12.400000       0.000000      5.200000     18.600000   \n",
       "50%        2.000000     17.400000       0.000000     10.600000     23.400000   \n",
       "75%        3.000000     21.100000       0.000000     14.900000     28.400000   \n",
       "max        8.000000     31.200000       1.000000     23.400000     42.000000   \n",
       "\n",
       "              RACHA           SOL           Año    PRES_RANGE  \n",
       "count  12976.000000  12976.000000  12976.000000  12976.000000  \n",
       "mean       8.537230      8.547102   2005.592555      3.836675  \n",
       "std        3.298872      3.549735      3.828872      1.639618  \n",
       "min        1.700000      0.000000   2001.000000      0.000000  \n",
       "25%        6.100000      6.500000   2003.000000      2.600000  \n",
       "50%        8.100000      9.400000   2005.000000      3.600000  \n",
       "75%       10.600000     11.200000   2009.000000      4.900000  \n",
       "max       28.300000     14.800000   2015.000000      8.600000  "
      ]
     },
     "execution_count": 6,
     "metadata": {},
     "output_type": "execute_result"
    }
   ],
   "source": [
    "df_galicia.describe()"
   ]
  },
  {
   "cell_type": "code",
   "execution_count": 7,
   "metadata": {},
   "outputs": [
    {
     "data": {
      "text/plain": [
       "Index(['Unnamed: 0', 'id', 'superficie', 'fecha', 'lat', 'lng', 'idprovincia',\n",
       "       'idmunicipio', 'causa', 'muertos', 'heridos', 'time_ctrl', 'time_ext',\n",
       "       'personal', 'medios', 'gastos', 'ALTITUD', 'TMEDIA', 'PRECIPITACION',\n",
       "       'TMIN', 'TMAX', 'VELMEDIA', 'RACHA', 'SOL', 'Trimestre', 'Mes', 'Año',\n",
       "       'DIR_VIENTO', 'PRES_RANGE'],\n",
       "      dtype='object')"
      ]
     },
     "execution_count": 7,
     "metadata": {},
     "output_type": "execute_result"
    }
   ],
   "source": [
    "df_galicia.columns"
   ]
  },
  {
   "cell_type": "markdown",
   "metadata": {},
   "source": [
    "##### El tipo de datos"
   ]
  },
  {
   "cell_type": "code",
   "execution_count": 8,
   "metadata": {
    "scrolled": true
   },
   "outputs": [
    {
     "name": "stdout",
     "output_type": "stream",
     "text": [
      "______________________________________________________________\n",
      "\n",
      " Tipo de datos a nivel de variable:\n",
      "______________________________________________________________\n",
      "\n",
      "\n",
      "Unnamed: 0         int64\n",
      "id                 int64\n",
      "superficie       float64\n",
      "fecha             object\n",
      "lat              float64\n",
      "lng              float64\n",
      "idprovincia       object\n",
      "idmunicipio       object\n",
      "causa             object\n",
      "muertos            int64\n",
      "heridos            int64\n",
      "time_ctrl        float64\n",
      "time_ext         float64\n",
      "personal           int64\n",
      "medios             int64\n",
      "gastos            object\n",
      "ALTITUD           object\n",
      "TMEDIA           float64\n",
      "PRECIPITACION      int64\n",
      "TMIN             float64\n",
      "TMAX             float64\n",
      "VELMEDIA          object\n",
      "RACHA            float64\n",
      "SOL              float64\n",
      "Trimestre         object\n",
      "Mes               object\n",
      "Año                int64\n",
      "DIR_VIENTO        object\n",
      "PRES_RANGE       float64\n",
      "dtype: object\n"
     ]
    }
   ],
   "source": [
    "print('______________________________________________________________\\n'\n",
    "      '\\n Tipo de datos a nivel de variable:\\n'\n",
    "      '______________________________________________________________\\n\\n\\n{}'.format(df_galicia.dtypes))"
   ]
  },
  {
   "cell_type": "markdown",
   "metadata": {},
   "source": [
    "##### Valores faltantes - NaN"
   ]
  },
  {
   "cell_type": "code",
   "execution_count": 9,
   "metadata": {},
   "outputs": [
    {
     "name": "stdout",
     "output_type": "stream",
     "text": [
      "______________________________________________________________\n",
      "\n",
      " Numero de observaciones con datos faltantes:\n",
      "______________________________________________________________\n",
      "\n",
      "\n",
      "Unnamed: 0       0\n",
      "id               0\n",
      "superficie       0\n",
      "fecha            0\n",
      "lat              0\n",
      "lng              0\n",
      "idprovincia      0\n",
      "idmunicipio      0\n",
      "causa            0\n",
      "muertos          0\n",
      "heridos          0\n",
      "time_ctrl        0\n",
      "time_ext         0\n",
      "personal         0\n",
      "medios           0\n",
      "gastos           0\n",
      "ALTITUD          0\n",
      "TMEDIA           0\n",
      "PRECIPITACION    0\n",
      "TMIN             0\n",
      "TMAX             0\n",
      "VELMEDIA         0\n",
      "RACHA            0\n",
      "SOL              0\n",
      "Trimestre        0\n",
      "Mes              0\n",
      "Año              0\n",
      "DIR_VIENTO       0\n",
      "PRES_RANGE       0\n",
      "dtype: int64\n"
     ]
    }
   ],
   "source": [
    "# Comprobar los valores faltantes - NaN, a nivel de variable\n",
    "\n",
    "print('______________________________________________________________\\n'\n",
    "      '\\n Numero de observaciones con datos faltantes:\\n'\n",
    "      '______________________________________________________________\\n\\n\\n{}'.format(df_galicia.isnull().sum()))"
   ]
  },
  {
   "cell_type": "code",
   "execution_count": 10,
   "metadata": {},
   "outputs": [
    {
     "name": "stdout",
     "output_type": "stream",
     "text": [
      "______________________________________________________________\n",
      "\n",
      " El porcentaje de datos faltantes a nivel de variable:\n",
      "______________________________________________________________\n",
      "\n",
      "\n",
      "Unnamed: 0       0.0\n",
      "id               0.0\n",
      "superficie       0.0\n",
      "fecha            0.0\n",
      "lat              0.0\n",
      "lng              0.0\n",
      "idprovincia      0.0\n",
      "idmunicipio      0.0\n",
      "causa            0.0\n",
      "muertos          0.0\n",
      "heridos          0.0\n",
      "time_ctrl        0.0\n",
      "time_ext         0.0\n",
      "personal         0.0\n",
      "medios           0.0\n",
      "gastos           0.0\n",
      "ALTITUD          0.0\n",
      "TMEDIA           0.0\n",
      "PRECIPITACION    0.0\n",
      "TMIN             0.0\n",
      "TMAX             0.0\n",
      "VELMEDIA         0.0\n",
      "RACHA            0.0\n",
      "SOL              0.0\n",
      "Trimestre        0.0\n",
      "Mes              0.0\n",
      "Año              0.0\n",
      "DIR_VIENTO       0.0\n",
      "PRES_RANGE       0.0\n",
      "dtype: float64\n"
     ]
    }
   ],
   "source": [
    "# Comprobar los porcentajes de observaciones con valores faltantes - NaN, a nivel de variable\n",
    "\n",
    "print('______________________________________________________________\\n'\n",
    "      '\\n El porcentaje de datos faltantes a nivel de variable:\\n'\n",
    "      '______________________________________________________________\\n\\n\\n{}'.format(df_galicia.isnull().mean()*100))"
   ]
  },
  {
   "cell_type": "markdown",
   "metadata": {},
   "source": [
    "##### Comprobar los valores únicos a nivel de variable"
   ]
  },
  {
   "cell_type": "code",
   "execution_count": 11,
   "metadata": {},
   "outputs": [
    {
     "name": "stdout",
     "output_type": "stream",
     "text": [
      "______________________________________________________________\n",
      "\n",
      "\t Número de observaciones únicos \n",
      "______________________________________________________________\n",
      "\n",
      "Dataset Galicia:  (12976, 29)\n"
     ]
    },
    {
     "data": {
      "text/html": [
       "<div>\n",
       "<style scoped>\n",
       "    .dataframe tbody tr th:only-of-type {\n",
       "        vertical-align: middle;\n",
       "    }\n",
       "\n",
       "    .dataframe tbody tr th {\n",
       "        vertical-align: top;\n",
       "    }\n",
       "\n",
       "    .dataframe thead th {\n",
       "        text-align: right;\n",
       "    }\n",
       "</style>\n",
       "<table border=\"1\" class=\"dataframe\">\n",
       "  <thead>\n",
       "    <tr style=\"text-align: right;\">\n",
       "      <th></th>\n",
       "      <th>Variable</th>\n",
       "      <th>Valores_unicos</th>\n",
       "    </tr>\n",
       "  </thead>\n",
       "  <tbody>\n",
       "    <tr>\n",
       "      <th>0</th>\n",
       "      <td>Unnamed: 0</td>\n",
       "      <td>12976</td>\n",
       "    </tr>\n",
       "    <tr>\n",
       "      <th>1</th>\n",
       "      <td>id</td>\n",
       "      <td>12976</td>\n",
       "    </tr>\n",
       "    <tr>\n",
       "      <th>2</th>\n",
       "      <td>superficie</td>\n",
       "      <td>619</td>\n",
       "    </tr>\n",
       "    <tr>\n",
       "      <th>3</th>\n",
       "      <td>fecha</td>\n",
       "      <td>2272</td>\n",
       "    </tr>\n",
       "    <tr>\n",
       "      <th>4</th>\n",
       "      <td>lat</td>\n",
       "      <td>6118</td>\n",
       "    </tr>\n",
       "    <tr>\n",
       "      <th>5</th>\n",
       "      <td>lng</td>\n",
       "      <td>6121</td>\n",
       "    </tr>\n",
       "    <tr>\n",
       "      <th>6</th>\n",
       "      <td>idprovincia</td>\n",
       "      <td>4</td>\n",
       "    </tr>\n",
       "    <tr>\n",
       "      <th>7</th>\n",
       "      <td>idmunicipio</td>\n",
       "      <td>268</td>\n",
       "    </tr>\n",
       "    <tr>\n",
       "      <th>8</th>\n",
       "      <td>causa</td>\n",
       "      <td>5</td>\n",
       "    </tr>\n",
       "    <tr>\n",
       "      <th>9</th>\n",
       "      <td>muertos</td>\n",
       "      <td>2</td>\n",
       "    </tr>\n",
       "    <tr>\n",
       "      <th>10</th>\n",
       "      <td>heridos</td>\n",
       "      <td>2</td>\n",
       "    </tr>\n",
       "    <tr>\n",
       "      <th>11</th>\n",
       "      <td>time_ctrl</td>\n",
       "      <td>251</td>\n",
       "    </tr>\n",
       "    <tr>\n",
       "      <th>12</th>\n",
       "      <td>time_ext</td>\n",
       "      <td>251</td>\n",
       "    </tr>\n",
       "    <tr>\n",
       "      <th>13</th>\n",
       "      <td>personal</td>\n",
       "      <td>34</td>\n",
       "    </tr>\n",
       "    <tr>\n",
       "      <th>14</th>\n",
       "      <td>medios</td>\n",
       "      <td>9</td>\n",
       "    </tr>\n",
       "    <tr>\n",
       "      <th>15</th>\n",
       "      <td>gastos</td>\n",
       "      <td>3</td>\n",
       "    </tr>\n",
       "    <tr>\n",
       "      <th>16</th>\n",
       "      <td>ALTITUD</td>\n",
       "      <td>4</td>\n",
       "    </tr>\n",
       "    <tr>\n",
       "      <th>17</th>\n",
       "      <td>TMEDIA</td>\n",
       "      <td>287</td>\n",
       "    </tr>\n",
       "    <tr>\n",
       "      <th>18</th>\n",
       "      <td>PRECIPITACION</td>\n",
       "      <td>2</td>\n",
       "    </tr>\n",
       "    <tr>\n",
       "      <th>19</th>\n",
       "      <td>TMIN</td>\n",
       "      <td>276</td>\n",
       "    </tr>\n",
       "    <tr>\n",
       "      <th>20</th>\n",
       "      <td>TMAX</td>\n",
       "      <td>333</td>\n",
       "    </tr>\n",
       "    <tr>\n",
       "      <th>21</th>\n",
       "      <td>VELMEDIA</td>\n",
       "      <td>5</td>\n",
       "    </tr>\n",
       "    <tr>\n",
       "      <th>22</th>\n",
       "      <td>RACHA</td>\n",
       "      <td>73</td>\n",
       "    </tr>\n",
       "    <tr>\n",
       "      <th>23</th>\n",
       "      <td>SOL</td>\n",
       "      <td>149</td>\n",
       "    </tr>\n",
       "    <tr>\n",
       "      <th>24</th>\n",
       "      <td>Trimestre</td>\n",
       "      <td>4</td>\n",
       "    </tr>\n",
       "    <tr>\n",
       "      <th>25</th>\n",
       "      <td>Mes</td>\n",
       "      <td>12</td>\n",
       "    </tr>\n",
       "    <tr>\n",
       "      <th>26</th>\n",
       "      <td>Año</td>\n",
       "      <td>15</td>\n",
       "    </tr>\n",
       "    <tr>\n",
       "      <th>27</th>\n",
       "      <td>DIR_VIENTO</td>\n",
       "      <td>8</td>\n",
       "    </tr>\n",
       "    <tr>\n",
       "      <th>28</th>\n",
       "      <td>PRES_RANGE</td>\n",
       "      <td>149</td>\n",
       "    </tr>\n",
       "  </tbody>\n",
       "</table>\n",
       "</div>"
      ],
      "text/plain": [
       "         Variable Valores_unicos\n",
       "0      Unnamed: 0          12976\n",
       "1              id          12976\n",
       "2      superficie            619\n",
       "3           fecha           2272\n",
       "4             lat           6118\n",
       "5             lng           6121\n",
       "6     idprovincia              4\n",
       "7     idmunicipio            268\n",
       "8           causa              5\n",
       "9         muertos              2\n",
       "10        heridos              2\n",
       "11      time_ctrl            251\n",
       "12       time_ext            251\n",
       "13       personal             34\n",
       "14         medios              9\n",
       "15         gastos              3\n",
       "16        ALTITUD              4\n",
       "17         TMEDIA            287\n",
       "18  PRECIPITACION              2\n",
       "19           TMIN            276\n",
       "20           TMAX            333\n",
       "21       VELMEDIA              5\n",
       "22          RACHA             73\n",
       "23            SOL            149\n",
       "24      Trimestre              4\n",
       "25            Mes             12\n",
       "26            Año             15\n",
       "27     DIR_VIENTO              8\n",
       "28     PRES_RANGE            149"
      ]
     },
     "execution_count": 11,
     "metadata": {},
     "output_type": "execute_result"
    }
   ],
   "source": [
    "# Comprobar la dimensión y los valores únicos de cada variable\n",
    "\n",
    "print('______________________________________________________________\\n'\n",
    "      '\\n\\t Número de observaciones únicos \\n'\n",
    "      '______________________________________________________________\\n')\n",
    "      \n",
    "print('Dataset Galicia: ', df_galicia.shape)\n",
    "\n",
    "df = pd.DataFrame(columns = ['Variable','Valores_unicos'])\n",
    "\n",
    "for i in df_galicia.columns.values:\n",
    "    df = df.append({'Variable':i, 'Valores_unicos':(len(df_galicia[i].unique()))}, ignore_index = True)\n",
    "\n",
    "df"
   ]
  },
  {
   "cell_type": "code",
   "execution_count": null,
   "metadata": {},
   "outputs": [],
   "source": []
  },
  {
   "cell_type": "markdown",
   "metadata": {},
   "source": [
    "Se observa que las variables **Unnamed:0** e **ID** tienen un total de 12.976 valores únicos, lo que coincide con el número total de observaciones presentes en el dataset de análisis. Dado que las variable solo presentan valore únicos, se decide eliminar ambas variables."
   ]
  },
  {
   "cell_type": "code",
   "execution_count": 12,
   "metadata": {},
   "outputs": [],
   "source": [
    "# Eliminar la columna Unnamed:0 e ID\n",
    "\n",
    "df_galicia.drop(['Unnamed: 0'], axis=1, inplace=True)\n",
    "df_galicia.drop(['id'], axis=1, inplace=True)"
   ]
  },
  {
   "cell_type": "code",
   "execution_count": 13,
   "metadata": {},
   "outputs": [
    {
     "data": {
      "text/plain": [
       "Index(['superficie', 'fecha', 'lat', 'lng', 'idprovincia', 'idmunicipio',\n",
       "       'causa', 'muertos', 'heridos', 'time_ctrl', 'time_ext', 'personal',\n",
       "       'medios', 'gastos', 'ALTITUD', 'TMEDIA', 'PRECIPITACION', 'TMIN',\n",
       "       'TMAX', 'VELMEDIA', 'RACHA', 'SOL', 'Trimestre', 'Mes', 'Año',\n",
       "       'DIR_VIENTO', 'PRES_RANGE'],\n",
       "      dtype='object')"
      ]
     },
     "execution_count": 13,
     "metadata": {},
     "output_type": "execute_result"
    }
   ],
   "source": [
    "df_galicia.columns"
   ]
  },
  {
   "cell_type": "code",
   "execution_count": 14,
   "metadata": {},
   "outputs": [
    {
     "data": {
      "text/plain": [
       "(12976, 27)"
      ]
     },
     "execution_count": 14,
     "metadata": {},
     "output_type": "execute_result"
    }
   ],
   "source": [
    "df_galicia.shape   # Después de eliminar Unnamed:0 y ID"
   ]
  },
  {
   "cell_type": "code",
   "execution_count": 15,
   "metadata": {},
   "outputs": [
    {
     "data": {
      "text/plain": [
       "<AxesSubplot:xlabel='idprovincia', ylabel='superficie'>"
      ]
     },
     "execution_count": 15,
     "metadata": {},
     "output_type": "execute_result"
    },
    {
     "data": {
      "image/png": "[encoded data removed]",
      "text/plain": [
       "<Figure size 936x504 with 1 Axes>"
      ]
     },
     "metadata": {
      "needs_background": "light"
     },
     "output_type": "display_data"
    }
   ],
   "source": [
    "plt.figure(figsize=(13,7))\n",
    "sns.boxplot(x='idprovincia', y ='superficie', data= df_galicia)"
   ]
  },
  {
   "cell_type": "code",
   "execution_count": 16,
   "metadata": {},
   "outputs": [
    {
     "name": "stdout",
     "output_type": "stream",
     "text": [
      "(array([  247,   250,   263,   279,   290,   295,   450,   697,   787,\n",
      "         869,   894,   938,   950,   981,  1026,  1081,  1253,  1258,\n",
      "        1294,  1327,  1402,  1443,  1471,  1500,  1585,  1598,  1796,\n",
      "        1898,  2016,  2089,  2304,  2389,  2391,  2479,  2655,  2689,\n",
      "        2739,  2786,  2808,  2868,  2970,  2981,  3012,  3097,  3113,\n",
      "        3148,  3188,  3204,  3219,  3295,  3337,  3393,  3548,  3570,\n",
      "        3598,  3653,  3724,  3745,  3799,  3813,  3837,  3854,  3862,\n",
      "        3894,  3955,  3957,  4101,  4118,  4298,  4320,  4375,  4380,\n",
      "        4381,  4445,  4463,  4464,  4472,  4584,  4595,  4603,  4641,\n",
      "        4672,  4699,  4787,  4800,  4819,  4855,  4864,  4874,  4898,\n",
      "        4905,  5041,  5181,  5216,  5289,  5458,  5477,  5511,  5562,\n",
      "        5677,  5761,  5790,  5793,  5858,  5980,  6110,  6122,  6133,\n",
      "        6134,  6161,  6201,  6208,  6258,  6286,  6309,  6341,  6349,\n",
      "        6407,  6500,  6558,  6627,  6667,  6699,  6728,  6771,  6814,\n",
      "        6828,  6911,  6974,  7019,  7096,  7101,  7321,  7340,  7354,\n",
      "        7477,  7531,  7570,  7609,  7613,  7663,  7792,  7842,  7853,\n",
      "        7861,  7864,  7871,  7872,  7881,  7901,  7930,  8003,  8013,\n",
      "        8020,  8077,  8103,  8140,  8145,  8166,  8221,  8241,  8361,\n",
      "        8384,  8416,  8427,  8431,  8497,  8551,  8575,  8686,  8699,\n",
      "        8739,  8742,  8749,  8765,  8877,  8919,  9068,  9090,  9123,\n",
      "        9128,  9148,  9252,  9262,  9276,  9368,  9370,  9371,  9376,\n",
      "        9406,  9449,  9499,  9506,  9518,  9529,  9540,  9588,  9593,\n",
      "        9679,  9705,  9768,  9776,  9808,  9822,  9962,  9977, 10023,\n",
      "       10026, 10041, 10065, 10095, 10108, 10120, 10144, 10203, 10237,\n",
      "       10312, 10364, 10386, 10388, 10389, 10407, 10450, 10592, 10594,\n",
      "       10611, 10625, 10645, 10726, 10738, 10741, 10785, 10822, 10824,\n",
      "       10857, 10869, 10908, 11022, 11033, 11090, 11097, 11104, 11144,\n",
      "       11161, 11193, 11258, 11275, 11288, 11411, 11438, 11460, 11468,\n",
      "       11500, 11506, 11520, 11599, 11658, 11668, 11678, 11680, 11697,\n",
      "       11779, 11882, 11943, 12012, 12092, 12104, 12154, 12174, 12199,\n",
      "       12230, 12319, 12341, 12368, 12375, 12410, 12479, 12504, 12507,\n",
      "       12548, 12587, 12597, 12623, 12640, 12655, 12656, 12671, 12676,\n",
      "       12679, 12850, 12860, 12921, 12943], dtype=int64),)\n"
     ]
    }
   ],
   "source": [
    "z = np.abs(stats.zscore(df_galicia['superficie']))\n",
    "threshold = 3\n",
    "print(np.where(z>3))"
   ]
  },
  {
   "cell_type": "code",
   "execution_count": 17,
   "metadata": {},
   "outputs": [
    {
     "data": {
      "text/plain": [
       "<AxesSubplot:xlabel='idprovincia', ylabel='muertos'>"
      ]
     },
     "execution_count": 17,
     "metadata": {},
     "output_type": "execute_result"
    },
    {
     "data": {
      "image/png": "[encoded data removed]",
      "text/plain": [
       "<Figure size 360x360 with 1 Axes>"
      ]
     },
     "metadata": {
      "needs_background": "light"
     },
     "output_type": "display_data"
    }
   ],
   "source": [
    "plt.figure(figsize=(5,5))\n",
    "sns.boxplot(x='idprovincia', y ='muertos', data= df_galicia)"
   ]
  },
  {
   "cell_type": "code",
   "execution_count": 18,
   "metadata": {},
   "outputs": [
    {
     "data": {
      "text/plain": [
       "<AxesSubplot:xlabel='idprovincia', ylabel='heridos'>"
      ]
     },
     "execution_count": 18,
     "metadata": {},
     "output_type": "execute_result"
    },
    {
     "data": {
      "image/png": "[encoded data removed]",
      "text/plain": [
       "<Figure size 360x360 with 1 Axes>"
      ]
     },
     "metadata": {
      "needs_background": "light"
     },
     "output_type": "display_data"
    }
   ],
   "source": [
    "plt.figure(figsize=(5,5))\n",
    "sns.boxplot(x='idprovincia', y ='heridos', data= df_galicia)"
   ]
  },
  {
   "cell_type": "code",
   "execution_count": null,
   "metadata": {},
   "outputs": [],
   "source": []
  },
  {
   "cell_type": "markdown",
   "metadata": {},
   "source": [
    "### Análisis tipo de variables"
   ]
  },
  {
   "cell_type": "code",
   "execution_count": 19,
   "metadata": {},
   "outputs": [
    {
     "data": {
      "text/plain": [
       "superficie       float64\n",
       "fecha             object\n",
       "lat              float64\n",
       "lng              float64\n",
       "idprovincia       object\n",
       "idmunicipio       object\n",
       "causa             object\n",
       "muertos            int64\n",
       "heridos            int64\n",
       "time_ctrl        float64\n",
       "time_ext         float64\n",
       "personal           int64\n",
       "medios             int64\n",
       "gastos            object\n",
       "ALTITUD           object\n",
       "TMEDIA           float64\n",
       "PRECIPITACION      int64\n",
       "TMIN             float64\n",
       "TMAX             float64\n",
       "VELMEDIA          object\n",
       "RACHA            float64\n",
       "SOL              float64\n",
       "Trimestre         object\n",
       "Mes               object\n",
       "Año                int64\n",
       "DIR_VIENTO        object\n",
       "PRES_RANGE       float64\n",
       "dtype: object"
      ]
     },
     "execution_count": 19,
     "metadata": {},
     "output_type": "execute_result"
    }
   ],
   "source": [
    "df_galicia.dtypes"
   ]
  },
  {
   "cell_type": "code",
   "execution_count": 20,
   "metadata": {},
   "outputs": [],
   "source": [
    "var_numericas = df_galicia._get_numeric_data()\n",
    "var_categoricas = df_galicia.select_dtypes(include = [\"object\"])"
   ]
  },
  {
   "cell_type": "code",
   "execution_count": 21,
   "metadata": {},
   "outputs": [
    {
     "data": {
      "text/plain": [
       "(12976, 17)"
      ]
     },
     "execution_count": 21,
     "metadata": {},
     "output_type": "execute_result"
    }
   ],
   "source": [
    "var_numericas.shape"
   ]
  },
  {
   "cell_type": "code",
   "execution_count": 22,
   "metadata": {},
   "outputs": [
    {
     "data": {
      "text/plain": [
       "(12976, 10)"
      ]
     },
     "execution_count": 22,
     "metadata": {},
     "output_type": "execute_result"
    }
   ],
   "source": [
    "var_categoricas.shape"
   ]
  },
  {
   "cell_type": "markdown",
   "metadata": {},
   "source": [
    "#### Análisis de las variables  numéricas"
   ]
  },
  {
   "cell_type": "code",
   "execution_count": 23,
   "metadata": {},
   "outputs": [
    {
     "data": {
      "text/plain": [
       "Index(['superficie', 'lat', 'lng', 'muertos', 'heridos', 'time_ctrl',\n",
       "       'time_ext', 'personal', 'medios', 'TMEDIA', 'PRECIPITACION', 'TMIN',\n",
       "       'TMAX', 'RACHA', 'SOL', 'Año', 'PRES_RANGE'],\n",
       "      dtype='object')"
      ]
     },
     "execution_count": 23,
     "metadata": {},
     "output_type": "execute_result"
    }
   ],
   "source": [
    "var_numericas.columns"
   ]
  },
  {
   "cell_type": "code",
   "execution_count": 24,
   "metadata": {},
   "outputs": [
    {
     "data": {
      "text/plain": [
       "1.00    2235\n",
       "2.00    1422\n",
       "1.50    1375\n",
       "3.00     802\n",
       "2.50     637\n",
       "        ... \n",
       "4.78       1\n",
       "8.98       1\n",
       "7.27       1\n",
       "4.92       1\n",
       "6.92       1\n",
       "Name: superficie, Length: 619, dtype: int64"
      ]
     },
     "execution_count": 24,
     "metadata": {},
     "output_type": "execute_result"
    }
   ],
   "source": [
    "df_galicia['superficie'].value_counts()"
   ]
  },
  {
   "cell_type": "code",
   "execution_count": 25,
   "metadata": {},
   "outputs": [
    {
     "data": {
      "text/plain": [
       "42.304143    83\n",
       "41.894282    49\n",
       "42.234061    49\n",
       "42.286446    43\n",
       "42.440690    42\n",
       "             ..\n",
       "42.921323     1\n",
       "42.380672     1\n",
       "42.752587     1\n",
       "43.169059     1\n",
       "41.918729     1\n",
       "Name: lat, Length: 6118, dtype: int64"
      ]
     },
     "execution_count": 25,
     "metadata": {},
     "output_type": "execute_result"
    }
   ],
   "source": [
    "df_galicia['lat'].value_counts()"
   ]
  },
  {
   "cell_type": "code",
   "execution_count": 26,
   "metadata": {},
   "outputs": [
    {
     "data": {
      "text/plain": [
       "-8.241844    83\n",
       "-7.945682    49\n",
       "-7.430299    49\n",
       "-7.204859    43\n",
       "-8.014276    42\n",
       "             ..\n",
       "-8.359326     1\n",
       "-7.975117     1\n",
       "-8.599767     1\n",
       "-7.335524     1\n",
       "-7.643030     1\n",
       "Name: lng, Length: 6121, dtype: int64"
      ]
     },
     "execution_count": 26,
     "metadata": {},
     "output_type": "execute_result"
    }
   ],
   "source": [
    "df_galicia['lng'].value_counts()"
   ]
  },
  {
   "cell_type": "code",
   "execution_count": 27,
   "metadata": {},
   "outputs": [
    {
     "data": {
      "text/plain": [
       "0    12975\n",
       "1        1\n",
       "Name: muertos, dtype: int64"
      ]
     },
     "execution_count": 27,
     "metadata": {},
     "output_type": "execute_result"
    }
   ],
   "source": [
    "df_galicia['muertos'].value_counts()"
   ]
  },
  {
   "cell_type": "code",
   "execution_count": 28,
   "metadata": {},
   "outputs": [
    {
     "data": {
      "text/plain": [
       "0    12970\n",
       "1        6\n",
       "Name: heridos, dtype: int64"
      ]
     },
     "execution_count": 28,
     "metadata": {},
     "output_type": "execute_result"
    }
   ],
   "source": [
    "df_galicia['heridos'].value_counts()"
   ]
  },
  {
   "cell_type": "code",
   "execution_count": 29,
   "metadata": {},
   "outputs": [
    {
     "data": {
      "text/plain": [
       "1.30    434\n",
       "1.10    409\n",
       "1.40    397\n",
       "1.20    393\n",
       "1.45    386\n",
       "       ... \n",
       "0.21      1\n",
       "0.17      1\n",
       "0.16      1\n",
       "0.06      1\n",
       "0.04      1\n",
       "Name: time_ctrl, Length: 251, dtype: int64"
      ]
     },
     "execution_count": 29,
     "metadata": {},
     "output_type": "execute_result"
    }
   ],
   "source": [
    "df_galicia['time_ctrl'].value_counts()"
   ]
  },
  {
   "cell_type": "code",
   "execution_count": 30,
   "metadata": {},
   "outputs": [
    {
     "data": {
      "text/plain": [
       "1.30    434\n",
       "1.10    409\n",
       "1.40    397\n",
       "1.20    393\n",
       "1.45    386\n",
       "       ... \n",
       "0.21      1\n",
       "0.17      1\n",
       "0.16      1\n",
       "0.06      1\n",
       "0.04      1\n",
       "Name: time_ext, Length: 251, dtype: int64"
      ]
     },
     "execution_count": 30,
     "metadata": {},
     "output_type": "execute_result"
    }
   ],
   "source": [
    "df_galicia['time_ext'].value_counts()"
   ]
  },
  {
   "cell_type": "code",
   "execution_count": 31,
   "metadata": {},
   "outputs": [
    {
     "data": {
      "text/plain": [
       "6     1680\n",
       "5     1232\n",
       "11    1117\n",
       "16     670\n",
       "10     652\n",
       "9      613\n",
       "7      570\n",
       "12     558\n",
       "13     517\n",
       "8      458\n",
       "4      416\n",
       "17     413\n",
       "15     394\n",
       "14     379\n",
       "21     329\n",
       "18     322\n",
       "22     262\n",
       "19     255\n",
       "20     225\n",
       "1      202\n",
       "23     187\n",
       "26     181\n",
       "3      179\n",
       "24     176\n",
       "25     152\n",
       "27     147\n",
       "31     116\n",
       "28     113\n",
       "2      112\n",
       "32      99\n",
       "29      90\n",
       "30      85\n",
       "33      68\n",
       "0        7\n",
       "Name: personal, dtype: int64"
      ]
     },
     "execution_count": 31,
     "metadata": {},
     "output_type": "execute_result"
    }
   ],
   "source": [
    "df_galicia['personal'].value_counts()"
   ]
  },
  {
   "cell_type": "code",
   "execution_count": 32,
   "metadata": {},
   "outputs": [
    {
     "data": {
      "text/plain": [
       "1    4287\n",
       "2    2987\n",
       "0    2034\n",
       "3    1644\n",
       "4     888\n",
       "5     507\n",
       "6     302\n",
       "7     218\n",
       "8     109\n",
       "Name: medios, dtype: int64"
      ]
     },
     "execution_count": 32,
     "metadata": {},
     "output_type": "execute_result"
    }
   ],
   "source": [
    "df_galicia['medios'].value_counts()"
   ]
  },
  {
   "cell_type": "code",
   "execution_count": 33,
   "metadata": {},
   "outputs": [
    {
     "data": {
      "text/plain": [
       "18.4    176\n",
       "21.2    134\n",
       "20.2    131\n",
       "21.8    125\n",
       "20.4    124\n",
       "       ... \n",
       "1.5       1\n",
       "27.3      1\n",
       "1.3       1\n",
       "3.5       1\n",
       "2.7       1\n",
       "Name: TMEDIA, Length: 287, dtype: int64"
      ]
     },
     "execution_count": 33,
     "metadata": {},
     "output_type": "execute_result"
    }
   ],
   "source": [
    "df_galicia['TMEDIA'].value_counts()"
   ]
  },
  {
   "cell_type": "code",
   "execution_count": 34,
   "metadata": {},
   "outputs": [
    {
     "data": {
      "text/plain": [
       "0    11261\n",
       "1     1715\n",
       "Name: PRECIPITACION, dtype: int64"
      ]
     },
     "execution_count": 34,
     "metadata": {},
     "output_type": "execute_result"
    }
   ],
   "source": [
    "df_galicia['PRECIPITACION'].value_counts()"
   ]
  },
  {
   "cell_type": "code",
   "execution_count": 35,
   "metadata": {},
   "outputs": [
    {
     "data": {
      "text/plain": [
       " 17.0    202\n",
       " 14.4    196\n",
       " 15.4    186\n",
       " 16.0    185\n",
       " 15.0    182\n",
       "        ... \n",
       "-7.3       1\n",
       "-4.0       1\n",
       "-7.0       1\n",
       " 17.9      1\n",
       "-5.3       1\n",
       "Name: TMIN, Length: 276, dtype: int64"
      ]
     },
     "execution_count": 35,
     "metadata": {},
     "output_type": "execute_result"
    }
   ],
   "source": [
    "df_galicia['TMIN'].value_counts()"
   ]
  },
  {
   "cell_type": "code",
   "execution_count": 36,
   "metadata": {},
   "outputs": [
    {
     "data": {
      "text/plain": [
       "22.0    179\n",
       "27.0    155\n",
       "25.0    155\n",
       "24.0    141\n",
       "20.0    139\n",
       "       ... \n",
       "38.3      1\n",
       "11.1      1\n",
       "7.1       1\n",
       "9.3       1\n",
       "32.7      1\n",
       "Name: TMAX, Length: 333, dtype: int64"
      ]
     },
     "execution_count": 36,
     "metadata": {},
     "output_type": "execute_result"
    }
   ],
   "source": [
    "df_galicia['TMAX'].value_counts()"
   ]
  },
  {
   "cell_type": "code",
   "execution_count": 37,
   "metadata": {},
   "outputs": [
    {
     "data": {
      "text/plain": [
       "6.7     576\n",
       "7.5     550\n",
       "6.4     532\n",
       "7.8     503\n",
       "8.6     500\n",
       "       ... \n",
       "1.9       1\n",
       "22.8      1\n",
       "23.6      1\n",
       "28.3      1\n",
       "20.6      1\n",
       "Name: RACHA, Length: 73, dtype: int64"
      ]
     },
     "execution_count": 37,
     "metadata": {},
     "output_type": "execute_result"
    }
   ],
   "source": [
    "df_galicia['RACHA'].value_counts()"
   ]
  },
  {
   "cell_type": "code",
   "execution_count": 38,
   "metadata": {},
   "outputs": [
    {
     "data": {
      "text/plain": [
       "0.0     415\n",
       "10.0    276\n",
       "10.1    229\n",
       "9.1     214\n",
       "10.5    207\n",
       "       ... \n",
       "14.4     10\n",
       "14.2      8\n",
       "14.5      8\n",
       "14.6      6\n",
       "14.8      4\n",
       "Name: SOL, Length: 149, dtype: int64"
      ]
     },
     "execution_count": 38,
     "metadata": {},
     "output_type": "execute_result"
    }
   ],
   "source": [
    "df_galicia['SOL'].value_counts()"
   ]
  },
  {
   "cell_type": "code",
   "execution_count": 39,
   "metadata": {},
   "outputs": [
    {
     "data": {
      "text/plain": [
       "2004    1758\n",
       "2002    1755\n",
       "2005    1754\n",
       "2001    1478\n",
       "2003    1382\n",
       "2006    1004\n",
       "2011     918\n",
       "2009     604\n",
       "2012     581\n",
       "2010     469\n",
       "2013     352\n",
       "2015     283\n",
       "2008     272\n",
       "2007     244\n",
       "2014     122\n",
       "Name: Año, dtype: int64"
      ]
     },
     "execution_count": 39,
     "metadata": {},
     "output_type": "execute_result"
    }
   ],
   "source": [
    "df_galicia['Año'].value_counts()"
   ]
  },
  {
   "cell_type": "code",
   "execution_count": 40,
   "metadata": {},
   "outputs": [
    {
     "data": {
      "text/plain": [
       "3.6    391\n",
       "4.0    347\n",
       "3.0    319\n",
       "2.0    294\n",
       "2.4    292\n",
       "      ... \n",
       "8.6      2\n",
       "0.5      1\n",
       "7.5      1\n",
       "7.1      1\n",
       "2.5      1\n",
       "Name: PRES_RANGE, Length: 149, dtype: int64"
      ]
     },
     "execution_count": 40,
     "metadata": {},
     "output_type": "execute_result"
    }
   ],
   "source": [
    "df_galicia['PRES_RANGE'].value_counts()"
   ]
  },
  {
   "cell_type": "code",
   "execution_count": 41,
   "metadata": {},
   "outputs": [
    {
     "data": {
      "text/plain": [
       "Index(['superficie', 'fecha', 'lat', 'lng', 'idprovincia', 'idmunicipio',\n",
       "       'causa', 'muertos', 'heridos', 'time_ctrl', 'time_ext', 'personal',\n",
       "       'medios', 'gastos', 'ALTITUD', 'TMEDIA', 'PRECIPITACION', 'TMIN',\n",
       "       'TMAX', 'VELMEDIA', 'RACHA', 'SOL', 'Trimestre', 'Mes', 'Año',\n",
       "       'DIR_VIENTO', 'PRES_RANGE'],\n",
       "      dtype='object')"
      ]
     },
     "execution_count": 41,
     "metadata": {},
     "output_type": "execute_result"
    }
   ],
   "source": [
    "df_galicia.columns"
   ]
  },
  {
   "cell_type": "code",
   "execution_count": 42,
   "metadata": {},
   "outputs": [
    {
     "data": {
      "text/plain": [
       "(12976, 27)"
      ]
     },
     "execution_count": 42,
     "metadata": {},
     "output_type": "execute_result"
    }
   ],
   "source": [
    "df_galicia.shape"
   ]
  },
  {
   "cell_type": "code",
   "execution_count": null,
   "metadata": {},
   "outputs": [],
   "source": []
  },
  {
   "cell_type": "markdown",
   "metadata": {},
   "source": [
    "#### Análisis de las variables no numéricas / categóricas"
   ]
  },
  {
   "cell_type": "code",
   "execution_count": 43,
   "metadata": {},
   "outputs": [
    {
     "data": {
      "text/plain": [
       "Index(['fecha', 'idprovincia', 'idmunicipio', 'causa', 'gastos', 'ALTITUD',\n",
       "       'VELMEDIA', 'Trimestre', 'Mes', 'DIR_VIENTO'],\n",
       "      dtype='object')"
      ]
     },
     "execution_count": 43,
     "metadata": {},
     "output_type": "execute_result"
    }
   ],
   "source": [
    "var_categoricas.columns"
   ]
  },
  {
   "cell_type": "code",
   "execution_count": 44,
   "metadata": {},
   "outputs": [
    {
     "data": {
      "text/plain": [
       "Ourense       5762\n",
       "A Coruña      3549\n",
       "Pontevedra    2062\n",
       "Lugo          1603\n",
       "Name: idprovincia, dtype: int64"
      ]
     },
     "execution_count": 44,
     "metadata": {},
     "output_type": "execute_result"
    }
   ],
   "source": [
    "df_galicia['idprovincia'].value_counts()"
   ]
  },
  {
   "cell_type": "code",
   "execution_count": 45,
   "metadata": {},
   "outputs": [
    {
     "data": {
      "text/plain": [
       "4"
      ]
     },
     "execution_count": 45,
     "metadata": {},
     "output_type": "execute_result"
    }
   ],
   "source": [
    "len(df_galicia['idprovincia'].unique())"
   ]
  },
  {
   "cell_type": "code",
   "execution_count": 46,
   "metadata": {},
   "outputs": [
    {
     "data": {
      "text/plain": [
       "VIANA DO BOLO          436\n",
       "MANZANEDA              352\n",
       "CHANDREXA DE QUEIXA    295\n",
       "MUIÃâOS             256\n",
       "SANTA COMBA            234\n",
       "                      ... \n",
       "LOURENZÃÂ              1\n",
       "RIBADUMIA                1\n",
       "CARIÃâO               1\n",
       "MUGARDOS                 1\n",
       "BEADE                    1\n",
       "Name: idmunicipio, Length: 268, dtype: int64"
      ]
     },
     "execution_count": 46,
     "metadata": {},
     "output_type": "execute_result"
    }
   ],
   "source": [
    "df_galicia['idmunicipio'].value_counts()"
   ]
  },
  {
   "cell_type": "code",
   "execution_count": 47,
   "metadata": {},
   "outputs": [
    {
     "data": {
      "text/plain": [
       "268"
      ]
     },
     "execution_count": 47,
     "metadata": {},
     "output_type": "execute_result"
    }
   ],
   "source": [
    "len(df_galicia['idmunicipio'].unique())"
   ]
  },
  {
   "cell_type": "markdown",
   "metadata": {},
   "source": [
    "Debido al número elevado de categorías, se opta por eliminar la variable."
   ]
  },
  {
   "cell_type": "code",
   "execution_count": 48,
   "metadata": {},
   "outputs": [],
   "source": [
    "df_galicia.drop(['idmunicipio'], axis = 1, inplace=True)"
   ]
  },
  {
   "cell_type": "code",
   "execution_count": 49,
   "metadata": {},
   "outputs": [
    {
     "data": {
      "text/plain": [
       "intencionado         11293\n",
       "causa desconocida      830\n",
       "negligencia            534\n",
       "fuego reproducido      215\n",
       "rayo                   104\n",
       "Name: causa, dtype: int64"
      ]
     },
     "execution_count": 49,
     "metadata": {},
     "output_type": "execute_result"
    }
   ],
   "source": [
    "df_galicia['causa'].value_counts()"
   ]
  },
  {
   "cell_type": "code",
   "execution_count": 50,
   "metadata": {},
   "outputs": [
    {
     "data": {
      "text/plain": [
       "NO INFO    10779\n",
       "< 5K        1769\n",
       ">5K          428\n",
       "Name: gastos, dtype: int64"
      ]
     },
     "execution_count": 50,
     "metadata": {},
     "output_type": "execute_result"
    }
   ],
   "source": [
    "df_galicia['gastos'].value_counts()"
   ]
  },
  {
   "cell_type": "code",
   "execution_count": 51,
   "metadata": {},
   "outputs": [
    {
     "data": {
      "text/plain": [
       "3"
      ]
     },
     "execution_count": 51,
     "metadata": {},
     "output_type": "execute_result"
    }
   ],
   "source": [
    "len(df_galicia['gastos'].unique())"
   ]
  },
  {
   "cell_type": "code",
   "execution_count": 52,
   "metadata": {},
   "outputs": [
    {
     "data": {
      "text/plain": [
       "Superior a 125    5762\n",
       "Inferior a 80     3549\n",
       "Entre 100-125     2062\n",
       "NO INFO           1603\n",
       "Name: ALTITUD, dtype: int64"
      ]
     },
     "execution_count": 52,
     "metadata": {},
     "output_type": "execute_result"
    }
   ],
   "source": [
    "df_galicia['ALTITUD'].value_counts()"
   ]
  },
  {
   "cell_type": "code",
   "execution_count": 53,
   "metadata": {},
   "outputs": [
    {
     "data": {
      "text/plain": [
       "4"
      ]
     },
     "execution_count": 53,
     "metadata": {},
     "output_type": "execute_result"
    }
   ],
   "source": [
    "len(df_galicia['ALTITUD'].unique())"
   ]
  },
  {
   "cell_type": "code",
   "execution_count": 54,
   "metadata": {},
   "outputs": [
    {
     "data": {
      "text/plain": [
       "< 2 m/s    7366\n",
       "2-4 m/s    3926\n",
       "4-6 m/s    1125\n",
       "6-8 m/s     385\n",
       "> 8 m/s     174\n",
       "Name: VELMEDIA, dtype: int64"
      ]
     },
     "execution_count": 54,
     "metadata": {},
     "output_type": "execute_result"
    }
   ],
   "source": [
    "df_galicia['VELMEDIA'].value_counts()"
   ]
  },
  {
   "cell_type": "code",
   "execution_count": 55,
   "metadata": {},
   "outputs": [
    {
     "data": {
      "text/plain": [
       "5"
      ]
     },
     "execution_count": 55,
     "metadata": {},
     "output_type": "execute_result"
    }
   ],
   "source": [
    "len(df_galicia['VELMEDIA'].unique())"
   ]
  },
  {
   "cell_type": "code",
   "execution_count": 56,
   "metadata": {},
   "outputs": [
    {
     "data": {
      "text/plain": [
       "Q3    5256\n",
       "Q1    3554\n",
       "Q2    2825\n",
       "Q4    1341\n",
       "Name: Trimestre, dtype: int64"
      ]
     },
     "execution_count": 56,
     "metadata": {},
     "output_type": "execute_result"
    }
   ],
   "source": [
    "df_galicia['Trimestre'].value_counts()"
   ]
  },
  {
   "cell_type": "code",
   "execution_count": 57,
   "metadata": {},
   "outputs": [
    {
     "data": {
      "text/plain": [
       "4"
      ]
     },
     "execution_count": 57,
     "metadata": {},
     "output_type": "execute_result"
    }
   ],
   "source": [
    "len(df_galicia['Trimestre'].unique())"
   ]
  },
  {
   "cell_type": "code",
   "execution_count": 58,
   "metadata": {},
   "outputs": [
    {
     "data": {
      "text/plain": [
       "agosto        2296\n",
       "marzo         2070\n",
       "septiembre    1929\n",
       "abril         1358\n",
       "febrero       1309\n",
       "julio         1031\n",
       "junio          864\n",
       "octubre        655\n",
       "mayo           603\n",
       "diciembre      448\n",
       "noviembre      238\n",
       "enero          175\n",
       "Name: Mes, dtype: int64"
      ]
     },
     "execution_count": 58,
     "metadata": {},
     "output_type": "execute_result"
    }
   ],
   "source": [
    "df_galicia['Mes'].value_counts()"
   ]
  },
  {
   "cell_type": "code",
   "execution_count": 59,
   "metadata": {},
   "outputs": [
    {
     "data": {
      "text/plain": [
       "12"
      ]
     },
     "execution_count": 59,
     "metadata": {},
     "output_type": "execute_result"
    }
   ],
   "source": [
    "len(df_galicia['Mes'].unique())"
   ]
  },
  {
   "cell_type": "code",
   "execution_count": 60,
   "metadata": {},
   "outputs": [
    {
     "data": {
      "text/plain": [
       "NE    2727\n",
       "N     2722\n",
       "W     2395\n",
       "NW    1843\n",
       "E     1353\n",
       "S      767\n",
       "SW     691\n",
       "SE     478\n",
       "Name: DIR_VIENTO, dtype: int64"
      ]
     },
     "execution_count": 60,
     "metadata": {},
     "output_type": "execute_result"
    }
   ],
   "source": [
    "df_galicia['DIR_VIENTO'].value_counts()"
   ]
  },
  {
   "cell_type": "code",
   "execution_count": 61,
   "metadata": {},
   "outputs": [
    {
     "data": {
      "text/plain": [
       "8"
      ]
     },
     "execution_count": 61,
     "metadata": {},
     "output_type": "execute_result"
    }
   ],
   "source": [
    "len(df_galicia['DIR_VIENTO'].unique())"
   ]
  },
  {
   "cell_type": "code",
   "execution_count": 62,
   "metadata": {},
   "outputs": [
    {
     "data": {
      "text/plain": [
       "(12976, 26)"
      ]
     },
     "execution_count": 62,
     "metadata": {},
     "output_type": "execute_result"
    }
   ],
   "source": [
    "df_galicia.shape  # Después de eliminar la variable IDMUNICIPIO"
   ]
  },
  {
   "cell_type": "code",
   "execution_count": 63,
   "metadata": {},
   "outputs": [
    {
     "data": {
      "text/plain": [
       "Index(['superficie', 'fecha', 'lat', 'lng', 'idprovincia', 'causa', 'muertos',\n",
       "       'heridos', 'time_ctrl', 'time_ext', 'personal', 'medios', 'gastos',\n",
       "       'ALTITUD', 'TMEDIA', 'PRECIPITACION', 'TMIN', 'TMAX', 'VELMEDIA',\n",
       "       'RACHA', 'SOL', 'Trimestre', 'Mes', 'Año', 'DIR_VIENTO', 'PRES_RANGE'],\n",
       "      dtype='object')"
      ]
     },
     "execution_count": 63,
     "metadata": {},
     "output_type": "execute_result"
    }
   ],
   "source": [
    "df_galicia.columns"
   ]
  },
  {
   "cell_type": "markdown",
   "metadata": {},
   "source": [
    "Se opta por pasar las variables categorícas a variables dummies, creando tantas variables dummies cuantas categorías presenta cada variable - 1. En este paso se añaden al dataset todas las variables dummies (para todas las categorías), y en un paso posterior se eliminará la variable dummy que menos importancia presenta en la relación con la variable objetivo, para cada una de las variables categóricas."
   ]
  },
  {
   "cell_type": "markdown",
   "metadata": {},
   "source": [
    "#### Transformar las variables categóricas no binarias a dummies"
   ]
  },
  {
   "cell_type": "code",
   "execution_count": 64,
   "metadata": {},
   "outputs": [
    {
     "data": {
      "text/plain": [
       "Index(['fecha', 'idprovincia', 'causa', 'gastos', 'ALTITUD', 'VELMEDIA',\n",
       "       'Trimestre', 'Mes', 'DIR_VIENTO'],\n",
       "      dtype='object')"
      ]
     },
     "execution_count": 64,
     "metadata": {},
     "output_type": "execute_result"
    }
   ],
   "source": [
    "lista_categoricas = df_galicia.select_dtypes(include = [\"object\"]).copy()\n",
    "lista_categoricas.columns"
   ]
  },
  {
   "cell_type": "markdown",
   "metadata": {},
   "source": [
    "Guardamos la variable target **causa** en una variable nueva y la eliminamos del dataset inicial."
   ]
  },
  {
   "cell_type": "code",
   "execution_count": 65,
   "metadata": {},
   "outputs": [
    {
     "data": {
      "text/plain": [
       "Index(['idprovincia', 'gastos', 'ALTITUD', 'VELMEDIA', 'Trimestre', 'Mes',\n",
       "       'DIR_VIENTO'],\n",
       "      dtype='object')"
      ]
     },
     "execution_count": 65,
     "metadata": {},
     "output_type": "execute_result"
    }
   ],
   "source": [
    "lista_categoricas.drop(['causa'], axis=1, inplace=True)\n",
    "lista_categoricas.drop(['fecha'], axis=1, inplace=True)\n",
    "lista_categoricas.columns"
   ]
  },
  {
   "cell_type": "code",
   "execution_count": 66,
   "metadata": {},
   "outputs": [],
   "source": [
    "target_cat = df_galicia['causa'].copy()"
   ]
  },
  {
   "cell_type": "code",
   "execution_count": 67,
   "metadata": {},
   "outputs": [
    {
     "data": {
      "text/plain": [
       "0          negligencia\n",
       "1         intencionado\n",
       "2          negligencia\n",
       "3    causa desconocida\n",
       "4         intencionado\n",
       "Name: causa, dtype: object"
      ]
     },
     "execution_count": 67,
     "metadata": {},
     "output_type": "execute_result"
    }
   ],
   "source": [
    "target_cat.head()"
   ]
  },
  {
   "cell_type": "code",
   "execution_count": 68,
   "metadata": {},
   "outputs": [
    {
     "data": {
      "text/plain": [
       "RangeIndex(start=0, stop=12976, step=1)"
      ]
     },
     "execution_count": 68,
     "metadata": {},
     "output_type": "execute_result"
    }
   ],
   "source": [
    "target_cat.index"
   ]
  },
  {
   "cell_type": "code",
   "execution_count": 69,
   "metadata": {},
   "outputs": [
    {
     "data": {
      "text/plain": [
       "Index(['idprovincia', 'gastos', 'ALTITUD', 'VELMEDIA', 'Trimestre', 'Mes',\n",
       "       'DIR_VIENTO'],\n",
       "      dtype='object')"
      ]
     },
     "execution_count": 69,
     "metadata": {},
     "output_type": "execute_result"
    }
   ],
   "source": [
    "lista_categoricas.columns"
   ]
  },
  {
   "cell_type": "code",
   "execution_count": 70,
   "metadata": {},
   "outputs": [],
   "source": [
    "df_galicia.drop(['fecha'], axis=1, inplace=True)"
   ]
  },
  {
   "cell_type": "code",
   "execution_count": 71,
   "metadata": {},
   "outputs": [
    {
     "data": {
      "text/plain": [
       "Index(['superficie', 'lat', 'lng', 'idprovincia', 'causa', 'muertos',\n",
       "       'heridos', 'time_ctrl', 'time_ext', 'personal', 'medios', 'gastos',\n",
       "       'ALTITUD', 'TMEDIA', 'PRECIPITACION', 'TMIN', 'TMAX', 'VELMEDIA',\n",
       "       'RACHA', 'SOL', 'Trimestre', 'Mes', 'Año', 'DIR_VIENTO', 'PRES_RANGE'],\n",
       "      dtype='object')"
      ]
     },
     "execution_count": 71,
     "metadata": {},
     "output_type": "execute_result"
    }
   ],
   "source": [
    "df_galicia.columns"
   ]
  },
  {
   "cell_type": "code",
   "execution_count": 72,
   "metadata": {},
   "outputs": [
    {
     "data": {
      "text/plain": [
       "pandas.core.frame.DataFrame"
      ]
     },
     "execution_count": 72,
     "metadata": {},
     "output_type": "execute_result"
    }
   ],
   "source": [
    "type(lista_categoricas)"
   ]
  },
  {
   "cell_type": "code",
   "execution_count": 73,
   "metadata": {},
   "outputs": [
    {
     "data": {
      "text/plain": [
       "(12976, 25)"
      ]
     },
     "execution_count": 73,
     "metadata": {},
     "output_type": "execute_result"
    }
   ],
   "source": [
    "df_galicia.shape   # Después de eliminar la FECHA"
   ]
  },
  {
   "cell_type": "code",
   "execution_count": 74,
   "metadata": {},
   "outputs": [
    {
     "data": {
      "text/plain": [
       "Index(['idprovincia', 'gastos', 'ALTITUD', 'VELMEDIA', 'Trimestre', 'Mes',\n",
       "       'DIR_VIENTO'],\n",
       "      dtype='object')"
      ]
     },
     "execution_count": 74,
     "metadata": {},
     "output_type": "execute_result"
    }
   ],
   "source": [
    "lista_categoricas.columns"
   ]
  },
  {
   "cell_type": "code",
   "execution_count": 75,
   "metadata": {},
   "outputs": [],
   "source": [
    "for k in lista_categoricas:\n",
    "    dummies = pd.get_dummies(df_galicia[k], prefix=k)\n",
    "    df_galicia = df_galicia.drop(k, 1)\n",
    "    df_galicia = pd.concat([df_galicia, dummies], axis=1)"
   ]
  },
  {
   "cell_type": "code",
   "execution_count": 76,
   "metadata": {},
   "outputs": [
    {
     "data": {
      "text/html": [
       "<div>\n",
       "<style scoped>\n",
       "    .dataframe tbody tr th:only-of-type {\n",
       "        vertical-align: middle;\n",
       "    }\n",
       "\n",
       "    .dataframe tbody tr th {\n",
       "        vertical-align: top;\n",
       "    }\n",
       "\n",
       "    .dataframe thead th {\n",
       "        text-align: right;\n",
       "    }\n",
       "</style>\n",
       "<table border=\"1\" class=\"dataframe\">\n",
       "  <thead>\n",
       "    <tr style=\"text-align: right;\">\n",
       "      <th></th>\n",
       "      <th>superficie</th>\n",
       "      <th>lat</th>\n",
       "      <th>lng</th>\n",
       "      <th>causa</th>\n",
       "      <th>muertos</th>\n",
       "      <th>heridos</th>\n",
       "      <th>time_ctrl</th>\n",
       "      <th>time_ext</th>\n",
       "      <th>personal</th>\n",
       "      <th>medios</th>\n",
       "      <th>...</th>\n",
       "      <th>Mes_octubre</th>\n",
       "      <th>Mes_septiembre</th>\n",
       "      <th>DIR_VIENTO_E</th>\n",
       "      <th>DIR_VIENTO_N</th>\n",
       "      <th>DIR_VIENTO_NE</th>\n",
       "      <th>DIR_VIENTO_NW</th>\n",
       "      <th>DIR_VIENTO_S</th>\n",
       "      <th>DIR_VIENTO_SE</th>\n",
       "      <th>DIR_VIENTO_SW</th>\n",
       "      <th>DIR_VIENTO_W</th>\n",
       "    </tr>\n",
       "  </thead>\n",
       "  <tbody>\n",
       "    <tr>\n",
       "      <th>0</th>\n",
       "      <td>5.0</td>\n",
       "      <td>43.703581</td>\n",
       "      <td>-8.038777</td>\n",
       "      <td>negligencia</td>\n",
       "      <td>0</td>\n",
       "      <td>0</td>\n",
       "      <td>3.55</td>\n",
       "      <td>3.55</td>\n",
       "      <td>14</td>\n",
       "      <td>2</td>\n",
       "      <td>...</td>\n",
       "      <td>0</td>\n",
       "      <td>0</td>\n",
       "      <td>1</td>\n",
       "      <td>0</td>\n",
       "      <td>0</td>\n",
       "      <td>0</td>\n",
       "      <td>0</td>\n",
       "      <td>0</td>\n",
       "      <td>0</td>\n",
       "      <td>0</td>\n",
       "    </tr>\n",
       "    <tr>\n",
       "      <th>1</th>\n",
       "      <td>1.5</td>\n",
       "      <td>43.186836</td>\n",
       "      <td>-8.685470</td>\n",
       "      <td>intencionado</td>\n",
       "      <td>0</td>\n",
       "      <td>0</td>\n",
       "      <td>2.05</td>\n",
       "      <td>2.05</td>\n",
       "      <td>5</td>\n",
       "      <td>0</td>\n",
       "      <td>...</td>\n",
       "      <td>0</td>\n",
       "      <td>0</td>\n",
       "      <td>0</td>\n",
       "      <td>0</td>\n",
       "      <td>1</td>\n",
       "      <td>0</td>\n",
       "      <td>0</td>\n",
       "      <td>0</td>\n",
       "      <td>0</td>\n",
       "      <td>0</td>\n",
       "    </tr>\n",
       "    <tr>\n",
       "      <th>2</th>\n",
       "      <td>1.5</td>\n",
       "      <td>43.699889</td>\n",
       "      <td>-7.984566</td>\n",
       "      <td>negligencia</td>\n",
       "      <td>0</td>\n",
       "      <td>0</td>\n",
       "      <td>1.50</td>\n",
       "      <td>1.50</td>\n",
       "      <td>9</td>\n",
       "      <td>1</td>\n",
       "      <td>...</td>\n",
       "      <td>0</td>\n",
       "      <td>0</td>\n",
       "      <td>0</td>\n",
       "      <td>0</td>\n",
       "      <td>1</td>\n",
       "      <td>0</td>\n",
       "      <td>0</td>\n",
       "      <td>0</td>\n",
       "      <td>0</td>\n",
       "      <td>0</td>\n",
       "    </tr>\n",
       "    <tr>\n",
       "      <th>3</th>\n",
       "      <td>1.1</td>\n",
       "      <td>42.758649</td>\n",
       "      <td>-8.917814</td>\n",
       "      <td>causa desconocida</td>\n",
       "      <td>0</td>\n",
       "      <td>0</td>\n",
       "      <td>3.10</td>\n",
       "      <td>3.10</td>\n",
       "      <td>18</td>\n",
       "      <td>2</td>\n",
       "      <td>...</td>\n",
       "      <td>0</td>\n",
       "      <td>0</td>\n",
       "      <td>0</td>\n",
       "      <td>0</td>\n",
       "      <td>1</td>\n",
       "      <td>0</td>\n",
       "      <td>0</td>\n",
       "      <td>0</td>\n",
       "      <td>0</td>\n",
       "      <td>0</td>\n",
       "    </tr>\n",
       "    <tr>\n",
       "      <th>4</th>\n",
       "      <td>1.5</td>\n",
       "      <td>43.063218</td>\n",
       "      <td>-9.235604</td>\n",
       "      <td>intencionado</td>\n",
       "      <td>0</td>\n",
       "      <td>0</td>\n",
       "      <td>1.35</td>\n",
       "      <td>1.35</td>\n",
       "      <td>14</td>\n",
       "      <td>1</td>\n",
       "      <td>...</td>\n",
       "      <td>0</td>\n",
       "      <td>0</td>\n",
       "      <td>0</td>\n",
       "      <td>0</td>\n",
       "      <td>1</td>\n",
       "      <td>0</td>\n",
       "      <td>0</td>\n",
       "      <td>0</td>\n",
       "      <td>0</td>\n",
       "      <td>0</td>\n",
       "    </tr>\n",
       "  </tbody>\n",
       "</table>\n",
       "<p>5 rows × 58 columns</p>\n",
       "</div>"
      ],
      "text/plain": [
       "   superficie        lat       lng              causa  muertos  heridos  \\\n",
       "0         5.0  43.703581 -8.038777        negligencia        0        0   \n",
       "1         1.5  43.186836 -8.685470       intencionado        0        0   \n",
       "2         1.5  43.699889 -7.984566        negligencia        0        0   \n",
       "3         1.1  42.758649 -8.917814  causa desconocida        0        0   \n",
       "4         1.5  43.063218 -9.235604       intencionado        0        0   \n",
       "\n",
       "   time_ctrl  time_ext  personal  medios  ...  Mes_octubre  Mes_septiembre  \\\n",
       "0       3.55      3.55        14       2  ...            0               0   \n",
       "1       2.05      2.05         5       0  ...            0               0   \n",
       "2       1.50      1.50         9       1  ...            0               0   \n",
       "3       3.10      3.10        18       2  ...            0               0   \n",
       "4       1.35      1.35        14       1  ...            0               0   \n",
       "\n",
       "   DIR_VIENTO_E  DIR_VIENTO_N  DIR_VIENTO_NE  DIR_VIENTO_NW  DIR_VIENTO_S  \\\n",
       "0             1             0              0              0             0   \n",
       "1             0             0              1              0             0   \n",
       "2             0             0              1              0             0   \n",
       "3             0             0              1              0             0   \n",
       "4             0             0              1              0             0   \n",
       "\n",
       "   DIR_VIENTO_SE  DIR_VIENTO_SW  DIR_VIENTO_W  \n",
       "0              0              0             0  \n",
       "1              0              0             0  \n",
       "2              0              0             0  \n",
       "3              0              0             0  \n",
       "4              0              0             0  \n",
       "\n",
       "[5 rows x 58 columns]"
      ]
     },
     "execution_count": 76,
     "metadata": {},
     "output_type": "execute_result"
    }
   ],
   "source": [
    "df_galicia.head()"
   ]
  },
  {
   "cell_type": "code",
   "execution_count": 77,
   "metadata": {},
   "outputs": [
    {
     "data": {
      "text/plain": [
       "(12976, 58)"
      ]
     },
     "execution_count": 77,
     "metadata": {},
     "output_type": "execute_result"
    }
   ],
   "source": [
    "df_galicia.shape  # Después de crear las dummies - un total de 40 dummies,y después de eliminar las 7 variables originales"
   ]
  },
  {
   "cell_type": "code",
   "execution_count": 78,
   "metadata": {},
   "outputs": [
    {
     "data": {
      "text/plain": [
       "Index(['superficie', 'lat', 'lng', 'causa', 'muertos', 'heridos', 'time_ctrl',\n",
       "       'time_ext', 'personal', 'medios', 'TMEDIA', 'PRECIPITACION', 'TMIN',\n",
       "       'TMAX', 'RACHA', 'SOL', 'Año', 'PRES_RANGE', 'idprovincia_A Coruña',\n",
       "       'idprovincia_Lugo', 'idprovincia_Ourense', 'idprovincia_Pontevedra',\n",
       "       'gastos_< 5K ', 'gastos_>5K', 'gastos_NO INFO', 'ALTITUD_Entre 100-125',\n",
       "       'ALTITUD_Inferior a 80', 'ALTITUD_NO INFO', 'ALTITUD_Superior a 125',\n",
       "       'VELMEDIA_2-4 m/s', 'VELMEDIA_4-6 m/s', 'VELMEDIA_6-8 m/s',\n",
       "       'VELMEDIA_< 2 m/s', 'VELMEDIA_> 8 m/s', 'Trimestre_Q1', 'Trimestre_Q2',\n",
       "       'Trimestre_Q3', 'Trimestre_Q4', 'Mes_abril', 'Mes_agosto',\n",
       "       'Mes_diciembre', 'Mes_enero', 'Mes_febrero', 'Mes_julio', 'Mes_junio',\n",
       "       'Mes_marzo', 'Mes_mayo', 'Mes_noviembre', 'Mes_octubre',\n",
       "       'Mes_septiembre', 'DIR_VIENTO_E', 'DIR_VIENTO_N', 'DIR_VIENTO_NE',\n",
       "       'DIR_VIENTO_NW', 'DIR_VIENTO_S', 'DIR_VIENTO_SE', 'DIR_VIENTO_SW',\n",
       "       'DIR_VIENTO_W'],\n",
       "      dtype='object')"
      ]
     },
     "execution_count": 78,
     "metadata": {},
     "output_type": "execute_result"
    }
   ],
   "source": [
    "df_galicia.columns"
   ]
  },
  {
   "cell_type": "code",
   "execution_count": null,
   "metadata": {},
   "outputs": [],
   "source": []
  },
  {
   "cell_type": "markdown",
   "metadata": {},
   "source": [
    "### Análisis de multicolinealidad"
   ]
  },
  {
   "cell_type": "markdown",
   "metadata": {},
   "source": [
    "Antes de realizar el muestreo de datos, se calcula el valor VIF para todas las variables para evitar situaciones de multicolinealidad.\n",
    "\n",
    "Comprobamos que todas las variables son numéricas."
   ]
  },
  {
   "cell_type": "code",
   "execution_count": 79,
   "metadata": {},
   "outputs": [
    {
     "data": {
      "text/plain": [
       "superficie                float64\n",
       "lat                       float64\n",
       "lng                       float64\n",
       "causa                      object\n",
       "muertos                     int64\n",
       "heridos                     int64\n",
       "time_ctrl                 float64\n",
       "time_ext                  float64\n",
       "personal                    int64\n",
       "medios                      int64\n",
       "TMEDIA                    float64\n",
       "PRECIPITACION               int64\n",
       "TMIN                      float64\n",
       "TMAX                      float64\n",
       "RACHA                     float64\n",
       "SOL                       float64\n",
       "Año                         int64\n",
       "PRES_RANGE                float64\n",
       "idprovincia_A Coruña        uint8\n",
       "idprovincia_Lugo            uint8\n",
       "idprovincia_Ourense         uint8\n",
       "idprovincia_Pontevedra      uint8\n",
       "gastos_< 5K                 uint8\n",
       "gastos_>5K                  uint8\n",
       "gastos_NO INFO              uint8\n",
       "ALTITUD_Entre 100-125       uint8\n",
       "ALTITUD_Inferior a 80       uint8\n",
       "ALTITUD_NO INFO             uint8\n",
       "ALTITUD_Superior a 125      uint8\n",
       "VELMEDIA_2-4 m/s            uint8\n",
       "VELMEDIA_4-6 m/s            uint8\n",
       "VELMEDIA_6-8 m/s            uint8\n",
       "VELMEDIA_< 2 m/s            uint8\n",
       "VELMEDIA_> 8 m/s            uint8\n",
       "Trimestre_Q1                uint8\n",
       "Trimestre_Q2                uint8\n",
       "Trimestre_Q3                uint8\n",
       "Trimestre_Q4                uint8\n",
       "Mes_abril                   uint8\n",
       "Mes_agosto                  uint8\n",
       "Mes_diciembre               uint8\n",
       "Mes_enero                   uint8\n",
       "Mes_febrero                 uint8\n",
       "Mes_julio                   uint8\n",
       "Mes_junio                   uint8\n",
       "Mes_marzo                   uint8\n",
       "Mes_mayo                    uint8\n",
       "Mes_noviembre               uint8\n",
       "Mes_octubre                 uint8\n",
       "Mes_septiembre              uint8\n",
       "DIR_VIENTO_E                uint8\n",
       "DIR_VIENTO_N                uint8\n",
       "DIR_VIENTO_NE               uint8\n",
       "DIR_VIENTO_NW               uint8\n",
       "DIR_VIENTO_S                uint8\n",
       "DIR_VIENTO_SE               uint8\n",
       "DIR_VIENTO_SW               uint8\n",
       "DIR_VIENTO_W                uint8\n",
       "dtype: object"
      ]
     },
     "execution_count": 79,
     "metadata": {},
     "output_type": "execute_result"
    }
   ],
   "source": [
    "df_galicia.dtypes"
   ]
  },
  {
   "cell_type": "code",
   "execution_count": 80,
   "metadata": {},
   "outputs": [
    {
     "name": "stdout",
     "output_type": "stream",
     "text": [
      "El valor del VIF para la variable superficie es: 1.313893157175205\n",
      "El valor del VIF para la variable lat es: 4.410968940789858\n",
      "El valor del VIF para la variable lng es: 2.861319245764335\n",
      "El valor del VIF para la variable muertos es: 1.003362961822251\n",
      "El valor del VIF para la variable heridos es: 1.0056417622391587\n",
      "El valor del VIF para la variable time_ctrl es: inf\n",
      "El valor del VIF para la variable time_ext es: inf\n",
      "El valor del VIF para la variable personal es: 2.0364178748460144\n",
      "El valor del VIF para la variable medios es: 2.045451679693736\n"
     ]
    },
    {
     "name": "stderr",
     "output_type": "stream",
     "text": [
      "<ipython-input-80-a67190912ded>:20: RuntimeWarning: divide by zero encountered in double_scalars\n",
      "  vif = 1 / (1 - model.score(x, y))\n",
      "<ipython-input-80-a67190912ded>:20: RuntimeWarning: divide by zero encountered in double_scalars\n",
      "  vif = 1 / (1 - model.score(x, y))\n"
     ]
    },
    {
     "name": "stdout",
     "output_type": "stream",
     "text": [
      "El valor del VIF para la variable TMEDIA es: 52571.914695647705\n",
      "El valor del VIF para la variable PRECIPITACION es: 1.311021665553467\n",
      "El valor del VIF para la variable TMIN es: 14495.05661806808\n",
      "El valor del VIF para la variable TMAX es: 18184.077959872873\n",
      "El valor del VIF para la variable RACHA es: 2.886674665462221\n",
      "El valor del VIF para la variable SOL es: 2.1138960656487025\n",
      "El valor del VIF para la variable Año es: 1.1681523901747302\n",
      "El valor del VIF para la variable PRES_RANGE es: 1.3218908959634919\n"
     ]
    },
    {
     "name": "stderr",
     "output_type": "stream",
     "text": [
      "<ipython-input-80-a67190912ded>:20: RuntimeWarning: divide by zero encountered in double_scalars\n",
      "  vif = 1 / (1 - model.score(x, y))\n",
      "<ipython-input-80-a67190912ded>:20: RuntimeWarning: divide by zero encountered in double_scalars\n",
      "  vif = 1 / (1 - model.score(x, y))\n",
      "<ipython-input-80-a67190912ded>:20: RuntimeWarning: divide by zero encountered in double_scalars\n",
      "  vif = 1 / (1 - model.score(x, y))\n",
      "<ipython-input-80-a67190912ded>:20: RuntimeWarning: divide by zero encountered in double_scalars\n",
      "  vif = 1 / (1 - model.score(x, y))\n",
      "<ipython-input-80-a67190912ded>:20: RuntimeWarning: divide by zero encountered in double_scalars\n",
      "  vif = 1 / (1 - model.score(x, y))\n",
      "<ipython-input-80-a67190912ded>:20: RuntimeWarning: divide by zero encountered in double_scalars\n",
      "  vif = 1 / (1 - model.score(x, y))\n",
      "<ipython-input-80-a67190912ded>:20: RuntimeWarning: divide by zero encountered in double_scalars\n",
      "  vif = 1 / (1 - model.score(x, y))\n",
      "<ipython-input-80-a67190912ded>:20: RuntimeWarning: divide by zero encountered in double_scalars\n",
      "  vif = 1 / (1 - model.score(x, y))\n"
     ]
    },
    {
     "name": "stdout",
     "output_type": "stream",
     "text": [
      "El valor del VIF para la variable idprovincia_A Coruña es: inf\n",
      "El valor del VIF para la variable idprovincia_Lugo es: inf\n",
      "El valor del VIF para la variable idprovincia_Ourense es: inf\n",
      "El valor del VIF para la variable idprovincia_Pontevedra es: inf\n",
      "El valor del VIF para la variable gastos_< 5K  es: inf\n",
      "El valor del VIF para la variable gastos_>5K es: inf\n",
      "El valor del VIF para la variable gastos_NO INFO es: inf\n",
      "El valor del VIF para la variable ALTITUD_Entre 100-125 es: inf\n"
     ]
    },
    {
     "name": "stderr",
     "output_type": "stream",
     "text": [
      "<ipython-input-80-a67190912ded>:20: RuntimeWarning: divide by zero encountered in double_scalars\n",
      "  vif = 1 / (1 - model.score(x, y))\n",
      "<ipython-input-80-a67190912ded>:20: RuntimeWarning: divide by zero encountered in double_scalars\n",
      "  vif = 1 / (1 - model.score(x, y))\n",
      "<ipython-input-80-a67190912ded>:20: RuntimeWarning: divide by zero encountered in double_scalars\n",
      "  vif = 1 / (1 - model.score(x, y))\n",
      "<ipython-input-80-a67190912ded>:20: RuntimeWarning: divide by zero encountered in double_scalars\n",
      "  vif = 1 / (1 - model.score(x, y))\n",
      "<ipython-input-80-a67190912ded>:20: RuntimeWarning: divide by zero encountered in double_scalars\n",
      "  vif = 1 / (1 - model.score(x, y))\n",
      "<ipython-input-80-a67190912ded>:20: RuntimeWarning: divide by zero encountered in double_scalars\n",
      "  vif = 1 / (1 - model.score(x, y))\n",
      "<ipython-input-80-a67190912ded>:20: RuntimeWarning: divide by zero encountered in double_scalars\n",
      "  vif = 1 / (1 - model.score(x, y))\n",
      "<ipython-input-80-a67190912ded>:20: RuntimeWarning: divide by zero encountered in double_scalars\n",
      "  vif = 1 / (1 - model.score(x, y))\n"
     ]
    },
    {
     "name": "stdout",
     "output_type": "stream",
     "text": [
      "El valor del VIF para la variable ALTITUD_Inferior a 80 es: inf\n",
      "El valor del VIF para la variable ALTITUD_NO INFO es: inf\n",
      "El valor del VIF para la variable ALTITUD_Superior a 125 es: inf\n",
      "El valor del VIF para la variable VELMEDIA_2-4 m/s es: inf\n",
      "El valor del VIF para la variable VELMEDIA_4-6 m/s es: inf\n",
      "El valor del VIF para la variable VELMEDIA_6-8 m/s es: inf\n",
      "El valor del VIF para la variable VELMEDIA_< 2 m/s es: inf\n",
      "El valor del VIF para la variable VELMEDIA_> 8 m/s es: inf\n"
     ]
    },
    {
     "name": "stderr",
     "output_type": "stream",
     "text": [
      "<ipython-input-80-a67190912ded>:20: RuntimeWarning: divide by zero encountered in double_scalars\n",
      "  vif = 1 / (1 - model.score(x, y))\n",
      "<ipython-input-80-a67190912ded>:20: RuntimeWarning: divide by zero encountered in double_scalars\n",
      "  vif = 1 / (1 - model.score(x, y))\n",
      "<ipython-input-80-a67190912ded>:20: RuntimeWarning: divide by zero encountered in double_scalars\n",
      "  vif = 1 / (1 - model.score(x, y))\n",
      "<ipython-input-80-a67190912ded>:20: RuntimeWarning: divide by zero encountered in double_scalars\n",
      "  vif = 1 / (1 - model.score(x, y))\n",
      "<ipython-input-80-a67190912ded>:20: RuntimeWarning: divide by zero encountered in double_scalars\n",
      "  vif = 1 / (1 - model.score(x, y))\n",
      "<ipython-input-80-a67190912ded>:20: RuntimeWarning: divide by zero encountered in double_scalars\n",
      "  vif = 1 / (1 - model.score(x, y))\n",
      "<ipython-input-80-a67190912ded>:20: RuntimeWarning: divide by zero encountered in double_scalars\n",
      "  vif = 1 / (1 - model.score(x, y))\n",
      "<ipython-input-80-a67190912ded>:20: RuntimeWarning: divide by zero encountered in double_scalars\n",
      "  vif = 1 / (1 - model.score(x, y))\n"
     ]
    },
    {
     "name": "stdout",
     "output_type": "stream",
     "text": [
      "El valor del VIF para la variable Trimestre_Q1 es: inf\n",
      "El valor del VIF para la variable Trimestre_Q2 es: inf\n",
      "El valor del VIF para la variable Trimestre_Q3 es: inf\n",
      "El valor del VIF para la variable Trimestre_Q4 es: inf\n",
      "El valor del VIF para la variable Mes_abril es: inf\n",
      "El valor del VIF para la variable Mes_agosto es: inf\n",
      "El valor del VIF para la variable Mes_diciembre es: inf\n",
      "El valor del VIF para la variable Mes_enero es: inf\n",
      "El valor del VIF para la variable Mes_febrero es: inf\n",
      "El valor del VIF para la variable Mes_julio es: inf\n",
      "El valor del VIF para la variable Mes_junio es: inf\n",
      "El valor del VIF para la variable Mes_marzo es: inf\n",
      "El valor del VIF para la variable Mes_mayo es: inf\n",
      "El valor del VIF para la variable Mes_noviembre es: inf\n",
      "El valor del VIF para la variable Mes_octubre es: inf\n",
      "El valor del VIF para la variable Mes_septiembre es:"
     ]
    },
    {
     "name": "stderr",
     "output_type": "stream",
     "text": [
      "<ipython-input-80-a67190912ded>:20: RuntimeWarning: divide by zero encountered in double_scalars\n",
      "  vif = 1 / (1 - model.score(x, y))\n",
      "<ipython-input-80-a67190912ded>:20: RuntimeWarning: divide by zero encountered in double_scalars\n",
      "  vif = 1 / (1 - model.score(x, y))\n",
      "<ipython-input-80-a67190912ded>:20: RuntimeWarning: divide by zero encountered in double_scalars\n",
      "  vif = 1 / (1 - model.score(x, y))\n",
      "<ipython-input-80-a67190912ded>:20: RuntimeWarning: divide by zero encountered in double_scalars\n",
      "  vif = 1 / (1 - model.score(x, y))\n",
      "<ipython-input-80-a67190912ded>:20: RuntimeWarning: divide by zero encountered in double_scalars\n",
      "  vif = 1 / (1 - model.score(x, y))\n",
      "<ipython-input-80-a67190912ded>:20: RuntimeWarning: divide by zero encountered in double_scalars\n",
      "  vif = 1 / (1 - model.score(x, y))\n",
      "<ipython-input-80-a67190912ded>:20: RuntimeWarning: divide by zero encountered in double_scalars\n",
      "  vif = 1 / (1 - model.score(x, y))\n",
      "<ipython-input-80-a67190912ded>:20: RuntimeWarning: divide by zero encountered in double_scalars\n",
      "  vif = 1 / (1 - model.score(x, y))\n"
     ]
    },
    {
     "name": "stdout",
     "output_type": "stream",
     "text": [
      " inf\n",
      "El valor del VIF para la variable DIR_VIENTO_E es: inf\n",
      "El valor del VIF para la variable DIR_VIENTO_N es: inf\n",
      "El valor del VIF para la variable DIR_VIENTO_NE es: inf\n",
      "El valor del VIF para la variable DIR_VIENTO_NW es: inf\n",
      "El valor del VIF para la variable DIR_VIENTO_S es: inf\n",
      "El valor del VIF para la variable DIR_VIENTO_SE es: inf\n",
      "El valor del VIF para la variable DIR_VIENTO_SW es: inf\n",
      "El valor del VIF para la variable DIR_VIENTO_W es: inf\n"
     ]
    },
    {
     "name": "stderr",
     "output_type": "stream",
     "text": [
      "<ipython-input-80-a67190912ded>:20: RuntimeWarning: divide by zero encountered in double_scalars\n",
      "  vif = 1 / (1 - model.score(x, y))\n",
      "<ipython-input-80-a67190912ded>:20: RuntimeWarning: divide by zero encountered in double_scalars\n",
      "  vif = 1 / (1 - model.score(x, y))\n",
      "<ipython-input-80-a67190912ded>:20: RuntimeWarning: divide by zero encountered in double_scalars\n",
      "  vif = 1 / (1 - model.score(x, y))\n",
      "<ipython-input-80-a67190912ded>:20: RuntimeWarning: divide by zero encountered in double_scalars\n",
      "  vif = 1 / (1 - model.score(x, y))\n",
      "<ipython-input-80-a67190912ded>:20: RuntimeWarning: divide by zero encountered in double_scalars\n",
      "  vif = 1 / (1 - model.score(x, y))\n",
      "<ipython-input-80-a67190912ded>:20: RuntimeWarning: divide by zero encountered in double_scalars\n",
      "  vif = 1 / (1 - model.score(x, y))\n",
      "<ipython-input-80-a67190912ded>:20: RuntimeWarning: divide by zero encountered in double_scalars\n",
      "  vif = 1 / (1 - model.score(x, y))\n",
      "<ipython-input-80-a67190912ded>:20: RuntimeWarning: divide by zero encountered in double_scalars\n",
      "  vif = 1 / (1 - model.score(x, y))\n"
     ]
    }
   ],
   "source": [
    "# Calcular el VIF de las variables\n",
    "\n",
    "df_total_vif = df_galicia.copy(deep = True)\n",
    "features = list(df_total_vif.columns)\n",
    "features.remove('causa')  # sin incluir la variable target\n",
    "\n",
    "df_total_vif = df_total_vif[features]\n",
    "\n",
    "for i in range(len(features)):\n",
    "    var = features[i]\n",
    "    fet = features[:]\n",
    "    fet.remove(var)\n",
    "    \n",
    "    x = df_total_vif[fet]\n",
    "    y = df_galicia[var]\n",
    "    \n",
    "    model = LinearRegression()\n",
    "    model.fit(x, y)\n",
    "    \n",
    "    vif = 1 / (1 - model.score(x, y))\n",
    "    \n",
    "    print ('El valor del VIF para la variable', var, 'es:', vif)"
   ]
  },
  {
   "cell_type": "markdown",
   "metadata": {},
   "source": [
    "Las variables **TMEDIA**,**TMIN** y **TMAX** tienen valores VIF muy grandes, en consecuencia se opta por eliminar la variable **TMEDIA** que tiene el valor VIF más gramnde, y evitar casos de multicolinealidad entre las variables del dataset."
   ]
  },
  {
   "cell_type": "code",
   "execution_count": 81,
   "metadata": {},
   "outputs": [
    {
     "name": "stdout",
     "output_type": "stream",
     "text": [
      "El valor del VIF para la variable superficie es: 1.3138166398210918\n",
      "El valor del VIF para la variable lat es: 4.4109486695927185\n",
      "El valor del VIF para la variable lng es: 2.861189723013334\n",
      "El valor del VIF para la variable muertos es: 1.0014578429728007\n",
      "El valor del VIF para la variable heridos es: 1.005494431335802\n",
      "El valor del VIF para la variable time_ctrl es: inf\n",
      "El valor del VIF para la variable time_ext es: inf\n",
      "El valor del VIF para la variable personal es: 2.036415146782929\n",
      "El valor del VIF para la variable medios es: 2.0452460562852273\n"
     ]
    },
    {
     "name": "stderr",
     "output_type": "stream",
     "text": [
      "<ipython-input-81-4d951a17d51d>:22: RuntimeWarning: divide by zero encountered in double_scalars\n",
      "  vif = 1 / (1 - model.score(x, y))\n",
      "<ipython-input-81-4d951a17d51d>:22: RuntimeWarning: divide by zero encountered in double_scalars\n",
      "  vif = 1 / (1 - model.score(x, y))\n"
     ]
    },
    {
     "name": "stdout",
     "output_type": "stream",
     "text": [
      "El valor del VIF para la variable PRECIPITACION es: 1.311021757595596\n",
      "El valor del VIF para la variable TMIN es: 8.022207044055138\n",
      "El valor del VIF para la variable TMAX es: 6.432726480387889\n",
      "El valor del VIF para la variable RACHA es: 2.8839735995344555\n",
      "El valor del VIF para la variable SOL es: 2.1132075065508227\n",
      "El valor del VIF para la variable Año es: 1.1680577146922762\n",
      "El valor del VIF para la variable PRES_RANGE es: 1.3214365994975075\n",
      "El valor del VIF para la variable idprovincia_A Coruña es: inf\n",
      "El valor del VIF para la variable idprovincia_Lugo es: inf\n",
      "El valor del VIF para la variable idprovincia_Ourense es: inf\n",
      "El valor del VIF para la variable idprovincia_Pontevedra es: inf\n",
      "El valor del VIF para la variable gastos_< 5K  es: inf\n"
     ]
    },
    {
     "name": "stderr",
     "output_type": "stream",
     "text": [
      "<ipython-input-81-4d951a17d51d>:22: RuntimeWarning: divide by zero encountered in double_scalars\n",
      "  vif = 1 / (1 - model.score(x, y))\n",
      "<ipython-input-81-4d951a17d51d>:22: RuntimeWarning: divide by zero encountered in double_scalars\n",
      "  vif = 1 / (1 - model.score(x, y))\n",
      "<ipython-input-81-4d951a17d51d>:22: RuntimeWarning: divide by zero encountered in double_scalars\n",
      "  vif = 1 / (1 - model.score(x, y))\n",
      "<ipython-input-81-4d951a17d51d>:22: RuntimeWarning: divide by zero encountered in double_scalars\n",
      "  vif = 1 / (1 - model.score(x, y))\n",
      "<ipython-input-81-4d951a17d51d>:22: RuntimeWarning: divide by zero encountered in double_scalars\n",
      "  vif = 1 / (1 - model.score(x, y))\n",
      "<ipython-input-81-4d951a17d51d>:22: RuntimeWarning: divide by zero encountered in double_scalars\n",
      "  vif = 1 / (1 - model.score(x, y))\n",
      "<ipython-input-81-4d951a17d51d>:22: RuntimeWarning: divide by zero encountered in double_scalars\n",
      "  vif = 1 / (1 - model.score(x, y))\n",
      "<ipython-input-81-4d951a17d51d>:22: RuntimeWarning: divide by zero encountered in double_scalars\n",
      "  vif = 1 / (1 - model.score(x, y))\n"
     ]
    },
    {
     "name": "stdout",
     "output_type": "stream",
     "text": [
      "El valor del VIF para la variable gastos_>5K es: inf\n",
      "El valor del VIF para la variable gastos_NO INFO es: inf\n",
      "El valor del VIF para la variable ALTITUD_Entre 100-125 es: inf\n",
      "El valor del VIF para la variable ALTITUD_Inferior a 80 es: inf\n",
      "El valor del VIF para la variable ALTITUD_NO INFO es: inf\n",
      "El valor del VIF para la variable ALTITUD_Superior a 125 es: inf\n",
      "El valor del VIF para la variable VELMEDIA_2-4 m/s es: inf\n",
      "El valor del VIF para la variable VELMEDIA_4-6 m/s es: inf\n",
      "El valor del VIF para la variable VELMEDIA_6-8 m/s es: inf\n"
     ]
    },
    {
     "name": "stderr",
     "output_type": "stream",
     "text": [
      "<ipython-input-81-4d951a17d51d>:22: RuntimeWarning: divide by zero encountered in double_scalars\n",
      "  vif = 1 / (1 - model.score(x, y))\n",
      "<ipython-input-81-4d951a17d51d>:22: RuntimeWarning: divide by zero encountered in double_scalars\n",
      "  vif = 1 / (1 - model.score(x, y))\n",
      "<ipython-input-81-4d951a17d51d>:22: RuntimeWarning: divide by zero encountered in double_scalars\n",
      "  vif = 1 / (1 - model.score(x, y))\n",
      "<ipython-input-81-4d951a17d51d>:22: RuntimeWarning: divide by zero encountered in double_scalars\n",
      "  vif = 1 / (1 - model.score(x, y))\n",
      "<ipython-input-81-4d951a17d51d>:22: RuntimeWarning: divide by zero encountered in double_scalars\n",
      "  vif = 1 / (1 - model.score(x, y))\n",
      "<ipython-input-81-4d951a17d51d>:22: RuntimeWarning: divide by zero encountered in double_scalars\n",
      "  vif = 1 / (1 - model.score(x, y))\n",
      "<ipython-input-81-4d951a17d51d>:22: RuntimeWarning: divide by zero encountered in double_scalars\n",
      "  vif = 1 / (1 - model.score(x, y))\n",
      "<ipython-input-81-4d951a17d51d>:22: RuntimeWarning: divide by zero encountered in double_scalars\n",
      "  vif = 1 / (1 - model.score(x, y))\n"
     ]
    },
    {
     "name": "stdout",
     "output_type": "stream",
     "text": [
      "El valor del VIF para la variable VELMEDIA_< 2 m/s es: inf\n",
      "El valor del VIF para la variable VELMEDIA_> 8 m/s es: inf\n",
      "El valor del VIF para la variable Trimestre_Q1 es: inf\n",
      "El valor del VIF para la variable Trimestre_Q2 es: inf\n",
      "El valor del VIF para la variable Trimestre_Q3 es: inf\n",
      "El valor del VIF para la variable Trimestre_Q4 es: inf\n",
      "El valor del VIF para la variable Mes_abril es: inf\n",
      "El valor del VIF para la variable Mes_agosto es: inf\n"
     ]
    },
    {
     "name": "stderr",
     "output_type": "stream",
     "text": [
      "<ipython-input-81-4d951a17d51d>:22: RuntimeWarning: divide by zero encountered in double_scalars\n",
      "  vif = 1 / (1 - model.score(x, y))\n",
      "<ipython-input-81-4d951a17d51d>:22: RuntimeWarning: divide by zero encountered in double_scalars\n",
      "  vif = 1 / (1 - model.score(x, y))\n",
      "<ipython-input-81-4d951a17d51d>:22: RuntimeWarning: divide by zero encountered in double_scalars\n",
      "  vif = 1 / (1 - model.score(x, y))\n",
      "<ipython-input-81-4d951a17d51d>:22: RuntimeWarning: divide by zero encountered in double_scalars\n",
      "  vif = 1 / (1 - model.score(x, y))\n",
      "<ipython-input-81-4d951a17d51d>:22: RuntimeWarning: divide by zero encountered in double_scalars\n",
      "  vif = 1 / (1 - model.score(x, y))\n",
      "<ipython-input-81-4d951a17d51d>:22: RuntimeWarning: divide by zero encountered in double_scalars\n",
      "  vif = 1 / (1 - model.score(x, y))\n",
      "<ipython-input-81-4d951a17d51d>:22: RuntimeWarning: divide by zero encountered in double_scalars\n",
      "  vif = 1 / (1 - model.score(x, y))\n",
      "<ipython-input-81-4d951a17d51d>:22: RuntimeWarning: divide by zero encountered in double_scalars\n",
      "  vif = 1 / (1 - model.score(x, y))\n"
     ]
    },
    {
     "name": "stdout",
     "output_type": "stream",
     "text": [
      "El valor del VIF para la variable Mes_diciembre es: inf\n",
      "El valor del VIF para la variable Mes_enero es: inf\n",
      "El valor del VIF para la variable Mes_febrero es: inf\n",
      "El valor del VIF para la variable Mes_julio es: inf\n",
      "El valor del VIF para la variable Mes_junio es: inf\n",
      "El valor del VIF para la variable Mes_marzo es: inf\n",
      "El valor del VIF para la variable Mes_mayo es: inf\n",
      "El valor del VIF para la variable Mes_noviembre es: inf\n",
      "El valor del VIF para la variable"
     ]
    },
    {
     "name": "stderr",
     "output_type": "stream",
     "text": [
      "<ipython-input-81-4d951a17d51d>:22: RuntimeWarning: divide by zero encountered in double_scalars\n",
      "  vif = 1 / (1 - model.score(x, y))\n",
      "<ipython-input-81-4d951a17d51d>:22: RuntimeWarning: divide by zero encountered in double_scalars\n",
      "  vif = 1 / (1 - model.score(x, y))\n",
      "<ipython-input-81-4d951a17d51d>:22: RuntimeWarning: divide by zero encountered in double_scalars\n",
      "  vif = 1 / (1 - model.score(x, y))\n",
      "<ipython-input-81-4d951a17d51d>:22: RuntimeWarning: divide by zero encountered in double_scalars\n",
      "  vif = 1 / (1 - model.score(x, y))\n",
      "<ipython-input-81-4d951a17d51d>:22: RuntimeWarning: divide by zero encountered in double_scalars\n",
      "  vif = 1 / (1 - model.score(x, y))\n",
      "<ipython-input-81-4d951a17d51d>:22: RuntimeWarning: divide by zero encountered in double_scalars\n",
      "  vif = 1 / (1 - model.score(x, y))\n",
      "<ipython-input-81-4d951a17d51d>:22: RuntimeWarning: divide by zero encountered in double_scalars\n",
      "  vif = 1 / (1 - model.score(x, y))\n",
      "<ipython-input-81-4d951a17d51d>:22: RuntimeWarning: divide by zero encountered in double_scalars\n",
      "  vif = 1 / (1 - model.score(x, y))\n"
     ]
    },
    {
     "name": "stdout",
     "output_type": "stream",
     "text": [
      " Mes_octubre es: inf\n",
      "El valor del VIF para la variable Mes_septiembre es: inf\n",
      "El valor del VIF para la variable DIR_VIENTO_E es: inf\n",
      "El valor del VIF para la variable DIR_VIENTO_N es: inf\n",
      "El valor del VIF para la variable DIR_VIENTO_NE es: inf\n",
      "El valor del VIF para la variable DIR_VIENTO_NW es: inf\n",
      "El valor del VIF para la variable DIR_VIENTO_S es: inf\n",
      "El valor del VIF para la variable DIR_VIENTO_SE es: inf\n",
      "El valor del VIF para la variable DIR_VIENTO_SW es: inf\n",
      "El valor del VIF para la variable DIR_VIENTO_W es: inf\n"
     ]
    },
    {
     "name": "stderr",
     "output_type": "stream",
     "text": [
      "<ipython-input-81-4d951a17d51d>:22: RuntimeWarning: divide by zero encountered in double_scalars\n",
      "  vif = 1 / (1 - model.score(x, y))\n",
      "<ipython-input-81-4d951a17d51d>:22: RuntimeWarning: divide by zero encountered in double_scalars\n",
      "  vif = 1 / (1 - model.score(x, y))\n",
      "<ipython-input-81-4d951a17d51d>:22: RuntimeWarning: divide by zero encountered in double_scalars\n",
      "  vif = 1 / (1 - model.score(x, y))\n",
      "<ipython-input-81-4d951a17d51d>:22: RuntimeWarning: divide by zero encountered in double_scalars\n",
      "  vif = 1 / (1 - model.score(x, y))\n",
      "<ipython-input-81-4d951a17d51d>:22: RuntimeWarning: divide by zero encountered in double_scalars\n",
      "  vif = 1 / (1 - model.score(x, y))\n",
      "<ipython-input-81-4d951a17d51d>:22: RuntimeWarning: divide by zero encountered in double_scalars\n",
      "  vif = 1 / (1 - model.score(x, y))\n",
      "<ipython-input-81-4d951a17d51d>:22: RuntimeWarning: divide by zero encountered in double_scalars\n",
      "  vif = 1 / (1 - model.score(x, y))\n",
      "<ipython-input-81-4d951a17d51d>:22: RuntimeWarning: divide by zero encountered in double_scalars\n",
      "  vif = 1 / (1 - model.score(x, y))\n"
     ]
    }
   ],
   "source": [
    "# Calcular de nuevo el VIF de las variables, después de eliminar la variable TMEDIA\n",
    "\n",
    "df_total_vif = df_galicia.copy(deep = True)\n",
    "features = list(df_total_vif.columns)\n",
    "features.remove('causa')\n",
    "features.remove('TMEDIA')\n",
    "\n",
    "\n",
    "df_total_vif = df_total_vif[features]\n",
    "\n",
    "for i in range(len(features)):\n",
    "    var = features[i]\n",
    "    fet = features[:]\n",
    "    fet.remove(var)\n",
    "    \n",
    "    x = df_total_vif[fet]\n",
    "    y = df_galicia[var]\n",
    "    \n",
    "    model = LinearRegression()\n",
    "    model.fit(x, y)\n",
    "    \n",
    "    vif = 1 / (1 - model.score(x, y))\n",
    "    \n",
    "    print ('El valor del VIF para la variable', var, 'es:', vif)"
   ]
  },
  {
   "cell_type": "markdown",
   "metadata": {},
   "source": [
    "Las variables **TMIN** y **TMAX** siguien teniendo un valor VIF superior a 5. Se opta por eliminar la variable con el VIF mayor, **TMIN**, y guardar solo la variable **TMAX**."
   ]
  },
  {
   "cell_type": "code",
   "execution_count": 82,
   "metadata": {},
   "outputs": [
    {
     "name": "stdout",
     "output_type": "stream",
     "text": [
      "El valor del VIF para la variable superficie es: 1.3137824254364912\n",
      "El valor del VIF para la variable lat es: 4.409861243436984\n",
      "El valor del VIF para la variable lng es: 2.8582460324716092\n",
      "El valor del VIF para la variable muertos es: 1.002999850610199\n",
      "El valor del VIF para la variable heridos es: 1.005473698065832\n",
      "El valor del VIF para la variable time_ctrl es: inf\n",
      "El valor del VIF para la variable time_ext es: inf\n",
      "El valor del VIF para la variable personal es: 2.036272220588421\n",
      "El valor del VIF para la variable medios es: 2.0437414174289037\n",
      "El valor del VIF para la variable PRECIPITACION es: 1.3109554970709751\n",
      "El valor del VIF para la variable TMAX es: 4.173989138916397\n"
     ]
    },
    {
     "name": "stderr",
     "output_type": "stream",
     "text": [
      "<ipython-input-82-0cafd51d038d>:22: RuntimeWarning: divide by zero encountered in double_scalars\n",
      "  vif = 1 / (1 - model.score(x, y))\n",
      "<ipython-input-82-0cafd51d038d>:22: RuntimeWarning: divide by zero encountered in double_scalars\n",
      "  vif = 1 / (1 - model.score(x, y))\n"
     ]
    },
    {
     "name": "stdout",
     "output_type": "stream",
     "text": [
      "El valor del VIF para la variable RACHA es: 2.787580720497491\n",
      "El valor del VIF para la variable SOL es: 1.7190566163180705\n",
      "El valor del VIF para la variable Año es: 1.1673333808872939\n",
      "El valor del VIF para la variable PRES_RANGE es: 1.299815688965785\n",
      "El valor del VIF para la variable idprovincia_A Coruña es: inf\n",
      "El valor del VIF para la variable idprovincia_Lugo es: inf\n",
      "El valor del VIF para la variable idprovincia_Ourense es: inf\n"
     ]
    },
    {
     "name": "stderr",
     "output_type": "stream",
     "text": [
      "<ipython-input-82-0cafd51d038d>:22: RuntimeWarning: divide by zero encountered in double_scalars\n",
      "  vif = 1 / (1 - model.score(x, y))\n",
      "<ipython-input-82-0cafd51d038d>:22: RuntimeWarning: divide by zero encountered in double_scalars\n",
      "  vif = 1 / (1 - model.score(x, y))\n",
      "<ipython-input-82-0cafd51d038d>:22: RuntimeWarning: divide by zero encountered in double_scalars\n",
      "  vif = 1 / (1 - model.score(x, y))\n",
      "<ipython-input-82-0cafd51d038d>:22: RuntimeWarning: divide by zero encountered in double_scalars\n",
      "  vif = 1 / (1 - model.score(x, y))\n",
      "<ipython-input-82-0cafd51d038d>:22: RuntimeWarning: divide by zero encountered in double_scalars\n",
      "  vif = 1 / (1 - model.score(x, y))\n",
      "<ipython-input-82-0cafd51d038d>:22: RuntimeWarning: divide by zero encountered in double_scalars\n",
      "  vif = 1 / (1 - model.score(x, y))\n",
      "<ipython-input-82-0cafd51d038d>:22: RuntimeWarning: divide by zero encountered in double_scalars\n",
      "  vif = 1 / (1 - model.score(x, y))\n",
      "<ipython-input-82-0cafd51d038d>:22: RuntimeWarning: divide by zero encountered in double_scalars\n",
      "  vif = 1 / (1 - model.score(x, y))\n"
     ]
    },
    {
     "name": "stdout",
     "output_type": "stream",
     "text": [
      "El valor del VIF para la variable idprovincia_Pontevedra es: inf\n",
      "El valor del VIF para la variable gastos_< 5K  es: inf\n",
      "El valor del VIF para la variable gastos_>5K es: inf\n",
      "El valor del VIF para la variable gastos_NO INFO es: inf\n",
      "El valor del VIF para la variable ALTITUD_Entre 100-125 es: inf\n",
      "El valor del VIF para la variable ALTITUD_Inferior a 80 es: inf\n",
      "El valor del VIF para la variable ALTITUD_NO INFO es: inf\n",
      "El valor del VIF para la variable ALTITUD_Superior a 125 es: inf\n"
     ]
    },
    {
     "name": "stderr",
     "output_type": "stream",
     "text": [
      "<ipython-input-82-0cafd51d038d>:22: RuntimeWarning: divide by zero encountered in double_scalars\n",
      "  vif = 1 / (1 - model.score(x, y))\n",
      "<ipython-input-82-0cafd51d038d>:22: RuntimeWarning: divide by zero encountered in double_scalars\n",
      "  vif = 1 / (1 - model.score(x, y))\n",
      "<ipython-input-82-0cafd51d038d>:22: RuntimeWarning: divide by zero encountered in double_scalars\n",
      "  vif = 1 / (1 - model.score(x, y))\n",
      "<ipython-input-82-0cafd51d038d>:22: RuntimeWarning: divide by zero encountered in double_scalars\n",
      "  vif = 1 / (1 - model.score(x, y))\n",
      "<ipython-input-82-0cafd51d038d>:22: RuntimeWarning: divide by zero encountered in double_scalars\n",
      "  vif = 1 / (1 - model.score(x, y))\n",
      "<ipython-input-82-0cafd51d038d>:22: RuntimeWarning: divide by zero encountered in double_scalars\n",
      "  vif = 1 / (1 - model.score(x, y))\n",
      "<ipython-input-82-0cafd51d038d>:22: RuntimeWarning: divide by zero encountered in double_scalars\n",
      "  vif = 1 / (1 - model.score(x, y))\n",
      "<ipython-input-82-0cafd51d038d>:22: RuntimeWarning: divide by zero encountered in double_scalars\n",
      "  vif = 1 / (1 - model.score(x, y))\n",
      "<ipython-input-82-0cafd51d038d>:22: RuntimeWarning: divide by zero encountered in double_scalars\n",
      "  vif = 1 / (1 - model.score(x, y))\n"
     ]
    },
    {
     "name": "stdout",
     "output_type": "stream",
     "text": [
      "El valor del VIF para la variable VELMEDIA_2-4 m/s es: inf\n",
      "El valor del VIF para la variable VELMEDIA_4-6 m/s es: inf\n",
      "El valor del VIF para la variable VELMEDIA_6-8 m/s es: inf\n",
      "El valor del VIF para la variable VELMEDIA_< 2 m/s es: inf\n",
      "El valor del VIF para la variable VELMEDIA_> 8 m/s es: inf\n",
      "El valor del VIF para la variable Trimestre_Q1 es: inf\n",
      "El valor del VIF para la variable Trimestre_Q2 es: inf\n",
      "El valor del VIF para la variable Trimestre_Q3 es: inf\n"
     ]
    },
    {
     "name": "stderr",
     "output_type": "stream",
     "text": [
      "<ipython-input-82-0cafd51d038d>:22: RuntimeWarning: divide by zero encountered in double_scalars\n",
      "  vif = 1 / (1 - model.score(x, y))\n",
      "<ipython-input-82-0cafd51d038d>:22: RuntimeWarning: divide by zero encountered in double_scalars\n",
      "  vif = 1 / (1 - model.score(x, y))\n",
      "<ipython-input-82-0cafd51d038d>:22: RuntimeWarning: divide by zero encountered in double_scalars\n",
      "  vif = 1 / (1 - model.score(x, y))\n",
      "<ipython-input-82-0cafd51d038d>:22: RuntimeWarning: divide by zero encountered in double_scalars\n",
      "  vif = 1 / (1 - model.score(x, y))\n",
      "<ipython-input-82-0cafd51d038d>:22: RuntimeWarning: divide by zero encountered in double_scalars\n",
      "  vif = 1 / (1 - model.score(x, y))\n",
      "<ipython-input-82-0cafd51d038d>:22: RuntimeWarning: divide by zero encountered in double_scalars\n",
      "  vif = 1 / (1 - model.score(x, y))\n",
      "<ipython-input-82-0cafd51d038d>:22: RuntimeWarning: divide by zero encountered in double_scalars\n",
      "  vif = 1 / (1 - model.score(x, y))\n",
      "<ipython-input-82-0cafd51d038d>:22: RuntimeWarning: divide by zero encountered in double_scalars\n",
      "  vif = 1 / (1 - model.score(x, y))\n"
     ]
    },
    {
     "name": "stdout",
     "output_type": "stream",
     "text": [
      "El valor del VIF para la variable Trimestre_Q4 es: inf\n",
      "El valor del VIF para la variable Mes_abril es: inf\n",
      "El valor del VIF para la variable Mes_agosto es: inf\n",
      "El valor del VIF para la variable Mes_diciembre es: inf\n",
      "El valor del VIF para la variable Mes_enero es: inf\n",
      "El valor del VIF para la variable Mes_febrero es: inf\n",
      "El valor del VIF para la variable Mes_julio es: inf\n",
      "El valor del VIF para la variable Mes_junio es: inf\n",
      "El valor del VIF para la variable Mes_marzo es: inf\n"
     ]
    },
    {
     "name": "stderr",
     "output_type": "stream",
     "text": [
      "<ipython-input-82-0cafd51d038d>:22: RuntimeWarning: divide by zero encountered in double_scalars\n",
      "  vif = 1 / (1 - model.score(x, y))\n",
      "<ipython-input-82-0cafd51d038d>:22: RuntimeWarning: divide by zero encountered in double_scalars\n",
      "  vif = 1 / (1 - model.score(x, y))\n",
      "<ipython-input-82-0cafd51d038d>:22: RuntimeWarning: divide by zero encountered in double_scalars\n",
      "  vif = 1 / (1 - model.score(x, y))\n",
      "<ipython-input-82-0cafd51d038d>:22: RuntimeWarning: divide by zero encountered in double_scalars\n",
      "  vif = 1 / (1 - model.score(x, y))\n",
      "<ipython-input-82-0cafd51d038d>:22: RuntimeWarning: divide by zero encountered in double_scalars\n",
      "  vif = 1 / (1 - model.score(x, y))\n",
      "<ipython-input-82-0cafd51d038d>:22: RuntimeWarning: divide by zero encountered in double_scalars\n",
      "  vif = 1 / (1 - model.score(x, y))\n",
      "<ipython-input-82-0cafd51d038d>:22: RuntimeWarning: divide by zero encountered in double_scalars\n",
      "  vif = 1 / (1 - model.score(x, y))\n",
      "<ipython-input-82-0cafd51d038d>:22: RuntimeWarning: divide by zero encountered in double_scalars\n",
      "  vif = 1 / (1 - model.score(x, y))\n"
     ]
    },
    {
     "name": "stdout",
     "output_type": "stream",
     "text": [
      "El valor del VIF para la variable Mes_mayo es: inf\n",
      "El valor del VIF para la variable Mes_noviembre es: inf\n",
      "El valor del VIF para la variable Mes_octubre es: inf\n",
      "El valor del VIF para la variable Mes_septiembre es: inf\n",
      "El valor del VIF para la variable DIR_VIENTO_E es: inf\n",
      "El valor del VIF para la variable DIR_VIENTO_N es: inf\n",
      "El valor del VIF para la variable DIR_VIENTO_NE es: inf\n",
      "El valor del VIF para la variable DIR_VIENTO_NW es: inf\n",
      "El valor del VIF para la variable DIR_VIENTO_S es: inf\n",
      "El valor del VIF para la variable DIR_VIENTO_SE es: inf\n",
      "El valor del VIF para la variable DIR_VIENTO_SW es: inf\n",
      "El valor del VIF para la variable DIR_VIENTO_W es: inf\n"
     ]
    },
    {
     "name": "stderr",
     "output_type": "stream",
     "text": [
      "<ipython-input-82-0cafd51d038d>:22: RuntimeWarning: divide by zero encountered in double_scalars\n",
      "  vif = 1 / (1 - model.score(x, y))\n",
      "<ipython-input-82-0cafd51d038d>:22: RuntimeWarning: divide by zero encountered in double_scalars\n",
      "  vif = 1 / (1 - model.score(x, y))\n",
      "<ipython-input-82-0cafd51d038d>:22: RuntimeWarning: divide by zero encountered in double_scalars\n",
      "  vif = 1 / (1 - model.score(x, y))\n",
      "<ipython-input-82-0cafd51d038d>:22: RuntimeWarning: divide by zero encountered in double_scalars\n",
      "  vif = 1 / (1 - model.score(x, y))\n",
      "<ipython-input-82-0cafd51d038d>:22: RuntimeWarning: divide by zero encountered in double_scalars\n",
      "  vif = 1 / (1 - model.score(x, y))\n",
      "<ipython-input-82-0cafd51d038d>:22: RuntimeWarning: divide by zero encountered in double_scalars\n",
      "  vif = 1 / (1 - model.score(x, y))\n",
      "<ipython-input-82-0cafd51d038d>:22: RuntimeWarning: divide by zero encountered in double_scalars\n",
      "  vif = 1 / (1 - model.score(x, y))\n"
     ]
    }
   ],
   "source": [
    "# Calcular de nuevo el VIF de las variables, después de eliminar la variable TMEDIA\n",
    "\n",
    "df_total_vif = df_galicia.copy(deep = True)\n",
    "features = list(df_total_vif.columns)\n",
    "features.remove('causa')\n",
    "features.remove('TMEDIA')\n",
    "features.remove('TMIN')\n",
    "\n",
    "df_total_vif = df_total_vif[features]\n",
    "\n",
    "for i in range(len(features)):\n",
    "    var = features[i]\n",
    "    fet = features[:]\n",
    "    fet.remove(var)\n",
    "    \n",
    "    x = df_total_vif[fet]\n",
    "    y = df_galicia[var]\n",
    "    \n",
    "    model = LinearRegression()\n",
    "    model.fit(x, y)\n",
    "    \n",
    "    vif = 1 / (1 - model.score(x, y))\n",
    "    \n",
    "    print ('El valor del VIF para la variable', var, 'es:', vif)"
   ]
  },
  {
   "cell_type": "markdown",
   "metadata": {},
   "source": [
    "Una vez eliminadas las variables que presentaban el VIF más alto,**TMEDIA** y **TMIN** , el valor de este para resto de las variables cambia. Ahora podemos ver que ninguna de las variable restantes tiene un valor del VIF superior a 5. Por lo que se han eliminado las variables colineales del conjunto de datos de Galicia."
   ]
  },
  {
   "cell_type": "code",
   "execution_count": 83,
   "metadata": {},
   "outputs": [
    {
     "data": {
      "text/plain": [
       "Index(['superficie', 'lat', 'lng', 'causa', 'muertos', 'heridos', 'time_ctrl',\n",
       "       'time_ext', 'personal', 'medios', 'TMEDIA', 'PRECIPITACION', 'TMIN',\n",
       "       'TMAX', 'RACHA', 'SOL', 'Año', 'PRES_RANGE', 'idprovincia_A Coruña',\n",
       "       'idprovincia_Lugo', 'idprovincia_Ourense', 'idprovincia_Pontevedra',\n",
       "       'gastos_< 5K ', 'gastos_>5K', 'gastos_NO INFO', 'ALTITUD_Entre 100-125',\n",
       "       'ALTITUD_Inferior a 80', 'ALTITUD_NO INFO', 'ALTITUD_Superior a 125',\n",
       "       'VELMEDIA_2-4 m/s', 'VELMEDIA_4-6 m/s', 'VELMEDIA_6-8 m/s',\n",
       "       'VELMEDIA_< 2 m/s', 'VELMEDIA_> 8 m/s', 'Trimestre_Q1', 'Trimestre_Q2',\n",
       "       'Trimestre_Q3', 'Trimestre_Q4', 'Mes_abril', 'Mes_agosto',\n",
       "       'Mes_diciembre', 'Mes_enero', 'Mes_febrero', 'Mes_julio', 'Mes_junio',\n",
       "       'Mes_marzo', 'Mes_mayo', 'Mes_noviembre', 'Mes_octubre',\n",
       "       'Mes_septiembre', 'DIR_VIENTO_E', 'DIR_VIENTO_N', 'DIR_VIENTO_NE',\n",
       "       'DIR_VIENTO_NW', 'DIR_VIENTO_S', 'DIR_VIENTO_SE', 'DIR_VIENTO_SW',\n",
       "       'DIR_VIENTO_W'],\n",
       "      dtype='object')"
      ]
     },
     "execution_count": 83,
     "metadata": {},
     "output_type": "execute_result"
    }
   ],
   "source": [
    "df_galicia.columns"
   ]
  },
  {
   "cell_type": "code",
   "execution_count": 84,
   "metadata": {},
   "outputs": [
    {
     "data": {
      "text/plain": [
       "(12976, 58)"
      ]
     },
     "execution_count": 84,
     "metadata": {},
     "output_type": "execute_result"
    }
   ],
   "source": [
    "df_galicia.shape  # Antes de eliminar TMEDIA y TMIN"
   ]
  },
  {
   "cell_type": "code",
   "execution_count": 85,
   "metadata": {},
   "outputs": [],
   "source": [
    "df_galicia.drop(['TMEDIA'], axis=1, inplace=True)\n",
    "df_galicia.drop(['TMIN'], axis=1, inplace=True)"
   ]
  },
  {
   "cell_type": "code",
   "execution_count": 86,
   "metadata": {},
   "outputs": [
    {
     "data": {
      "text/plain": [
       "(12976, 56)"
      ]
     },
     "execution_count": 86,
     "metadata": {},
     "output_type": "execute_result"
    }
   ],
   "source": [
    "df_galicia.shape  # Después de eliminar TMEDIA, TMIN"
   ]
  },
  {
   "cell_type": "code",
   "execution_count": null,
   "metadata": {},
   "outputs": [],
   "source": []
  },
  {
   "cell_type": "code",
   "execution_count": 87,
   "metadata": {},
   "outputs": [
    {
     "data": {
      "text/plain": [
       "0    3\n",
       "1    2\n",
       "2    3\n",
       "3    0\n",
       "4    2\n",
       "Name: causa, dtype: int32"
      ]
     },
     "execution_count": 87,
     "metadata": {},
     "output_type": "execute_result"
    }
   ],
   "source": [
    "le = LabelEncoder()\n",
    "df_galicia['causa'] = le.fit_transform(df_galicia.causa)\n",
    "df_galicia['causa'].head()"
   ]
  },
  {
   "cell_type": "code",
   "execution_count": 88,
   "metadata": {},
   "outputs": [
    {
     "data": {
      "text/plain": [
       "\"\\nDESHACER LA TRANFORMACIÓN DE LA VARIABLE NUMÉRICA A CATEGÓRICA \\n\\ndf_galicia['causa'] = le.inverse_transform(df_galicia.causa)\\ndf_galicia['causa'].head()\""
      ]
     },
     "execution_count": 88,
     "metadata": {},
     "output_type": "execute_result"
    }
   ],
   "source": [
    "'''\n",
    "DESHACER LA TRANFORMACIÓN DE LA VARIABLE NUMÉRICA A CATEGÓRICA \n",
    "\n",
    "df_galicia['causa'] = le.inverse_transform(df_galicia.causa)\n",
    "df_galicia['causa'].head()'''   "
   ]
  },
  {
   "cell_type": "code",
   "execution_count": null,
   "metadata": {},
   "outputs": [],
   "source": [
    "'''df_galicia_total = pd.merge(df_galicia, target_num, on='index')       # el dataset con la variable target\n",
    "df_galicia_total.head()'''"
   ]
  },
  {
   "cell_type": "code",
   "execution_count": 89,
   "metadata": {},
   "outputs": [
    {
     "data": {
      "text/html": [
       "<style  type=\"text/css\" >\n",
       "#T_90275_row0_col0{\n",
       "            background-color:  #023858;\n",
       "            color:  #f1f1f1;\n",
       "        }#T_90275_row1_col0{\n",
       "            background-color:  #f8f1f8;\n",
       "            color:  #000000;\n",
       "        }#T_90275_row2_col0,#T_90275_row3_col0{\n",
       "            background-color:  #faf2f8;\n",
       "            color:  #000000;\n",
       "        }#T_90275_row4_col0,#T_90275_row5_col0{\n",
       "            background-color:  #faf3f9;\n",
       "            color:  #000000;\n",
       "        }#T_90275_row6_col0,#T_90275_row7_col0{\n",
       "            background-color:  #fbf3f9;\n",
       "            color:  #000000;\n",
       "        }#T_90275_row8_col0,#T_90275_row9_col0,#T_90275_row10_col0{\n",
       "            background-color:  #fbf4f9;\n",
       "            color:  #000000;\n",
       "        }#T_90275_row11_col0,#T_90275_row12_col0,#T_90275_row13_col0,#T_90275_row14_col0,#T_90275_row15_col0,#T_90275_row16_col0,#T_90275_row17_col0,#T_90275_row18_col0{\n",
       "            background-color:  #fcf4fa;\n",
       "            color:  #000000;\n",
       "        }#T_90275_row19_col0,#T_90275_row20_col0,#T_90275_row21_col0,#T_90275_row22_col0,#T_90275_row23_col0,#T_90275_row24_col0,#T_90275_row25_col0,#T_90275_row26_col0,#T_90275_row27_col0,#T_90275_row28_col0,#T_90275_row29_col0,#T_90275_row30_col0,#T_90275_row31_col0,#T_90275_row32_col0,#T_90275_row33_col0{\n",
       "            background-color:  #fdf5fa;\n",
       "            color:  #000000;\n",
       "        }#T_90275_row34_col0,#T_90275_row35_col0,#T_90275_row36_col0,#T_90275_row37_col0,#T_90275_row38_col0{\n",
       "            background-color:  #fef6fa;\n",
       "            color:  #000000;\n",
       "        }#T_90275_row39_col0,#T_90275_row40_col0,#T_90275_row41_col0,#T_90275_row42_col0,#T_90275_row43_col0,#T_90275_row44_col0{\n",
       "            background-color:  #fef6fb;\n",
       "            color:  #000000;\n",
       "        }#T_90275_row45_col0,#T_90275_row46_col0,#T_90275_row47_col0,#T_90275_row48_col0,#T_90275_row49_col0,#T_90275_row50_col0,#T_90275_row51_col0,#T_90275_row52_col0,#T_90275_row53_col0,#T_90275_row54_col0,#T_90275_row55_col0{\n",
       "            background-color:  #fff7fb;\n",
       "            color:  #000000;\n",
       "        }</style><table id=\"T_90275_\" ><thead>    <tr>        <th class=\"blank level0\" ></th>        <th class=\"col_heading level0 col0\" >causa</th>    </tr></thead><tbody>\n",
       "                <tr>\n",
       "                        <th id=\"T_90275_level0_row0\" class=\"row_heading level0 row0\" >causa</th>\n",
       "                        <td id=\"T_90275_row0_col0\" class=\"data row0 col0\" >1.000000</td>\n",
       "            </tr>\n",
       "            <tr>\n",
       "                        <th id=\"T_90275_level0_row1\" class=\"row_heading level0 row1\" >Trimestre_Q3</th>\n",
       "                        <td id=\"T_90275_row1_col0\" class=\"data row1 col0\" >0.043493</td>\n",
       "            </tr>\n",
       "            <tr>\n",
       "                        <th id=\"T_90275_level0_row2\" class=\"row_heading level0 row2\" >medios</th>\n",
       "                        <td id=\"T_90275_row2_col0\" class=\"data row2 col0\" >0.037397</td>\n",
       "            </tr>\n",
       "            <tr>\n",
       "                        <th id=\"T_90275_level0_row3\" class=\"row_heading level0 row3\" >PRECIPITACION</th>\n",
       "                        <td id=\"T_90275_row3_col0\" class=\"data row3 col0\" >0.035908</td>\n",
       "            </tr>\n",
       "            <tr>\n",
       "                        <th id=\"T_90275_level0_row4\" class=\"row_heading level0 row4\" >TMAX</th>\n",
       "                        <td id=\"T_90275_row4_col0\" class=\"data row4 col0\" >0.033699</td>\n",
       "            </tr>\n",
       "            <tr>\n",
       "                        <th id=\"T_90275_level0_row5\" class=\"row_heading level0 row5\" >Mes_abril</th>\n",
       "                        <td id=\"T_90275_row5_col0\" class=\"data row5 col0\" >0.031860</td>\n",
       "            </tr>\n",
       "            <tr>\n",
       "                        <th id=\"T_90275_level0_row6\" class=\"row_heading level0 row6\" >Mes_septiembre</th>\n",
       "                        <td id=\"T_90275_row6_col0\" class=\"data row6 col0\" >0.029648</td>\n",
       "            </tr>\n",
       "            <tr>\n",
       "                        <th id=\"T_90275_level0_row7\" class=\"row_heading level0 row7\" >Mes_octubre</th>\n",
       "                        <td id=\"T_90275_row7_col0\" class=\"data row7 col0\" >0.029552</td>\n",
       "            </tr>\n",
       "            <tr>\n",
       "                        <th id=\"T_90275_level0_row8\" class=\"row_heading level0 row8\" >Trimestre_Q1</th>\n",
       "                        <td id=\"T_90275_row8_col0\" class=\"data row8 col0\" >0.027143</td>\n",
       "            </tr>\n",
       "            <tr>\n",
       "                        <th id=\"T_90275_level0_row9\" class=\"row_heading level0 row9\" >lng</th>\n",
       "                        <td id=\"T_90275_row9_col0\" class=\"data row9 col0\" >0.026233</td>\n",
       "            </tr>\n",
       "            <tr>\n",
       "                        <th id=\"T_90275_level0_row10\" class=\"row_heading level0 row10\" >Año</th>\n",
       "                        <td id=\"T_90275_row10_col0\" class=\"data row10 col0\" >0.025884</td>\n",
       "            </tr>\n",
       "            <tr>\n",
       "                        <th id=\"T_90275_level0_row11\" class=\"row_heading level0 row11\" >DIR_VIENTO_S</th>\n",
       "                        <td id=\"T_90275_row11_col0\" class=\"data row11 col0\" >0.023591</td>\n",
       "            </tr>\n",
       "            <tr>\n",
       "                        <th id=\"T_90275_level0_row12\" class=\"row_heading level0 row12\" >Mes_julio</th>\n",
       "                        <td id=\"T_90275_row12_col0\" class=\"data row12 col0\" >0.023515</td>\n",
       "            </tr>\n",
       "            <tr>\n",
       "                        <th id=\"T_90275_level0_row13\" class=\"row_heading level0 row13\" >superficie</th>\n",
       "                        <td id=\"T_90275_row13_col0\" class=\"data row13 col0\" >0.022881</td>\n",
       "            </tr>\n",
       "            <tr>\n",
       "                        <th id=\"T_90275_level0_row14\" class=\"row_heading level0 row14\" >Mes_diciembre</th>\n",
       "                        <td id=\"T_90275_row14_col0\" class=\"data row14 col0\" >0.022592</td>\n",
       "            </tr>\n",
       "            <tr>\n",
       "                        <th id=\"T_90275_level0_row15\" class=\"row_heading level0 row15\" >DIR_VIENTO_NW</th>\n",
       "                        <td id=\"T_90275_row15_col0\" class=\"data row15 col0\" >0.022433</td>\n",
       "            </tr>\n",
       "            <tr>\n",
       "                        <th id=\"T_90275_level0_row16\" class=\"row_heading level0 row16\" >Trimestre_Q2</th>\n",
       "                        <td id=\"T_90275_row16_col0\" class=\"data row16 col0\" >0.022055</td>\n",
       "            </tr>\n",
       "            <tr>\n",
       "                        <th id=\"T_90275_level0_row17\" class=\"row_heading level0 row17\" >personal</th>\n",
       "                        <td id=\"T_90275_row17_col0\" class=\"data row17 col0\" >0.021202</td>\n",
       "            </tr>\n",
       "            <tr>\n",
       "                        <th id=\"T_90275_level0_row18\" class=\"row_heading level0 row18\" >DIR_VIENTO_E</th>\n",
       "                        <td id=\"T_90275_row18_col0\" class=\"data row18 col0\" >0.020011</td>\n",
       "            </tr>\n",
       "            <tr>\n",
       "                        <th id=\"T_90275_level0_row19\" class=\"row_heading level0 row19\" >Mes_febrero</th>\n",
       "                        <td id=\"T_90275_row19_col0\" class=\"data row19 col0\" >0.019936</td>\n",
       "            </tr>\n",
       "            <tr>\n",
       "                        <th id=\"T_90275_level0_row20\" class=\"row_heading level0 row20\" >VELMEDIA_< 2 m/s</th>\n",
       "                        <td id=\"T_90275_row20_col0\" class=\"data row20 col0\" >0.019844</td>\n",
       "            </tr>\n",
       "            <tr>\n",
       "                        <th id=\"T_90275_level0_row21\" class=\"row_heading level0 row21\" >SOL</th>\n",
       "                        <td id=\"T_90275_row21_col0\" class=\"data row21 col0\" >0.018923</td>\n",
       "            </tr>\n",
       "            <tr>\n",
       "                        <th id=\"T_90275_level0_row22\" class=\"row_heading level0 row22\" >Mes_noviembre</th>\n",
       "                        <td id=\"T_90275_row22_col0\" class=\"data row22 col0\" >0.018553</td>\n",
       "            </tr>\n",
       "            <tr>\n",
       "                        <th id=\"T_90275_level0_row23\" class=\"row_heading level0 row23\" >time_ext</th>\n",
       "                        <td id=\"T_90275_row23_col0\" class=\"data row23 col0\" >0.017718</td>\n",
       "            </tr>\n",
       "            <tr>\n",
       "                        <th id=\"T_90275_level0_row24\" class=\"row_heading level0 row24\" >time_ctrl</th>\n",
       "                        <td id=\"T_90275_row24_col0\" class=\"data row24 col0\" >0.017718</td>\n",
       "            </tr>\n",
       "            <tr>\n",
       "                        <th id=\"T_90275_level0_row25\" class=\"row_heading level0 row25\" >DIR_VIENTO_SW</th>\n",
       "                        <td id=\"T_90275_row25_col0\" class=\"data row25 col0\" >0.017318</td>\n",
       "            </tr>\n",
       "            <tr>\n",
       "                        <th id=\"T_90275_level0_row26\" class=\"row_heading level0 row26\" >muertos</th>\n",
       "                        <td id=\"T_90275_row26_col0\" class=\"data row26 col0\" >0.016419</td>\n",
       "            </tr>\n",
       "            <tr>\n",
       "                        <th id=\"T_90275_level0_row27\" class=\"row_heading level0 row27\" >Mes_junio</th>\n",
       "                        <td id=\"T_90275_row27_col0\" class=\"data row27 col0\" >0.015185</td>\n",
       "            </tr>\n",
       "            <tr>\n",
       "                        <th id=\"T_90275_level0_row28\" class=\"row_heading level0 row28\" >Mes_marzo</th>\n",
       "                        <td id=\"T_90275_row28_col0\" class=\"data row28 col0\" >0.015111</td>\n",
       "            </tr>\n",
       "            <tr>\n",
       "                        <th id=\"T_90275_level0_row29\" class=\"row_heading level0 row29\" >Mes_mayo</th>\n",
       "                        <td id=\"T_90275_row29_col0\" class=\"data row29 col0\" >0.014893</td>\n",
       "            </tr>\n",
       "            <tr>\n",
       "                        <th id=\"T_90275_level0_row30\" class=\"row_heading level0 row30\" >VELMEDIA_2-4 m/s</th>\n",
       "                        <td id=\"T_90275_row30_col0\" class=\"data row30 col0\" >0.013909</td>\n",
       "            </tr>\n",
       "            <tr>\n",
       "                        <th id=\"T_90275_level0_row31\" class=\"row_heading level0 row31\" >DIR_VIENTO_W</th>\n",
       "                        <td id=\"T_90275_row31_col0\" class=\"data row31 col0\" >0.013626</td>\n",
       "            </tr>\n",
       "            <tr>\n",
       "                        <th id=\"T_90275_level0_row32\" class=\"row_heading level0 row32\" >idprovincia_A Coruña</th>\n",
       "                        <td id=\"T_90275_row32_col0\" class=\"data row32 col0\" >0.013346</td>\n",
       "            </tr>\n",
       "            <tr>\n",
       "                        <th id=\"T_90275_level0_row33\" class=\"row_heading level0 row33\" >ALTITUD_Inferior a 80</th>\n",
       "                        <td id=\"T_90275_row33_col0\" class=\"data row33 col0\" >0.013346</td>\n",
       "            </tr>\n",
       "            <tr>\n",
       "                        <th id=\"T_90275_level0_row34\" class=\"row_heading level0 row34\" >Mes_agosto</th>\n",
       "                        <td id=\"T_90275_row34_col0\" class=\"data row34 col0\" >0.011645</td>\n",
       "            </tr>\n",
       "            <tr>\n",
       "                        <th id=\"T_90275_level0_row35\" class=\"row_heading level0 row35\" >PRES_RANGE</th>\n",
       "                        <td id=\"T_90275_row35_col0\" class=\"data row35 col0\" >0.010296</td>\n",
       "            </tr>\n",
       "            <tr>\n",
       "                        <th id=\"T_90275_level0_row36\" class=\"row_heading level0 row36\" >VELMEDIA_4-6 m/s</th>\n",
       "                        <td id=\"T_90275_row36_col0\" class=\"data row36 col0\" >0.010255</td>\n",
       "            </tr>\n",
       "            <tr>\n",
       "                        <th id=\"T_90275_level0_row37\" class=\"row_heading level0 row37\" >heridos</th>\n",
       "                        <td id=\"T_90275_row37_col0\" class=\"data row37 col0\" >0.009396</td>\n",
       "            </tr>\n",
       "            <tr>\n",
       "                        <th id=\"T_90275_level0_row38\" class=\"row_heading level0 row38\" >lat</th>\n",
       "                        <td id=\"T_90275_row38_col0\" class=\"data row38 col0\" >0.008616</td>\n",
       "            </tr>\n",
       "            <tr>\n",
       "                        <th id=\"T_90275_level0_row39\" class=\"row_heading level0 row39\" >ALTITUD_Superior a 125</th>\n",
       "                        <td id=\"T_90275_row39_col0\" class=\"data row39 col0\" >0.006640</td>\n",
       "            </tr>\n",
       "            <tr>\n",
       "                        <th id=\"T_90275_level0_row40\" class=\"row_heading level0 row40\" >idprovincia_Ourense</th>\n",
       "                        <td id=\"T_90275_row40_col0\" class=\"data row40 col0\" >0.006640</td>\n",
       "            </tr>\n",
       "            <tr>\n",
       "                        <th id=\"T_90275_level0_row41\" class=\"row_heading level0 row41\" >DIR_VIENTO_SE</th>\n",
       "                        <td id=\"T_90275_row41_col0\" class=\"data row41 col0\" >0.006148</td>\n",
       "            </tr>\n",
       "            <tr>\n",
       "                        <th id=\"T_90275_level0_row42\" class=\"row_heading level0 row42\" >DIR_VIENTO_N</th>\n",
       "                        <td id=\"T_90275_row42_col0\" class=\"data row42 col0\" >0.005642</td>\n",
       "            </tr>\n",
       "            <tr>\n",
       "                        <th id=\"T_90275_level0_row43\" class=\"row_heading level0 row43\" >RACHA</th>\n",
       "                        <td id=\"T_90275_row43_col0\" class=\"data row43 col0\" >0.005534</td>\n",
       "            </tr>\n",
       "            <tr>\n",
       "                        <th id=\"T_90275_level0_row44\" class=\"row_heading level0 row44\" >Mes_enero</th>\n",
       "                        <td id=\"T_90275_row44_col0\" class=\"data row44 col0\" >0.004919</td>\n",
       "            </tr>\n",
       "            <tr>\n",
       "                        <th id=\"T_90275_level0_row45\" class=\"row_heading level0 row45\" >ALTITUD_Entre 100-125</th>\n",
       "                        <td id=\"T_90275_row45_col0\" class=\"data row45 col0\" >0.004335</td>\n",
       "            </tr>\n",
       "            <tr>\n",
       "                        <th id=\"T_90275_level0_row46\" class=\"row_heading level0 row46\" >idprovincia_Pontevedra</th>\n",
       "                        <td id=\"T_90275_row46_col0\" class=\"data row46 col0\" >0.004335</td>\n",
       "            </tr>\n",
       "            <tr>\n",
       "                        <th id=\"T_90275_level0_row47\" class=\"row_heading level0 row47\" >VELMEDIA_6-8 m/s</th>\n",
       "                        <td id=\"T_90275_row47_col0\" class=\"data row47 col0\" >0.004206</td>\n",
       "            </tr>\n",
       "            <tr>\n",
       "                        <th id=\"T_90275_level0_row48\" class=\"row_heading level0 row48\" >gastos_>5K</th>\n",
       "                        <td id=\"T_90275_row48_col0\" class=\"data row48 col0\" >0.003436</td>\n",
       "            </tr>\n",
       "            <tr>\n",
       "                        <th id=\"T_90275_level0_row49\" class=\"row_heading level0 row49\" >ALTITUD_NO INFO</th>\n",
       "                        <td id=\"T_90275_row49_col0\" class=\"data row49 col0\" >0.003236</td>\n",
       "            </tr>\n",
       "            <tr>\n",
       "                        <th id=\"T_90275_level0_row50\" class=\"row_heading level0 row50\" >idprovincia_Lugo</th>\n",
       "                        <td id=\"T_90275_row50_col0\" class=\"data row50 col0\" >0.003236</td>\n",
       "            </tr>\n",
       "            <tr>\n",
       "                        <th id=\"T_90275_level0_row51\" class=\"row_heading level0 row51\" >DIR_VIENTO_NE</th>\n",
       "                        <td id=\"T_90275_row51_col0\" class=\"data row51 col0\" >0.003218</td>\n",
       "            </tr>\n",
       "            <tr>\n",
       "                        <th id=\"T_90275_level0_row52\" class=\"row_heading level0 row52\" >VELMEDIA_> 8 m/s</th>\n",
       "                        <td id=\"T_90275_row52_col0\" class=\"data row52 col0\" >0.001375</td>\n",
       "            </tr>\n",
       "            <tr>\n",
       "                        <th id=\"T_90275_level0_row53\" class=\"row_heading level0 row53\" >gastos_NO INFO</th>\n",
       "                        <td id=\"T_90275_row53_col0\" class=\"data row53 col0\" >0.001120</td>\n",
       "            </tr>\n",
       "            <tr>\n",
       "                        <th id=\"T_90275_level0_row54\" class=\"row_heading level0 row54\" >gastos_< 5K </th>\n",
       "                        <td id=\"T_90275_row54_col0\" class=\"data row54 col0\" >0.000564</td>\n",
       "            </tr>\n",
       "            <tr>\n",
       "                        <th id=\"T_90275_level0_row55\" class=\"row_heading level0 row55\" >Trimestre_Q4</th>\n",
       "                        <td id=\"T_90275_row55_col0\" class=\"data row55 col0\" >0.000474</td>\n",
       "            </tr>\n",
       "    </tbody></table>"
      ],
      "text/plain": [
       "<pandas.io.formats.style.Styler at 0x1d507da51c0>"
      ]
     },
     "execution_count": 89,
     "metadata": {},
     "output_type": "execute_result"
    }
   ],
   "source": [
    "corr = abs(df_galicia.corr())\n",
    "corr[['causa']].sort_values(by = 'causa', ascending = False).style.background_gradient()"
   ]
  },
  {
   "cell_type": "code",
   "execution_count": null,
   "metadata": {},
   "outputs": [],
   "source": []
  },
  {
   "cell_type": "code",
   "execution_count": 90,
   "metadata": {},
   "outputs": [],
   "source": [
    "df_galicia_total = df_galicia.copy()"
   ]
  },
  {
   "cell_type": "code",
   "execution_count": 91,
   "metadata": {},
   "outputs": [
    {
     "data": {
      "text/plain": [
       "Index(['superficie', 'lat', 'lng', 'causa', 'muertos', 'heridos', 'time_ctrl',\n",
       "       'time_ext', 'personal', 'medios', 'PRECIPITACION', 'TMAX', 'RACHA',\n",
       "       'SOL', 'Año', 'PRES_RANGE', 'idprovincia_A Coruña', 'idprovincia_Lugo',\n",
       "       'idprovincia_Ourense', 'idprovincia_Pontevedra', 'gastos_< 5K ',\n",
       "       'gastos_>5K', 'gastos_NO INFO', 'ALTITUD_Entre 100-125',\n",
       "       'ALTITUD_Inferior a 80', 'ALTITUD_NO INFO', 'ALTITUD_Superior a 125',\n",
       "       'VELMEDIA_2-4 m/s', 'VELMEDIA_4-6 m/s', 'VELMEDIA_6-8 m/s',\n",
       "       'VELMEDIA_< 2 m/s', 'VELMEDIA_> 8 m/s', 'Trimestre_Q1', 'Trimestre_Q2',\n",
       "       'Trimestre_Q3', 'Trimestre_Q4', 'Mes_abril', 'Mes_agosto',\n",
       "       'Mes_diciembre', 'Mes_enero', 'Mes_febrero', 'Mes_julio', 'Mes_junio',\n",
       "       'Mes_marzo', 'Mes_mayo', 'Mes_noviembre', 'Mes_octubre',\n",
       "       'Mes_septiembre', 'DIR_VIENTO_E', 'DIR_VIENTO_N', 'DIR_VIENTO_NE',\n",
       "       'DIR_VIENTO_NW', 'DIR_VIENTO_S', 'DIR_VIENTO_SE', 'DIR_VIENTO_SW',\n",
       "       'DIR_VIENTO_W'],\n",
       "      dtype='object')"
      ]
     },
     "execution_count": 91,
     "metadata": {},
     "output_type": "execute_result"
    }
   ],
   "source": [
    "df_galicia_total.columns"
   ]
  },
  {
   "cell_type": "markdown",
   "metadata": {},
   "source": [
    "De cada variable trasformada a dummy, se elimina una categoría que menos correlación presenta con la variable target **causa**."
   ]
  },
  {
   "cell_type": "code",
   "execution_count": 92,
   "metadata": {},
   "outputs": [],
   "source": [
    "eliminar = ['Mes_enero','DIR_VIENTO_NE','idprovincia_Lugo','ALTITUD_NO INFO','gastos_< 5K ','VELMEDIA_> 8 m/s','Trimestre_Q4']\n",
    "\n",
    "for var in eliminar:\n",
    "    df_galicia_total.drop(var, axis=1, inplace=True)"
   ]
  },
  {
   "cell_type": "code",
   "execution_count": 93,
   "metadata": {},
   "outputs": [
    {
     "data": {
      "text/plain": [
       "(12976, 49)"
      ]
     },
     "execution_count": 93,
     "metadata": {},
     "output_type": "execute_result"
    }
   ],
   "source": [
    "df_galicia_total.shape   # Después de eliminar las variables dummies menos correladas con la variable target"
   ]
  },
  {
   "cell_type": "code",
   "execution_count": 94,
   "metadata": {},
   "outputs": [
    {
     "data": {
      "text/plain": [
       "Index(['superficie', 'lat', 'lng', 'causa', 'muertos', 'heridos', 'time_ctrl',\n",
       "       'time_ext', 'personal', 'medios', 'PRECIPITACION', 'TMAX', 'RACHA',\n",
       "       'SOL', 'Año', 'PRES_RANGE', 'idprovincia_A Coruña',\n",
       "       'idprovincia_Ourense', 'idprovincia_Pontevedra', 'gastos_>5K',\n",
       "       'gastos_NO INFO', 'ALTITUD_Entre 100-125', 'ALTITUD_Inferior a 80',\n",
       "       'ALTITUD_Superior a 125', 'VELMEDIA_2-4 m/s', 'VELMEDIA_4-6 m/s',\n",
       "       'VELMEDIA_6-8 m/s', 'VELMEDIA_< 2 m/s', 'Trimestre_Q1', 'Trimestre_Q2',\n",
       "       'Trimestre_Q3', 'Mes_abril', 'Mes_agosto', 'Mes_diciembre',\n",
       "       'Mes_febrero', 'Mes_julio', 'Mes_junio', 'Mes_marzo', 'Mes_mayo',\n",
       "       'Mes_noviembre', 'Mes_octubre', 'Mes_septiembre', 'DIR_VIENTO_E',\n",
       "       'DIR_VIENTO_N', 'DIR_VIENTO_NW', 'DIR_VIENTO_S', 'DIR_VIENTO_SE',\n",
       "       'DIR_VIENTO_SW', 'DIR_VIENTO_W'],\n",
       "      dtype='object')"
      ]
     },
     "execution_count": 94,
     "metadata": {},
     "output_type": "execute_result"
    }
   ],
   "source": [
    "df_galicia_total.columns"
   ]
  },
  {
   "cell_type": "code",
   "execution_count": 95,
   "metadata": {},
   "outputs": [
    {
     "data": {
      "text/html": [
       "<style  type=\"text/css\" >\n",
       "#T_fe9e9_row0_col0{\n",
       "            background-color:  #023858;\n",
       "            color:  #f1f1f1;\n",
       "        }#T_fe9e9_row1_col0{\n",
       "            background-color:  #f9f2f8;\n",
       "            color:  #000000;\n",
       "        }#T_fe9e9_row2_col0{\n",
       "            background-color:  #faf2f8;\n",
       "            color:  #000000;\n",
       "        }#T_fe9e9_row3_col0,#T_fe9e9_row4_col0{\n",
       "            background-color:  #faf3f9;\n",
       "            color:  #000000;\n",
       "        }#T_fe9e9_row5_col0,#T_fe9e9_row6_col0,#T_fe9e9_row7_col0{\n",
       "            background-color:  #fbf3f9;\n",
       "            color:  #000000;\n",
       "        }#T_fe9e9_row8_col0,#T_fe9e9_row9_col0,#T_fe9e9_row10_col0{\n",
       "            background-color:  #fbf4f9;\n",
       "            color:  #000000;\n",
       "        }#T_fe9e9_row11_col0,#T_fe9e9_row12_col0,#T_fe9e9_row13_col0,#T_fe9e9_row14_col0,#T_fe9e9_row15_col0,#T_fe9e9_row16_col0,#T_fe9e9_row17_col0{\n",
       "            background-color:  #fcf4fa;\n",
       "            color:  #000000;\n",
       "        }#T_fe9e9_row18_col0,#T_fe9e9_row19_col0,#T_fe9e9_row20_col0,#T_fe9e9_row21_col0,#T_fe9e9_row22_col0,#T_fe9e9_row23_col0,#T_fe9e9_row24_col0,#T_fe9e9_row25_col0,#T_fe9e9_row26_col0,#T_fe9e9_row27_col0,#T_fe9e9_row28_col0,#T_fe9e9_row29_col0,#T_fe9e9_row30_col0,#T_fe9e9_row31_col0,#T_fe9e9_row32_col0,#T_fe9e9_row33_col0{\n",
       "            background-color:  #fdf5fa;\n",
       "            color:  #000000;\n",
       "        }#T_fe9e9_row34_col0,#T_fe9e9_row35_col0,#T_fe9e9_row36_col0,#T_fe9e9_row37_col0{\n",
       "            background-color:  #fef6fa;\n",
       "            color:  #000000;\n",
       "        }#T_fe9e9_row38_col0,#T_fe9e9_row39_col0,#T_fe9e9_row40_col0,#T_fe9e9_row41_col0,#T_fe9e9_row42_col0,#T_fe9e9_row43_col0{\n",
       "            background-color:  #fef6fb;\n",
       "            color:  #000000;\n",
       "        }#T_fe9e9_row44_col0,#T_fe9e9_row45_col0,#T_fe9e9_row46_col0,#T_fe9e9_row47_col0,#T_fe9e9_row48_col0{\n",
       "            background-color:  #fff7fb;\n",
       "            color:  #000000;\n",
       "        }</style><table id=\"T_fe9e9_\" ><thead>    <tr>        <th class=\"blank level0\" ></th>        <th class=\"col_heading level0 col0\" >causa</th>    </tr></thead><tbody>\n",
       "                <tr>\n",
       "                        <th id=\"T_fe9e9_level0_row0\" class=\"row_heading level0 row0\" >causa</th>\n",
       "                        <td id=\"T_fe9e9_row0_col0\" class=\"data row0 col0\" >1.000000</td>\n",
       "            </tr>\n",
       "            <tr>\n",
       "                        <th id=\"T_fe9e9_level0_row1\" class=\"row_heading level0 row1\" >Trimestre_Q3</th>\n",
       "                        <td id=\"T_fe9e9_row1_col0\" class=\"data row1 col0\" >0.043493</td>\n",
       "            </tr>\n",
       "            <tr>\n",
       "                        <th id=\"T_fe9e9_level0_row2\" class=\"row_heading level0 row2\" >medios</th>\n",
       "                        <td id=\"T_fe9e9_row2_col0\" class=\"data row2 col0\" >0.037397</td>\n",
       "            </tr>\n",
       "            <tr>\n",
       "                        <th id=\"T_fe9e9_level0_row3\" class=\"row_heading level0 row3\" >PRECIPITACION</th>\n",
       "                        <td id=\"T_fe9e9_row3_col0\" class=\"data row3 col0\" >0.035908</td>\n",
       "            </tr>\n",
       "            <tr>\n",
       "                        <th id=\"T_fe9e9_level0_row4\" class=\"row_heading level0 row4\" >TMAX</th>\n",
       "                        <td id=\"T_fe9e9_row4_col0\" class=\"data row4 col0\" >0.033699</td>\n",
       "            </tr>\n",
       "            <tr>\n",
       "                        <th id=\"T_fe9e9_level0_row5\" class=\"row_heading level0 row5\" >Mes_abril</th>\n",
       "                        <td id=\"T_fe9e9_row5_col0\" class=\"data row5 col0\" >0.031860</td>\n",
       "            </tr>\n",
       "            <tr>\n",
       "                        <th id=\"T_fe9e9_level0_row6\" class=\"row_heading level0 row6\" >Mes_septiembre</th>\n",
       "                        <td id=\"T_fe9e9_row6_col0\" class=\"data row6 col0\" >0.029648</td>\n",
       "            </tr>\n",
       "            <tr>\n",
       "                        <th id=\"T_fe9e9_level0_row7\" class=\"row_heading level0 row7\" >Mes_octubre</th>\n",
       "                        <td id=\"T_fe9e9_row7_col0\" class=\"data row7 col0\" >0.029552</td>\n",
       "            </tr>\n",
       "            <tr>\n",
       "                        <th id=\"T_fe9e9_level0_row8\" class=\"row_heading level0 row8\" >Trimestre_Q1</th>\n",
       "                        <td id=\"T_fe9e9_row8_col0\" class=\"data row8 col0\" >0.027143</td>\n",
       "            </tr>\n",
       "            <tr>\n",
       "                        <th id=\"T_fe9e9_level0_row9\" class=\"row_heading level0 row9\" >lng</th>\n",
       "                        <td id=\"T_fe9e9_row9_col0\" class=\"data row9 col0\" >0.026233</td>\n",
       "            </tr>\n",
       "            <tr>\n",
       "                        <th id=\"T_fe9e9_level0_row10\" class=\"row_heading level0 row10\" >Año</th>\n",
       "                        <td id=\"T_fe9e9_row10_col0\" class=\"data row10 col0\" >0.025884</td>\n",
       "            </tr>\n",
       "            <tr>\n",
       "                        <th id=\"T_fe9e9_level0_row11\" class=\"row_heading level0 row11\" >DIR_VIENTO_S</th>\n",
       "                        <td id=\"T_fe9e9_row11_col0\" class=\"data row11 col0\" >0.023591</td>\n",
       "            </tr>\n",
       "            <tr>\n",
       "                        <th id=\"T_fe9e9_level0_row12\" class=\"row_heading level0 row12\" >Mes_julio</th>\n",
       "                        <td id=\"T_fe9e9_row12_col0\" class=\"data row12 col0\" >0.023515</td>\n",
       "            </tr>\n",
       "            <tr>\n",
       "                        <th id=\"T_fe9e9_level0_row13\" class=\"row_heading level0 row13\" >superficie</th>\n",
       "                        <td id=\"T_fe9e9_row13_col0\" class=\"data row13 col0\" >0.022881</td>\n",
       "            </tr>\n",
       "            <tr>\n",
       "                        <th id=\"T_fe9e9_level0_row14\" class=\"row_heading level0 row14\" >Mes_diciembre</th>\n",
       "                        <td id=\"T_fe9e9_row14_col0\" class=\"data row14 col0\" >0.022592</td>\n",
       "            </tr>\n",
       "            <tr>\n",
       "                        <th id=\"T_fe9e9_level0_row15\" class=\"row_heading level0 row15\" >DIR_VIENTO_NW</th>\n",
       "                        <td id=\"T_fe9e9_row15_col0\" class=\"data row15 col0\" >0.022433</td>\n",
       "            </tr>\n",
       "            <tr>\n",
       "                        <th id=\"T_fe9e9_level0_row16\" class=\"row_heading level0 row16\" >Trimestre_Q2</th>\n",
       "                        <td id=\"T_fe9e9_row16_col0\" class=\"data row16 col0\" >0.022055</td>\n",
       "            </tr>\n",
       "            <tr>\n",
       "                        <th id=\"T_fe9e9_level0_row17\" class=\"row_heading level0 row17\" >personal</th>\n",
       "                        <td id=\"T_fe9e9_row17_col0\" class=\"data row17 col0\" >0.021202</td>\n",
       "            </tr>\n",
       "            <tr>\n",
       "                        <th id=\"T_fe9e9_level0_row18\" class=\"row_heading level0 row18\" >DIR_VIENTO_E</th>\n",
       "                        <td id=\"T_fe9e9_row18_col0\" class=\"data row18 col0\" >0.020011</td>\n",
       "            </tr>\n",
       "            <tr>\n",
       "                        <th id=\"T_fe9e9_level0_row19\" class=\"row_heading level0 row19\" >Mes_febrero</th>\n",
       "                        <td id=\"T_fe9e9_row19_col0\" class=\"data row19 col0\" >0.019936</td>\n",
       "            </tr>\n",
       "            <tr>\n",
       "                        <th id=\"T_fe9e9_level0_row20\" class=\"row_heading level0 row20\" >VELMEDIA_< 2 m/s</th>\n",
       "                        <td id=\"T_fe9e9_row20_col0\" class=\"data row20 col0\" >0.019844</td>\n",
       "            </tr>\n",
       "            <tr>\n",
       "                        <th id=\"T_fe9e9_level0_row21\" class=\"row_heading level0 row21\" >SOL</th>\n",
       "                        <td id=\"T_fe9e9_row21_col0\" class=\"data row21 col0\" >0.018923</td>\n",
       "            </tr>\n",
       "            <tr>\n",
       "                        <th id=\"T_fe9e9_level0_row22\" class=\"row_heading level0 row22\" >Mes_noviembre</th>\n",
       "                        <td id=\"T_fe9e9_row22_col0\" class=\"data row22 col0\" >0.018553</td>\n",
       "            </tr>\n",
       "            <tr>\n",
       "                        <th id=\"T_fe9e9_level0_row23\" class=\"row_heading level0 row23\" >time_ext</th>\n",
       "                        <td id=\"T_fe9e9_row23_col0\" class=\"data row23 col0\" >0.017718</td>\n",
       "            </tr>\n",
       "            <tr>\n",
       "                        <th id=\"T_fe9e9_level0_row24\" class=\"row_heading level0 row24\" >time_ctrl</th>\n",
       "                        <td id=\"T_fe9e9_row24_col0\" class=\"data row24 col0\" >0.017718</td>\n",
       "            </tr>\n",
       "            <tr>\n",
       "                        <th id=\"T_fe9e9_level0_row25\" class=\"row_heading level0 row25\" >DIR_VIENTO_SW</th>\n",
       "                        <td id=\"T_fe9e9_row25_col0\" class=\"data row25 col0\" >0.017318</td>\n",
       "            </tr>\n",
       "            <tr>\n",
       "                        <th id=\"T_fe9e9_level0_row26\" class=\"row_heading level0 row26\" >muertos</th>\n",
       "                        <td id=\"T_fe9e9_row26_col0\" class=\"data row26 col0\" >0.016419</td>\n",
       "            </tr>\n",
       "            <tr>\n",
       "                        <th id=\"T_fe9e9_level0_row27\" class=\"row_heading level0 row27\" >Mes_junio</th>\n",
       "                        <td id=\"T_fe9e9_row27_col0\" class=\"data row27 col0\" >0.015185</td>\n",
       "            </tr>\n",
       "            <tr>\n",
       "                        <th id=\"T_fe9e9_level0_row28\" class=\"row_heading level0 row28\" >Mes_marzo</th>\n",
       "                        <td id=\"T_fe9e9_row28_col0\" class=\"data row28 col0\" >0.015111</td>\n",
       "            </tr>\n",
       "            <tr>\n",
       "                        <th id=\"T_fe9e9_level0_row29\" class=\"row_heading level0 row29\" >Mes_mayo</th>\n",
       "                        <td id=\"T_fe9e9_row29_col0\" class=\"data row29 col0\" >0.014893</td>\n",
       "            </tr>\n",
       "            <tr>\n",
       "                        <th id=\"T_fe9e9_level0_row30\" class=\"row_heading level0 row30\" >VELMEDIA_2-4 m/s</th>\n",
       "                        <td id=\"T_fe9e9_row30_col0\" class=\"data row30 col0\" >0.013909</td>\n",
       "            </tr>\n",
       "            <tr>\n",
       "                        <th id=\"T_fe9e9_level0_row31\" class=\"row_heading level0 row31\" >DIR_VIENTO_W</th>\n",
       "                        <td id=\"T_fe9e9_row31_col0\" class=\"data row31 col0\" >0.013626</td>\n",
       "            </tr>\n",
       "            <tr>\n",
       "                        <th id=\"T_fe9e9_level0_row32\" class=\"row_heading level0 row32\" >ALTITUD_Inferior a 80</th>\n",
       "                        <td id=\"T_fe9e9_row32_col0\" class=\"data row32 col0\" >0.013346</td>\n",
       "            </tr>\n",
       "            <tr>\n",
       "                        <th id=\"T_fe9e9_level0_row33\" class=\"row_heading level0 row33\" >idprovincia_A Coruña</th>\n",
       "                        <td id=\"T_fe9e9_row33_col0\" class=\"data row33 col0\" >0.013346</td>\n",
       "            </tr>\n",
       "            <tr>\n",
       "                        <th id=\"T_fe9e9_level0_row34\" class=\"row_heading level0 row34\" >Mes_agosto</th>\n",
       "                        <td id=\"T_fe9e9_row34_col0\" class=\"data row34 col0\" >0.011645</td>\n",
       "            </tr>\n",
       "            <tr>\n",
       "                        <th id=\"T_fe9e9_level0_row35\" class=\"row_heading level0 row35\" >PRES_RANGE</th>\n",
       "                        <td id=\"T_fe9e9_row35_col0\" class=\"data row35 col0\" >0.010296</td>\n",
       "            </tr>\n",
       "            <tr>\n",
       "                        <th id=\"T_fe9e9_level0_row36\" class=\"row_heading level0 row36\" >VELMEDIA_4-6 m/s</th>\n",
       "                        <td id=\"T_fe9e9_row36_col0\" class=\"data row36 col0\" >0.010255</td>\n",
       "            </tr>\n",
       "            <tr>\n",
       "                        <th id=\"T_fe9e9_level0_row37\" class=\"row_heading level0 row37\" >heridos</th>\n",
       "                        <td id=\"T_fe9e9_row37_col0\" class=\"data row37 col0\" >0.009396</td>\n",
       "            </tr>\n",
       "            <tr>\n",
       "                        <th id=\"T_fe9e9_level0_row38\" class=\"row_heading level0 row38\" >lat</th>\n",
       "                        <td id=\"T_fe9e9_row38_col0\" class=\"data row38 col0\" >0.008616</td>\n",
       "            </tr>\n",
       "            <tr>\n",
       "                        <th id=\"T_fe9e9_level0_row39\" class=\"row_heading level0 row39\" >ALTITUD_Superior a 125</th>\n",
       "                        <td id=\"T_fe9e9_row39_col0\" class=\"data row39 col0\" >0.006640</td>\n",
       "            </tr>\n",
       "            <tr>\n",
       "                        <th id=\"T_fe9e9_level0_row40\" class=\"row_heading level0 row40\" >idprovincia_Ourense</th>\n",
       "                        <td id=\"T_fe9e9_row40_col0\" class=\"data row40 col0\" >0.006640</td>\n",
       "            </tr>\n",
       "            <tr>\n",
       "                        <th id=\"T_fe9e9_level0_row41\" class=\"row_heading level0 row41\" >DIR_VIENTO_SE</th>\n",
       "                        <td id=\"T_fe9e9_row41_col0\" class=\"data row41 col0\" >0.006148</td>\n",
       "            </tr>\n",
       "            <tr>\n",
       "                        <th id=\"T_fe9e9_level0_row42\" class=\"row_heading level0 row42\" >DIR_VIENTO_N</th>\n",
       "                        <td id=\"T_fe9e9_row42_col0\" class=\"data row42 col0\" >0.005642</td>\n",
       "            </tr>\n",
       "            <tr>\n",
       "                        <th id=\"T_fe9e9_level0_row43\" class=\"row_heading level0 row43\" >RACHA</th>\n",
       "                        <td id=\"T_fe9e9_row43_col0\" class=\"data row43 col0\" >0.005534</td>\n",
       "            </tr>\n",
       "            <tr>\n",
       "                        <th id=\"T_fe9e9_level0_row44\" class=\"row_heading level0 row44\" >idprovincia_Pontevedra</th>\n",
       "                        <td id=\"T_fe9e9_row44_col0\" class=\"data row44 col0\" >0.004335</td>\n",
       "            </tr>\n",
       "            <tr>\n",
       "                        <th id=\"T_fe9e9_level0_row45\" class=\"row_heading level0 row45\" >ALTITUD_Entre 100-125</th>\n",
       "                        <td id=\"T_fe9e9_row45_col0\" class=\"data row45 col0\" >0.004335</td>\n",
       "            </tr>\n",
       "            <tr>\n",
       "                        <th id=\"T_fe9e9_level0_row46\" class=\"row_heading level0 row46\" >VELMEDIA_6-8 m/s</th>\n",
       "                        <td id=\"T_fe9e9_row46_col0\" class=\"data row46 col0\" >0.004206</td>\n",
       "            </tr>\n",
       "            <tr>\n",
       "                        <th id=\"T_fe9e9_level0_row47\" class=\"row_heading level0 row47\" >gastos_>5K</th>\n",
       "                        <td id=\"T_fe9e9_row47_col0\" class=\"data row47 col0\" >0.003436</td>\n",
       "            </tr>\n",
       "            <tr>\n",
       "                        <th id=\"T_fe9e9_level0_row48\" class=\"row_heading level0 row48\" >gastos_NO INFO</th>\n",
       "                        <td id=\"T_fe9e9_row48_col0\" class=\"data row48 col0\" >0.001120</td>\n",
       "            </tr>\n",
       "    </tbody></table>"
      ],
      "text/plain": [
       "<pandas.io.formats.style.Styler at 0x1d57eb73c70>"
      ]
     },
     "execution_count": 95,
     "metadata": {},
     "output_type": "execute_result"
    }
   ],
   "source": [
    "corr = abs(df_galicia_total.corr())\n",
    "corr[['causa']].sort_values(by = 'causa', ascending = False).style.background_gradient()"
   ]
  },
  {
   "cell_type": "markdown",
   "metadata": {},
   "source": [
    "### Muestreo de datos"
   ]
  },
  {
   "cell_type": "markdown",
   "metadata": {},
   "source": [
    "Como paso previo al muestreo de datos, lo que supone crear un conjunto de train y test necesario para realizar las predicciones, se guarda la variable target **causa** en una variable distinta y se elimina del dataset original."
   ]
  },
  {
   "cell_type": "markdown",
   "metadata": {},
   "source": [
    "#### Variable target CATEGÓRICA = Causa"
   ]
  },
  {
   "cell_type": "code",
   "execution_count": 96,
   "metadata": {},
   "outputs": [
    {
     "data": {
      "text/plain": [
       "(12976, 48)"
      ]
     },
     "execution_count": 96,
     "metadata": {},
     "output_type": "execute_result"
    }
   ],
   "source": [
    "target_cat = df_galicia_total['causa'].copy()\n",
    "df_galicia_total.drop(['causa'], axis=1, inplace=True)\n",
    "df_galicia_total.shape  # Después de eliminar la variable target CAUSA"
   ]
  },
  {
   "cell_type": "code",
   "execution_count": 97,
   "metadata": {},
   "outputs": [
    {
     "data": {
      "text/plain": [
       "2    11293\n",
       "0      830\n",
       "3      534\n",
       "1      215\n",
       "4      104\n",
       "Name: causa, dtype: int64"
      ]
     },
     "execution_count": 97,
     "metadata": {},
     "output_type": "execute_result"
    }
   ],
   "source": [
    "target_cat.value_counts()"
   ]
  },
  {
   "cell_type": "code",
   "execution_count": 159,
   "metadata": {},
   "outputs": [
    {
     "name": "stdout",
     "output_type": "stream",
     "text": [
      "______________________________________________________________\n",
      "\n",
      " Número de observaciones en el dataset de TRAIN y TEST \n",
      "______________________________________________________________\n",
      "\n",
      "Train set: (9083, 48) (9083,)\n",
      "Test set: (3893, 48) (3893,)\n",
      "\n",
      "TRAIN - % de incendios con causa = 2 :  87.03\n",
      "TEST  - % de incendios con causa = 2 :  87.03\n",
      "\n",
      "TRAIN - % de incendios con causa = 3 :  4.12\n",
      "TEST  - % de incendios con causa = 3 :  4.11\n",
      "\n",
      "TRAIN - % de incendios con causa = 1 :  1.65\n",
      "TEST  - % de incendios con causa = 1 :  1.67\n",
      "\n",
      "TRAIN - % de incendios con causa = 0 :  6.4\n",
      "TEST  - % de incendios con causa = 0 :  6.4\n",
      "\n",
      "TRAIN - % de incendios con causa = 4 :  0.8\n",
      "TEST  - % de incendios con causa = 4 :  0.8\n"
     ]
    }
   ],
   "source": [
    "X_train, X_test, y_train, y_test = train_test_split (df_galicia_total, \n",
    "                                                     target_cat,\n",
    "                                                     test_size = 0.3,\n",
    "                                                     random_state = 12345,\n",
    "                                                     stratify = target_cat)\n",
    "\n",
    "print('______________________________________________________________\\n'\n",
    "      '\\n Número de observaciones en el dataset de TRAIN y TEST \\n'\n",
    "      '______________________________________________________________\\n')\n",
    "print ('Train set:', X_train.shape,  y_train.shape)\n",
    "print ('Test set:', X_test.shape,  y_test.shape)\n",
    "\n",
    "for k in y_train.unique():\n",
    "    print('\\nTRAIN - % de incendios con causa =',k,': ', \n",
    "          round(((y_train[y_train==k].count() / y_train.shape[0])*100),2))\n",
    "    print('TEST  - % de incendios con causa =',k,': ', \n",
    "          round(((y_test[y_test==k].count() / y_test.shape[0])*100),2))"
   ]
  },
  {
   "cell_type": "code",
   "execution_count": null,
   "metadata": {},
   "outputs": [],
   "source": [
    "# Escalado de variables\n",
    "\n",
    "'''sc_X = StandardScaler()\n",
    "X_train = sc_X.fit_transform(X_train)\n",
    "X_test = sc_X.transform(X_test)'''"
   ]
  },
  {
   "cell_type": "code",
   "execution_count": null,
   "metadata": {},
   "outputs": [],
   "source": [
    "'''from sklearn.compose import ColumnTransformer\n",
    "\n",
    "labelencoder_X = LabelEncoder()\n",
    "X[:, 0] = labelencoder_X.fit_transform(X[:, 0])\n",
    "\n",
    "ct = ColumnTransformer(\n",
    "    [('one_hot_encoder', OneHotEncoder(categories='auto'), [0])],   \n",
    "    remainder='passthrough'                        \n",
    ")\n",
    "\n",
    "X = np.array(ct.fit_transform(X), dtype=np.float)'''"
   ]
  },
  {
   "cell_type": "code",
   "execution_count": null,
   "metadata": {},
   "outputs": [],
   "source": []
  },
  {
   "cell_type": "markdown",
   "metadata": {},
   "source": [
    "### Regresión logistica"
   ]
  },
  {
   "cell_type": "code",
   "execution_count": 103,
   "metadata": {},
   "outputs": [],
   "source": [
    "from sklearn.pipeline import Pipeline\n",
    "from sklearn.multiclass import OneVsRestClassifier\n",
    "from sklearn.metrics import accuracy_score"
   ]
  },
  {
   "cell_type": "code",
   "execution_count": 100,
   "metadata": {},
   "outputs": [],
   "source": [
    "LogReg_pipeline = Pipeline([\n",
    "                ('clf', OneVsRestClassifier(LogisticRegression(solver='sag'), n_jobs=-1)),\n",
    "            ])"
   ]
  },
  {
   "cell_type": "code",
   "execution_count": 101,
   "metadata": {},
   "outputs": [
    {
     "data": {
      "text/plain": [
       "Pipeline(steps=[('clf',\n",
       "                 OneVsRestClassifier(estimator=LogisticRegression(solver='sag'),\n",
       "                                     n_jobs=-1))])"
      ]
     },
     "execution_count": 101,
     "metadata": {},
     "output_type": "execute_result"
    }
   ],
   "source": [
    "LogReg_pipeline.fit(X_train, y_train)"
   ]
  },
  {
   "cell_type": "code",
   "execution_count": 104,
   "metadata": {},
   "outputs": [
    {
     "name": "stdout",
     "output_type": "stream",
     "text": [
      "Test ccuracy 0.8702799897251478\n"
     ]
    }
   ],
   "source": [
    "LogReg_pipeline.fit(X_train, y_train)\n",
    "y_pred = LogReg_pipeline.predict(X_test)\n",
    "\n",
    "print('Test ccuracy {}'.format(accuracy_score(y_test, y_pred)))\n",
    " "
   ]
  },
  {
   "cell_type": "code",
   "execution_count": null,
   "metadata": {},
   "outputs": [],
   "source": []
  },
  {
   "cell_type": "code",
   "execution_count": 105,
   "metadata": {},
   "outputs": [
    {
     "name": "stderr",
     "output_type": "stream",
     "text": [
      "C:\\Users\\RBK\\anaconda3\\lib\\site-packages\\sklearn\\linear_model\\_sag.py:328: ConvergenceWarning: The max_iter was reached which means the coef_ did not converge\n",
      "  warnings.warn(\"The max_iter was reached which means \"\n"
     ]
    }
   ],
   "source": [
    "# Standard logistic regression 'newton-cg\n",
    "\n",
    "lr = LogisticRegression(solver='sag').fit(X_train, y_train)"
   ]
  },
  {
   "cell_type": "code",
   "execution_count": null,
   "metadata": {},
   "outputs": [],
   "source": [
    "'''# L1 regularized logistic regression\n",
    "lr_l1 = LogisticRegressionCV(Cs=15, cv=4, penalty='l1', solver='newton-cg').fit(X_train, y_train)'''"
   ]
  },
  {
   "cell_type": "code",
   "execution_count": 111,
   "metadata": {},
   "outputs": [
    {
     "data": {
      "text/html": [
       "<div>\n",
       "<style scoped>\n",
       "    .dataframe tbody tr th:only-of-type {\n",
       "        vertical-align: middle;\n",
       "    }\n",
       "\n",
       "    .dataframe tbody tr th {\n",
       "        vertical-align: top;\n",
       "    }\n",
       "\n",
       "    .dataframe thead tr th {\n",
       "        text-align: left;\n",
       "    }\n",
       "</style>\n",
       "<table border=\"1\" class=\"dataframe\">\n",
       "  <thead>\n",
       "    <tr>\n",
       "      <th></th>\n",
       "      <th colspan=\"5\" halign=\"left\">lr</th>\n",
       "    </tr>\n",
       "    <tr>\n",
       "      <th></th>\n",
       "      <th>0</th>\n",
       "      <th>1</th>\n",
       "      <th>2</th>\n",
       "      <th>3</th>\n",
       "      <th>4</th>\n",
       "    </tr>\n",
       "  </thead>\n",
       "  <tbody>\n",
       "    <tr>\n",
       "      <th>0</th>\n",
       "      <td>-0.008954</td>\n",
       "      <td>-0.006199</td>\n",
       "      <td>0.017412</td>\n",
       "      <td>-0.003227</td>\n",
       "      <td>9.676174e-04</td>\n",
       "    </tr>\n",
       "    <tr>\n",
       "      <th>1</th>\n",
       "      <td>0.003181</td>\n",
       "      <td>0.000081</td>\n",
       "      <td>-0.008209</td>\n",
       "      <td>0.004254</td>\n",
       "      <td>6.917238e-04</td>\n",
       "    </tr>\n",
       "    <tr>\n",
       "      <th>2</th>\n",
       "      <td>-0.003127</td>\n",
       "      <td>-0.000149</td>\n",
       "      <td>0.005672</td>\n",
       "      <td>-0.004390</td>\n",
       "      <td>1.994062e-03</td>\n",
       "    </tr>\n",
       "    <tr>\n",
       "      <th>3</th>\n",
       "      <td>-0.000006</td>\n",
       "      <td>-0.000001</td>\n",
       "      <td>-0.000085</td>\n",
       "      <td>0.000093</td>\n",
       "      <td>-5.695777e-07</td>\n",
       "    </tr>\n",
       "    <tr>\n",
       "      <th>4</th>\n",
       "      <td>-0.000046</td>\n",
       "      <td>-0.000012</td>\n",
       "      <td>-0.000007</td>\n",
       "      <td>0.000072</td>\n",
       "      <td>-6.618086e-06</td>\n",
       "    </tr>\n",
       "  </tbody>\n",
       "</table>\n",
       "</div>"
      ],
      "text/plain": [
       "         lr                                            \n",
       "          0         1         2         3             4\n",
       "0 -0.008954 -0.006199  0.017412 -0.003227  9.676174e-04\n",
       "1  0.003181  0.000081 -0.008209  0.004254  6.917238e-04\n",
       "2 -0.003127 -0.000149  0.005672 -0.004390  1.994062e-03\n",
       "3 -0.000006 -0.000001 -0.000085  0.000093 -5.695777e-07\n",
       "4 -0.000046 -0.000012 -0.000007  0.000072 -6.618086e-06"
      ]
     },
     "execution_count": 111,
     "metadata": {},
     "output_type": "execute_result"
    }
   ],
   "source": [
    "# Añadir todos los coeficientes en un dataframe\n",
    "\n",
    "coefficients = list()\n",
    "\n",
    "coeff_labels = ['lr']\n",
    "coeff_models = [lr]\n",
    "\n",
    "for lab,mod in zip(coeff_labels, coeff_models):\n",
    "    coeffs = mod.coef_\n",
    "    coeff_label = pd.MultiIndex(levels=[[lab], [0,1,2,3,4]], \n",
    "                                 codes=[[0,0,0,0,0], [0,1,2,3,4]])\n",
    "    coefficients.append(pd.DataFrame(coeffs.T, columns=coeff_label))\n",
    "\n",
    "coefficients = pd.concat(coefficients, axis=1)\n",
    "\n",
    "coefficients.head()"
   ]
  },
  {
   "cell_type": "code",
   "execution_count": null,
   "metadata": {},
   "outputs": [],
   "source": []
  },
  {
   "cell_type": "code",
   "execution_count": 113,
   "metadata": {},
   "outputs": [
    {
     "data": {
      "text/html": [
       "<div>\n",
       "<style scoped>\n",
       "    .dataframe tbody tr th:only-of-type {\n",
       "        vertical-align: middle;\n",
       "    }\n",
       "\n",
       "    .dataframe tbody tr th {\n",
       "        vertical-align: top;\n",
       "    }\n",
       "\n",
       "    .dataframe thead th {\n",
       "        text-align: right;\n",
       "    }\n",
       "</style>\n",
       "<table border=\"1\" class=\"dataframe\">\n",
       "  <thead>\n",
       "    <tr style=\"text-align: right;\">\n",
       "      <th></th>\n",
       "      <th>lr</th>\n",
       "    </tr>\n",
       "  </thead>\n",
       "  <tbody>\n",
       "    <tr>\n",
       "      <th>0</th>\n",
       "      <td>2</td>\n",
       "    </tr>\n",
       "    <tr>\n",
       "      <th>1</th>\n",
       "      <td>2</td>\n",
       "    </tr>\n",
       "    <tr>\n",
       "      <th>2</th>\n",
       "      <td>2</td>\n",
       "    </tr>\n",
       "    <tr>\n",
       "      <th>3</th>\n",
       "      <td>2</td>\n",
       "    </tr>\n",
       "    <tr>\n",
       "      <th>4</th>\n",
       "      <td>2</td>\n",
       "    </tr>\n",
       "  </tbody>\n",
       "</table>\n",
       "</div>"
      ],
      "text/plain": [
       "   lr\n",
       "0   2\n",
       "1   2\n",
       "2   2\n",
       "3   2\n",
       "4   2"
      ]
     },
     "execution_count": 113,
     "metadata": {},
     "output_type": "execute_result"
    }
   ],
   "source": [
    "y_pred = list()\n",
    "y_prob = list()\n",
    "\n",
    "coeff_labels = ['lr']\n",
    "coeff_models = [lr]\n",
    "\n",
    "for lab,mod in zip(coeff_labels, coeff_models):\n",
    "    y_pred.append(pd.Series(mod.predict(X_test), name=lab))\n",
    "    y_prob.append(pd.Series(mod.predict_proba(X_test).max(axis=1), name=lab))\n",
    "    \n",
    "y_pred = pd.concat(y_pred, axis=1)\n",
    "y_prob = pd.concat(y_prob, axis=1)\n",
    "\n",
    "y_pred.head()"
   ]
  },
  {
   "cell_type": "code",
   "execution_count": 114,
   "metadata": {},
   "outputs": [
    {
     "data": {
      "text/html": [
       "<div>\n",
       "<style scoped>\n",
       "    .dataframe tbody tr th:only-of-type {\n",
       "        vertical-align: middle;\n",
       "    }\n",
       "\n",
       "    .dataframe tbody tr th {\n",
       "        vertical-align: top;\n",
       "    }\n",
       "\n",
       "    .dataframe thead th {\n",
       "        text-align: right;\n",
       "    }\n",
       "</style>\n",
       "<table border=\"1\" class=\"dataframe\">\n",
       "  <thead>\n",
       "    <tr style=\"text-align: right;\">\n",
       "      <th></th>\n",
       "      <th>lr</th>\n",
       "    </tr>\n",
       "  </thead>\n",
       "  <tbody>\n",
       "    <tr>\n",
       "      <th>0</th>\n",
       "      <td>0.926310</td>\n",
       "    </tr>\n",
       "    <tr>\n",
       "      <th>1</th>\n",
       "      <td>0.900005</td>\n",
       "    </tr>\n",
       "    <tr>\n",
       "      <th>2</th>\n",
       "      <td>0.931045</td>\n",
       "    </tr>\n",
       "    <tr>\n",
       "      <th>3</th>\n",
       "      <td>0.933486</td>\n",
       "    </tr>\n",
       "    <tr>\n",
       "      <th>4</th>\n",
       "      <td>0.822807</td>\n",
       "    </tr>\n",
       "  </tbody>\n",
       "</table>\n",
       "</div>"
      ],
      "text/plain": [
       "         lr\n",
       "0  0.926310\n",
       "1  0.900005\n",
       "2  0.931045\n",
       "3  0.933486\n",
       "4  0.822807"
      ]
     },
     "execution_count": 114,
     "metadata": {},
     "output_type": "execute_result"
    }
   ],
   "source": [
    "y_prob.head()"
   ]
  },
  {
   "cell_type": "markdown",
   "metadata": {},
   "source": [
    "### Metricas"
   ]
  },
  {
   "cell_type": "code",
   "execution_count": 137,
   "metadata": {},
   "outputs": [
    {
     "ename": "IndexError",
     "evalue": "only integers, slices (`:`), ellipsis (`...`), numpy.newaxis (`None`) and integer or boolean arrays are valid indices",
     "output_type": "error",
     "traceback": [
      "\u001b[1;31m---------------------------------------------------------------------------\u001b[0m",
      "\u001b[1;31mIndexError\u001b[0m                                Traceback (most recent call last)",
      "\u001b[1;32m<ipython-input-137-ce50faefa58f>\u001b[0m in \u001b[0;36m<module>\u001b[1;34m\u001b[0m\n\u001b[0;32m      8\u001b[0m \u001b[1;32mfor\u001b[0m \u001b[0mlab\u001b[0m \u001b[1;32min\u001b[0m \u001b[0mcoeff_labels\u001b[0m\u001b[1;33m:\u001b[0m\u001b[1;33m\u001b[0m\u001b[1;33m\u001b[0m\u001b[0m\n\u001b[0;32m      9\u001b[0m \u001b[1;33m\u001b[0m\u001b[0m\n\u001b[1;32m---> 10\u001b[1;33m     \u001b[0mprecision\u001b[0m\u001b[1;33m,\u001b[0m \u001b[0mrecall\u001b[0m\u001b[1;33m,\u001b[0m \u001b[0mfscore\u001b[0m\u001b[1;33m,\u001b[0m \u001b[0m_\u001b[0m \u001b[1;33m=\u001b[0m \u001b[0mscore\u001b[0m\u001b[1;33m(\u001b[0m\u001b[0my_test\u001b[0m\u001b[1;33m,\u001b[0m \u001b[0my_pred\u001b[0m\u001b[1;33m[\u001b[0m\u001b[0mlab\u001b[0m\u001b[1;33m]\u001b[0m\u001b[1;33m,\u001b[0m \u001b[0maverage\u001b[0m\u001b[1;33m=\u001b[0m\u001b[1;34m'weighted'\u001b[0m\u001b[1;33m)\u001b[0m\u001b[1;33m\u001b[0m\u001b[1;33m\u001b[0m\u001b[0m\n\u001b[0m\u001b[0;32m     11\u001b[0m \u001b[1;33m\u001b[0m\u001b[0m\n\u001b[0;32m     12\u001b[0m     \u001b[0maccuracy\u001b[0m \u001b[1;33m=\u001b[0m \u001b[0maccuracy_score\u001b[0m\u001b[1;33m(\u001b[0m\u001b[0my_test\u001b[0m\u001b[1;33m,\u001b[0m \u001b[0my_pred\u001b[0m\u001b[1;33m[\u001b[0m\u001b[0mlab\u001b[0m\u001b[1;33m]\u001b[0m\u001b[1;33m)\u001b[0m\u001b[1;33m\u001b[0m\u001b[1;33m\u001b[0m\u001b[0m\n",
      "\u001b[1;31mIndexError\u001b[0m: only integers, slices (`:`), ellipsis (`...`), numpy.newaxis (`None`) and integer or boolean arrays are valid indices"
     ]
    }
   ],
   "source": [
    "from sklearn.metrics import precision_recall_fscore_support as score\n",
    "from sklearn.metrics import confusion_matrix, accuracy_score, roc_auc_score\n",
    "from sklearn.preprocessing import label_binarize\n",
    "\n",
    "metrics = list()\n",
    "cm = dict()\n",
    "\n",
    "for lab in coeff_labels:\n",
    "\n",
    "    precision, recall, fscore, _ = score(y_test, y_pred[lab], average='weighted')\n",
    "    \n",
    "    accuracy = accuracy_score(y_test, y_pred[lab])\n",
    "    \n",
    "    auc = roc_auc_score(label_binarize(y_test, classes=[0,1,2,3,4]),\n",
    "              label_binarize(y_pred[lab], classes=[0,1,2,3,4]), \n",
    "              average='weighted')\n",
    "    \n",
    "\n",
    "    cm[lab] = confusion_matrix(y_test, y_pred[lab])\n",
    "    \n",
    "    metrics.append(pd.Series({'precision':precision, 'recall':recall, \n",
    "                              'fscore':fscore, 'accuracy':accuracy,\n",
    "                              'auc':auc}, \n",
    "                             name=lab))\n",
    "\n",
    "metrics = pd.concat(metrics, axis=1)"
   ]
  },
  {
   "cell_type": "code",
   "execution_count": 116,
   "metadata": {},
   "outputs": [
    {
     "data": {
      "text/html": [
       "<div>\n",
       "<style scoped>\n",
       "    .dataframe tbody tr th:only-of-type {\n",
       "        vertical-align: middle;\n",
       "    }\n",
       "\n",
       "    .dataframe tbody tr th {\n",
       "        vertical-align: top;\n",
       "    }\n",
       "\n",
       "    .dataframe thead th {\n",
       "        text-align: right;\n",
       "    }\n",
       "</style>\n",
       "<table border=\"1\" class=\"dataframe\">\n",
       "  <thead>\n",
       "    <tr style=\"text-align: right;\">\n",
       "      <th></th>\n",
       "      <th>lr</th>\n",
       "    </tr>\n",
       "  </thead>\n",
       "  <tbody>\n",
       "    <tr>\n",
       "      <th>precision</th>\n",
       "      <td>0.757387</td>\n",
       "    </tr>\n",
       "    <tr>\n",
       "      <th>recall</th>\n",
       "      <td>0.870280</td>\n",
       "    </tr>\n",
       "    <tr>\n",
       "      <th>fscore</th>\n",
       "      <td>0.809919</td>\n",
       "    </tr>\n",
       "    <tr>\n",
       "      <th>accuracy</th>\n",
       "      <td>0.870280</td>\n",
       "    </tr>\n",
       "    <tr>\n",
       "      <th>auc</th>\n",
       "      <td>0.500000</td>\n",
       "    </tr>\n",
       "  </tbody>\n",
       "</table>\n",
       "</div>"
      ],
      "text/plain": [
       "                 lr\n",
       "precision  0.757387\n",
       "recall     0.870280\n",
       "fscore     0.809919\n",
       "accuracy   0.870280\n",
       "auc        0.500000"
      ]
     },
     "execution_count": 116,
     "metadata": {},
     "output_type": "execute_result"
    }
   ],
   "source": [
    "metrics"
   ]
  },
  {
   "cell_type": "code",
   "execution_count": null,
   "metadata": {},
   "outputs": [],
   "source": []
  },
  {
   "cell_type": "markdown",
   "metadata": {},
   "source": [
    "### Random Forest"
   ]
  },
  {
   "cell_type": "code",
   "execution_count": 123,
   "metadata": {},
   "outputs": [],
   "source": [
    "model1 = RandomForestClassifier(random_state=19, criterion='entropy').fit(X_train, y_train)"
   ]
  },
  {
   "cell_type": "code",
   "execution_count": 124,
   "metadata": {},
   "outputs": [],
   "source": [
    "results = cross_val_score(estimator=model1, X=X_train, y=y_train, cv=5)"
   ]
  },
  {
   "cell_type": "code",
   "execution_count": 125,
   "metadata": {},
   "outputs": [
    {
     "name": "stdout",
     "output_type": "stream",
     "text": [
      "0.8703074123731087\n"
     ]
    }
   ],
   "source": [
    "print(results.mean())"
   ]
  },
  {
   "cell_type": "code",
   "execution_count": 126,
   "metadata": {},
   "outputs": [
    {
     "name": "stdout",
     "output_type": "stream",
     "text": [
      "0.0009255283990308343\n"
     ]
    }
   ],
   "source": [
    "print(results.std())"
   ]
  },
  {
   "cell_type": "markdown",
   "metadata": {},
   "source": [
    "Observamos que la varianza del modelo es muy baja , pese a entrenarse 5 veces con 5 subsets random . Significa que no ha sido una predicción casual, que el modelo no presenta overfitting."
   ]
  },
  {
   "cell_type": "code",
   "execution_count": 127,
   "metadata": {},
   "outputs": [],
   "source": [
    "y_pred = model1.predict(X_test)"
   ]
  },
  {
   "cell_type": "code",
   "execution_count": 128,
   "metadata": {},
   "outputs": [
    {
     "name": "stdout",
     "output_type": "stream",
     "text": [
      "Causa PREDICCIÓN  0     2  4\n",
      "Causa ACTUAL                \n",
      "0                 2   247  0\n",
      "1                 0    65  0\n",
      "2                 1  3386  1\n",
      "3                 0   160  0\n",
      "4                 1    26  4\n"
     ]
    }
   ],
   "source": [
    "print(pd.crosstab(y_test, y_pred, rownames=['Causa ACTUAL'], colnames=['Causa PREDICCIÓN']))"
   ]
  },
  {
   "cell_type": "code",
   "execution_count": null,
   "metadata": {},
   "outputs": [],
   "source": [
    "LogReg_pipeline = Pipeline([\n",
    "                ('clf', OneVsRestClassifier(LogisticRegression(solver='sag'), n_jobs=-1)),\n",
    "            ])"
   ]
  },
  {
   "cell_type": "code",
   "execution_count": 138,
   "metadata": {},
   "outputs": [],
   "source": [
    "RandForest_pipeline = Pipeline([\n",
    "    ('clf', OneVsRestClassifier(RandomForestClassifier(random_state=19, criterion='entropy'), n_jobs = -1)),\n",
    "            ])"
   ]
  },
  {
   "cell_type": "code",
   "execution_count": 139,
   "metadata": {},
   "outputs": [
    {
     "name": "stdout",
     "output_type": "stream",
     "text": [
      "Test ccuracy 0.8707937323400976\n"
     ]
    }
   ],
   "source": [
    "RandForest_pipeline.fit(X_train, y_train)\n",
    "y_pred = RandForest_pipeline.predict(X_test)\n",
    "\n",
    "print('Test ccuracy {}'.format(accuracy_score(y_test, y_pred)))"
   ]
  },
  {
   "cell_type": "code",
   "execution_count": null,
   "metadata": {},
   "outputs": [],
   "source": []
  },
  {
   "cell_type": "markdown",
   "metadata": {},
   "source": [
    "### Buscar los mejores hiperparámetros por validación cruzada - GridSearchCV"
   ]
  },
  {
   "cell_type": "markdown",
   "metadata": {},
   "source": [
    "Se intenta buscar los mejores hiperparámetros a usar para lanzar el modelo de clasificación. Se especifican varios parámetros a evaluar (*n_estimators*, *max_depth*, *criterio*), para obtener la combinación óptima de los parámetros del mejor modelo en cuanto a accuracy."
   ]
  },
  {
   "cell_type": "code",
   "execution_count": 140,
   "metadata": {},
   "outputs": [],
   "source": [
    "param_grid = {'n_estimators': [30, 50, 100, 150],\n",
    "              #'max_features': [5, 7, 9],\n",
    "              'max_depth'   : [None, 5, 7, 10],\n",
    "              'bootstrap': [True, False],\n",
    "              'criterion': ['gini', 'entropy']\n",
    "             }\n",
    "\n",
    "\n",
    "# Búsqueda por grid search con validación cruzada\n",
    "\n",
    "model_grid = GridSearchCV(\n",
    "        estimator  = RandomForestClassifier(random_state = 19),\n",
    "        param_grid = param_grid,\n",
    "        scoring    = 'accuracy',  #'roc_auc',\n",
    "        n_jobs     = -1,\n",
    "        cv         = RepeatedKFold(n_splits=5, n_repeats=3, random_state=19), \n",
    "    )\n"
   ]
  },
  {
   "cell_type": "code",
   "execution_count": 141,
   "metadata": {},
   "outputs": [
    {
     "data": {
      "text/plain": [
       "GridSearchCV(cv=RepeatedKFold(n_repeats=3, n_splits=5, random_state=19),\n",
       "             estimator=RandomForestClassifier(random_state=19), n_jobs=-1,\n",
       "             param_grid={'bootstrap': [True, False],\n",
       "                         'criterion': ['gini', 'entropy'],\n",
       "                         'max_depth': [None, 5, 7, 10],\n",
       "                         'n_estimators': [30, 50, 100, 150]},\n",
       "             scoring='accuracy')"
      ]
     },
     "execution_count": 141,
     "metadata": {},
     "output_type": "execute_result"
    }
   ],
   "source": [
    "model_grid"
   ]
  },
  {
   "cell_type": "code",
   "execution_count": 142,
   "metadata": {},
   "outputs": [
    {
     "data": {
      "text/plain": [
       "GridSearchCV(cv=RepeatedKFold(n_repeats=3, n_splits=5, random_state=19),\n",
       "             estimator=RandomForestClassifier(random_state=19), n_jobs=-1,\n",
       "             param_grid={'bootstrap': [True, False],\n",
       "                         'criterion': ['gini', 'entropy'],\n",
       "                         'max_depth': [None, 5, 7, 10],\n",
       "                         'n_estimators': [30, 50, 100, 150]},\n",
       "             scoring='accuracy')"
      ]
     },
     "execution_count": 142,
     "metadata": {},
     "output_type": "execute_result"
    }
   ],
   "source": [
    "# model_grid.fit(X = X_train, y = y_train)"
   ]
  },
  {
   "cell_type": "code",
   "execution_count": 143,
   "metadata": {},
   "outputs": [
    {
     "name": "stdout",
     "output_type": "stream",
     "text": [
      "Los mejores hiperparámetros: \n",
      " {'bootstrap': False, 'criterion': 'entropy', 'max_depth': 10, 'n_estimators': 100}\n"
     ]
    }
   ],
   "source": [
    "print('Los mejores hiperparámetros: \\n', model_grid.best_params_)"
   ]
  },
  {
   "cell_type": "code",
   "execution_count": 144,
   "metadata": {},
   "outputs": [
    {
     "name": "stdout",
     "output_type": "stream",
     "text": [
      "El mejor score: \n",
      " 0.8706002495601585\n"
     ]
    }
   ],
   "source": [
    "print('El mejor score: \\n', model_grid.best_score_)"
   ]
  },
  {
   "cell_type": "code",
   "execution_count": 145,
   "metadata": {},
   "outputs": [
    {
     "name": "stdout",
     "output_type": "stream",
     "text": [
      "Test score: 87.13 %\n"
     ]
    }
   ],
   "source": [
    "# Calcula la accuracy\n",
    "\n",
    "score = model_grid.score(X_test, y_test)\n",
    "print(\"Test score: {0:.2f} %\".format(100 * score))"
   ]
  },
  {
   "cell_type": "code",
   "execution_count": null,
   "metadata": {},
   "outputs": [],
   "source": []
  },
  {
   "cell_type": "markdown",
   "metadata": {},
   "source": [
    "### Importancia de las variables predictoras - Selección de variables\n",
    "\n",
    "Se utiliza un RandomForest para averiguar la importancia de las variables, utilizando los hiperparámetros obtenidos con GridSearchCV."
   ]
  },
  {
   "cell_type": "code",
   "execution_count": 146,
   "metadata": {},
   "outputs": [],
   "source": [
    "rf_importancia = RandomForestClassifier(bootstrap=False, criterion='entropy', n_estimators = 100,max_depth=10).fit(X_train, y_train)"
   ]
  },
  {
   "cell_type": "code",
   "execution_count": 147,
   "metadata": {},
   "outputs": [
    {
     "name": "stdout",
     "output_type": "stream",
     "text": [
      "\n",
      " Importancia de las variables predictoras en el modelo \n",
      "_________________________________________________________\n"
     ]
    },
    {
     "data": {
      "text/html": [
       "<div>\n",
       "<style scoped>\n",
       "    .dataframe tbody tr th:only-of-type {\n",
       "        vertical-align: middle;\n",
       "    }\n",
       "\n",
       "    .dataframe tbody tr th {\n",
       "        vertical-align: top;\n",
       "    }\n",
       "\n",
       "    .dataframe thead th {\n",
       "        text-align: right;\n",
       "    }\n",
       "</style>\n",
       "<table border=\"1\" class=\"dataframe\">\n",
       "  <thead>\n",
       "    <tr style=\"text-align: right;\">\n",
       "      <th></th>\n",
       "      <th>variable_predictora</th>\n",
       "      <th>importancia</th>\n",
       "    </tr>\n",
       "  </thead>\n",
       "  <tbody>\n",
       "    <tr>\n",
       "      <th>10</th>\n",
       "      <td>TMAX</td>\n",
       "      <td>0.092413</td>\n",
       "    </tr>\n",
       "    <tr>\n",
       "      <th>1</th>\n",
       "      <td>lat</td>\n",
       "      <td>0.092050</td>\n",
       "    </tr>\n",
       "    <tr>\n",
       "      <th>2</th>\n",
       "      <td>lng</td>\n",
       "      <td>0.087564</td>\n",
       "    </tr>\n",
       "    <tr>\n",
       "      <th>7</th>\n",
       "      <td>personal</td>\n",
       "      <td>0.069899</td>\n",
       "    </tr>\n",
       "    <tr>\n",
       "      <th>13</th>\n",
       "      <td>Año</td>\n",
       "      <td>0.064815</td>\n",
       "    </tr>\n",
       "    <tr>\n",
       "      <th>12</th>\n",
       "      <td>SOL</td>\n",
       "      <td>0.055560</td>\n",
       "    </tr>\n",
       "    <tr>\n",
       "      <th>5</th>\n",
       "      <td>time_ctrl</td>\n",
       "      <td>0.052019</td>\n",
       "    </tr>\n",
       "    <tr>\n",
       "      <th>6</th>\n",
       "      <td>time_ext</td>\n",
       "      <td>0.051820</td>\n",
       "    </tr>\n",
       "    <tr>\n",
       "      <th>11</th>\n",
       "      <td>RACHA</td>\n",
       "      <td>0.049092</td>\n",
       "    </tr>\n",
       "    <tr>\n",
       "      <th>0</th>\n",
       "      <td>superficie</td>\n",
       "      <td>0.048333</td>\n",
       "    </tr>\n",
       "    <tr>\n",
       "      <th>14</th>\n",
       "      <td>PRES_RANGE</td>\n",
       "      <td>0.048220</td>\n",
       "    </tr>\n",
       "    <tr>\n",
       "      <th>8</th>\n",
       "      <td>medios</td>\n",
       "      <td>0.042186</td>\n",
       "    </tr>\n",
       "    <tr>\n",
       "      <th>29</th>\n",
       "      <td>Trimestre_Q3</td>\n",
       "      <td>0.017210</td>\n",
       "    </tr>\n",
       "    <tr>\n",
       "      <th>9</th>\n",
       "      <td>PRECIPITACION</td>\n",
       "      <td>0.013759</td>\n",
       "    </tr>\n",
       "    <tr>\n",
       "      <th>28</th>\n",
       "      <td>Trimestre_Q2</td>\n",
       "      <td>0.012738</td>\n",
       "    </tr>\n",
       "    <tr>\n",
       "      <th>27</th>\n",
       "      <td>Trimestre_Q1</td>\n",
       "      <td>0.012666</td>\n",
       "    </tr>\n",
       "    <tr>\n",
       "      <th>16</th>\n",
       "      <td>idprovincia_Ourense</td>\n",
       "      <td>0.012012</td>\n",
       "    </tr>\n",
       "    <tr>\n",
       "      <th>22</th>\n",
       "      <td>ALTITUD_Superior a 125</td>\n",
       "      <td>0.011527</td>\n",
       "    </tr>\n",
       "    <tr>\n",
       "      <th>26</th>\n",
       "      <td>VELMEDIA_&lt; 2 m/s</td>\n",
       "      <td>0.011082</td>\n",
       "    </tr>\n",
       "    <tr>\n",
       "      <th>15</th>\n",
       "      <td>idprovincia_A Coruña</td>\n",
       "      <td>0.009030</td>\n",
       "    </tr>\n",
       "    <tr>\n",
       "      <th>40</th>\n",
       "      <td>Mes_septiembre</td>\n",
       "      <td>0.008827</td>\n",
       "    </tr>\n",
       "    <tr>\n",
       "      <th>31</th>\n",
       "      <td>Mes_agosto</td>\n",
       "      <td>0.008610</td>\n",
       "    </tr>\n",
       "    <tr>\n",
       "      <th>23</th>\n",
       "      <td>VELMEDIA_2-4 m/s</td>\n",
       "      <td>0.008373</td>\n",
       "    </tr>\n",
       "    <tr>\n",
       "      <th>41</th>\n",
       "      <td>DIR_VIENTO_E</td>\n",
       "      <td>0.008048</td>\n",
       "    </tr>\n",
       "    <tr>\n",
       "      <th>47</th>\n",
       "      <td>DIR_VIENTO_W</td>\n",
       "      <td>0.007944</td>\n",
       "    </tr>\n",
       "    <tr>\n",
       "      <th>46</th>\n",
       "      <td>DIR_VIENTO_SW</td>\n",
       "      <td>0.007806</td>\n",
       "    </tr>\n",
       "    <tr>\n",
       "      <th>37</th>\n",
       "      <td>Mes_mayo</td>\n",
       "      <td>0.007577</td>\n",
       "    </tr>\n",
       "    <tr>\n",
       "      <th>42</th>\n",
       "      <td>DIR_VIENTO_N</td>\n",
       "      <td>0.007531</td>\n",
       "    </tr>\n",
       "    <tr>\n",
       "      <th>21</th>\n",
       "      <td>ALTITUD_Inferior a 80</td>\n",
       "      <td>0.007190</td>\n",
       "    </tr>\n",
       "    <tr>\n",
       "      <th>35</th>\n",
       "      <td>Mes_junio</td>\n",
       "      <td>0.006941</td>\n",
       "    </tr>\n",
       "    <tr>\n",
       "      <th>34</th>\n",
       "      <td>Mes_julio</td>\n",
       "      <td>0.006938</td>\n",
       "    </tr>\n",
       "    <tr>\n",
       "      <th>20</th>\n",
       "      <td>ALTITUD_Entre 100-125</td>\n",
       "      <td>0.006017</td>\n",
       "    </tr>\n",
       "    <tr>\n",
       "      <th>43</th>\n",
       "      <td>DIR_VIENTO_NW</td>\n",
       "      <td>0.005930</td>\n",
       "    </tr>\n",
       "    <tr>\n",
       "      <th>44</th>\n",
       "      <td>DIR_VIENTO_S</td>\n",
       "      <td>0.005651</td>\n",
       "    </tr>\n",
       "    <tr>\n",
       "      <th>19</th>\n",
       "      <td>gastos_NO INFO</td>\n",
       "      <td>0.005292</td>\n",
       "    </tr>\n",
       "    <tr>\n",
       "      <th>36</th>\n",
       "      <td>Mes_marzo</td>\n",
       "      <td>0.005168</td>\n",
       "    </tr>\n",
       "    <tr>\n",
       "      <th>30</th>\n",
       "      <td>Mes_abril</td>\n",
       "      <td>0.005119</td>\n",
       "    </tr>\n",
       "    <tr>\n",
       "      <th>17</th>\n",
       "      <td>idprovincia_Pontevedra</td>\n",
       "      <td>0.004288</td>\n",
       "    </tr>\n",
       "    <tr>\n",
       "      <th>24</th>\n",
       "      <td>VELMEDIA_4-6 m/s</td>\n",
       "      <td>0.004176</td>\n",
       "    </tr>\n",
       "    <tr>\n",
       "      <th>33</th>\n",
       "      <td>Mes_febrero</td>\n",
       "      <td>0.003953</td>\n",
       "    </tr>\n",
       "    <tr>\n",
       "      <th>45</th>\n",
       "      <td>DIR_VIENTO_SE</td>\n",
       "      <td>0.003720</td>\n",
       "    </tr>\n",
       "    <tr>\n",
       "      <th>39</th>\n",
       "      <td>Mes_octubre</td>\n",
       "      <td>0.003396</td>\n",
       "    </tr>\n",
       "    <tr>\n",
       "      <th>18</th>\n",
       "      <td>gastos_&gt;5K</td>\n",
       "      <td>0.002474</td>\n",
       "    </tr>\n",
       "    <tr>\n",
       "      <th>32</th>\n",
       "      <td>Mes_diciembre</td>\n",
       "      <td>0.002076</td>\n",
       "    </tr>\n",
       "    <tr>\n",
       "      <th>25</th>\n",
       "      <td>VELMEDIA_6-8 m/s</td>\n",
       "      <td>0.001746</td>\n",
       "    </tr>\n",
       "    <tr>\n",
       "      <th>38</th>\n",
       "      <td>Mes_noviembre</td>\n",
       "      <td>0.000735</td>\n",
       "    </tr>\n",
       "    <tr>\n",
       "      <th>4</th>\n",
       "      <td>heridos</td>\n",
       "      <td>0.000257</td>\n",
       "    </tr>\n",
       "    <tr>\n",
       "      <th>3</th>\n",
       "      <td>muertos</td>\n",
       "      <td>0.000223</td>\n",
       "    </tr>\n",
       "  </tbody>\n",
       "</table>\n",
       "</div>"
      ],
      "text/plain": [
       "       variable_predictora  importancia\n",
       "10                    TMAX     0.092413\n",
       "1                      lat     0.092050\n",
       "2                      lng     0.087564\n",
       "7                 personal     0.069899\n",
       "13                     Año     0.064815\n",
       "12                     SOL     0.055560\n",
       "5                time_ctrl     0.052019\n",
       "6                 time_ext     0.051820\n",
       "11                   RACHA     0.049092\n",
       "0               superficie     0.048333\n",
       "14              PRES_RANGE     0.048220\n",
       "8                   medios     0.042186\n",
       "29            Trimestre_Q3     0.017210\n",
       "9            PRECIPITACION     0.013759\n",
       "28            Trimestre_Q2     0.012738\n",
       "27            Trimestre_Q1     0.012666\n",
       "16     idprovincia_Ourense     0.012012\n",
       "22  ALTITUD_Superior a 125     0.011527\n",
       "26        VELMEDIA_< 2 m/s     0.011082\n",
       "15    idprovincia_A Coruña     0.009030\n",
       "40          Mes_septiembre     0.008827\n",
       "31              Mes_agosto     0.008610\n",
       "23        VELMEDIA_2-4 m/s     0.008373\n",
       "41            DIR_VIENTO_E     0.008048\n",
       "47            DIR_VIENTO_W     0.007944\n",
       "46           DIR_VIENTO_SW     0.007806\n",
       "37                Mes_mayo     0.007577\n",
       "42            DIR_VIENTO_N     0.007531\n",
       "21   ALTITUD_Inferior a 80     0.007190\n",
       "35               Mes_junio     0.006941\n",
       "34               Mes_julio     0.006938\n",
       "20   ALTITUD_Entre 100-125     0.006017\n",
       "43           DIR_VIENTO_NW     0.005930\n",
       "44            DIR_VIENTO_S     0.005651\n",
       "19          gastos_NO INFO     0.005292\n",
       "36               Mes_marzo     0.005168\n",
       "30               Mes_abril     0.005119\n",
       "17  idprovincia_Pontevedra     0.004288\n",
       "24        VELMEDIA_4-6 m/s     0.004176\n",
       "33             Mes_febrero     0.003953\n",
       "45           DIR_VIENTO_SE     0.003720\n",
       "39             Mes_octubre     0.003396\n",
       "18              gastos_>5K     0.002474\n",
       "32           Mes_diciembre     0.002076\n",
       "25        VELMEDIA_6-8 m/s     0.001746\n",
       "38           Mes_noviembre     0.000735\n",
       "4                  heridos     0.000257\n",
       "3                  muertos     0.000223"
      ]
     },
     "execution_count": 147,
     "metadata": {},
     "output_type": "execute_result"
    }
   ],
   "source": [
    "importancia_predictores = pd.DataFrame(\n",
    "                            {'variable_predictora': X_train.columns,\n",
    "                             'importancia': rf_importancia.feature_importances_}\n",
    "                            )\n",
    "\n",
    "print(\"\\n Importancia de las variables predictoras en el modelo \")\n",
    "print(\"_________________________________________________________\")\n",
    "\n",
    "importancia_predictores.sort_values('importancia', ascending=False)"
   ]
  },
  {
   "cell_type": "code",
   "execution_count": null,
   "metadata": {},
   "outputs": [],
   "source": []
  },
  {
   "cell_type": "code",
   "execution_count": null,
   "metadata": {},
   "outputs": [],
   "source": []
  },
  {
   "cell_type": "markdown",
   "metadata": {},
   "source": [
    "Compute a confusion matrix for each class or sample.\n",
    "\n",
    "Compute class-wise (default) or sample-wise (samplewise=True) multilabel confusion matrix to evaluate the accuracy of a classification, and output confusion matrices for each class or sample.\n",
    "\n",
    "In **multilabel confusion matrix** , the count of true negatives is ... , false negatives is ... , true positives is  and false positives is ....\n",
    "\n",
    "**Multiclass** data will be treated as if binarized under a one-vs-rest transformation. Returned confusion matrices will be in the order of sorted unique labels in the union of (y_true, y_pred)."
   ]
  },
  {
   "cell_type": "code",
   "execution_count": null,
   "metadata": {},
   "outputs": [],
   "source": [
    "from sklearn.metrics import multilabel_confusion_matrix"
   ]
  },
  {
   "cell_type": "markdown",
   "metadata": {},
   "source": [
    "### Multilabel-indicator"
   ]
  },
  {
   "cell_type": "code",
   "execution_count": 151,
   "metadata": {},
   "outputs": [],
   "source": [
    "from sklearn.metrics import multilabel_confusion_matrix"
   ]
  },
  {
   "cell_type": "code",
   "execution_count": 152,
   "metadata": {},
   "outputs": [
    {
     "data": {
      "text/plain": [
       "array([[[3643,    1],\n",
       "        [ 247,    2]],\n",
       "\n",
       "       [[3828,    0],\n",
       "        [  65,    0]],\n",
       "\n",
       "       [[   8,  497],\n",
       "        [   5, 3383]],\n",
       "\n",
       "       [[3731,    2],\n",
       "        [ 160,    0]],\n",
       "\n",
       "       [[3859,    3],\n",
       "        [  26,    5]]], dtype=int64)"
      ]
     },
     "execution_count": 152,
     "metadata": {},
     "output_type": "execute_result"
    }
   ],
   "source": [
    "multilabel_confusion_matrix(y_test, y_pred)"
   ]
  },
  {
   "cell_type": "code",
   "execution_count": 153,
   "metadata": {},
   "outputs": [
    {
     "data": {
      "text/plain": [
       "array([2, 0, 3, 4, 1])"
      ]
     },
     "execution_count": 153,
     "metadata": {},
     "output_type": "execute_result"
    }
   ],
   "source": [
    "y_test.unique()"
   ]
  },
  {
   "cell_type": "code",
   "execution_count": null,
   "metadata": {},
   "outputs": [],
   "source": []
  },
  {
   "cell_type": "markdown",
   "metadata": {},
   "source": [
    "### Multiclass "
   ]
  },
  {
   "cell_type": "code",
   "execution_count": 149,
   "metadata": {},
   "outputs": [],
   "source": [
    "from sklearn.metrics import multilabel_confusion_matrix"
   ]
  },
  {
   "cell_type": "code",
   "execution_count": 150,
   "metadata": {},
   "outputs": [
    {
     "data": {
      "text/plain": [
       "array([[[   8,  497],\n",
       "        [   5, 3383]],\n",
       "\n",
       "       [[3643,    1],\n",
       "        [ 247,    2]],\n",
       "\n",
       "       [[3731,    2],\n",
       "        [ 160,    0]],\n",
       "\n",
       "       [[3859,    3],\n",
       "        [  26,    5]],\n",
       "\n",
       "       [[3828,    0],\n",
       "        [  65,    0]]], dtype=int64)"
      ]
     },
     "execution_count": 150,
     "metadata": {},
     "output_type": "execute_result"
    }
   ],
   "source": [
    "multilabel_confusion_matrix(y_test, y_pred, labels=y_test.unique())"
   ]
  },
  {
   "cell_type": "code",
   "execution_count": 154,
   "metadata": {},
   "outputs": [
    {
     "data": {
      "text/plain": [
       "array([2, 0, 3, 4, 1])"
      ]
     },
     "execution_count": 154,
     "metadata": {},
     "output_type": "execute_result"
    }
   ],
   "source": [
    "y_test.unique()"
   ]
  },
  {
   "cell_type": "code",
   "execution_count": null,
   "metadata": {},
   "outputs": [],
   "source": []
  },
  {
   "cell_type": "markdown",
   "metadata": {},
   "source": [
    "### Evaluar varios modelos para elegir el que mejor resultado devuelve en cuanto a las métricas evaluadas "
   ]
  },
  {
   "cell_type": "code",
   "execution_count": null,
   "metadata": {},
   "outputs": [],
   "source": [
    "eliminar = ['muertos', 'heridos', 'Mes_noviembre', 'VELMEDIA_6-8 m/s']  # y otras variables que se desea eliminar, ya que \n",
    "                                                                        # resulta que no son tan importantes\n",
    "\n",
    "for var in eliminar:\n",
    "    df_galicia_total.drop(var, axis=1, inplace=True)"
   ]
  },
  {
   "cell_type": "code",
   "execution_count": null,
   "metadata": {},
   "outputs": [],
   "source": [
    "X_train, X_test, y_train, y_test = train_test_split(df_galicia_total,\n",
    "                                                    target_cat,\n",
    "                                                    test_size=0.3,\n",
    "                                                    random_state=19,\n",
    "                                                    stratify = target_cat)"
   ]
  },
  {
   "cell_type": "code",
   "execution_count": null,
   "metadata": {},
   "outputs": [],
   "source": []
  },
  {
   "cell_type": "code",
   "execution_count": null,
   "metadata": {},
   "outputs": [],
   "source": [
    "# Listado con los modelos a evaluar\n",
    "def get_models():\n",
    "    models=dict()\n",
    "    models['Reg_log'] = LogisticRegression(solver='newton-cg')\n",
    "    models['Dec_Tree'] = DecisionTreeClassifier(max_depth=10)\n",
    "    models['Rand_Forest'] = RandomForestClassifier(n_estimators=100, criterion='entropy', max_depth=10)\n",
    "    models['XGBoost'] = XGBClassifier(n_jobs=-1,n_estimators=100)\n",
    "    return models\n",
    "    \n",
    "    \n",
    "    \n",
    "# Evaluar los modelos usando la Validación cruzada\n",
    "def evaluate_model(model, X, y):\n",
    "    cv = RepeatedStratifiedKFold(n_splits=10, n_repeats=5, random_state=1)\n",
    "    scores_cv = cross_val_score(model, X, y, scoring= 'accuracy', cv=cv, n_jobs=-1, error_score='raise')\n",
    "    return scores_cv\n"
   ]
  },
  {
   "cell_type": "code",
   "execution_count": null,
   "metadata": {},
   "outputs": [],
   "source": [
    "# Lista con los modelos a evaluar\n",
    "models = get_models()\n",
    "\n",
    "# Evaluar los modelos y guardar los resultados (score, media y desviación típica)\n",
    "results, names = list(), list()\n",
    "for name, model in models.items():\n",
    "    scores = evaluate_model(model, X_train, y_train)\n",
    "    results.append(scores)\n",
    "    names.append(name)\n",
    "    print('>%s %.3f (%.3f)' % (name, mean(scores), std(scores)))"
   ]
  },
  {
   "cell_type": "code",
   "execution_count": null,
   "metadata": {},
   "outputs": [],
   "source": [
    "# Visualizar graficamente los modelos evaluados - BOXPLOT\n",
    "pyplot.boxplot(results, labels=names, showmeans=True)\n",
    "pyplot.show()"
   ]
  },
  {
   "cell_type": "code",
   "execution_count": null,
   "metadata": {},
   "outputs": [],
   "source": []
  }
 ],
 "metadata": {
  "kernelspec": {
   "display_name": "Python 3",
   "language": "python",
   "name": "python3"
  },
  "language_info": {
   "codemirror_mode": {
    "name": "ipython",
    "version": 3
   },
   "file_extension": ".py",
   "mimetype": "text/x-python",
   "name": "python",
   "nbconvert_exporter": "python",
   "pygments_lexer": "ipython3",
   "version": "3.8.8"
  }
 },
 "nbformat": 4,
 "nbformat_minor": 4
}
