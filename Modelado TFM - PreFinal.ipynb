{
 "cells": [
  {
   "cell_type": "markdown",
   "id": "7c4af361",
   "metadata": {},
   "source": [
    "# --- Modelado"
   ]
  },
  {
   "cell_type": "markdown",
   "id": "c78f482a",
   "metadata": {},
   "source": [
    "## Cargamos librerias"
   ]
  },
  {
   "cell_type": "code",
   "execution_count": 1,
   "id": "3cc9fbf5",
   "metadata": {},
   "outputs": [
    {
     "name": "stdout",
     "output_type": "stream",
     "text": [
      "Requirement already satisfied: tensorflow in c:\\users\\rtx9652\\anaconda3\\lib\\site-packages (2.6.0)\n",
      "Requirement already satisfied: h5py~=3.1.0 in c:\\users\\rtx9652\\anaconda3\\lib\\site-packages (from tensorflow) (3.1.0)\n",
      "Requirement already satisfied: astunparse~=1.6.3 in c:\\users\\rtx9652\\anaconda3\\lib\\site-packages (from tensorflow) (1.6.3)\n",
      "Requirement already satisfied: google-pasta~=0.2 in c:\\users\\rtx9652\\anaconda3\\lib\\site-packages (from tensorflow) (0.2.0)\n",
      "Requirement already satisfied: opt-einsum~=3.3.0 in c:\\users\\rtx9652\\anaconda3\\lib\\site-packages (from tensorflow) (3.3.0)\n",
      "Requirement already satisfied: clang~=5.0 in c:\\users\\rtx9652\\anaconda3\\lib\\site-packages (from tensorflow) (5.0)\n",
      "Requirement already satisfied: wheel~=0.35 in c:\\users\\rtx9652\\anaconda3\\lib\\site-packages (from tensorflow) (0.36.2)\n",
      "Requirement already satisfied: gast==0.4.0 in c:\\users\\rtx9652\\anaconda3\\lib\\site-packages (from tensorflow) (0.4.0)\n",
      "Requirement already satisfied: grpcio<2.0,>=1.37.0 in c:\\users\\rtx9652\\anaconda3\\lib\\site-packages (from tensorflow) (1.39.0)\n",
      "Requirement already satisfied: tensorboard~=2.6 in c:\\users\\rtx9652\\anaconda3\\lib\\site-packages (from tensorflow) (2.6.0)\n",
      "Requirement already satisfied: keras-preprocessing~=1.1.2 in c:\\users\\rtx9652\\anaconda3\\lib\\site-packages (from tensorflow) (1.1.2)\n",
      "Requirement already satisfied: tensorflow-estimator~=2.6 in c:\\users\\rtx9652\\anaconda3\\lib\\site-packages (from tensorflow) (2.6.0)\n",
      "Requirement already satisfied: typing-extensions~=3.7.4 in c:\\users\\rtx9652\\anaconda3\\lib\\site-packages (from tensorflow) (3.7.4.3)\n",
      "Requirement already satisfied: numpy~=1.19.2 in c:\\users\\rtx9652\\anaconda3\\lib\\site-packages (from tensorflow) (1.19.5)\n",
      "Requirement already satisfied: absl-py~=0.10 in c:\\users\\rtx9652\\anaconda3\\lib\\site-packages (from tensorflow) (0.13.0)\n",
      "Requirement already satisfied: six~=1.15.0 in c:\\users\\rtx9652\\anaconda3\\lib\\site-packages (from tensorflow) (1.15.0)\n",
      "Requirement already satisfied: protobuf>=3.9.2 in c:\\users\\rtx9652\\anaconda3\\lib\\site-packages (from tensorflow) (3.17.3)\n",
      "Requirement already satisfied: wrapt~=1.12.1 in c:\\users\\rtx9652\\anaconda3\\lib\\site-packages (from tensorflow) (1.12.1)\n",
      "Requirement already satisfied: keras~=2.6 in c:\\users\\rtx9652\\anaconda3\\lib\\site-packages (from tensorflow) (2.6.0)\n",
      "Requirement already satisfied: termcolor~=1.1.0 in c:\\users\\rtx9652\\anaconda3\\lib\\site-packages (from tensorflow) (1.1.0)\n",
      "Requirement already satisfied: flatbuffers~=1.12.0 in c:\\users\\rtx9652\\anaconda3\\lib\\site-packages (from tensorflow) (1.12)\n",
      "Requirement already satisfied: google-auth-oauthlib<0.5,>=0.4.1 in c:\\users\\rtx9652\\anaconda3\\lib\\site-packages (from tensorboard~=2.6->tensorflow) (0.4.5)\n",
      "Requirement already satisfied: tensorboard-data-server<0.7.0,>=0.6.0 in c:\\users\\rtx9652\\anaconda3\\lib\\site-packages (from tensorboard~=2.6->tensorflow) (0.6.1)\n",
      "Requirement already satisfied: markdown>=2.6.8 in c:\\users\\rtx9652\\anaconda3\\lib\\site-packages (from tensorboard~=2.6->tensorflow) (3.3.4)\n",
      "Requirement already satisfied: tensorboard-plugin-wit>=1.6.0 in c:\\users\\rtx9652\\anaconda3\\lib\\site-packages (from tensorboard~=2.6->tensorflow) (1.8.0)\n",
      "Requirement already satisfied: requests<3,>=2.21.0 in c:\\users\\rtx9652\\anaconda3\\lib\\site-packages (from tensorboard~=2.6->tensorflow) (2.25.1)\n",
      "Requirement already satisfied: google-auth<2,>=1.6.3 in c:\\users\\rtx9652\\anaconda3\\lib\\site-packages (from tensorboard~=2.6->tensorflow) (1.35.0)\n",
      "Requirement already satisfied: werkzeug>=0.11.15 in c:\\users\\rtx9652\\anaconda3\\lib\\site-packages (from tensorboard~=2.6->tensorflow) (1.0.1)\n",
      "Requirement already satisfied: setuptools>=41.0.0 in c:\\users\\rtx9652\\anaconda3\\lib\\site-packages (from tensorboard~=2.6->tensorflow) (52.0.0.post20210125)\n",
      "Requirement already satisfied: rsa<5,>=3.1.4 in c:\\users\\rtx9652\\anaconda3\\lib\\site-packages (from google-auth<2,>=1.6.3->tensorboard~=2.6->tensorflow) (4.7.2)\n",
      "Requirement already satisfied: pyasn1-modules>=0.2.1 in c:\\users\\rtx9652\\anaconda3\\lib\\site-packages (from google-auth<2,>=1.6.3->tensorboard~=2.6->tensorflow) (0.2.8)\n",
      "Requirement already satisfied: cachetools<5.0,>=2.0.0 in c:\\users\\rtx9652\\anaconda3\\lib\\site-packages (from google-auth<2,>=1.6.3->tensorboard~=2.6->tensorflow) (4.2.2)\n",
      "Requirement already satisfied: requests-oauthlib>=0.7.0 in c:\\users\\rtx9652\\anaconda3\\lib\\site-packages (from google-auth-oauthlib<0.5,>=0.4.1->tensorboard~=2.6->tensorflow) (1.3.0)\n",
      "Requirement already satisfied: pyasn1<0.5.0,>=0.4.6 in c:\\users\\rtx9652\\anaconda3\\lib\\site-packages (from pyasn1-modules>=0.2.1->google-auth<2,>=1.6.3->tensorboard~=2.6->tensorflow) (0.4.8)\n",
      "Requirement already satisfied: certifi>=2017.4.17 in c:\\users\\rtx9652\\anaconda3\\lib\\site-packages (from requests<3,>=2.21.0->tensorboard~=2.6->tensorflow) (2020.12.5)\n",
      "Requirement already satisfied: chardet<5,>=3.0.2 in c:\\users\\rtx9652\\anaconda3\\lib\\site-packages (from requests<3,>=2.21.0->tensorboard~=2.6->tensorflow) (4.0.0)\n",
      "Requirement already satisfied: idna<3,>=2.5 in c:\\users\\rtx9652\\anaconda3\\lib\\site-packages (from requests<3,>=2.21.0->tensorboard~=2.6->tensorflow) (2.10)\n",
      "Requirement already satisfied: urllib3<1.27,>=1.21.1 in c:\\users\\rtx9652\\anaconda3\\lib\\site-packages (from requests<3,>=2.21.0->tensorboard~=2.6->tensorflow) (1.26.4)\n",
      "Requirement already satisfied: oauthlib>=3.0.0 in c:\\users\\rtx9652\\anaconda3\\lib\\site-packages (from requests-oauthlib>=0.7.0->google-auth-oauthlib<0.5,>=0.4.1->tensorboard~=2.6->tensorflow) (3.1.1)\n"
     ]
    }
   ],
   "source": [
    "!pip install tensorflow\n",
    "import io\n",
    "import matplotlib.pyplot as plt\n",
    "import numpy as np\n",
    "import pandas as pd\n",
    "import pickle\n",
    "import requests\n",
    "import seaborn as sns\n",
    "import sklearn.multiclass\n",
    "import tensorflow as tf\n",
    "from datetime import datetime,timedelta\n",
    "from numpy import array \n",
    "from pandas.plotting import scatter_matrix\n",
    "from sklearn import naive_bayes\n",
    "from sklearn import svm\n",
    "from sklearn.datasets import make_classification\n",
    "from sklearn.ensemble import RandomForestClassifier\n",
    "from sklearn.feature_selection import chi2, f_regression\n",
    "from sklearn.feature_selection import SelectFromModel\n",
    "from sklearn.feature_selection import SelectKBest,f_classif\n",
    "from sklearn.feature_selection import VarianceThreshold\n",
    "from sklearn.linear_model import LinearRegression\n",
    "from sklearn.metrics import accuracy_score, auc, confusion_matrix, f1_score, precision_score, recall_score, roc_curve\n",
    "from sklearn.metrics import mean_squared_error\n",
    "from sklearn.model_selection import cross_val_score\n",
    "from sklearn.model_selection import GridSearchCV\n",
    "from sklearn.model_selection import train_test_split\n",
    "from sklearn.tree import DecisionTreeClassifier\n",
    "from sklearn.tree import DecisionTreeRegressor\n",
    "from sklearn.tree import export_graphviz\n",
    "from sklearn.tree import export_text\n",
    "from sklearn.tree import plot_tree\n",
    "from tensorflow import keras\n",
    "from sklearn.model_selection import RepeatedKFold\n",
    "from sklearn.ensemble import GradientBoostingClassifier\n",
    "from sklearn.model_selection import RepeatedStratifiedKFold\n",
    "from matplotlib import pyplot\n",
    "from sklearn.metrics import multilabel_confusion_matrix"
   ]
  },
  {
   "cell_type": "markdown",
   "id": "6e4fa1d0",
   "metadata": {},
   "source": [
    "## Vamos a leer nuestra base de datos"
   ]
  },
  {
   "cell_type": "code",
   "execution_count": 2,
   "id": "ffe65b29",
   "metadata": {},
   "outputs": [],
   "source": [
    "url=\"https://raw.githubusercontent.com/TFM123456/Big_Data_and_Data_Science_UCM/main/datos_galicia_limpio.csv\"\n",
    "s=requests.get(url).content\n",
    "datos_galicia=pd.read_csv(io.StringIO(s.decode('ISO-8859-1')))"
   ]
  },
  {
   "cell_type": "code",
   "execution_count": 3,
   "id": "f0192d4c",
   "metadata": {},
   "outputs": [
    {
     "data": {
      "text/html": [
       "<div>\n",
       "<style scoped>\n",
       "    .dataframe tbody tr th:only-of-type {\n",
       "        vertical-align: middle;\n",
       "    }\n",
       "\n",
       "    .dataframe tbody tr th {\n",
       "        vertical-align: top;\n",
       "    }\n",
       "\n",
       "    .dataframe thead th {\n",
       "        text-align: right;\n",
       "    }\n",
       "</style>\n",
       "<table border=\"1\" class=\"dataframe\">\n",
       "  <thead>\n",
       "    <tr style=\"text-align: right;\">\n",
       "      <th></th>\n",
       "      <th>Unnamed: 0</th>\n",
       "      <th>id</th>\n",
       "      <th>superficie</th>\n",
       "      <th>fecha</th>\n",
       "      <th>lat</th>\n",
       "      <th>lng</th>\n",
       "      <th>idprovincia</th>\n",
       "      <th>idmunicipio</th>\n",
       "      <th>causa</th>\n",
       "      <th>muertos</th>\n",
       "      <th>...</th>\n",
       "      <th>TMIN</th>\n",
       "      <th>TMAX</th>\n",
       "      <th>VELMEDIA</th>\n",
       "      <th>RACHA</th>\n",
       "      <th>SOL</th>\n",
       "      <th>Trimestre</th>\n",
       "      <th>Mes</th>\n",
       "      <th>Año</th>\n",
       "      <th>DIR_VIENTO</th>\n",
       "      <th>PRES_RANGE</th>\n",
       "    </tr>\n",
       "  </thead>\n",
       "  <tbody>\n",
       "    <tr>\n",
       "      <th>0</th>\n",
       "      <td>1</td>\n",
       "      <td>2001150021</td>\n",
       "      <td>5.0</td>\n",
       "      <td>2001-02-20</td>\n",
       "      <td>43.703581</td>\n",
       "      <td>-8.038777</td>\n",
       "      <td>A Coruña</td>\n",
       "      <td>CEDEIRA</td>\n",
       "      <td>negligencia</td>\n",
       "      <td>0</td>\n",
       "      <td>...</td>\n",
       "      <td>7.0</td>\n",
       "      <td>15.6</td>\n",
       "      <td>2-4 m/s</td>\n",
       "      <td>16.9</td>\n",
       "      <td>10.2</td>\n",
       "      <td>Q1</td>\n",
       "      <td>febrero</td>\n",
       "      <td>2001</td>\n",
       "      <td>E</td>\n",
       "      <td>4.4</td>\n",
       "    </tr>\n",
       "    <tr>\n",
       "      <th>1</th>\n",
       "      <td>3</td>\n",
       "      <td>2001150094</td>\n",
       "      <td>1.5</td>\n",
       "      <td>2001-02-25</td>\n",
       "      <td>43.186836</td>\n",
       "      <td>-8.685470</td>\n",
       "      <td>A Coruña</td>\n",
       "      <td>CARBALLO</td>\n",
       "      <td>intencionado</td>\n",
       "      <td>0</td>\n",
       "      <td>...</td>\n",
       "      <td>6.5</td>\n",
       "      <td>11.6</td>\n",
       "      <td>4-6 m/s</td>\n",
       "      <td>11.1</td>\n",
       "      <td>10.2</td>\n",
       "      <td>Q1</td>\n",
       "      <td>febrero</td>\n",
       "      <td>2001</td>\n",
       "      <td>NE</td>\n",
       "      <td>4.7</td>\n",
       "    </tr>\n",
       "    <tr>\n",
       "      <th>2</th>\n",
       "      <td>5</td>\n",
       "      <td>2001150145</td>\n",
       "      <td>1.5</td>\n",
       "      <td>2001-04-13</td>\n",
       "      <td>43.699889</td>\n",
       "      <td>-7.984566</td>\n",
       "      <td>A Coruña</td>\n",
       "      <td>CEDEIRA</td>\n",
       "      <td>negligencia</td>\n",
       "      <td>0</td>\n",
       "      <td>...</td>\n",
       "      <td>10.4</td>\n",
       "      <td>17.4</td>\n",
       "      <td>4-6 m/s</td>\n",
       "      <td>13.9</td>\n",
       "      <td>12.1</td>\n",
       "      <td>Q2</td>\n",
       "      <td>abril</td>\n",
       "      <td>2001</td>\n",
       "      <td>NE</td>\n",
       "      <td>3.2</td>\n",
       "    </tr>\n",
       "    <tr>\n",
       "      <th>3</th>\n",
       "      <td>6</td>\n",
       "      <td>2001150151</td>\n",
       "      <td>1.1</td>\n",
       "      <td>2001-04-13</td>\n",
       "      <td>42.758649</td>\n",
       "      <td>-8.917814</td>\n",
       "      <td>A Coruña</td>\n",
       "      <td>LOUSAME</td>\n",
       "      <td>causa desconocida</td>\n",
       "      <td>0</td>\n",
       "      <td>...</td>\n",
       "      <td>10.4</td>\n",
       "      <td>17.4</td>\n",
       "      <td>4-6 m/s</td>\n",
       "      <td>13.9</td>\n",
       "      <td>12.1</td>\n",
       "      <td>Q2</td>\n",
       "      <td>abril</td>\n",
       "      <td>2001</td>\n",
       "      <td>NE</td>\n",
       "      <td>3.2</td>\n",
       "    </tr>\n",
       "    <tr>\n",
       "      <th>4</th>\n",
       "      <td>7</td>\n",
       "      <td>2001150153</td>\n",
       "      <td>1.5</td>\n",
       "      <td>2001-04-13</td>\n",
       "      <td>43.063218</td>\n",
       "      <td>-9.235604</td>\n",
       "      <td>A Coruña</td>\n",
       "      <td>MUXÃÂA</td>\n",
       "      <td>intencionado</td>\n",
       "      <td>0</td>\n",
       "      <td>...</td>\n",
       "      <td>10.4</td>\n",
       "      <td>17.4</td>\n",
       "      <td>4-6 m/s</td>\n",
       "      <td>13.9</td>\n",
       "      <td>12.1</td>\n",
       "      <td>Q2</td>\n",
       "      <td>abril</td>\n",
       "      <td>2001</td>\n",
       "      <td>NE</td>\n",
       "      <td>3.2</td>\n",
       "    </tr>\n",
       "  </tbody>\n",
       "</table>\n",
       "<p>5 rows × 29 columns</p>\n",
       "</div>"
      ],
      "text/plain": [
       "   Unnamed: 0          id  superficie       fecha        lat       lng  \\\n",
       "0           1  2001150021         5.0  2001-02-20  43.703581 -8.038777   \n",
       "1           3  2001150094         1.5  2001-02-25  43.186836 -8.685470   \n",
       "2           5  2001150145         1.5  2001-04-13  43.699889 -7.984566   \n",
       "3           6  2001150151         1.1  2001-04-13  42.758649 -8.917814   \n",
       "4           7  2001150153         1.5  2001-04-13  43.063218 -9.235604   \n",
       "\n",
       "  idprovincia idmunicipio              causa  muertos  ...  TMIN  TMAX  \\\n",
       "0    A Coruña     CEDEIRA        negligencia        0  ...   7.0  15.6   \n",
       "1    A Coruña    CARBALLO       intencionado        0  ...   6.5  11.6   \n",
       "2    A Coruña     CEDEIRA        negligencia        0  ...  10.4  17.4   \n",
       "3    A Coruña     LOUSAME  causa desconocida        0  ...  10.4  17.4   \n",
       "4    A Coruña    MUXÃÂA       intencionado        0  ...  10.4  17.4   \n",
       "\n",
       "   VELMEDIA  RACHA   SOL Trimestre      Mes   Año  DIR_VIENTO  PRES_RANGE  \n",
       "0   2-4 m/s   16.9  10.2        Q1  febrero  2001           E         4.4  \n",
       "1   4-6 m/s   11.1  10.2        Q1  febrero  2001          NE         4.7  \n",
       "2   4-6 m/s   13.9  12.1        Q2    abril  2001          NE         3.2  \n",
       "3   4-6 m/s   13.9  12.1        Q2    abril  2001          NE         3.2  \n",
       "4   4-6 m/s   13.9  12.1        Q2    abril  2001          NE         3.2  \n",
       "\n",
       "[5 rows x 29 columns]"
      ]
     },
     "execution_count": 3,
     "metadata": {},
     "output_type": "execute_result"
    }
   ],
   "source": [
    "datos_galicia.head()"
   ]
  },
  {
   "cell_type": "markdown",
   "id": "f84efdee",
   "metadata": {},
   "source": [
    "Vamos a eliminar el id y la columna unnamed"
   ]
  },
  {
   "cell_type": "code",
   "execution_count": 4,
   "id": "b9ab768c",
   "metadata": {},
   "outputs": [],
   "source": [
    "datos_galicia = datos_galicia.drop(columns=[\"Unnamed: 0\"])"
   ]
  },
  {
   "cell_type": "code",
   "execution_count": 5,
   "id": "939e79df",
   "metadata": {},
   "outputs": [],
   "source": [
    "datos_galicia = datos_galicia.drop(columns=[\"id\"])"
   ]
  },
  {
   "cell_type": "code",
   "execution_count": 6,
   "id": "6ef306cc",
   "metadata": {},
   "outputs": [
    {
     "data": {
      "text/html": [
       "<div>\n",
       "<style scoped>\n",
       "    .dataframe tbody tr th:only-of-type {\n",
       "        vertical-align: middle;\n",
       "    }\n",
       "\n",
       "    .dataframe tbody tr th {\n",
       "        vertical-align: top;\n",
       "    }\n",
       "\n",
       "    .dataframe thead th {\n",
       "        text-align: right;\n",
       "    }\n",
       "</style>\n",
       "<table border=\"1\" class=\"dataframe\">\n",
       "  <thead>\n",
       "    <tr style=\"text-align: right;\">\n",
       "      <th></th>\n",
       "      <th>superficie</th>\n",
       "      <th>lat</th>\n",
       "      <th>lng</th>\n",
       "      <th>muertos</th>\n",
       "      <th>heridos</th>\n",
       "      <th>time_ctrl</th>\n",
       "      <th>time_ext</th>\n",
       "      <th>personal</th>\n",
       "      <th>medios</th>\n",
       "      <th>TMEDIA</th>\n",
       "      <th>PRECIPITACION</th>\n",
       "      <th>TMIN</th>\n",
       "      <th>TMAX</th>\n",
       "      <th>RACHA</th>\n",
       "      <th>SOL</th>\n",
       "      <th>Año</th>\n",
       "      <th>PRES_RANGE</th>\n",
       "    </tr>\n",
       "  </thead>\n",
       "  <tbody>\n",
       "    <tr>\n",
       "      <th>count</th>\n",
       "      <td>12976.000000</td>\n",
       "      <td>12976.000000</td>\n",
       "      <td>12976.000000</td>\n",
       "      <td>12976.000000</td>\n",
       "      <td>12976.000000</td>\n",
       "      <td>12976.000000</td>\n",
       "      <td>12976.000000</td>\n",
       "      <td>12976.000000</td>\n",
       "      <td>12976.000000</td>\n",
       "      <td>12976.000000</td>\n",
       "      <td>12976.000000</td>\n",
       "      <td>12976.000000</td>\n",
       "      <td>12976.000000</td>\n",
       "      <td>12976.000000</td>\n",
       "      <td>12976.000000</td>\n",
       "      <td>12976.000000</td>\n",
       "      <td>12976.000000</td>\n",
       "    </tr>\n",
       "    <tr>\n",
       "      <th>mean</th>\n",
       "      <td>2.586703</td>\n",
       "      <td>42.555421</td>\n",
       "      <td>-7.994614</td>\n",
       "      <td>0.000077</td>\n",
       "      <td>0.000462</td>\n",
       "      <td>1.781149</td>\n",
       "      <td>1.781149</td>\n",
       "      <td>12.281520</td>\n",
       "      <td>1.964396</td>\n",
       "      <td>16.584664</td>\n",
       "      <td>0.132167</td>\n",
       "      <td>9.717810</td>\n",
       "      <td>23.452366</td>\n",
       "      <td>8.537230</td>\n",
       "      <td>8.547102</td>\n",
       "      <td>2005.592555</td>\n",
       "      <td>3.836675</td>\n",
       "    </tr>\n",
       "    <tr>\n",
       "      <th>std</th>\n",
       "      <td>1.863610</td>\n",
       "      <td>0.451212</td>\n",
       "      <td>0.562395</td>\n",
       "      <td>0.008779</td>\n",
       "      <td>0.021499</td>\n",
       "      <td>0.894420</td>\n",
       "      <td>0.894420</td>\n",
       "      <td>7.252796</td>\n",
       "      <td>1.674277</td>\n",
       "      <td>5.954963</td>\n",
       "      <td>0.338685</td>\n",
       "      <td>6.252533</td>\n",
       "      <td>7.001220</td>\n",
       "      <td>3.298872</td>\n",
       "      <td>3.549735</td>\n",
       "      <td>3.828872</td>\n",
       "      <td>1.639618</td>\n",
       "    </tr>\n",
       "    <tr>\n",
       "      <th>min</th>\n",
       "      <td>1.000000</td>\n",
       "      <td>41.833819</td>\n",
       "      <td>-9.293500</td>\n",
       "      <td>0.000000</td>\n",
       "      <td>0.000000</td>\n",
       "      <td>0.040000</td>\n",
       "      <td>0.040000</td>\n",
       "      <td>0.000000</td>\n",
       "      <td>0.000000</td>\n",
       "      <td>-1.300000</td>\n",
       "      <td>0.000000</td>\n",
       "      <td>-8.600000</td>\n",
       "      <td>5.600000</td>\n",
       "      <td>1.700000</td>\n",
       "      <td>0.000000</td>\n",
       "      <td>2001.000000</td>\n",
       "      <td>0.000000</td>\n",
       "    </tr>\n",
       "    <tr>\n",
       "      <th>25%</th>\n",
       "      <td>1.250000</td>\n",
       "      <td>42.189372</td>\n",
       "      <td>-8.422458</td>\n",
       "      <td>0.000000</td>\n",
       "      <td>0.000000</td>\n",
       "      <td>1.170000</td>\n",
       "      <td>1.170000</td>\n",
       "      <td>6.000000</td>\n",
       "      <td>1.000000</td>\n",
       "      <td>12.400000</td>\n",
       "      <td>0.000000</td>\n",
       "      <td>5.200000</td>\n",
       "      <td>18.600000</td>\n",
       "      <td>6.100000</td>\n",
       "      <td>6.500000</td>\n",
       "      <td>2003.000000</td>\n",
       "      <td>2.600000</td>\n",
       "    </tr>\n",
       "    <tr>\n",
       "      <th>50%</th>\n",
       "      <td>2.000000</td>\n",
       "      <td>42.470163</td>\n",
       "      <td>-7.987553</td>\n",
       "      <td>0.000000</td>\n",
       "      <td>0.000000</td>\n",
       "      <td>1.500000</td>\n",
       "      <td>1.500000</td>\n",
       "      <td>11.000000</td>\n",
       "      <td>2.000000</td>\n",
       "      <td>17.400000</td>\n",
       "      <td>0.000000</td>\n",
       "      <td>10.600000</td>\n",
       "      <td>23.400000</td>\n",
       "      <td>8.100000</td>\n",
       "      <td>9.400000</td>\n",
       "      <td>2005.000000</td>\n",
       "      <td>3.600000</td>\n",
       "    </tr>\n",
       "    <tr>\n",
       "      <th>75%</th>\n",
       "      <td>3.000000</td>\n",
       "      <td>42.932203</td>\n",
       "      <td>-7.556843</td>\n",
       "      <td>0.000000</td>\n",
       "      <td>0.000000</td>\n",
       "      <td>2.310000</td>\n",
       "      <td>2.310000</td>\n",
       "      <td>16.000000</td>\n",
       "      <td>3.000000</td>\n",
       "      <td>21.100000</td>\n",
       "      <td>0.000000</td>\n",
       "      <td>14.900000</td>\n",
       "      <td>28.400000</td>\n",
       "      <td>10.600000</td>\n",
       "      <td>11.200000</td>\n",
       "      <td>2009.000000</td>\n",
       "      <td>4.900000</td>\n",
       "    </tr>\n",
       "    <tr>\n",
       "      <th>max</th>\n",
       "      <td>10.200000</td>\n",
       "      <td>43.730713</td>\n",
       "      <td>-6.771548</td>\n",
       "      <td>1.000000</td>\n",
       "      <td>1.000000</td>\n",
       "      <td>4.190000</td>\n",
       "      <td>4.190000</td>\n",
       "      <td>33.000000</td>\n",
       "      <td>8.000000</td>\n",
       "      <td>31.200000</td>\n",
       "      <td>1.000000</td>\n",
       "      <td>23.400000</td>\n",
       "      <td>42.000000</td>\n",
       "      <td>28.300000</td>\n",
       "      <td>14.800000</td>\n",
       "      <td>2015.000000</td>\n",
       "      <td>8.600000</td>\n",
       "    </tr>\n",
       "  </tbody>\n",
       "</table>\n",
       "</div>"
      ],
      "text/plain": [
       "         superficie           lat           lng       muertos       heridos  \\\n",
       "count  12976.000000  12976.000000  12976.000000  12976.000000  12976.000000   \n",
       "mean       2.586703     42.555421     -7.994614      0.000077      0.000462   \n",
       "std        1.863610      0.451212      0.562395      0.008779      0.021499   \n",
       "min        1.000000     41.833819     -9.293500      0.000000      0.000000   \n",
       "25%        1.250000     42.189372     -8.422458      0.000000      0.000000   \n",
       "50%        2.000000     42.470163     -7.987553      0.000000      0.000000   \n",
       "75%        3.000000     42.932203     -7.556843      0.000000      0.000000   \n",
       "max       10.200000     43.730713     -6.771548      1.000000      1.000000   \n",
       "\n",
       "          time_ctrl      time_ext      personal        medios        TMEDIA  \\\n",
       "count  12976.000000  12976.000000  12976.000000  12976.000000  12976.000000   \n",
       "mean       1.781149      1.781149     12.281520      1.964396     16.584664   \n",
       "std        0.894420      0.894420      7.252796      1.674277      5.954963   \n",
       "min        0.040000      0.040000      0.000000      0.000000     -1.300000   \n",
       "25%        1.170000      1.170000      6.000000      1.000000     12.400000   \n",
       "50%        1.500000      1.500000     11.000000      2.000000     17.400000   \n",
       "75%        2.310000      2.310000     16.000000      3.000000     21.100000   \n",
       "max        4.190000      4.190000     33.000000      8.000000     31.200000   \n",
       "\n",
       "       PRECIPITACION          TMIN          TMAX         RACHA           SOL  \\\n",
       "count   12976.000000  12976.000000  12976.000000  12976.000000  12976.000000   \n",
       "mean        0.132167      9.717810     23.452366      8.537230      8.547102   \n",
       "std         0.338685      6.252533      7.001220      3.298872      3.549735   \n",
       "min         0.000000     -8.600000      5.600000      1.700000      0.000000   \n",
       "25%         0.000000      5.200000     18.600000      6.100000      6.500000   \n",
       "50%         0.000000     10.600000     23.400000      8.100000      9.400000   \n",
       "75%         0.000000     14.900000     28.400000     10.600000     11.200000   \n",
       "max         1.000000     23.400000     42.000000     28.300000     14.800000   \n",
       "\n",
       "                Año    PRES_RANGE  \n",
       "count  12976.000000  12976.000000  \n",
       "mean    2005.592555      3.836675  \n",
       "std        3.828872      1.639618  \n",
       "min     2001.000000      0.000000  \n",
       "25%     2003.000000      2.600000  \n",
       "50%     2005.000000      3.600000  \n",
       "75%     2009.000000      4.900000  \n",
       "max     2015.000000      8.600000  "
      ]
     },
     "execution_count": 6,
     "metadata": {},
     "output_type": "execute_result"
    }
   ],
   "source": [
    "datos_galicia.describe()"
   ]
  },
  {
   "cell_type": "code",
   "execution_count": 7,
   "id": "c76e229a",
   "metadata": {},
   "outputs": [
    {
     "data": {
      "image/png": "[encoded data removed]",
      "text/plain": [
       "<Figure size 864x864 with 20 Axes>"
      ]
     },
     "metadata": {
      "needs_background": "light"
     },
     "output_type": "display_data"
    }
   ],
   "source": [
    "datos_galicia.hist(figsize = (12, 12));\n"
   ]
  },
  {
   "cell_type": "code",
   "execution_count": 8,
   "id": "ca9f1858",
   "metadata": {},
   "outputs": [
    {
     "data": {
      "text/plain": [
       "Index(['superficie', 'fecha', 'lat', 'lng', 'idprovincia', 'idmunicipio',\n",
       "       'causa', 'muertos', 'heridos', 'time_ctrl', 'time_ext', 'personal',\n",
       "       'medios', 'gastos', 'ALTITUD', 'TMEDIA', 'PRECIPITACION', 'TMIN',\n",
       "       'TMAX', 'VELMEDIA', 'RACHA', 'SOL', 'Trimestre', 'Mes', 'Año',\n",
       "       'DIR_VIENTO', 'PRES_RANGE'],\n",
       "      dtype='object')"
      ]
     },
     "execution_count": 8,
     "metadata": {},
     "output_type": "execute_result"
    }
   ],
   "source": [
    "datos_galicia.columns"
   ]
  },
  {
   "cell_type": "code",
   "execution_count": 9,
   "id": "d3f77227",
   "metadata": {},
   "outputs": [
    {
     "data": {
      "text/plain": [
       "(12976, 27)"
      ]
     },
     "execution_count": 9,
     "metadata": {},
     "output_type": "execute_result"
    }
   ],
   "source": [
    "datos_galicia.shape"
   ]
  },
  {
   "cell_type": "markdown",
   "id": "43f42d55",
   "metadata": {},
   "source": [
    "Vamos a ver si los tipos de datos han migrado bien desde R"
   ]
  },
  {
   "cell_type": "code",
   "execution_count": 10,
   "id": "60d65d6d",
   "metadata": {},
   "outputs": [
    {
     "data": {
      "text/plain": [
       "superficie       float64\n",
       "fecha             object\n",
       "lat              float64\n",
       "lng              float64\n",
       "idprovincia       object\n",
       "idmunicipio       object\n",
       "causa             object\n",
       "muertos            int64\n",
       "heridos            int64\n",
       "time_ctrl        float64\n",
       "time_ext         float64\n",
       "personal           int64\n",
       "medios             int64\n",
       "gastos            object\n",
       "ALTITUD           object\n",
       "TMEDIA           float64\n",
       "PRECIPITACION      int64\n",
       "TMIN             float64\n",
       "TMAX             float64\n",
       "VELMEDIA          object\n",
       "RACHA            float64\n",
       "SOL              float64\n",
       "Trimestre         object\n",
       "Mes               object\n",
       "Año                int64\n",
       "DIR_VIENTO        object\n",
       "PRES_RANGE       float64\n",
       "dtype: object"
      ]
     },
     "execution_count": 10,
     "metadata": {},
     "output_type": "execute_result"
    }
   ],
   "source": [
    "datos_galicia.dtypes"
   ]
  },
  {
   "cell_type": "markdown",
   "id": "62e73582",
   "metadata": {},
   "source": [
    "Nuestra variable objetivo va a ser multicategoría -> variable causa"
   ]
  },
  {
   "cell_type": "code",
   "execution_count": 11,
   "id": "b94e4d5c",
   "metadata": {},
   "outputs": [],
   "source": [
    "datos_galicia1 = datos_galicia.copy()"
   ]
  },
  {
   "cell_type": "code",
   "execution_count": 12,
   "id": "a84e7106",
   "metadata": {},
   "outputs": [
    {
     "data": {
      "text/plain": [
       "(12976, 27)"
      ]
     },
     "execution_count": 12,
     "metadata": {},
     "output_type": "execute_result"
    }
   ],
   "source": [
    "datos_galicia1.shape"
   ]
  },
  {
   "cell_type": "markdown",
   "id": "75fb31f2",
   "metadata": {},
   "source": [
    "Finalmente, tenemos un dataset de 12976 filas y 27 columnas"
   ]
  },
  {
   "cell_type": "markdown",
   "id": "9d1b8866",
   "metadata": {},
   "source": [
    "Comprobamos que no haya NAs"
   ]
  },
  {
   "cell_type": "code",
   "execution_count": 13,
   "id": "c16631bf",
   "metadata": {},
   "outputs": [
    {
     "data": {
      "text/plain": [
       "superficie       0\n",
       "fecha            0\n",
       "lat              0\n",
       "lng              0\n",
       "idprovincia      0\n",
       "idmunicipio      0\n",
       "causa            0\n",
       "muertos          0\n",
       "heridos          0\n",
       "time_ctrl        0\n",
       "time_ext         0\n",
       "personal         0\n",
       "medios           0\n",
       "gastos           0\n",
       "ALTITUD          0\n",
       "TMEDIA           0\n",
       "PRECIPITACION    0\n",
       "TMIN             0\n",
       "TMAX             0\n",
       "VELMEDIA         0\n",
       "RACHA            0\n",
       "SOL              0\n",
       "Trimestre        0\n",
       "Mes              0\n",
       "Año              0\n",
       "DIR_VIENTO       0\n",
       "PRES_RANGE       0\n",
       "dtype: int64"
      ]
     },
     "execution_count": 13,
     "metadata": {},
     "output_type": "execute_result"
    }
   ],
   "source": [
    "datos_galicia1.isnull().sum()"
   ]
  },
  {
   "cell_type": "markdown",
   "id": "c8a46343",
   "metadata": {},
   "source": [
    "Ahora, vamos a separar las variables categóricas de las numéricas"
   ]
  },
  {
   "cell_type": "code",
   "execution_count": 14,
   "id": "e3c9b81c",
   "metadata": {},
   "outputs": [],
   "source": [
    "lista_numericas=datos_galicia1._get_numeric_data()\n",
    "lista_categoricas=datos_galicia1.select_dtypes(include = [\"object\"])"
   ]
  },
  {
   "cell_type": "markdown",
   "id": "cf9ff651",
   "metadata": {},
   "source": [
    "Comprobamos"
   ]
  },
  {
   "cell_type": "code",
   "execution_count": 15,
   "id": "0159c75f",
   "metadata": {},
   "outputs": [
    {
     "data": {
      "text/plain": [
       "10"
      ]
     },
     "execution_count": 15,
     "metadata": {},
     "output_type": "execute_result"
    }
   ],
   "source": [
    "len(lista_categoricas.columns)"
   ]
  },
  {
   "cell_type": "code",
   "execution_count": 16,
   "id": "a64e6923",
   "metadata": {},
   "outputs": [
    {
     "data": {
      "text/plain": [
       "17"
      ]
     },
     "execution_count": 16,
     "metadata": {},
     "output_type": "execute_result"
    }
   ],
   "source": [
    "len(lista_numericas.columns)"
   ]
  },
  {
   "cell_type": "markdown",
   "id": "5c62f354",
   "metadata": {},
   "source": [
    "ha incluido correctamente todas las columnas. Vemos que incluye cada lista"
   ]
  },
  {
   "cell_type": "code",
   "execution_count": 17,
   "id": "f19b1958",
   "metadata": {},
   "outputs": [
    {
     "data": {
      "text/plain": [
       "Index(['fecha', 'idprovincia', 'idmunicipio', 'causa', 'gastos', 'ALTITUD',\n",
       "       'VELMEDIA', 'Trimestre', 'Mes', 'DIR_VIENTO'],\n",
       "      dtype='object')"
      ]
     },
     "execution_count": 17,
     "metadata": {},
     "output_type": "execute_result"
    }
   ],
   "source": [
    "lista_categoricas.columns"
   ]
  },
  {
   "cell_type": "code",
   "execution_count": 18,
   "id": "d6daf524",
   "metadata": {},
   "outputs": [
    {
     "data": {
      "text/plain": [
       "Index(['superficie', 'lat', 'lng', 'muertos', 'heridos', 'time_ctrl',\n",
       "       'time_ext', 'personal', 'medios', 'TMEDIA', 'PRECIPITACION', 'TMIN',\n",
       "       'TMAX', 'RACHA', 'SOL', 'Año', 'PRES_RANGE'],\n",
       "      dtype='object')"
      ]
     },
     "execution_count": 18,
     "metadata": {},
     "output_type": "execute_result"
    }
   ],
   "source": [
    "lista_numericas.columns"
   ]
  },
  {
   "cell_type": "markdown",
   "id": "a169c80f",
   "metadata": {},
   "source": [
    "Vamos a ver como se distribuyen los valores en las variables categoricas"
   ]
  },
  {
   "cell_type": "code",
   "execution_count": 19,
   "id": "e102fdb4",
   "metadata": {},
   "outputs": [
    {
     "name": "stdout",
     "output_type": "stream",
     "text": [
      "2005-03-19    59\n",
      "2004-03-28    59\n",
      "2001-09-18    58\n",
      "2002-03-28    56\n",
      "2002-08-31    55\n",
      "              ..\n",
      "2014-08-21     1\n",
      "2008-08-14     1\n",
      "2005-05-02     1\n",
      "2001-11-01     1\n",
      "2005-12-26     1\n",
      "Name: fecha, Length: 2272, dtype: int64\n",
      "Ourense       5762\n",
      "A Coruña      3549\n",
      "Pontevedra    2062\n",
      "Lugo          1603\n",
      "Name: idprovincia, dtype: int64\n",
      "VIANA DO BOLO          436\n",
      "MANZANEDA              352\n",
      "CHANDREXA DE QUEIXA    295\n",
      "MUIÃâOS             256\n",
      "SANTA COMBA            234\n",
      "                      ... \n",
      "RIBADUMIA                1\n",
      "BEADE                    1\n",
      "CARIÃâO               1\n",
      "BARREIROS                1\n",
      "LOURENZÃÂ              1\n",
      "Name: idmunicipio, Length: 268, dtype: int64\n",
      "intencionado         11293\n",
      "causa desconocida      830\n",
      "negligencia            534\n",
      "fuego reproducido      215\n",
      "rayo                   104\n",
      "Name: causa, dtype: int64\n",
      "NO INFO    10779\n",
      "< 5K        1769\n",
      ">5K          428\n",
      "Name: gastos, dtype: int64\n",
      "Superior a 125    5762\n",
      "Inferior a 80     3549\n",
      "Entre 80-125      2062\n",
      "NO INFO           1603\n",
      "Name: ALTITUD, dtype: int64\n",
      "< 2 m/s    7366\n",
      "2-4 m/s    3926\n",
      "4-6 m/s    1125\n",
      "6-8 m/s     385\n",
      "> 8 m/s     174\n",
      "Name: VELMEDIA, dtype: int64\n",
      "Q3    5256\n",
      "Q1    3554\n",
      "Q2    2825\n",
      "Q4    1341\n",
      "Name: Trimestre, dtype: int64\n",
      "agosto        2296\n",
      "marzo         2070\n",
      "septiembre    1929\n",
      "abril         1358\n",
      "febrero       1309\n",
      "julio         1031\n",
      "junio          864\n",
      "octubre        655\n",
      "mayo           603\n",
      "diciembre      448\n",
      "noviembre      238\n",
      "enero          175\n",
      "Name: Mes, dtype: int64\n",
      "NE    2727\n",
      "N     2722\n",
      "W     2395\n",
      "NW    1843\n",
      "E     1353\n",
      "S      767\n",
      "SW     691\n",
      "SE     478\n",
      "Name: DIR_VIENTO, dtype: int64\n"
     ]
    }
   ],
   "source": [
    "for i in lista_categoricas:\n",
    "    print(datos_galicia1[i].value_counts())"
   ]
  },
  {
   "cell_type": "markdown",
   "id": "f0d8b346",
   "metadata": {},
   "source": [
    "Eliminamos idmunicipio porque son demasiadas categorias"
   ]
  },
  {
   "cell_type": "code",
   "execution_count": 20,
   "id": "6ff27583",
   "metadata": {},
   "outputs": [],
   "source": [
    "datos_galicia1 = datos_galicia1.drop(columns=['idmunicipio'])"
   ]
  },
  {
   "cell_type": "markdown",
   "id": "2a2f48d0",
   "metadata": {},
   "source": [
    "También vamos a prescindir de fecha, ya que la tenemos representada en varias variables"
   ]
  },
  {
   "cell_type": "code",
   "execution_count": 21,
   "id": "21abc697",
   "metadata": {},
   "outputs": [],
   "source": [
    "datos_galicia1 = datos_galicia1.drop(columns=['fecha'])"
   ]
  },
  {
   "cell_type": "code",
   "execution_count": 22,
   "id": "6ec8ab2e",
   "metadata": {},
   "outputs": [
    {
     "data": {
      "text/plain": [
       "(12976, 25)"
      ]
     },
     "execution_count": 22,
     "metadata": {},
     "output_type": "execute_result"
    }
   ],
   "source": [
    "datos_galicia1.shape"
   ]
  },
  {
   "cell_type": "code",
   "execution_count": 23,
   "id": "7d479d5a",
   "metadata": {},
   "outputs": [],
   "source": [
    "lista_categoricas=datos_galicia1.select_dtypes(include = [\"object\"])"
   ]
  },
  {
   "cell_type": "markdown",
   "id": "a834b077",
   "metadata": {},
   "source": [
    "## Transformamos las variables categóricas -> codificación one-hot y orden numérico"
   ]
  },
  {
   "cell_type": "markdown",
   "id": "3bc8a3ee",
   "metadata": {},
   "source": [
    "Poner orden numérico en ocasiones dificulta la predicción ya que da diferentes pesos a las distintas categorías de una variable, por ello, esta transformación la vamos a utilizar para las que sí tengan un orden en sus categoría"
   ]
  },
  {
   "cell_type": "markdown",
   "id": "fcec7375",
   "metadata": {},
   "source": [
    "Por otro lado, aquellas para las que no sigan un orden, utilizaremos la codificación one-hot"
   ]
  },
  {
   "cell_type": "markdown",
   "id": "14c76df1",
   "metadata": {},
   "source": [
    "Este método consiste en crear una nueva variable binaria por cada categoria existente en la variable inicial, donde \n",
    "1 serán las observaciones que pertenezcan a esa categoría y 0 las demás."
   ]
  },
  {
   "cell_type": "markdown",
   "id": "68743ec2",
   "metadata": {},
   "source": [
    "En muchas tareas, tales como la regresión lineal, es común usar k-1 variables binarias en lugar de k, donde k es el número total de categorías. Esto se debe a que estamos añadiendo una variable extra redundante que no es más que una combinación lineal de las otras y seguramente afectará de manera negativa al rendimiento del modelo. Además, al eliminar una variable no estamos perdiendo información, ya que se entiende que, si el resto de las categorías contienen un 0, la categoría correspondiente es la de la variable eliminada."
   ]
  },
  {
   "cell_type": "markdown",
   "id": "7ceabbae",
   "metadata": {},
   "source": [
    "* Se ha seleccionado esta opción tras probar con todas las variables categóricas en codificación One-Hot y todas en orden numérico"
   ]
  },
  {
   "cell_type": "markdown",
   "id": "1ba0ad4f",
   "metadata": {},
   "source": [
    "Vemos cada una de ellas"
   ]
  },
  {
   "cell_type": "code",
   "execution_count": 24,
   "id": "895d9ceb",
   "metadata": {},
   "outputs": [
    {
     "data": {
      "text/plain": [
       "Index(['idprovincia', 'causa', 'gastos', 'ALTITUD', 'VELMEDIA', 'Trimestre',\n",
       "       'Mes', 'DIR_VIENTO'],\n",
       "      dtype='object')"
      ]
     },
     "execution_count": 24,
     "metadata": {},
     "output_type": "execute_result"
    }
   ],
   "source": [
    "lista_categoricas.columns"
   ]
  },
  {
   "cell_type": "code",
   "execution_count": 25,
   "id": "d2103cfe",
   "metadata": {},
   "outputs": [
    {
     "data": {
      "text/plain": [
       "8"
      ]
     },
     "execution_count": 25,
     "metadata": {},
     "output_type": "execute_result"
    }
   ],
   "source": [
    "len(lista_categoricas.columns)"
   ]
  },
  {
   "cell_type": "code",
   "execution_count": 26,
   "id": "22cccc87",
   "metadata": {},
   "outputs": [
    {
     "data": {
      "text/plain": [
       "'categoricas con codificacion one-hot:  idprovincia, Trimestre, Mes, DIR_VIENTO'"
      ]
     },
     "execution_count": 26,
     "metadata": {},
     "output_type": "execute_result"
    }
   ],
   "source": [
    "'''categoricas con codificacion one-hot:  idprovincia, Trimestre, Mes, DIR_VIENTO'''"
   ]
  },
  {
   "cell_type": "code",
   "execution_count": 27,
   "id": "3097a71d",
   "metadata": {},
   "outputs": [],
   "source": [
    "dummies= pd.get_dummies(datos_galicia1['idprovincia'], drop_first = True)\n",
    "datos_galicia1 = pd.concat([datos_galicia1, dummies], axis = 1)\n",
    "\n",
    "dummies2= pd.get_dummies(datos_galicia1['Trimestre'], drop_first = True)\n",
    "datos_galicia1 = pd.concat([datos_galicia1, dummies2], axis = 1)\n",
    "\n",
    "dummies3= pd.get_dummies(datos_galicia1['Mes'], drop_first = True)\n",
    "datos_galicia1 = pd.concat([datos_galicia1, dummies3], axis = 1)\n",
    "\n",
    "dummies4= pd.get_dummies(datos_galicia1['DIR_VIENTO'], drop_first = True)\n",
    "datos_galicia1 = pd.concat([datos_galicia1, dummies4], axis = 1)"
   ]
  },
  {
   "cell_type": "code",
   "execution_count": 28,
   "id": "4fbf6a32",
   "metadata": {},
   "outputs": [
    {
     "data": {
      "text/plain": [
       "24"
      ]
     },
     "execution_count": 28,
     "metadata": {},
     "output_type": "execute_result"
    }
   ],
   "source": [
    "len(dummies.columns)+len(dummies2.columns)+len(dummies3.columns)+len(dummies4.columns)"
   ]
  },
  {
   "cell_type": "code",
   "execution_count": 29,
   "id": "019d57da",
   "metadata": {},
   "outputs": [
    {
     "data": {
      "text/plain": [
       "49"
      ]
     },
     "execution_count": 29,
     "metadata": {},
     "output_type": "execute_result"
    }
   ],
   "source": [
    "25+24"
   ]
  },
  {
   "cell_type": "code",
   "execution_count": 30,
   "id": "a0bce386",
   "metadata": {},
   "outputs": [
    {
     "data": {
      "text/plain": [
       "(12976, 49)"
      ]
     },
     "execution_count": 30,
     "metadata": {},
     "output_type": "execute_result"
    }
   ],
   "source": [
    "datos_galicia1.shape"
   ]
  },
  {
   "cell_type": "markdown",
   "id": "1c975e05",
   "metadata": {},
   "source": [
    "Eliminamos las variables que hemos creado con one-hot"
   ]
  },
  {
   "cell_type": "code",
   "execution_count": 31,
   "id": "46e63466",
   "metadata": {},
   "outputs": [],
   "source": [
    "datos_galicia1 = datos_galicia1.drop(columns=['idprovincia'])\n",
    "datos_galicia1 = datos_galicia1.drop(columns=['Trimestre'])\n",
    "datos_galicia1 = datos_galicia1.drop(columns=['Mes'])\n",
    "datos_galicia1 = datos_galicia1.drop(columns=['DIR_VIENTO'])"
   ]
  },
  {
   "cell_type": "code",
   "execution_count": 32,
   "id": "e0430406",
   "metadata": {},
   "outputs": [
    {
     "data": {
      "text/plain": [
       "45"
      ]
     },
     "execution_count": 32,
     "metadata": {},
     "output_type": "execute_result"
    }
   ],
   "source": [
    "49-4"
   ]
  },
  {
   "cell_type": "code",
   "execution_count": 33,
   "id": "116baea9",
   "metadata": {},
   "outputs": [
    {
     "data": {
      "text/plain": [
       "(12976, 45)"
      ]
     },
     "execution_count": 33,
     "metadata": {},
     "output_type": "execute_result"
    }
   ],
   "source": [
    "datos_galicia1.shape"
   ]
  },
  {
   "cell_type": "code",
   "execution_count": 34,
   "id": "d84ca409",
   "metadata": {},
   "outputs": [
    {
     "data": {
      "text/plain": [
       "'variables orden numérico: gastos , ALTITUD, VELMEDIA'"
      ]
     },
     "execution_count": 34,
     "metadata": {},
     "output_type": "execute_result"
    }
   ],
   "source": [
    "'''variables orden numérico: gastos , ALTITUD, VELMEDIA'''"
   ]
  },
  {
   "cell_type": "code",
   "execution_count": 35,
   "id": "cc58c2be",
   "metadata": {},
   "outputs": [
    {
     "data": {
      "text/plain": [
       "NO INFO    10779\n",
       "< 5K        1769\n",
       ">5K          428\n",
       "Name: gastos, dtype: int64"
      ]
     },
     "execution_count": 35,
     "metadata": {},
     "output_type": "execute_result"
    }
   ],
   "source": [
    "datos_galicia1['gastos'].value_counts()"
   ]
  },
  {
   "cell_type": "code",
   "execution_count": 36,
   "id": "a50dc697",
   "metadata": {},
   "outputs": [],
   "source": [
    "datos_galicia1.gastos.replace((\"NO INFO\",\"< 5K \",\">5K\"),\n",
    "                      (1,2,3),inplace=True)"
   ]
  },
  {
   "cell_type": "code",
   "execution_count": 37,
   "id": "f31f64d6",
   "metadata": {},
   "outputs": [
    {
     "data": {
      "text/plain": [
       "Superior a 125    5762\n",
       "Inferior a 80     3549\n",
       "Entre 80-125      2062\n",
       "NO INFO           1603\n",
       "Name: ALTITUD, dtype: int64"
      ]
     },
     "execution_count": 37,
     "metadata": {},
     "output_type": "execute_result"
    }
   ],
   "source": [
    "datos_galicia1['ALTITUD'].value_counts()"
   ]
  },
  {
   "cell_type": "code",
   "execution_count": 38,
   "id": "5f863694",
   "metadata": {},
   "outputs": [],
   "source": [
    "datos_galicia1.ALTITUD.replace((\"NO INFO\",\"Inferior a 80\",\"Entre 80-125\",\"Superior a 125\"),\n",
    "                      (1,2,3,4),inplace=True)"
   ]
  },
  {
   "cell_type": "code",
   "execution_count": 39,
   "id": "55ffd8cd",
   "metadata": {},
   "outputs": [
    {
     "data": {
      "text/plain": [
       "< 2 m/s    7366\n",
       "2-4 m/s    3926\n",
       "4-6 m/s    1125\n",
       "6-8 m/s     385\n",
       "> 8 m/s     174\n",
       "Name: VELMEDIA, dtype: int64"
      ]
     },
     "execution_count": 39,
     "metadata": {},
     "output_type": "execute_result"
    }
   ],
   "source": [
    "datos_galicia1['VELMEDIA'].value_counts()"
   ]
  },
  {
   "cell_type": "code",
   "execution_count": 40,
   "id": "be051e03",
   "metadata": {},
   "outputs": [],
   "source": [
    "datos_galicia1.VELMEDIA.replace((\"< 2 m/s\",\"2-4 m/s\",\"4-6 m/s\",\"6-8 m/s\",\"> 8 m/s\"),\n",
    "                      (1,2,3,4,5),inplace=True)"
   ]
  },
  {
   "cell_type": "markdown",
   "id": "aaa2536b",
   "metadata": {},
   "source": [
    "Comprobamos los tipos de las variables a ver si solo tenemos numericas"
   ]
  },
  {
   "cell_type": "code",
   "execution_count": 41,
   "id": "67b306bd",
   "metadata": {},
   "outputs": [
    {
     "data": {
      "text/plain": [
       "superficie       float64\n",
       "lat              float64\n",
       "lng              float64\n",
       "causa             object\n",
       "muertos            int64\n",
       "heridos            int64\n",
       "time_ctrl        float64\n",
       "time_ext         float64\n",
       "personal           int64\n",
       "medios             int64\n",
       "gastos             int64\n",
       "ALTITUD            int64\n",
       "TMEDIA           float64\n",
       "PRECIPITACION      int64\n",
       "TMIN             float64\n",
       "TMAX             float64\n",
       "VELMEDIA           int64\n",
       "RACHA            float64\n",
       "SOL              float64\n",
       "Año                int64\n",
       "PRES_RANGE       float64\n",
       "Lugo               uint8\n",
       "Ourense            uint8\n",
       "Pontevedra         uint8\n",
       "Q2                 uint8\n",
       "Q3                 uint8\n",
       "Q4                 uint8\n",
       "agosto             uint8\n",
       "diciembre          uint8\n",
       "enero              uint8\n",
       "febrero            uint8\n",
       "julio              uint8\n",
       "junio              uint8\n",
       "marzo              uint8\n",
       "mayo               uint8\n",
       "noviembre          uint8\n",
       "octubre            uint8\n",
       "septiembre         uint8\n",
       "N                  uint8\n",
       "NE                 uint8\n",
       "NW                 uint8\n",
       "S                  uint8\n",
       "SE                 uint8\n",
       "SW                 uint8\n",
       "W                  uint8\n",
       "dtype: object"
      ]
     },
     "execution_count": 41,
     "metadata": {},
     "output_type": "execute_result"
    }
   ],
   "source": [
    "datos_galicia1.dtypes"
   ]
  },
  {
   "cell_type": "markdown",
   "id": "4186559f",
   "metadata": {},
   "source": [
    "Eliminamos las mas correlacionadas entre si "
   ]
  },
  {
   "cell_type": "code",
   "execution_count": 42,
   "id": "3ba209df",
   "metadata": {},
   "outputs": [
    {
     "data": {
      "text/plain": [
       "(12976, 45)"
      ]
     },
     "execution_count": 42,
     "metadata": {},
     "output_type": "execute_result"
    }
   ],
   "source": [
    "datos_galicia1.shape"
   ]
  },
  {
   "cell_type": "markdown",
   "id": "22317298",
   "metadata": {},
   "source": [
    "# Modelado"
   ]
  },
  {
   "cell_type": "markdown",
   "id": "5d95588d",
   "metadata": {},
   "source": [
    "Definimos nuestra variable objetivo"
   ]
  },
  {
   "cell_type": "code",
   "execution_count": 43,
   "id": "4eb86458",
   "metadata": {},
   "outputs": [],
   "source": [
    "datos_galicia1['target']=datos_galicia1['causa']"
   ]
  },
  {
   "cell_type": "code",
   "execution_count": 44,
   "id": "1458f8cb",
   "metadata": {},
   "outputs": [],
   "source": [
    "datos_galicia1 = datos_galicia1.drop(columns=['causa'])"
   ]
  },
  {
   "cell_type": "markdown",
   "id": "7df568d4",
   "metadata": {},
   "source": [
    "Vamos a ver como se distribuye nuestra variable objetivo"
   ]
  },
  {
   "cell_type": "code",
   "execution_count": 45,
   "id": "dc0a0c75",
   "metadata": {},
   "outputs": [
    {
     "name": "stdout",
     "output_type": "stream",
     "text": [
      "target\n",
      "causa desconocida      830\n",
      "fuego reproducido      215\n",
      "intencionado         11293\n",
      "negligencia            534\n",
      "rayo                   104\n",
      "dtype: int64\n"
     ]
    }
   ],
   "source": [
    "print(datos_galicia1.groupby('target').size())"
   ]
  },
  {
   "cell_type": "markdown",
   "id": "574733d4",
   "metadata": {},
   "source": [
    "Podemos verlo también de una forma más visual"
   ]
  },
  {
   "cell_type": "code",
   "execution_count": 46,
   "id": "4a55b918",
   "metadata": {},
   "outputs": [
    {
     "data": {
      "text/plain": [
       "Text(0, 0.5, 'Número de observaciones')"
      ]
     },
     "execution_count": 46,
     "metadata": {},
     "output_type": "execute_result"
    },
    {
     "data": {
      "image/png": "[encoded data removed]",
      "text/plain": [
       "<Figure size 720x288 with 1 Axes>"
      ]
     },
     "metadata": {
      "needs_background": "light"
     },
     "output_type": "display_data"
    }
   ],
   "source": [
    "count_classes = datos_galicia1.value_counts(datos_galicia1['target'])\n",
    "count_classes.plot(kind = 'bar', figsize=(10,4),rot=0, color = ['blue'])\n",
    "plt.title(\"Frecuencia de las observaciones\")\n",
    "plt.xlabel(\"Clases\",labelpad=14)\n",
    "plt.ylabel(\"Número de observaciones\",labelpad=14)\n"
   ]
  },
  {
   "cell_type": "markdown",
   "id": "8cf8b45b",
   "metadata": {},
   "source": [
    "Esta desbalanceado -> Tenemos que tenerlo en cuenta"
   ]
  },
  {
   "cell_type": "markdown",
   "id": "9187f46e",
   "metadata": {},
   "source": [
    "Dividimos los datos en Train y Test y separamos ambas entre x -> entradas ( variables explicativas) e y-> salidas ( variable objetivo)\n",
    "Nuestro conjunto de Train es el entrenamiento, en Test probaremos los resultados de nuestras predicciones.\n"
   ]
  },
  {
   "cell_type": "markdown",
   "id": "06fb6fb2",
   "metadata": {},
   "source": [
    "## Vamos a lanzar varios modelos con todas las variables"
   ]
  },
  {
   "cell_type": "code",
   "execution_count": 47,
   "id": "d2003510",
   "metadata": {},
   "outputs": [
    {
     "name": "stdout",
     "output_type": "stream",
     "text": [
      "\n",
      " En un inicio contamos con el siguiente número de variables :\n",
      "\n",
      "   45\n"
     ]
    }
   ],
   "source": [
    "print(\"\\n En un inicio contamos con el siguiente número de variables :\")\n",
    "print(\"\\n  \", len(datos_galicia1.columns))"
   ]
  },
  {
   "cell_type": "markdown",
   "id": "00547c10",
   "metadata": {},
   "source": [
    " #### -- sin normalizar"
   ]
  },
  {
   "cell_type": "code",
   "execution_count": 48,
   "id": "b6f8b295",
   "metadata": {},
   "outputs": [],
   "source": [
    "X_train, X_test, y_train, y_test = train_test_split(\n",
    "                                        datos_galicia1.drop('target', axis = 'columns'),\n",
    "                                        datos_galicia1['target'],\n",
    "                                        train_size   = 0.8,\n",
    "                                        random_state = 1234,\n",
    "                                        shuffle      = True,\n",
    "                                        stratify = datos_galicia1['target'])"
   ]
  },
  {
   "cell_type": "markdown",
   "id": "17b43ffa",
   "metadata": {},
   "source": [
    "Vamos a comprobar como se ha dividido finalmente nuestro train y nuestro test"
   ]
  },
  {
   "cell_type": "code",
   "execution_count": 49,
   "id": "75127e1c",
   "metadata": {},
   "outputs": [
    {
     "data": {
      "text/plain": [
       "(10380, 44)"
      ]
     },
     "execution_count": 49,
     "metadata": {},
     "output_type": "execute_result"
    }
   ],
   "source": [
    "X_train.shape"
   ]
  },
  {
   "cell_type": "code",
   "execution_count": 50,
   "id": "299b4ef6",
   "metadata": {},
   "outputs": [
    {
     "data": {
      "text/plain": [
       "(10380,)"
      ]
     },
     "execution_count": 50,
     "metadata": {},
     "output_type": "execute_result"
    }
   ],
   "source": [
    "y_train.shape"
   ]
  },
  {
   "cell_type": "code",
   "execution_count": 51,
   "id": "6526bb72",
   "metadata": {},
   "outputs": [
    {
     "data": {
      "text/plain": [
       "(2596, 44)"
      ]
     },
     "execution_count": 51,
     "metadata": {},
     "output_type": "execute_result"
    }
   ],
   "source": [
    "X_test.shape"
   ]
  },
  {
   "cell_type": "code",
   "execution_count": 52,
   "id": "16c8e169",
   "metadata": {},
   "outputs": [
    {
     "data": {
      "text/plain": [
       "(2596,)"
      ]
     },
     "execution_count": 52,
     "metadata": {},
     "output_type": "execute_result"
    }
   ],
   "source": [
    "y_test.shape"
   ]
  },
  {
   "cell_type": "markdown",
   "id": "8cbbca86",
   "metadata": {},
   "source": [
    "### * MODELO 1 -  Support Vector Machines = SVM"
   ]
  },
  {
   "cell_type": "markdown",
   "id": "cab2b014",
   "metadata": {},
   "source": [
    "conjunto de métodos de aprendizaje supervisados. realiza un método one-against-one.\n",
    "\n",
    "NearMiss es una técnica de submuestreo. En lugar de volver a muestrear la clase minoritaria, utilizando una distancia, esto hará que la clase mayoritaria sea igual a la clase minoritaria."
   ]
  },
  {
   "cell_type": "code",
   "execution_count": 53,
   "id": "d412906e",
   "metadata": {},
   "outputs": [
    {
     "data": {
      "text/plain": [
       "0.8701848998459168"
      ]
     },
     "execution_count": 53,
     "metadata": {},
     "output_type": "execute_result"
    }
   ],
   "source": [
    "modelo_clf = svm.SVC()\n",
    "modelo_clf.fit(X_train, y_train)\n",
    "\n",
    "\n",
    "modelo_clf.predict(X_test)\n",
    "\n",
    "modelo_clf.score(X_test,y_test)"
   ]
  },
  {
   "cell_type": "markdown",
   "id": "ed0a55e2",
   "metadata": {},
   "source": [
    "--------------------------------------"
   ]
  },
  {
   "cell_type": "markdown",
   "id": "9ed6d537",
   "metadata": {},
   "source": [
    "### * MODELO 2 -  Árbol de decisión"
   ]
  },
  {
   "cell_type": "markdown",
   "id": "38f76779",
   "metadata": {},
   "source": [
    "Modelo que se basa en una combinación y subdivision en ramas de las variables de una forma binaria para la toma de la decisión con mayor probabilidad de que ocurra un suceso¶"
   ]
  },
  {
   "cell_type": "code",
   "execution_count": 54,
   "id": "a55152e3",
   "metadata": {},
   "outputs": [
    {
     "data": {
      "text/plain": [
       "0.7638674884437596"
      ]
     },
     "execution_count": 54,
     "metadata": {},
     "output_type": "execute_result"
    }
   ],
   "source": [
    "modelo_arbol = DecisionTreeClassifier().fit(X_train, y_train)\n",
    "y_pred        = modelo_arbol.predict(X_test)\n",
    "\n",
    "modelo_arbol.score(X_test,y_test)"
   ]
  },
  {
   "cell_type": "markdown",
   "id": "9fd71b1f",
   "metadata": {},
   "source": [
    "---------------------------------------------------"
   ]
  },
  {
   "cell_type": "markdown",
   "id": "c383c930",
   "metadata": {},
   "source": [
    "### * MODELO 3 -  Random Forest"
   ]
  },
  {
   "cell_type": "markdown",
   "id": "46905ce2",
   "metadata": {},
   "source": [
    "Conjunto de árboles de decisión"
   ]
  },
  {
   "cell_type": "code",
   "execution_count": 55,
   "id": "cbcb5e9e",
   "metadata": {},
   "outputs": [
    {
     "data": {
      "text/plain": [
       "0.8690292758089369"
      ]
     },
     "execution_count": 55,
     "metadata": {},
     "output_type": "execute_result"
    }
   ],
   "source": [
    "modelo_ranfor = RandomForestClassifier().fit(X_train, y_train)\n",
    "y_pred     = modelo_ranfor.predict(X_test)\n",
    "\n",
    "modelo_ranfor.score(X_test,y_test)"
   ]
  },
  {
   "cell_type": "markdown",
   "id": "4657d83e",
   "metadata": {},
   "source": [
    "-------------------------------------"
   ]
  },
  {
   "cell_type": "markdown",
   "id": "66df3978",
   "metadata": {},
   "source": [
    "### * MODELO 4 -  GradientBoosting"
   ]
  },
  {
   "cell_type": "markdown",
   "id": "34b761ad",
   "metadata": {},
   "source": [
    "está formado por un conjunto de árboles de decisión individuales, entrenados de forma secuencial, de forma que cada nuevo árbol trata de mejorar los errores de los árboles anteriores.\n",
    "La diferencia con Random Forest es que utiliza árboles más débiles, con menos profundidad."
   ]
  },
  {
   "cell_type": "code",
   "execution_count": 56,
   "id": "dde2dde1",
   "metadata": {},
   "outputs": [
    {
     "data": {
      "text/plain": [
       "0.8697996918335902"
      ]
     },
     "execution_count": 56,
     "metadata": {},
     "output_type": "execute_result"
    }
   ],
   "source": [
    "modelo_gbrt = GradientBoostingClassifier(random_state=0, n_estimators=500,\n",
    "                                  max_depth=1, learning_rate=0.01)\n",
    "modelo_gbrt.fit(X_train, y_train)\n",
    "modelo_gbrt.score(X_test, y_test)"
   ]
  },
  {
   "cell_type": "code",
   "execution_count": null,
   "id": "1991dded",
   "metadata": {},
   "outputs": [],
   "source": []
  },
  {
   "cell_type": "markdown",
   "id": "a9c351ea",
   "metadata": {},
   "source": [
    "De momento, contando con todas las variables, los modelos ajustan muy bien, estamos por encima de un 85% de precisión en la predicción. Los que mejores resultados arrojan son SVM,Random Forest y Gradient Boosting . vamos a continuar con ellos."
   ]
  },
  {
   "cell_type": "markdown",
   "id": "0fe5ed7e",
   "metadata": {},
   "source": [
    " #### -- normalizando"
   ]
  },
  {
   "cell_type": "markdown",
   "id": "1e180fce",
   "metadata": {},
   "source": [
    "Vamos a comprobar si normalizando varios de los mejores , mejoran los resultados"
   ]
  },
  {
   "cell_type": "code",
   "execution_count": 57,
   "id": "e1f7b45a",
   "metadata": {},
   "outputs": [],
   "source": [
    "X_train = np.asarray(X_train).astype(np.float32)"
   ]
  },
  {
   "cell_type": "code",
   "execution_count": 58,
   "id": "b49bf373",
   "metadata": {},
   "outputs": [],
   "source": [
    "X_train, X_test, y_train, y_test = train_test_split(\n",
    "                                        datos_galicia1.drop('target', axis = 'columns'),\n",
    "                                        datos_galicia1['target'],\n",
    "                                        train_size   = 0.8,\n",
    "                                        random_state = 1234,\n",
    "                                        shuffle      = True,\n",
    "                                        stratify = datos_galicia1['target'])\n",
    "\n",
    "norm= tf.keras.layers.experimental.preprocessing.Normalization(axis = -1,dtype=None,mean = None,variance=None)\n",
    "\n",
    "norm.adapt(X_train)\n",
    "x_train_norm = norm(X_train)"
   ]
  },
  {
   "cell_type": "code",
   "execution_count": 59,
   "id": "659dd15d",
   "metadata": {},
   "outputs": [
    {
     "data": {
      "text/plain": [
       "0.8701848998459168"
      ]
     },
     "execution_count": 59,
     "metadata": {},
     "output_type": "execute_result"
    }
   ],
   "source": [
    "#SVM\n",
    "X_train, X_test, y_train, y_test = train_test_split(\n",
    "                                        datos_galicia1.drop('target', axis = 'columns'),\n",
    "                                        datos_galicia1['target'],\n",
    "                                        train_size   = 0.8,\n",
    "                                        random_state = 1234,\n",
    "                                        shuffle      = True,\n",
    "                                        stratify = datos_galicia1['target'])\n",
    "\n",
    "modelo_clf_norm = svm.SVC(decision_function_shape='ovo')\n",
    "modelo_clf_norm.fit(x_train_norm, y_train)\n",
    "\n",
    "\n",
    "modelo_clf_norm.predict(X_test)\n",
    "\n",
    "modelo_clf_norm.score(X_test,y_test)"
   ]
  },
  {
   "cell_type": "code",
   "execution_count": 60,
   "id": "f97e0176",
   "metadata": {},
   "outputs": [
    {
     "data": {
      "text/plain": [
       "0.8701848998459168"
      ]
     },
     "execution_count": 60,
     "metadata": {},
     "output_type": "execute_result"
    }
   ],
   "source": [
    "#Random Forest\n",
    "modelo_ranfor_norm = RandomForestClassifier(bootstrap = True, criterion= 'entropy', max_depth=None, n_estimators=150,class_weight='balanced').fit(x_train_norm, y_train)\n",
    "y_pred     = modelo_ranfor_norm.predict(X_test)\n",
    "\n",
    "modelo_ranfor_norm.score(X_test,y_test)"
   ]
  },
  {
   "cell_type": "markdown",
   "id": "0ce818c6",
   "metadata": {},
   "source": [
    "No se ven diferencias, por lo que es mejor optar por no normalizarlo"
   ]
  },
  {
   "cell_type": "markdown",
   "id": "4393ae8d",
   "metadata": {},
   "source": [
    "## Selección de variables"
   ]
  },
  {
   "cell_type": "markdown",
   "id": "d61cc487",
   "metadata": {},
   "source": [
    "Vamos a utilizar tres métodos de selección de variables: \n",
    "\n",
    "- Teniendo en cuenta la correlación entre variables predictoras y la correlación de esas variables con la variable objetivo\n",
    "- Mejores variables por el método de chi-cuadrado\n",
    "- Mejores variables por el algoritmo de F"
   ]
  },
  {
   "cell_type": "markdown",
   "id": "eb4fb9fa",
   "metadata": {},
   "source": [
    "En primer lugar, vamos a utilizar GridSearch para ver si estamos utilizando los mejores parámetros posibles en nuestros modelos teniendo en cuenta nuestra base de datos"
   ]
  },
  {
   "cell_type": "code",
   "execution_count": 61,
   "id": "3f525c6f",
   "metadata": {},
   "outputs": [
    {
     "data": {
      "text/plain": [
       "\"#SVM\\nparam_grid = { 'class_weight'   : [None, 'balanced'],\\n              'decision_function_shape': ['ovo', 'ovr']\\n             }\\n\\n\\n# Búsqueda por grid search con validación cruzada\\n\\nmodel_grid = GridSearchCV(\\n        estimator  = svm.SVC(),\\n        param_grid = param_grid,\\n        scoring    = 'roc_auc_ovr',  #'roc_auc_ovr',\\n        n_jobs     = -1,\\n        cv         = RepeatedKFold(n_splits=5, n_repeats=3, random_state=19), \\n    )\\n\\nmodel_grid.fit(X = X_train, y = y_train)\\n\\nprint('Los mejores hiperparámetros para el modelo SVM son: \\n', model_grid.best_params_)\""
      ]
     },
     "execution_count": 61,
     "metadata": {},
     "output_type": "execute_result"
    }
   ],
   "source": [
    "'''#SVM\n",
    "param_grid = { 'class_weight'   : [None, 'balanced'],\n",
    "              'decision_function_shape': ['ovo', 'ovr']\n",
    "             }\n",
    "\n",
    "\n",
    "# Búsqueda por grid search con validación cruzada\n",
    "\n",
    "model_grid = GridSearchCV(\n",
    "        estimator  = svm.SVC(),\n",
    "        param_grid = param_grid,\n",
    "        scoring    = 'roc_auc_ovr',  #'roc_auc_ovr',\n",
    "        n_jobs     = -1,\n",
    "        cv         = RepeatedKFold(n_splits=5, n_repeats=3, random_state=19), \n",
    "    )\n",
    "\n",
    "model_grid.fit(X = X_train, y = y_train)\n",
    "\n",
    "print('Los mejores hiperparámetros para el modelo SVM son: \\n', model_grid.best_params_)'''"
   ]
  },
  {
   "cell_type": "code",
   "execution_count": 62,
   "id": "6925bfe2",
   "metadata": {},
   "outputs": [
    {
     "data": {
      "text/plain": [
       "\"#RANDOM FOREST\\nparam_grid = {'n_estimators': [30, 50, 100, 150],\\n              #'max_features': [5, 7, 9],\\n              'max_depth'   : [None, 5, 7, 10],\\n              'bootstrap': [True, False],\\n              'criterion': ['gini', 'entropy']\\n             }\\n\\n\\n# Búsqueda por grid search con validación cruzada\\n\\nmodel_grid = GridSearchCV(\\n        estimator  = RandomForestClassifier(class_weight='balanced'),\\n        param_grid = param_grid,\\n        scoring    = 'roc_auc_ovr',  #'roc_auc_ovr',\\n        n_jobs     = -1,\\n        cv         = RepeatedKFold(n_splits=5, n_repeats=3, random_state=19), \\n    )\\n\\nmodel_grid.fit(X = X_train, y = y_train)\\n\\nprint('Los mejores hiperparámetros para el modelo Random Forest son: \\n', model_grid.best_params_)\""
      ]
     },
     "execution_count": 62,
     "metadata": {},
     "output_type": "execute_result"
    }
   ],
   "source": [
    "'''#RANDOM FOREST\n",
    "param_grid = {'n_estimators': [30, 50, 100, 150],\n",
    "              #'max_features': [5, 7, 9],\n",
    "              'max_depth'   : [None, 5, 7, 10],\n",
    "              'bootstrap': [True, False],\n",
    "              'criterion': ['gini', 'entropy']\n",
    "             }\n",
    "\n",
    "\n",
    "# Búsqueda por grid search con validación cruzada\n",
    "\n",
    "model_grid = GridSearchCV(\n",
    "        estimator  = RandomForestClassifier(class_weight='balanced'),\n",
    "        param_grid = param_grid,\n",
    "        scoring    = 'roc_auc_ovr',  #'roc_auc_ovr',\n",
    "        n_jobs     = -1,\n",
    "        cv         = RepeatedKFold(n_splits=5, n_repeats=3, random_state=19), \n",
    "    )\n",
    "\n",
    "model_grid.fit(X = X_train, y = y_train)\n",
    "\n",
    "print('Los mejores hiperparámetros para el modelo Random Forest son: \\n', model_grid.best_params_)'''"
   ]
  },
  {
   "cell_type": "markdown",
   "id": "a144e418",
   "metadata": {},
   "source": [
    "Tenemos muchas variables, vamos a intentar reducirlas para ver si mejoran los modelos"
   ]
  },
  {
   "cell_type": "markdown",
   "id": "b23e0199",
   "metadata": {},
   "source": [
    "### -> Reducir variables por correlaciones"
   ]
  },
  {
   "cell_type": "code",
   "execution_count": 63,
   "id": "5c6c75c5",
   "metadata": {},
   "outputs": [
    {
     "data": {
      "text/html": [
       "<div>\n",
       "<style scoped>\n",
       "    .dataframe tbody tr th:only-of-type {\n",
       "        vertical-align: middle;\n",
       "    }\n",
       "\n",
       "    .dataframe tbody tr th {\n",
       "        vertical-align: top;\n",
       "    }\n",
       "\n",
       "    .dataframe thead th {\n",
       "        text-align: right;\n",
       "    }\n",
       "</style>\n",
       "<table border=\"1\" class=\"dataframe\">\n",
       "  <thead>\n",
       "    <tr style=\"text-align: right;\">\n",
       "      <th></th>\n",
       "      <th>variable_1</th>\n",
       "      <th>variable_2</th>\n",
       "      <th>r</th>\n",
       "      <th>abs_r</th>\n",
       "    </tr>\n",
       "  </thead>\n",
       "  <tbody>\n",
       "    <tr>\n",
       "      <th>47</th>\n",
       "      <td>time_ext</td>\n",
       "      <td>time_ctrl</td>\n",
       "      <td>1.000000</td>\n",
       "      <td>1.000000</td>\n",
       "    </tr>\n",
       "    <tr>\n",
       "      <th>37</th>\n",
       "      <td>time_ctrl</td>\n",
       "      <td>time_ext</td>\n",
       "      <td>1.000000</td>\n",
       "      <td>1.000000</td>\n",
       "    </tr>\n",
       "    <tr>\n",
       "      <th>82</th>\n",
       "      <td>TMAX</td>\n",
       "      <td>TMEDIA</td>\n",
       "      <td>0.910006</td>\n",
       "      <td>0.910006</td>\n",
       "    </tr>\n",
       "    <tr>\n",
       "      <th>62</th>\n",
       "      <td>TMEDIA</td>\n",
       "      <td>TMAX</td>\n",
       "      <td>0.910006</td>\n",
       "      <td>0.910006</td>\n",
       "    </tr>\n",
       "    <tr>\n",
       "      <th>61</th>\n",
       "      <td>TMEDIA</td>\n",
       "      <td>TMIN</td>\n",
       "      <td>0.885689</td>\n",
       "      <td>0.885689</td>\n",
       "    </tr>\n",
       "    <tr>\n",
       "      <th>71</th>\n",
       "      <td>TMIN</td>\n",
       "      <td>TMEDIA</td>\n",
       "      <td>0.885689</td>\n",
       "      <td>0.885689</td>\n",
       "    </tr>\n",
       "    <tr>\n",
       "      <th>83</th>\n",
       "      <td>TMAX</td>\n",
       "      <td>TMIN</td>\n",
       "      <td>0.613526</td>\n",
       "      <td>0.613526</td>\n",
       "    </tr>\n",
       "    <tr>\n",
       "      <th>73</th>\n",
       "      <td>TMIN</td>\n",
       "      <td>TMAX</td>\n",
       "      <td>0.613526</td>\n",
       "      <td>0.613526</td>\n",
       "    </tr>\n",
       "    <tr>\n",
       "      <th>33</th>\n",
       "      <td>time_ctrl</td>\n",
       "      <td>superficie</td>\n",
       "      <td>0.423137</td>\n",
       "      <td>0.423137</td>\n",
       "    </tr>\n",
       "    <tr>\n",
       "      <th>3</th>\n",
       "      <td>superficie</td>\n",
       "      <td>time_ctrl</td>\n",
       "      <td>0.423137</td>\n",
       "      <td>0.423137</td>\n",
       "    </tr>\n",
       "  </tbody>\n",
       "</table>\n",
       "</div>"
      ],
      "text/plain": [
       "    variable_1  variable_2         r     abs_r\n",
       "47    time_ext   time_ctrl  1.000000  1.000000\n",
       "37   time_ctrl    time_ext  1.000000  1.000000\n",
       "82        TMAX      TMEDIA  0.910006  0.910006\n",
       "62      TMEDIA        TMAX  0.910006  0.910006\n",
       "61      TMEDIA        TMIN  0.885689  0.885689\n",
       "71        TMIN      TMEDIA  0.885689  0.885689\n",
       "83        TMAX        TMIN  0.613526  0.613526\n",
       "73        TMIN        TMAX  0.613526  0.613526\n",
       "33   time_ctrl  superficie  0.423137  0.423137\n",
       "3   superficie   time_ctrl  0.423137  0.423137"
      ]
     },
     "execution_count": 63,
     "metadata": {},
     "output_type": "execute_result"
    }
   ],
   "source": [
    "def tidy_corr_matrix(corr_mat):\n",
    "    '''\n",
    "    Función para convertir una matrix de correlación de pandas en formato tidy\n",
    "    '''\n",
    "    corr_mat = corr_mat.stack().reset_index()\n",
    "    corr_mat.columns = ['variable_1','variable_2','r']\n",
    "    corr_mat = corr_mat.loc[corr_mat['variable_1'] != corr_mat['variable_2'], :]\n",
    "    corr_mat['abs_r'] = np.abs(corr_mat['r'])\n",
    "    corr_mat = corr_mat.sort_values('abs_r', ascending=False)\n",
    "    \n",
    "    return(corr_mat)\n",
    "\n",
    "\n",
    "\n",
    "corr_matrix = datos_galicia1.select_dtypes(include=['float64', 'int']).corr(method='pearson')\n",
    "tidy_corr_matrix(corr_matrix).head(10)"
   ]
  },
  {
   "cell_type": "markdown",
   "id": "aa231d82",
   "metadata": {},
   "source": [
    "Podemos ver estas correlaciones de una manera más visual"
   ]
  },
  {
   "cell_type": "code",
   "execution_count": 64,
   "id": "5e961f35",
   "metadata": {},
   "outputs": [],
   "source": [
    "corr_matrix = datos_galicia1[['time_ext','time_ctrl','TMAX','TMEDIA','TMIN','superficie']].corr()"
   ]
  },
  {
   "cell_type": "code",
   "execution_count": 65,
   "id": "2e956a40",
   "metadata": {},
   "outputs": [
    {
     "data": {
      "image/png": "[encoded data removed]",
      "text/plain": [
       "<Figure size 432x288 with 2 Axes>"
      ]
     },
     "metadata": {
      "needs_background": "light"
     },
     "output_type": "display_data"
    }
   ],
   "source": [
    "correlation_mat = corr_matrix.corr()\n",
    "\n",
    "sns.heatmap(correlation_mat, annot = True)\n",
    "\n",
    "plt.show()"
   ]
  },
  {
   "cell_type": "code",
   "execution_count": 66,
   "id": "1a57ce77",
   "metadata": {},
   "outputs": [],
   "source": [
    "'''time_ext/time_cntrl\n",
    "TMAX/TMEDIA\n",
    "TMIN/TMEDIA \n",
    "TMAX/TMIN\n",
    "time_ctrl/superficie\n",
    " -- me voy a quedar solo con TMEDIA, superficie y time_cntr\n",
    "'''\n",
    "datos_galicia_reduc =  datos_galicia1.drop(['TMAX','TMIN', 'time_ext'], axis = 'columns')"
   ]
  },
  {
   "cell_type": "markdown",
   "id": "4519ed68",
   "metadata": {},
   "source": [
    "Vamos a eliminar tambien las variables que tengan menos correlación con la variable objetivo"
   ]
  },
  {
   "cell_type": "code",
   "execution_count": 67,
   "id": "0ca0f265",
   "metadata": {},
   "outputs": [
    {
     "data": {
      "text/plain": [
       "intencionado         11293\n",
       "causa desconocida      830\n",
       "negligencia            534\n",
       "fuego reproducido      215\n",
       "rayo                   104\n",
       "Name: target, dtype: int64"
      ]
     },
     "execution_count": 67,
     "metadata": {},
     "output_type": "execute_result"
    }
   ],
   "source": [
    "#vemos los tipos de datos de la target\n",
    "datos_galicia1['target'].value_counts()"
   ]
  },
  {
   "cell_type": "markdown",
   "id": "c524e407",
   "metadata": {},
   "source": [
    "Todavía están como tipo object por lo que la pasamos a numérica"
   ]
  },
  {
   "cell_type": "code",
   "execution_count": 68,
   "id": "aab421ad",
   "metadata": {},
   "outputs": [],
   "source": [
    "datos_galicia1.target.replace((\"intencionado\",\"causa desconocida\",\"negligencia\",\"fuego reproducido\",\"rayo\"),\n",
    "                      (1,2,3,4,5),inplace=True)\n",
    "\n",
    "datos_galicia_reduc.target.replace((\"intencionado\",\"causa desconocida\",\"negligencia\",\"fuego reproducido\",\"rayo\"),\n",
    "                      (1,2,3,4,5),inplace=True)"
   ]
  },
  {
   "cell_type": "code",
   "execution_count": 69,
   "id": "0be41754",
   "metadata": {},
   "outputs": [
    {
     "data": {
      "text/plain": [
       "1    11293\n",
       "2      830\n",
       "3      534\n",
       "4      215\n",
       "5      104\n",
       "Name: target, dtype: int64"
      ]
     },
     "execution_count": 69,
     "metadata": {},
     "output_type": "execute_result"
    }
   ],
   "source": [
    "datos_galicia_reduc['target'].value_counts()"
   ]
  },
  {
   "cell_type": "code",
   "execution_count": 70,
   "id": "397fdc01",
   "metadata": {},
   "outputs": [
    {
     "data": {
      "text/html": [
       "<style  type=\"text/css\" >\n",
       "#T_9b87b_row0_col0{\n",
       "            background-color:  #023858;\n",
       "            color:  #f1f1f1;\n",
       "        }#T_9b87b_row1_col0{\n",
       "            background-color:  #ede7f2;\n",
       "            color:  #000000;\n",
       "        }#T_9b87b_row2_col0{\n",
       "            background-color:  #ede8f3;\n",
       "            color:  #000000;\n",
       "        }#T_9b87b_row3_col0{\n",
       "            background-color:  #f0eaf4;\n",
       "            color:  #000000;\n",
       "        }#T_9b87b_row4_col0{\n",
       "            background-color:  #f2ecf5;\n",
       "            color:  #000000;\n",
       "        }#T_9b87b_row5_col0{\n",
       "            background-color:  #f4edf6;\n",
       "            color:  #000000;\n",
       "        }#T_9b87b_row6_col0{\n",
       "            background-color:  #f4eef6;\n",
       "            color:  #000000;\n",
       "        }#T_9b87b_row7_col0{\n",
       "            background-color:  #f5eef6;\n",
       "            color:  #000000;\n",
       "        }#T_9b87b_row8_col0,#T_9b87b_row9_col0{\n",
       "            background-color:  #f5eff6;\n",
       "            color:  #000000;\n",
       "        }#T_9b87b_row10_col0,#T_9b87b_row11_col0{\n",
       "            background-color:  #f6eff7;\n",
       "            color:  #000000;\n",
       "        }#T_9b87b_row12_col0,#T_9b87b_row13_col0{\n",
       "            background-color:  #f7f0f7;\n",
       "            color:  #000000;\n",
       "        }#T_9b87b_row14_col0,#T_9b87b_row15_col0{\n",
       "            background-color:  #f8f1f8;\n",
       "            color:  #000000;\n",
       "        }#T_9b87b_row16_col0{\n",
       "            background-color:  #f9f2f8;\n",
       "            color:  #000000;\n",
       "        }#T_9b87b_row17_col0,#T_9b87b_row18_col0{\n",
       "            background-color:  #faf2f8;\n",
       "            color:  #000000;\n",
       "        }#T_9b87b_row19_col0,#T_9b87b_row20_col0,#T_9b87b_row21_col0,#T_9b87b_row22_col0{\n",
       "            background-color:  #faf3f9;\n",
       "            color:  #000000;\n",
       "        }#T_9b87b_row23_col0,#T_9b87b_row24_col0,#T_9b87b_row25_col0{\n",
       "            background-color:  #fbf3f9;\n",
       "            color:  #000000;\n",
       "        }#T_9b87b_row26_col0{\n",
       "            background-color:  #fbf4f9;\n",
       "            color:  #000000;\n",
       "        }#T_9b87b_row27_col0,#T_9b87b_row28_col0,#T_9b87b_row29_col0,#T_9b87b_row30_col0{\n",
       "            background-color:  #fcf4fa;\n",
       "            color:  #000000;\n",
       "        }#T_9b87b_row31_col0,#T_9b87b_row32_col0{\n",
       "            background-color:  #fdf5fa;\n",
       "            color:  #000000;\n",
       "        }#T_9b87b_row33_col0{\n",
       "            background-color:  #fef6fa;\n",
       "            color:  #000000;\n",
       "        }#T_9b87b_row34_col0,#T_9b87b_row35_col0{\n",
       "            background-color:  #fef6fb;\n",
       "            color:  #000000;\n",
       "        }#T_9b87b_row36_col0,#T_9b87b_row37_col0,#T_9b87b_row38_col0,#T_9b87b_row39_col0,#T_9b87b_row40_col0,#T_9b87b_row41_col0{\n",
       "            background-color:  #fff7fb;\n",
       "            color:  #000000;\n",
       "        }</style><table id=\"T_9b87b_\" ><thead>    <tr>        <th class=\"blank level0\" ></th>        <th class=\"col_heading level0 col0\" >target</th>    </tr></thead><tbody>\n",
       "                <tr>\n",
       "                        <th id=\"T_9b87b_level0_row0\" class=\"row_heading level0 row0\" >target</th>\n",
       "                        <td id=\"T_9b87b_row0_col0\" class=\"data row0 col0\" >1.000000</td>\n",
       "            </tr>\n",
       "            <tr>\n",
       "                        <th id=\"T_9b87b_level0_row1\" class=\"row_heading level0 row1\" >medios</th>\n",
       "                        <td id=\"T_9b87b_row1_col0\" class=\"data row1 col0\" >0.123753</td>\n",
       "            </tr>\n",
       "            <tr>\n",
       "                        <th id=\"T_9b87b_level0_row2\" class=\"row_heading level0 row2\" >TMEDIA</th>\n",
       "                        <td id=\"T_9b87b_row2_col0\" class=\"data row2 col0\" >0.121941</td>\n",
       "            </tr>\n",
       "            <tr>\n",
       "                        <th id=\"T_9b87b_level0_row3\" class=\"row_heading level0 row3\" >personal</th>\n",
       "                        <td id=\"T_9b87b_row3_col0\" class=\"data row3 col0\" >0.099976</td>\n",
       "            </tr>\n",
       "            <tr>\n",
       "                        <th id=\"T_9b87b_level0_row4\" class=\"row_heading level0 row4\" >Año</th>\n",
       "                        <td id=\"T_9b87b_row4_col0\" class=\"data row4 col0\" >0.086746</td>\n",
       "            </tr>\n",
       "            <tr>\n",
       "                        <th id=\"T_9b87b_level0_row5\" class=\"row_heading level0 row5\" >Lugo</th>\n",
       "                        <td id=\"T_9b87b_row5_col0\" class=\"data row5 col0\" >0.079416</td>\n",
       "            </tr>\n",
       "            <tr>\n",
       "                        <th id=\"T_9b87b_level0_row6\" class=\"row_heading level0 row6\" >ALTITUD</th>\n",
       "                        <td id=\"T_9b87b_row6_col0\" class=\"data row6 col0\" >0.075265</td>\n",
       "            </tr>\n",
       "            <tr>\n",
       "                        <th id=\"T_9b87b_level0_row7\" class=\"row_heading level0 row7\" >lat</th>\n",
       "                        <td id=\"T_9b87b_row7_col0\" class=\"data row7 col0\" >0.072122</td>\n",
       "            </tr>\n",
       "            <tr>\n",
       "                        <th id=\"T_9b87b_level0_row8\" class=\"row_heading level0 row8\" >Ourense</th>\n",
       "                        <td id=\"T_9b87b_row8_col0\" class=\"data row8 col0\" >0.067900</td>\n",
       "            </tr>\n",
       "            <tr>\n",
       "                        <th id=\"T_9b87b_level0_row9\" class=\"row_heading level0 row9\" >Q2</th>\n",
       "                        <td id=\"T_9b87b_row9_col0\" class=\"data row9 col0\" >0.067850</td>\n",
       "            </tr>\n",
       "            <tr>\n",
       "                        <th id=\"T_9b87b_level0_row10\" class=\"row_heading level0 row10\" >mayo</th>\n",
       "                        <td id=\"T_9b87b_row10_col0\" class=\"data row10 col0\" >0.062214</td>\n",
       "            </tr>\n",
       "            <tr>\n",
       "                        <th id=\"T_9b87b_level0_row11\" class=\"row_heading level0 row11\" >junio</th>\n",
       "                        <td id=\"T_9b87b_row11_col0\" class=\"data row11 col0\" >0.061929</td>\n",
       "            </tr>\n",
       "            <tr>\n",
       "                        <th id=\"T_9b87b_level0_row12\" class=\"row_heading level0 row12\" >julio</th>\n",
       "                        <td id=\"T_9b87b_row12_col0\" class=\"data row12 col0\" >0.056630</td>\n",
       "            </tr>\n",
       "            <tr>\n",
       "                        <th id=\"T_9b87b_level0_row13\" class=\"row_heading level0 row13\" >SOL</th>\n",
       "                        <td id=\"T_9b87b_row13_col0\" class=\"data row13 col0\" >0.056471</td>\n",
       "            </tr>\n",
       "            <tr>\n",
       "                        <th id=\"T_9b87b_level0_row14\" class=\"row_heading level0 row14\" >marzo</th>\n",
       "                        <td id=\"T_9b87b_row14_col0\" class=\"data row14 col0\" >0.048430</td>\n",
       "            </tr>\n",
       "            <tr>\n",
       "                        <th id=\"T_9b87b_level0_row15\" class=\"row_heading level0 row15\" >diciembre</th>\n",
       "                        <td id=\"T_9b87b_row15_col0\" class=\"data row15 col0\" >0.045835</td>\n",
       "            </tr>\n",
       "            <tr>\n",
       "                        <th id=\"T_9b87b_level0_row16\" class=\"row_heading level0 row16\" >febrero</th>\n",
       "                        <td id=\"T_9b87b_row16_col0\" class=\"data row16 col0\" >0.042348</td>\n",
       "            </tr>\n",
       "            <tr>\n",
       "                        <th id=\"T_9b87b_level0_row17\" class=\"row_heading level0 row17\" >Q4</th>\n",
       "                        <td id=\"T_9b87b_row17_col0\" class=\"data row17 col0\" >0.040505</td>\n",
       "            </tr>\n",
       "            <tr>\n",
       "                        <th id=\"T_9b87b_level0_row18\" class=\"row_heading level0 row18\" >PRES_RANGE</th>\n",
       "                        <td id=\"T_9b87b_row18_col0\" class=\"data row18 col0\" >0.038575</td>\n",
       "            </tr>\n",
       "            <tr>\n",
       "                        <th id=\"T_9b87b_level0_row19\" class=\"row_heading level0 row19\" >noviembre</th>\n",
       "                        <td id=\"T_9b87b_row19_col0\" class=\"data row19 col0\" >0.036887</td>\n",
       "            </tr>\n",
       "            <tr>\n",
       "                        <th id=\"T_9b87b_level0_row20\" class=\"row_heading level0 row20\" >agosto</th>\n",
       "                        <td id=\"T_9b87b_row20_col0\" class=\"data row20 col0\" >0.035497</td>\n",
       "            </tr>\n",
       "            <tr>\n",
       "                        <th id=\"T_9b87b_level0_row21\" class=\"row_heading level0 row21\" >Q3</th>\n",
       "                        <td id=\"T_9b87b_row21_col0\" class=\"data row21 col0\" >0.035287</td>\n",
       "            </tr>\n",
       "            <tr>\n",
       "                        <th id=\"T_9b87b_level0_row22\" class=\"row_heading level0 row22\" >gastos</th>\n",
       "                        <td id=\"T_9b87b_row22_col0\" class=\"data row22 col0\" >0.034162</td>\n",
       "            </tr>\n",
       "            <tr>\n",
       "                        <th id=\"T_9b87b_level0_row23\" class=\"row_heading level0 row23\" >septiembre</th>\n",
       "                        <td id=\"T_9b87b_row23_col0\" class=\"data row23 col0\" >0.032436</td>\n",
       "            </tr>\n",
       "            <tr>\n",
       "                        <th id=\"T_9b87b_level0_row24\" class=\"row_heading level0 row24\" >PRECIPITACION</th>\n",
       "                        <td id=\"T_9b87b_row24_col0\" class=\"data row24 col0\" >0.031382</td>\n",
       "            </tr>\n",
       "            <tr>\n",
       "                        <th id=\"T_9b87b_level0_row25\" class=\"row_heading level0 row25\" >Pontevedra</th>\n",
       "                        <td id=\"T_9b87b_row25_col0\" class=\"data row25 col0\" >0.029970</td>\n",
       "            </tr>\n",
       "            <tr>\n",
       "                        <th id=\"T_9b87b_level0_row26\" class=\"row_heading level0 row26\" >RACHA</th>\n",
       "                        <td id=\"T_9b87b_row26_col0\" class=\"data row26 col0\" >0.025799</td>\n",
       "            </tr>\n",
       "            <tr>\n",
       "                        <th id=\"T_9b87b_level0_row27\" class=\"row_heading level0 row27\" >SW</th>\n",
       "                        <td id=\"T_9b87b_row27_col0\" class=\"data row27 col0\" >0.025689</td>\n",
       "            </tr>\n",
       "            <tr>\n",
       "                        <th id=\"T_9b87b_level0_row28\" class=\"row_heading level0 row28\" >superficie</th>\n",
       "                        <td id=\"T_9b87b_row28_col0\" class=\"data row28 col0\" >0.024701</td>\n",
       "            </tr>\n",
       "            <tr>\n",
       "                        <th id=\"T_9b87b_level0_row29\" class=\"row_heading level0 row29\" >muertos</th>\n",
       "                        <td id=\"T_9b87b_row29_col0\" class=\"data row29 col0\" >0.023089</td>\n",
       "            </tr>\n",
       "            <tr>\n",
       "                        <th id=\"T_9b87b_level0_row30\" class=\"row_heading level0 row30\" >time_ctrl</th>\n",
       "                        <td id=\"T_9b87b_row30_col0\" class=\"data row30 col0\" >0.022969</td>\n",
       "            </tr>\n",
       "            <tr>\n",
       "                        <th id=\"T_9b87b_level0_row31\" class=\"row_heading level0 row31\" >enero</th>\n",
       "                        <td id=\"T_9b87b_row31_col0\" class=\"data row31 col0\" >0.021724</td>\n",
       "            </tr>\n",
       "            <tr>\n",
       "                        <th id=\"T_9b87b_level0_row32\" class=\"row_heading level0 row32\" >lng</th>\n",
       "                        <td id=\"T_9b87b_row32_col0\" class=\"data row32 col0\" >0.016770</td>\n",
       "            </tr>\n",
       "            <tr>\n",
       "                        <th id=\"T_9b87b_level0_row33\" class=\"row_heading level0 row33\" >NW</th>\n",
       "                        <td id=\"T_9b87b_row33_col0\" class=\"data row33 col0\" >0.011557</td>\n",
       "            </tr>\n",
       "            <tr>\n",
       "                        <th id=\"T_9b87b_level0_row34\" class=\"row_heading level0 row34\" >W</th>\n",
       "                        <td id=\"T_9b87b_row34_col0\" class=\"data row34 col0\" >0.010068</td>\n",
       "            </tr>\n",
       "            <tr>\n",
       "                        <th id=\"T_9b87b_level0_row35\" class=\"row_heading level0 row35\" >N</th>\n",
       "                        <td id=\"T_9b87b_row35_col0\" class=\"data row35 col0\" >0.008629</td>\n",
       "            </tr>\n",
       "            <tr>\n",
       "                        <th id=\"T_9b87b_level0_row36\" class=\"row_heading level0 row36\" >SE</th>\n",
       "                        <td id=\"T_9b87b_row36_col0\" class=\"data row36 col0\" >0.006073</td>\n",
       "            </tr>\n",
       "            <tr>\n",
       "                        <th id=\"T_9b87b_level0_row37\" class=\"row_heading level0 row37\" >octubre</th>\n",
       "                        <td id=\"T_9b87b_row37_col0\" class=\"data row37 col0\" >0.004512</td>\n",
       "            </tr>\n",
       "            <tr>\n",
       "                        <th id=\"T_9b87b_level0_row38\" class=\"row_heading level0 row38\" >VELMEDIA</th>\n",
       "                        <td id=\"T_9b87b_row38_col0\" class=\"data row38 col0\" >0.004423</td>\n",
       "            </tr>\n",
       "            <tr>\n",
       "                        <th id=\"T_9b87b_level0_row39\" class=\"row_heading level0 row39\" >NE</th>\n",
       "                        <td id=\"T_9b87b_row39_col0\" class=\"data row39 col0\" >0.003609</td>\n",
       "            </tr>\n",
       "            <tr>\n",
       "                        <th id=\"T_9b87b_level0_row40\" class=\"row_heading level0 row40\" >heridos</th>\n",
       "                        <td id=\"T_9b87b_row40_col0\" class=\"data row40 col0\" >0.003361</td>\n",
       "            </tr>\n",
       "            <tr>\n",
       "                        <th id=\"T_9b87b_level0_row41\" class=\"row_heading level0 row41\" >S</th>\n",
       "                        <td id=\"T_9b87b_row41_col0\" class=\"data row41 col0\" >0.002379</td>\n",
       "            </tr>\n",
       "    </tbody></table>"
      ],
      "text/plain": [
       "<pandas.io.formats.style.Styler at 0x2194964c880>"
      ]
     },
     "execution_count": 70,
     "metadata": {},
     "output_type": "execute_result"
    }
   ],
   "source": [
    "corr = abs(datos_galicia_reduc.corr())\n",
    "corr[['target']].sort_values(by = 'target',ascending = False).style.background_gradient()"
   ]
  },
  {
   "cell_type": "code",
   "execution_count": 71,
   "id": "d883c88a",
   "metadata": {},
   "outputs": [],
   "source": [
    "#Seleccionamos las que tengan más del 5% de correlación\n",
    "datos_galicia_reduc = datos_galicia_reduc [['medios', 'TMEDIA','personal','Año','Lugo',\n",
    "                                           'ALTITUD','lat','Ourense','Q2','mayo','junio','julio','SOL','target']]"
   ]
  },
  {
   "cell_type": "code",
   "execution_count": 72,
   "id": "01d74acc",
   "metadata": {},
   "outputs": [
    {
     "data": {
      "text/plain": [
       "14"
      ]
     },
     "execution_count": 72,
     "metadata": {},
     "output_type": "execute_result"
    }
   ],
   "source": [
    "len(datos_galicia_reduc.columns)"
   ]
  },
  {
   "cell_type": "code",
   "execution_count": 73,
   "id": "3038dc79",
   "metadata": {},
   "outputs": [],
   "source": [
    "X_train, X_test, y_train, y_test = train_test_split(\n",
    "                                        datos_galicia_reduc.drop('target', axis = 'columns'),\n",
    "                                        datos_galicia_reduc['target'],\n",
    "                                        train_size   = 0.8,\n",
    "                                        random_state = 1234,\n",
    "                                        shuffle      = True,\n",
    "                                        stratify = datos_galicia_reduc['target'])"
   ]
  },
  {
   "cell_type": "markdown",
   "id": "4c321510",
   "metadata": {},
   "source": [
    "### * Modelo 5 - SVM  reducidas variables por correlación"
   ]
  },
  {
   "cell_type": "code",
   "execution_count": 74,
   "id": "6da19853",
   "metadata": {},
   "outputs": [
    {
     "data": {
      "text/plain": [
       "0.8701848998459168"
      ]
     },
     "execution_count": 74,
     "metadata": {},
     "output_type": "execute_result"
    }
   ],
   "source": [
    "modelo_clf_reduc = svm.SVC(class_weight= None, decision_function_shape='ovo')\n",
    "modelo_clf_reduc.fit(X_train, y_train)\n",
    "\n",
    "modelo_clf_reduc.predict(X_test)\n",
    "\n",
    "modelo_clf_reduc.score(X_test,y_test)"
   ]
  },
  {
   "cell_type": "markdown",
   "id": "0fa165ce",
   "metadata": {},
   "source": [
    "----------"
   ]
  },
  {
   "cell_type": "markdown",
   "id": "a9891649",
   "metadata": {},
   "source": [
    "### * Modelo 6 =>  RF reducido reducidas variables por correlación"
   ]
  },
  {
   "cell_type": "markdown",
   "id": "83be96e2",
   "metadata": {},
   "source": [
    "Conjuntos de arboles de decisión"
   ]
  },
  {
   "cell_type": "code",
   "execution_count": 75,
   "id": "0442897e",
   "metadata": {},
   "outputs": [
    {
     "data": {
      "text/plain": [
       "0.8690292758089369"
      ]
     },
     "execution_count": 75,
     "metadata": {},
     "output_type": "execute_result"
    }
   ],
   "source": [
    "modelo_ranfor_reduc = RandomForestClassifier(bootstrap= True, criterion= 'entropy', max_depth= None, n_estimators= 150, class_weight='balanced').fit(X_train, y_train)\n",
    "y_pred     = modelo_ranfor_reduc.predict(X_test)\n",
    "\n",
    "modelo_ranfor_reduc.score(X_test, y_test)"
   ]
  },
  {
   "cell_type": "markdown",
   "id": "36bef415",
   "metadata": {},
   "source": [
    "---------"
   ]
  },
  {
   "cell_type": "markdown",
   "id": "bf5aae53",
   "metadata": {},
   "source": [
    "### * Modelo 7 => Gradient Boosting reducido reducidas variables por correlación"
   ]
  },
  {
   "cell_type": "code",
   "execution_count": 76,
   "id": "8f8736c9",
   "metadata": {},
   "outputs": [
    {
     "data": {
      "text/plain": [
       "0.8697996918335902"
      ]
     },
     "execution_count": 76,
     "metadata": {},
     "output_type": "execute_result"
    }
   ],
   "source": [
    "modelo_gbrt_reduc = GradientBoostingClassifier(random_state=0, n_estimators=500,\n",
    "                                  max_depth=1, learning_rate=0.01)\n",
    "modelo_gbrt_reduc.fit(X_train, y_train)\n",
    "modelo_gbrt_reduc.score(X_test, y_test)"
   ]
  },
  {
   "cell_type": "code",
   "execution_count": null,
   "id": "d8a08aaf",
   "metadata": {},
   "outputs": [],
   "source": []
  },
  {
   "cell_type": "markdown",
   "id": "7244d039",
   "metadata": {},
   "source": [
    "### - Selección de las mejores variables a través de la prueba F"
   ]
  },
  {
   "cell_type": "code",
   "execution_count": 77,
   "id": "f209a6a9",
   "metadata": {},
   "outputs": [
    {
     "data": {
      "text/plain": [
       "Index(['superficie', 'lat', 'lng', 'muertos', 'heridos', 'time_ctrl',\n",
       "       'time_ext', 'personal', 'medios', 'gastos', 'ALTITUD', 'TMEDIA',\n",
       "       'PRECIPITACION', 'TMIN', 'TMAX', 'VELMEDIA', 'RACHA', 'SOL', 'Año',\n",
       "       'PRES_RANGE', 'Lugo', 'Ourense', 'Pontevedra', 'Q2', 'Q3', 'Q4',\n",
       "       'agosto', 'diciembre', 'enero', 'febrero', 'julio', 'junio', 'marzo',\n",
       "       'mayo', 'noviembre', 'octubre', 'septiembre', 'N', 'NE', 'NW', 'S',\n",
       "       'SE', 'SW', 'W', 'target'],\n",
       "      dtype='object')"
      ]
     },
     "execution_count": 77,
     "metadata": {},
     "output_type": "execute_result"
    }
   ],
   "source": [
    "datos_galicia1.columns"
   ]
  },
  {
   "cell_type": "code",
   "execution_count": 78,
   "id": "61cc9857",
   "metadata": {},
   "outputs": [
    {
     "data": {
      "text/plain": [
       "['superficie',\n",
       " 'lat',\n",
       " 'lng',\n",
       " 'muertos',\n",
       " 'heridos',\n",
       " 'time_ctrl',\n",
       " 'time_ext',\n",
       " 'personal',\n",
       " 'medios',\n",
       " 'PRECIPITACION']"
      ]
     },
     "execution_count": 78,
     "metadata": {},
     "output_type": "execute_result"
    }
   ],
   "source": [
    "k = 10  # número de atributos a seleccionar\n",
    "columnas = list(datos_galicia1.columns.values)\n",
    "seleccionadas = SelectKBest(f_classif, k=k).fit(X_train, y_train)\n",
    "atrib = seleccionadas.get_support()\n",
    "atributos = [columnas[i] for i in list(atrib.nonzero()[0])]\n",
    "atributos"
   ]
  },
  {
   "cell_type": "markdown",
   "id": "7fb61355",
   "metadata": {},
   "source": [
    "Seleccionamos esas columnas del dataset"
   ]
  },
  {
   "cell_type": "code",
   "execution_count": 79,
   "id": "51fcc370",
   "metadata": {},
   "outputs": [],
   "source": [
    "datos_theBest = datos_galicia1.copy()"
   ]
  },
  {
   "cell_type": "code",
   "execution_count": 80,
   "id": "e06d966e",
   "metadata": {},
   "outputs": [],
   "source": [
    "datos_theBest = datos_theBest[['superficie',\n",
    " 'lat',\n",
    " 'lng',\n",
    " 'muertos',\n",
    " 'heridos',\n",
    " 'time_ctrl',\n",
    " 'time_ext',\n",
    " 'personal',\n",
    " 'medios',\n",
    " 'PRECIPITACION',\n",
    " 'target']]"
   ]
  },
  {
   "cell_type": "code",
   "execution_count": 81,
   "id": "47fbc191",
   "metadata": {},
   "outputs": [
    {
     "data": {
      "text/plain": [
       "11"
      ]
     },
     "execution_count": 81,
     "metadata": {},
     "output_type": "execute_result"
    }
   ],
   "source": [
    "len(datos_theBest.columns)"
   ]
  },
  {
   "cell_type": "code",
   "execution_count": 82,
   "id": "4c907f43",
   "metadata": {},
   "outputs": [],
   "source": [
    "X_train, X_test, y_train, y_test = train_test_split(\n",
    "                                        datos_theBest.drop('target', axis = 'columns'),\n",
    "                                        datos_theBest['target'],\n",
    "                                        train_size   = 0.8,\n",
    "                                        random_state = 1234,\n",
    "                                        shuffle      = True,\n",
    "                                        stratify = datos_theBest['target'])\n"
   ]
  },
  {
   "cell_type": "code",
   "execution_count": null,
   "id": "0e00fc66",
   "metadata": {},
   "outputs": [],
   "source": []
  },
  {
   "cell_type": "markdown",
   "id": "992e0172",
   "metadata": {},
   "source": [
    "### *  Modelo 8 - SMV seleccion de las mejores variables por F"
   ]
  },
  {
   "cell_type": "code",
   "execution_count": 83,
   "id": "1f6734dd",
   "metadata": {},
   "outputs": [
    {
     "data": {
      "text/plain": [
       "0.8701848998459168"
      ]
     },
     "execution_count": 83,
     "metadata": {},
     "output_type": "execute_result"
    }
   ],
   "source": [
    "clf_theBest = svm.SVC(class_weight= None, decision_function_shape='ovo')\n",
    "clf_theBest.fit(X_train, y_train)\n",
    "\n",
    "clf_theBest.score(X_test,y_test)"
   ]
  },
  {
   "cell_type": "markdown",
   "id": "1b6cf69e",
   "metadata": {},
   "source": [
    "-----"
   ]
  },
  {
   "cell_type": "markdown",
   "id": "e51db370",
   "metadata": {},
   "source": [
    "### * Modelo 9 - Random Forest seleccion de las mejores variables por F"
   ]
  },
  {
   "cell_type": "code",
   "execution_count": 84,
   "id": "067713c8",
   "metadata": {},
   "outputs": [
    {
     "data": {
      "text/plain": [
       "0.8709553158705701"
      ]
     },
     "execution_count": 84,
     "metadata": {},
     "output_type": "execute_result"
    }
   ],
   "source": [
    "modelo_ranfor_theBest = RandomForestClassifier(bootstrap = True, criterion= 'entropy', max_depth=None, n_estimators=150,class_weight='balanced').fit(X_train, y_train)\n",
    "y_pred     = modelo_ranfor_theBest.predict(X_test)\n",
    "\n",
    "modelo_ranfor_theBest.score(X_test, y_test)"
   ]
  },
  {
   "cell_type": "markdown",
   "id": "732bd6aa",
   "metadata": {},
   "source": [
    "------"
   ]
  },
  {
   "cell_type": "markdown",
   "id": "487f9364",
   "metadata": {},
   "source": [
    "### * Modelo 10 - Gradient Boosting seleccion de las mejores variables por F"
   ]
  },
  {
   "cell_type": "code",
   "execution_count": 85,
   "id": "393d4f8f",
   "metadata": {},
   "outputs": [
    {
     "data": {
      "text/plain": [
       "0.8701848998459168"
      ]
     },
     "execution_count": 85,
     "metadata": {},
     "output_type": "execute_result"
    }
   ],
   "source": [
    "modelo_gbrt_theBest = GradientBoostingClassifier(random_state=0, n_estimators=500,\n",
    "                                  max_depth=1, learning_rate=0.01)\n",
    "modelo_gbrt_theBest.fit(X_train, y_train)\n",
    "modelo_gbrt_theBest.score(X_test, y_test)"
   ]
  },
  {
   "cell_type": "code",
   "execution_count": null,
   "id": "7ca99704",
   "metadata": {},
   "outputs": [],
   "source": []
  },
  {
   "cell_type": "markdown",
   "id": "2ced1fc3",
   "metadata": {},
   "source": [
    "### -> Selección de las mejores variables a través la importancia de las variables predictoras "
   ]
  },
  {
   "cell_type": "code",
   "execution_count": 86,
   "id": "dabc5974",
   "metadata": {},
   "outputs": [],
   "source": [
    "#Con todas las variables\n",
    "X_train, X_test, y_train, y_test = train_test_split(\n",
    "                                        datos_galicia1.drop('target', axis = 'columns'),\n",
    "                                        datos_galicia1['target'],\n",
    "                                        train_size   = 0.8,\n",
    "                                        random_state = 1234,\n",
    "                                        shuffle      = True,\n",
    "                                        stratify = datos_theBest['target'])\n"
   ]
  },
  {
   "cell_type": "code",
   "execution_count": 87,
   "id": "5bad0f42",
   "metadata": {},
   "outputs": [
    {
     "data": {
      "text/plain": [
       "array([0.05814949, 0.08596539, 0.08129695, 0.00031976, 0.00023077,\n",
       "       0.06691957, 0.06554893, 0.06327042, 0.03996239, 0.00803842,\n",
       "       0.01032531, 0.05884974, 0.00770356, 0.0586633 , 0.06151732,\n",
       "       0.01527639, 0.05141346, 0.05625329, 0.04247936, 0.05340167,\n",
       "       0.0050076 , 0.0047859 , 0.00404387, 0.00670969, 0.00477378,\n",
       "       0.00309627, 0.005446  , 0.00084285, 0.00135538, 0.00347949,\n",
       "       0.00507105, 0.00406117, 0.00500967, 0.0056547 , 0.00077066,\n",
       "       0.00284627, 0.00457656, 0.00853893, 0.0096097 , 0.00771473,\n",
       "       0.00457776, 0.00388098, 0.00432981, 0.00823169])"
      ]
     },
     "execution_count": 87,
     "metadata": {},
     "output_type": "execute_result"
    }
   ],
   "source": [
    "modelo_ranfor.feature_importances_"
   ]
  },
  {
   "cell_type": "code",
   "execution_count": 88,
   "id": "379f3b0f",
   "metadata": {},
   "outputs": [
    {
     "data": {
      "text/plain": [
       "array([0.02500385, 0.1556113 , 0.05660735, 0.00535549, 0.        ,\n",
       "       0.00935404, 0.01010786, 0.14579285, 0.01989083, 0.        ,\n",
       "       0.01959691, 0.03786522, 0.00385744, 0.01280531, 0.11218875,\n",
       "       0.        , 0.00868079, 0.00777312, 0.25547996, 0.        ,\n",
       "       0.02042585, 0.00341354, 0.0052917 , 0.03783206, 0.00642794,\n",
       "       0.        , 0.        , 0.        , 0.        , 0.        ,\n",
       "       0.00240043, 0.00709785, 0.        , 0.03080115, 0.        ,\n",
       "       0.00033841, 0.        , 0.        , 0.        , 0.        ,\n",
       "       0.        , 0.        , 0.        , 0.        ])"
      ]
     },
     "execution_count": 88,
     "metadata": {},
     "output_type": "execute_result"
    }
   ],
   "source": [
    "modelo_gbrt.feature_importances_"
   ]
  },
  {
   "cell_type": "code",
   "execution_count": 89,
   "id": "ef17a247",
   "metadata": {},
   "outputs": [
    {
     "data": {
      "text/plain": [
       "Index(['superficie', 'lat', 'lng', 'muertos', 'heridos', 'time_ctrl',\n",
       "       'time_ext', 'personal', 'medios', 'gastos', 'ALTITUD', 'TMEDIA',\n",
       "       'PRECIPITACION', 'TMIN', 'TMAX', 'VELMEDIA', 'RACHA', 'SOL', 'Año',\n",
       "       'PRES_RANGE', 'Lugo', 'Ourense', 'Pontevedra', 'Q2', 'Q3', 'Q4',\n",
       "       'agosto', 'diciembre', 'enero', 'febrero', 'julio', 'junio', 'marzo',\n",
       "       'mayo', 'noviembre', 'octubre', 'septiembre', 'N', 'NE', 'NW', 'S',\n",
       "       'SE', 'SW', 'W', 'target'],\n",
       "      dtype='object')"
      ]
     },
     "execution_count": 89,
     "metadata": {},
     "output_type": "execute_result"
    }
   ],
   "source": [
    "datos_galicia1.columns"
   ]
  },
  {
   "cell_type": "code",
   "execution_count": 90,
   "id": "6429baa1",
   "metadata": {},
   "outputs": [],
   "source": [
    "#seleccionamos los que esten por encima de 0.05\n",
    "datos_gbrt = datos_galicia1[['lat','lng','personal','medios','TMAX','Año', 'target']]"
   ]
  },
  {
   "cell_type": "code",
   "execution_count": 91,
   "id": "08fb9671",
   "metadata": {},
   "outputs": [],
   "source": [
    "#seleccionamos los que esten por encima de 0.05\n",
    "datos_rf = datos_galicia1[['superficie','lat','lng','time_ctrl','personal','medios','TMEDIA','RACHA','SOL','Año','PRES_RANGE','target']]"
   ]
  },
  {
   "cell_type": "markdown",
   "id": "95fa4f39",
   "metadata": {},
   "source": [
    "### * Modelo 11 - GradientBoosting con las variables de mayor importancia"
   ]
  },
  {
   "cell_type": "code",
   "execution_count": 92,
   "id": "336fb177",
   "metadata": {},
   "outputs": [
    {
     "data": {
      "text/plain": [
       "0.8701848998459168"
      ]
     },
     "execution_count": 92,
     "metadata": {},
     "output_type": "execute_result"
    }
   ],
   "source": [
    "X_train, X_test, y_train, y_test = train_test_split(\n",
    "                                        datos_gbrt.drop('target', axis = 'columns'),\n",
    "                                        datos_gbrt['target'],\n",
    "                                        train_size   = 0.8,\n",
    "                                        random_state = 1234,\n",
    "                                        shuffle      = True,\n",
    "                                        stratify = datos_gbrt['target'])\n",
    "\n",
    "\n",
    "modelo_gbrt_mejores = GradientBoostingClassifier(random_state=0, n_estimators=500,\n",
    "                                  max_depth=1, learning_rate=0.01)\n",
    "modelo_gbrt_mejores.fit(X_train, y_train)\n",
    "modelo_gbrt_mejores.score(X_test, y_test)"
   ]
  },
  {
   "cell_type": "markdown",
   "id": "3598a544",
   "metadata": {},
   "source": [
    "-------------"
   ]
  },
  {
   "cell_type": "markdown",
   "id": "78bb4a66",
   "metadata": {},
   "source": [
    "### * Modelo 12 - Random Forest con las variables de mayor importancia"
   ]
  },
  {
   "cell_type": "code",
   "execution_count": 93,
   "id": "9c85505b",
   "metadata": {},
   "outputs": [
    {
     "data": {
      "text/plain": [
       "0.8713405238828967"
      ]
     },
     "execution_count": 93,
     "metadata": {},
     "output_type": "execute_result"
    }
   ],
   "source": [
    "X_train, X_test, y_train, y_test = train_test_split(\n",
    "                                        datos_rf.drop('target', axis = 'columns'),\n",
    "                                        datos_rf['target'],\n",
    "                                        train_size   = 0.8,\n",
    "                                        random_state = 1234,\n",
    "                                        shuffle      = True,\n",
    "                                        stratify = datos_rf['target'])\n",
    "\n",
    "modelo_ranfor_mejores = RandomForestClassifier(bootstrap = True, criterion= 'entropy', max_depth=None, n_estimators=150,class_weight='balanced').fit(X_train, y_train)\n",
    "y_pred     = modelo_ranfor_mejores.predict(X_test)\n",
    "\n",
    "modelo_ranfor_mejores.score(X_test, y_test)"
   ]
  },
  {
   "cell_type": "markdown",
   "id": "48929ca2",
   "metadata": {},
   "source": [
    "* Este método de selección de variables no puede hacerse con SVM"
   ]
  },
  {
   "cell_type": "code",
   "execution_count": null,
   "id": "03456e98",
   "metadata": {},
   "outputs": [],
   "source": []
  },
  {
   "cell_type": "markdown",
   "id": "37966633",
   "metadata": {},
   "source": [
    "## Selección del modelo"
   ]
  },
  {
   "cell_type": "markdown",
   "id": "1663a5ac",
   "metadata": {},
   "source": [
    "Vamos a seleccionar el modelo mediante la validación cruzada, tanto por su cálculo numérico como su posterior representación gráfica"
   ]
  },
  {
   "cell_type": "markdown",
   "id": "59f2d8d0",
   "metadata": {},
   "source": [
    "### * Validación cruzada"
   ]
  },
  {
   "cell_type": "markdown",
   "id": "28b57726",
   "metadata": {},
   "source": [
    "En SVM no se ha visto modificado la precisión del modelo modificando los parámetros, por lo que haremos la validación cruzada del modelo que mas \"limpio\" consideramos"
   ]
  },
  {
   "cell_type": "code",
   "execution_count": 94,
   "id": "a0e8e385",
   "metadata": {},
   "outputs": [],
   "source": [
    "#Modelo 8\n",
    "results_modelo_clf_theBest = cross_val_score(estimator=clf_theBest, X=X_train, y=y_train, cv=5)"
   ]
  },
  {
   "cell_type": "code",
   "execution_count": 95,
   "id": "da2d652a",
   "metadata": {},
   "outputs": [
    {
     "name": "stdout",
     "output_type": "stream",
     "text": [
      "0.8703275529865125\n",
      "0.00019267822736028782\n"
     ]
    }
   ],
   "source": [
    "print(results_modelo_clf_theBest.mean())\n",
    "print(results_modelo_clf_theBest.std())"
   ]
  },
  {
   "cell_type": "markdown",
   "id": "9f6e8e85",
   "metadata": {},
   "source": [
    "Por otro lado, vamos a hacerla para aquellos mejores modelos de RF"
   ]
  },
  {
   "cell_type": "code",
   "execution_count": 96,
   "id": "aaa47c16",
   "metadata": {},
   "outputs": [],
   "source": [
    "#Modelo 9\n",
    "results_modelo_ranfor_theBest = cross_val_score(estimator=modelo_ranfor_theBest, X=X_train, y=y_train, cv=5)"
   ]
  },
  {
   "cell_type": "code",
   "execution_count": 97,
   "id": "467c0c45",
   "metadata": {},
   "outputs": [
    {
     "name": "stdout",
     "output_type": "stream",
     "text": [
      "0.8709055876685934\n",
      "0.0006093020539823522\n"
     ]
    }
   ],
   "source": [
    "print(results_modelo_ranfor_theBest.mean())\n",
    "print(results_modelo_ranfor_theBest.std())"
   ]
  },
  {
   "cell_type": "code",
   "execution_count": null,
   "id": "d4bc4bd3",
   "metadata": {},
   "outputs": [],
   "source": []
  },
  {
   "cell_type": "code",
   "execution_count": 98,
   "id": "30fa9604",
   "metadata": {},
   "outputs": [],
   "source": [
    "#Modelo 12\n",
    "results_modelo_ranfor_mejores = cross_val_score(estimator=modelo_ranfor_mejores, X=X_train, y=y_train, cv=5)"
   ]
  },
  {
   "cell_type": "code",
   "execution_count": 99,
   "id": "d661331c",
   "metadata": {},
   "outputs": [
    {
     "name": "stdout",
     "output_type": "stream",
     "text": [
      "0.8708092485549133\n",
      "0.0003604679563366124\n"
     ]
    }
   ],
   "source": [
    "print(results_modelo_ranfor_mejores.mean())\n",
    "print(results_modelo_ranfor_mejores.std())"
   ]
  },
  {
   "cell_type": "code",
   "execution_count": null,
   "id": "070aa595",
   "metadata": {},
   "outputs": [],
   "source": []
  },
  {
   "cell_type": "code",
   "execution_count": 100,
   "id": "07cdcb02",
   "metadata": {},
   "outputs": [],
   "source": [
    "results_modelo_gbrt_mejores = cross_val_score(estimator=modelo_gbrt_mejores, X=X_train, y=y_train, cv=5)"
   ]
  },
  {
   "cell_type": "code",
   "execution_count": 101,
   "id": "e7845f57",
   "metadata": {},
   "outputs": [
    {
     "name": "stdout",
     "output_type": "stream",
     "text": [
      "0.869942196531792\n",
      "0.0010104131485261774\n"
     ]
    }
   ],
   "source": [
    "print(results_modelo_gbrt_mejores.mean())\n",
    "print(results_modelo_gbrt_mejores.std())"
   ]
  },
  {
   "cell_type": "markdown",
   "id": "418b7f43",
   "metadata": {},
   "source": [
    "Todos tienen varianzas muy bajas y muy buenos resultados, podría ser válido cualquiera de ellos.\n",
    "Vamos a verlo de una manera más visual antes de elegir\n"
   ]
  },
  {
   "cell_type": "markdown",
   "id": "6a199a22",
   "metadata": {},
   "source": [
    "### * Visualización de los modelos"
   ]
  },
  {
   "cell_type": "code",
   "execution_count": 102,
   "id": "ad3b47c9",
   "metadata": {},
   "outputs": [],
   "source": [
    "# Listado con los modelos a evaluar\n",
    "def get_models():\n",
    "    models=dict()\n",
    "    models['Random_forest'] = RandomForestClassifier(bootstrap = True, criterion= 'entropy', max_depth=None,\n",
    "                                                     n_estimators=150,class_weight='balanced').fit(X_train, y_train)\n",
    "    models['SVC'] = svm.SVC(class_weight= None, decision_function_shape='ovo')\n",
    "    models['Gradient_Boosting'] = GradientBoostingClassifier(random_state=0, n_estimators=500,\n",
    "                                  max_depth=1, learning_rate=0.01)\n",
    "    return models\n",
    "    \n",
    "    \n",
    "    \n",
    "# Evaluar los modelos usando la Validación cruzada\n",
    "def evaluate_model(model, X, y):\n",
    "    cv = RepeatedStratifiedKFold(n_splits=10, n_repeats=5, random_state=1)\n",
    "    scores_cv = cross_val_score(model, X, y, scoring= 'accuracy', cv=cv, n_jobs=-1, error_score='raise')\n",
    "    return scores_cv\n",
    "\n"
   ]
  },
  {
   "cell_type": "code",
   "execution_count": 103,
   "id": "26975c96",
   "metadata": {},
   "outputs": [],
   "source": [
    "# Lista con los modelos a evaluar\n",
    "models = get_models()"
   ]
  },
  {
   "cell_type": "code",
   "execution_count": 104,
   "id": "1339d27d",
   "metadata": {},
   "outputs": [
    {
     "name": "stdout",
     "output_type": "stream",
     "text": [
      ">Random_forest 0.871 (0.001)\n",
      ">SVC 0.870 (0.000)\n",
      ">Gradient_Boosting 0.870 (0.001)\n"
     ]
    }
   ],
   "source": [
    "# Evaluar los modelos y guardar los resultados (score, media y desviación típica)\n",
    "results, names = list(), list()\n",
    "for name, model in models.items():\n",
    "    scores = evaluate_model(model, X_train, y_train)\n",
    "    results.append(scores)\n",
    "    names.append(name)\n",
    "    print('>%s %.3f (%.3f)' % (name, np.mean(scores), np.std(scores)))"
   ]
  },
  {
   "cell_type": "code",
   "execution_count": 105,
   "id": "78ca5481",
   "metadata": {},
   "outputs": [
    {
     "data": {
      "image/png": "[encoded data removed]",
      "text/plain": [
       "<Figure size 432x288 with 1 Axes>"
      ]
     },
     "metadata": {
      "needs_background": "light"
     },
     "output_type": "display_data"
    }
   ],
   "source": [
    "# Visualizar graficamente los modelos evaluados - BOXPLOT\n",
    "\n",
    "pyplot.boxplot(results, labels=names, showmeans=True)\n",
    "pyplot.show()"
   ]
  },
  {
   "cell_type": "markdown",
   "id": "668bf061",
   "metadata": {},
   "source": [
    "Los tres modelos seleccionados tienen una capacidad predictiva por encima del 85% y varianzas muy bajas, lo que demuestra que sus predicciones no son aleatorias.\n",
    "El modelo que mejores resultados llega a obtener y más sencilla es su comprensión es Random Forest, por lo que el modelo seleccionado finalmente será el MODELO 12."
   ]
  },
  {
   "cell_type": "markdown",
   "id": "98757e3b",
   "metadata": {},
   "source": [
    "## Predicción"
   ]
  },
  {
   "cell_type": "code",
   "execution_count": 106,
   "id": "429b8a96",
   "metadata": {},
   "outputs": [],
   "source": [
    "X_train, X_test, y_train, y_test = train_test_split(\n",
    "                                        datos_rf.drop('target', axis = 'columns'),\n",
    "                                        datos_rf['target'],\n",
    "                                        train_size   = 0.8,\n",
    "                                        random_state = 1234,\n",
    "                                        shuffle      = True,\n",
    "                                        stratify = datos_rf['target'])\n"
   ]
  },
  {
   "cell_type": "code",
   "execution_count": 107,
   "id": "b17dc960",
   "metadata": {},
   "outputs": [
    {
     "data": {
      "text/plain": [
       "0.8713405238828967"
      ]
     },
     "execution_count": 107,
     "metadata": {},
     "output_type": "execute_result"
    }
   ],
   "source": [
    "modelo_ranfor_mejores = RandomForestClassifier(bootstrap = True, criterion= 'entropy', max_depth=None, n_estimators=150,class_weight='balanced').fit(X_train, y_train)\n",
    "y_pred     = modelo_ranfor_mejores.predict(X_test)\n",
    "\n",
    "modelo_ranfor_mejores.score(X_test, y_test)"
   ]
  },
  {
   "cell_type": "code",
   "execution_count": 108,
   "id": "ac57561d",
   "metadata": {},
   "outputs": [],
   "source": [
    "y_pred = modelo_ranfor_mejores.predict(X_test)"
   ]
  },
  {
   "cell_type": "code",
   "execution_count": 109,
   "id": "28acf992",
   "metadata": {},
   "outputs": [
    {
     "data": {
      "text/plain": [
       "array([1, 1, 1, ..., 1, 1, 1], dtype=int64)"
      ]
     },
     "execution_count": 109,
     "metadata": {},
     "output_type": "execute_result"
    }
   ],
   "source": [
    "y_pred"
   ]
  },
  {
   "cell_type": "markdown",
   "id": "783549ef",
   "metadata": {},
   "source": [
    "#### Visualización del modelo"
   ]
  },
  {
   "cell_type": "code",
   "execution_count": 139,
   "id": "98648956",
   "metadata": {},
   "outputs": [],
   "source": [
    "def saca_metricas(y1, y2):\n",
    "    print('Matriz de confusión: ')\n",
    "    print(multilabel_confusion_matrix(y1, y2, labels=y_test.unique()))\n",
    "    print('\\n Accuracy')\n",
    "    print(accuracy_score(y1, y2))\n",
    "    print('\\n Precision')\n",
    "    print(precision_score(y1, y2, average='weighted'))\n",
    "    print('\\n Recall')\n",
    "    print(recall_score(y1, y2, average='weighted'))\n",
    "    print('\\n f1')\n",
    "    print(f1_score(y1, y2, average='weighted'))\n",
    "    '''false_positive_rate, recall, thresholds = roc_curve(y1, y2)\n",
    "    roc_auc = auc(false_positive_rate, recall)\n",
    "    print('\\n AUC')\n",
    "    print(roc_auc)\n",
    "    plt.plot(false_positive_rate, recall, 'b')\n",
    "    plt.plot([0, 1], [0, 1], 'r--')\n",
    "    plt.title('AUC = %0.2f' % roc_auc)'''"
   ]
  },
  {
   "cell_type": "code",
   "execution_count": 140,
   "id": "bef9cf7f",
   "metadata": {},
   "outputs": [
    {
     "name": "stdout",
     "output_type": "stream",
     "text": [
      "Matriz de confusión: \n",
      "[[[   5  332]\n",
      "  [   2 2257]]\n",
      "\n",
      " [[2575    0]\n",
      "  [  18    3]]\n",
      "\n",
      " [[2489    0]\n",
      "  [ 107    0]]\n",
      "\n",
      " [[2552    1]\n",
      "  [  43    0]]\n",
      "\n",
      " [[2429    1]\n",
      "  [ 164    2]]]\n",
      "\n",
      " Accuracy\n",
      "0.8713405238828967\n",
      "\n",
      " Precision\n",
      "0.8093159336555452\n",
      "\n",
      " Recall\n",
      "0.8713405238828967\n",
      "\n",
      " f1\n",
      "0.8137698645378528\n"
     ]
    },
    {
     "name": "stderr",
     "output_type": "stream",
     "text": [
      "C:\\Users\\rtx9652\\Anaconda3\\lib\\site-packages\\sklearn\\metrics\\_classification.py:1248: UndefinedMetricWarning: Precision is ill-defined and being set to 0.0 in labels with no predicted samples. Use `zero_division` parameter to control this behavior.\n",
      "  _warn_prf(average, modifier, msg_start, len(result))\n"
     ]
    }
   ],
   "source": [
    "saca_metricas(y_test, y_pred)"
   ]
  },
  {
   "cell_type": "markdown",
   "id": "2cf45f97",
   "metadata": {},
   "source": [
    "## Importancia de los predictores"
   ]
  },
  {
   "cell_type": "code",
   "execution_count": null,
   "id": "2f6cd00e",
   "metadata": {},
   "outputs": [],
   "source": [
    "importancia_predictores = pd.DataFrame(\n",
    "                            {'predictor': datos_theBest.drop(columns = \"target\").columns,\n",
    "                             'importancia': modelo_ranfor_theBest.feature_importances_}\n",
    "                            )\n",
    "print(\"Importancia de los predictores en el modelo\")\n",
    "print(\"-------------------------------------------\")\n",
    "importancia_predictores.sort_values('importancia', ascending=False)"
   ]
  },
  {
   "cell_type": "code",
   "execution_count": 132,
   "id": "3b7b1928",
   "metadata": {},
   "outputs": [],
   "source": [
    "importancia_pred = pd.DataFrame(\n",
    "                            {'predictor': datos_rf.drop(columns = \"target\").columns,\n",
    "                             'importancia': modelo_ranfor_mejores.feature_importances_}\n",
    "                            )\n"
   ]
  },
  {
   "cell_type": "code",
   "execution_count": 133,
   "id": "465b4af7",
   "metadata": {},
   "outputs": [
    {
     "name": "stdout",
     "output_type": "stream",
     "text": [
      "Importancia de los predictores en el modelo\n",
      "-------------------------------------------\n"
     ]
    },
    {
     "data": {
      "text/html": [
       "<div>\n",
       "<style scoped>\n",
       "    .dataframe tbody tr th:only-of-type {\n",
       "        vertical-align: middle;\n",
       "    }\n",
       "\n",
       "    .dataframe tbody tr th {\n",
       "        vertical-align: top;\n",
       "    }\n",
       "\n",
       "    .dataframe thead th {\n",
       "        text-align: right;\n",
       "    }\n",
       "</style>\n",
       "<table border=\"1\" class=\"dataframe\">\n",
       "  <thead>\n",
       "    <tr style=\"text-align: right;\">\n",
       "      <th></th>\n",
       "      <th>predictor</th>\n",
       "      <th>importancia</th>\n",
       "    </tr>\n",
       "  </thead>\n",
       "  <tbody>\n",
       "    <tr>\n",
       "      <th>6</th>\n",
       "      <td>TMEDIA</td>\n",
       "      <td>0.167818</td>\n",
       "    </tr>\n",
       "    <tr>\n",
       "      <th>2</th>\n",
       "      <td>lng</td>\n",
       "      <td>0.123133</td>\n",
       "    </tr>\n",
       "    <tr>\n",
       "      <th>1</th>\n",
       "      <td>lat</td>\n",
       "      <td>0.113745</td>\n",
       "    </tr>\n",
       "    <tr>\n",
       "      <th>8</th>\n",
       "      <td>SOL</td>\n",
       "      <td>0.091621</td>\n",
       "    </tr>\n",
       "    <tr>\n",
       "      <th>3</th>\n",
       "      <td>time_ctrl</td>\n",
       "      <td>0.087033</td>\n",
       "    </tr>\n",
       "    <tr>\n",
       "      <th>10</th>\n",
       "      <td>PRES_RANGE</td>\n",
       "      <td>0.085109</td>\n",
       "    </tr>\n",
       "    <tr>\n",
       "      <th>7</th>\n",
       "      <td>RACHA</td>\n",
       "      <td>0.076921</td>\n",
       "    </tr>\n",
       "    <tr>\n",
       "      <th>4</th>\n",
       "      <td>personal</td>\n",
       "      <td>0.075856</td>\n",
       "    </tr>\n",
       "    <tr>\n",
       "      <th>9</th>\n",
       "      <td>Año</td>\n",
       "      <td>0.070148</td>\n",
       "    </tr>\n",
       "    <tr>\n",
       "      <th>0</th>\n",
       "      <td>superficie</td>\n",
       "      <td>0.066468</td>\n",
       "    </tr>\n",
       "    <tr>\n",
       "      <th>5</th>\n",
       "      <td>medios</td>\n",
       "      <td>0.042146</td>\n",
       "    </tr>\n",
       "  </tbody>\n",
       "</table>\n",
       "</div>"
      ],
      "text/plain": [
       "     predictor  importancia\n",
       "6       TMEDIA     0.167818\n",
       "2          lng     0.123133\n",
       "1          lat     0.113745\n",
       "8          SOL     0.091621\n",
       "3    time_ctrl     0.087033\n",
       "10  PRES_RANGE     0.085109\n",
       "7        RACHA     0.076921\n",
       "4     personal     0.075856\n",
       "9          Año     0.070148\n",
       "0   superficie     0.066468\n",
       "5       medios     0.042146"
      ]
     },
     "execution_count": 133,
     "metadata": {},
     "output_type": "execute_result"
    }
   ],
   "source": [
    "print(\"Importancia de los predictores en el modelo\")\n",
    "print(\"-------------------------------------------\")\n",
    "importancia_pred.sort_values('importancia', ascending=False)"
   ]
  },
  {
   "cell_type": "code",
   "execution_count": 142,
   "id": "debee14b",
   "metadata": {},
   "outputs": [
    {
     "data": {
      "text/plain": [
       "superficie    float64\n",
       "lat           float64\n",
       "lng           float64\n",
       "time_ctrl     float64\n",
       "personal        int64\n",
       "medios          int64\n",
       "TMEDIA        float64\n",
       "RACHA         float64\n",
       "SOL           float64\n",
       "Año             int64\n",
       "PRES_RANGE    float64\n",
       "target          int64\n",
       "dtype: object"
      ]
     },
     "execution_count": 142,
     "metadata": {},
     "output_type": "execute_result"
    }
   ],
   "source": [
    "datos_rf.dtypes"
   ]
  },
  {
   "cell_type": "code",
   "execution_count": 116,
   "id": "ca6bd27c",
   "metadata": {},
   "outputs": [],
   "source": [
    "'''Guardamos el dataset final del modelo'''\n",
    "datos_rf.to_csv('dataset_modelo.csv')"
   ]
  }
 ],
 "metadata": {
  "kernelspec": {
   "display_name": "Python 3",
   "language": "python",
   "name": "python3"
  },
  "language_info": {
   "codemirror_mode": {
    "name": "ipython",
    "version": 3
   },
   "file_extension": ".py",
   "mimetype": "text/x-python",
   "name": "python",
   "nbconvert_exporter": "python",
   "pygments_lexer": "ipython3",
   "version": "3.8.8"
  }
 },
 "nbformat": 4,
 "nbformat_minor": 5
}
