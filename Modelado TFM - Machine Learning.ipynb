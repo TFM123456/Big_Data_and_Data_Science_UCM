{
 "cells": [
  {
   "cell_type": "markdown",
   "id": "7c4af361",
   "metadata": {},
   "source": [
    "# --- Modelado"
   ]
  },
  {
   "cell_type": "markdown",
   "id": "c78f482a",
   "metadata": {},
   "source": [
    "## Cargamos librerias"
   ]
  },
  {
   "cell_type": "code",
   "execution_count": 1,
   "id": "3cc9fbf5",
   "metadata": {},
   "outputs": [],
   "source": [
    "import numpy as np\n",
    "import matplotlib.pyplot as plt\n",
    "import pandas as pd\n",
    "import seaborn as sns\n",
    "from sklearn.datasets import make_classification\n",
    "from sklearn.model_selection import train_test_split\n",
    "from sklearn.tree import DecisionTreeClassifier\n",
    "from sklearn.tree import DecisionTreeRegressor\n",
    "from sklearn.ensemble import RandomForestClassifier\n",
    "from sklearn import naive_bayes\n",
    "from sklearn.feature_selection import SelectKBest\n",
    "from sklearn.feature_selection import chi2 \n",
    "from sklearn.feature_selection import VarianceThreshold\n",
    "from sklearn.metrics import accuracy_score, auc, confusion_matrix, f1_score, precision_score, recall_score, roc_curve\n",
    "from sklearn.model_selection import cross_val_score\n",
    "from sklearn.tree import plot_tree\n",
    "from sklearn.tree import export_graphviz\n",
    "from sklearn.tree import export_text\n",
    "from sklearn.metrics import mean_squared_error\n",
    "from pandas.plotting import scatter_matrix\n",
    "from datetime import datetime,timedelta\n",
    "from sklearn.feature_selection import SelectFromModel\n",
    "from sklearn.linear_model import LinearRegression"
   ]
  },
  {
   "cell_type": "markdown",
   "id": "6e4fa1d0",
   "metadata": {},
   "source": [
    "## Vamos a leer nuestra base de datos"
   ]
  },
  {
   "cell_type": "code",
   "execution_count": 2,
   "id": "596e3586",
   "metadata": {},
   "outputs": [],
   "source": [
    "import io\n",
    "import requests"
   ]
  },
  {
   "cell_type": "code",
   "execution_count": 3,
   "id": "ffe65b29",
   "metadata": {},
   "outputs": [],
   "source": [
    "url=\"https://raw.githubusercontent.com/TFM123456/Big_Data_and_Data_Science_UCM/main/datos_galicia_limpio.csv\"\n",
    "s=requests.get(url).content\n",
    "datos_galicia=pd.read_csv(io.StringIO(s.decode('ISO-8859-1')))"
   ]
  },
  {
   "cell_type": "code",
   "execution_count": 4,
   "id": "f0192d4c",
   "metadata": {},
   "outputs": [
    {
     "data": {
      "text/html": [
       "<div>\n",
       "<style scoped>\n",
       "    .dataframe tbody tr th:only-of-type {\n",
       "        vertical-align: middle;\n",
       "    }\n",
       "\n",
       "    .dataframe tbody tr th {\n",
       "        vertical-align: top;\n",
       "    }\n",
       "\n",
       "    .dataframe thead th {\n",
       "        text-align: right;\n",
       "    }\n",
       "</style>\n",
       "<table border=\"1\" class=\"dataframe\">\n",
       "  <thead>\n",
       "    <tr style=\"text-align: right;\">\n",
       "      <th></th>\n",
       "      <th>Unnamed: 0</th>\n",
       "      <th>id</th>\n",
       "      <th>superficie</th>\n",
       "      <th>fecha</th>\n",
       "      <th>lat</th>\n",
       "      <th>lng</th>\n",
       "      <th>idprovincia</th>\n",
       "      <th>idmunicipio</th>\n",
       "      <th>causa</th>\n",
       "      <th>muertos</th>\n",
       "      <th>...</th>\n",
       "      <th>TMIN</th>\n",
       "      <th>TMAX</th>\n",
       "      <th>VELMEDIA</th>\n",
       "      <th>RACHA</th>\n",
       "      <th>SOL</th>\n",
       "      <th>Trimestre</th>\n",
       "      <th>Mes</th>\n",
       "      <th>Año</th>\n",
       "      <th>DIR_VIENTO</th>\n",
       "      <th>PRES_RANGE</th>\n",
       "    </tr>\n",
       "  </thead>\n",
       "  <tbody>\n",
       "    <tr>\n",
       "      <th>0</th>\n",
       "      <td>1</td>\n",
       "      <td>2001150021</td>\n",
       "      <td>5.0</td>\n",
       "      <td>2001-02-20</td>\n",
       "      <td>43.703581</td>\n",
       "      <td>-8.038777</td>\n",
       "      <td>A Coruña</td>\n",
       "      <td>CEDEIRA</td>\n",
       "      <td>negligencia</td>\n",
       "      <td>0</td>\n",
       "      <td>...</td>\n",
       "      <td>7.0</td>\n",
       "      <td>15.6</td>\n",
       "      <td>2-4 m/s</td>\n",
       "      <td>16.9</td>\n",
       "      <td>10.2</td>\n",
       "      <td>Q1</td>\n",
       "      <td>febrero</td>\n",
       "      <td>2001</td>\n",
       "      <td>E</td>\n",
       "      <td>4.4</td>\n",
       "    </tr>\n",
       "    <tr>\n",
       "      <th>1</th>\n",
       "      <td>3</td>\n",
       "      <td>2001150094</td>\n",
       "      <td>1.5</td>\n",
       "      <td>2001-02-25</td>\n",
       "      <td>43.186836</td>\n",
       "      <td>-8.685470</td>\n",
       "      <td>A Coruña</td>\n",
       "      <td>CARBALLO</td>\n",
       "      <td>intencionado</td>\n",
       "      <td>0</td>\n",
       "      <td>...</td>\n",
       "      <td>6.5</td>\n",
       "      <td>11.6</td>\n",
       "      <td>4-6 m/s</td>\n",
       "      <td>11.1</td>\n",
       "      <td>10.2</td>\n",
       "      <td>Q1</td>\n",
       "      <td>febrero</td>\n",
       "      <td>2001</td>\n",
       "      <td>NE</td>\n",
       "      <td>4.7</td>\n",
       "    </tr>\n",
       "    <tr>\n",
       "      <th>2</th>\n",
       "      <td>5</td>\n",
       "      <td>2001150145</td>\n",
       "      <td>1.5</td>\n",
       "      <td>2001-04-13</td>\n",
       "      <td>43.699889</td>\n",
       "      <td>-7.984566</td>\n",
       "      <td>A Coruña</td>\n",
       "      <td>CEDEIRA</td>\n",
       "      <td>negligencia</td>\n",
       "      <td>0</td>\n",
       "      <td>...</td>\n",
       "      <td>10.4</td>\n",
       "      <td>17.4</td>\n",
       "      <td>4-6 m/s</td>\n",
       "      <td>13.9</td>\n",
       "      <td>12.1</td>\n",
       "      <td>Q2</td>\n",
       "      <td>abril</td>\n",
       "      <td>2001</td>\n",
       "      <td>NE</td>\n",
       "      <td>3.2</td>\n",
       "    </tr>\n",
       "    <tr>\n",
       "      <th>3</th>\n",
       "      <td>6</td>\n",
       "      <td>2001150151</td>\n",
       "      <td>1.1</td>\n",
       "      <td>2001-04-13</td>\n",
       "      <td>42.758649</td>\n",
       "      <td>-8.917814</td>\n",
       "      <td>A Coruña</td>\n",
       "      <td>LOUSAME</td>\n",
       "      <td>causa desconocida</td>\n",
       "      <td>0</td>\n",
       "      <td>...</td>\n",
       "      <td>10.4</td>\n",
       "      <td>17.4</td>\n",
       "      <td>4-6 m/s</td>\n",
       "      <td>13.9</td>\n",
       "      <td>12.1</td>\n",
       "      <td>Q2</td>\n",
       "      <td>abril</td>\n",
       "      <td>2001</td>\n",
       "      <td>NE</td>\n",
       "      <td>3.2</td>\n",
       "    </tr>\n",
       "    <tr>\n",
       "      <th>4</th>\n",
       "      <td>7</td>\n",
       "      <td>2001150153</td>\n",
       "      <td>1.5</td>\n",
       "      <td>2001-04-13</td>\n",
       "      <td>43.063218</td>\n",
       "      <td>-9.235604</td>\n",
       "      <td>A Coruña</td>\n",
       "      <td>MUXÃÂA</td>\n",
       "      <td>intencionado</td>\n",
       "      <td>0</td>\n",
       "      <td>...</td>\n",
       "      <td>10.4</td>\n",
       "      <td>17.4</td>\n",
       "      <td>4-6 m/s</td>\n",
       "      <td>13.9</td>\n",
       "      <td>12.1</td>\n",
       "      <td>Q2</td>\n",
       "      <td>abril</td>\n",
       "      <td>2001</td>\n",
       "      <td>NE</td>\n",
       "      <td>3.2</td>\n",
       "    </tr>\n",
       "  </tbody>\n",
       "</table>\n",
       "<p>5 rows × 30 columns</p>\n",
       "</div>"
      ],
      "text/plain": [
       "   Unnamed: 0          id  superficie       fecha        lat       lng  \\\n",
       "0           1  2001150021         5.0  2001-02-20  43.703581 -8.038777   \n",
       "1           3  2001150094         1.5  2001-02-25  43.186836 -8.685470   \n",
       "2           5  2001150145         1.5  2001-04-13  43.699889 -7.984566   \n",
       "3           6  2001150151         1.1  2001-04-13  42.758649 -8.917814   \n",
       "4           7  2001150153         1.5  2001-04-13  43.063218 -9.235604   \n",
       "\n",
       "  idprovincia idmunicipio              causa  muertos  ...  TMIN  TMAX  \\\n",
       "0    A Coruña     CEDEIRA        negligencia        0  ...   7.0  15.6   \n",
       "1    A Coruña    CARBALLO       intencionado        0  ...   6.5  11.6   \n",
       "2    A Coruña     CEDEIRA        negligencia        0  ...  10.4  17.4   \n",
       "3    A Coruña     LOUSAME  causa desconocida        0  ...  10.4  17.4   \n",
       "4    A Coruña    MUXÃÂA       intencionado        0  ...  10.4  17.4   \n",
       "\n",
       "   VELMEDIA  RACHA   SOL Trimestre      Mes   Año  DIR_VIENTO  PRES_RANGE  \n",
       "0   2-4 m/s   16.9  10.2        Q1  febrero  2001           E         4.4  \n",
       "1   4-6 m/s   11.1  10.2        Q1  febrero  2001          NE         4.7  \n",
       "2   4-6 m/s   13.9  12.1        Q2    abril  2001          NE         3.2  \n",
       "3   4-6 m/s   13.9  12.1        Q2    abril  2001          NE         3.2  \n",
       "4   4-6 m/s   13.9  12.1        Q2    abril  2001          NE         3.2  \n",
       "\n",
       "[5 rows x 30 columns]"
      ]
     },
     "execution_count": 4,
     "metadata": {},
     "output_type": "execute_result"
    }
   ],
   "source": [
    "datos_galicia.head()"
   ]
  },
  {
   "cell_type": "markdown",
   "id": "f84efdee",
   "metadata": {},
   "source": [
    "Vamos a eliminar el id y la columna unnamed"
   ]
  },
  {
   "cell_type": "code",
   "execution_count": 5,
   "id": "b9ab768c",
   "metadata": {},
   "outputs": [],
   "source": [
    "datos_galicia = datos_galicia.drop(columns=[\"Unnamed: 0\"])"
   ]
  },
  {
   "cell_type": "code",
   "execution_count": 6,
   "id": "939e79df",
   "metadata": {},
   "outputs": [],
   "source": [
    "datos_galicia = datos_galicia.drop(columns=[\"id\"])"
   ]
  },
  {
   "cell_type": "code",
   "execution_count": 7,
   "id": "6ef306cc",
   "metadata": {},
   "outputs": [
    {
     "data": {
      "text/html": [
       "<div>\n",
       "<style scoped>\n",
       "    .dataframe tbody tr th:only-of-type {\n",
       "        vertical-align: middle;\n",
       "    }\n",
       "\n",
       "    .dataframe tbody tr th {\n",
       "        vertical-align: top;\n",
       "    }\n",
       "\n",
       "    .dataframe thead th {\n",
       "        text-align: right;\n",
       "    }\n",
       "</style>\n",
       "<table border=\"1\" class=\"dataframe\">\n",
       "  <thead>\n",
       "    <tr style=\"text-align: right;\">\n",
       "      <th></th>\n",
       "      <th>superficie</th>\n",
       "      <th>lat</th>\n",
       "      <th>lng</th>\n",
       "      <th>muertos</th>\n",
       "      <th>heridos</th>\n",
       "      <th>time_ctrl</th>\n",
       "      <th>time_ext</th>\n",
       "      <th>personal</th>\n",
       "      <th>medios</th>\n",
       "      <th>perdidas</th>\n",
       "      <th>TMEDIA</th>\n",
       "      <th>PRECIPITACION</th>\n",
       "      <th>TMIN</th>\n",
       "      <th>TMAX</th>\n",
       "      <th>RACHA</th>\n",
       "      <th>SOL</th>\n",
       "      <th>Año</th>\n",
       "      <th>PRES_RANGE</th>\n",
       "    </tr>\n",
       "  </thead>\n",
       "  <tbody>\n",
       "    <tr>\n",
       "      <th>count</th>\n",
       "      <td>8504.000000</td>\n",
       "      <td>8504.000000</td>\n",
       "      <td>8504.000000</td>\n",
       "      <td>8504.000000</td>\n",
       "      <td>8504.000000</td>\n",
       "      <td>8504.000000</td>\n",
       "      <td>8504.000000</td>\n",
       "      <td>8504.000000</td>\n",
       "      <td>8504.000000</td>\n",
       "      <td>8504.000000</td>\n",
       "      <td>8504.000000</td>\n",
       "      <td>8504.000000</td>\n",
       "      <td>8504.000000</td>\n",
       "      <td>8504.000000</td>\n",
       "      <td>8504.000000</td>\n",
       "      <td>8504.000000</td>\n",
       "      <td>8504.000000</td>\n",
       "      <td>8504.000000</td>\n",
       "    </tr>\n",
       "    <tr>\n",
       "      <th>mean</th>\n",
       "      <td>2.704065</td>\n",
       "      <td>42.587027</td>\n",
       "      <td>-8.078299</td>\n",
       "      <td>0.000118</td>\n",
       "      <td>0.001058</td>\n",
       "      <td>1.854042</td>\n",
       "      <td>1.854042</td>\n",
       "      <td>14.604186</td>\n",
       "      <td>2.373119</td>\n",
       "      <td>3469.805386</td>\n",
       "      <td>17.163735</td>\n",
       "      <td>0.122060</td>\n",
       "      <td>10.475494</td>\n",
       "      <td>23.852258</td>\n",
       "      <td>8.638723</td>\n",
       "      <td>9.003916</td>\n",
       "      <td>2006.473424</td>\n",
       "      <td>3.663688</td>\n",
       "    </tr>\n",
       "    <tr>\n",
       "      <th>std</th>\n",
       "      <td>1.938164</td>\n",
       "      <td>0.442282</td>\n",
       "      <td>0.550397</td>\n",
       "      <td>0.010844</td>\n",
       "      <td>0.032517</td>\n",
       "      <td>0.897890</td>\n",
       "      <td>0.897890</td>\n",
       "      <td>11.033939</td>\n",
       "      <td>1.864551</td>\n",
       "      <td>13203.797619</td>\n",
       "      <td>5.598738</td>\n",
       "      <td>0.327375</td>\n",
       "      <td>5.898333</td>\n",
       "      <td>6.717744</td>\n",
       "      <td>3.271247</td>\n",
       "      <td>3.361576</td>\n",
       "      <td>4.118239</td>\n",
       "      <td>1.616254</td>\n",
       "    </tr>\n",
       "    <tr>\n",
       "      <th>min</th>\n",
       "      <td>1.000000</td>\n",
       "      <td>41.831486</td>\n",
       "      <td>-9.292834</td>\n",
       "      <td>0.000000</td>\n",
       "      <td>0.000000</td>\n",
       "      <td>0.000000</td>\n",
       "      <td>0.000000</td>\n",
       "      <td>0.000000</td>\n",
       "      <td>0.000000</td>\n",
       "      <td>0.000000</td>\n",
       "      <td>-1.300000</td>\n",
       "      <td>0.000000</td>\n",
       "      <td>-8.600000</td>\n",
       "      <td>5.600000</td>\n",
       "      <td>1.700000</td>\n",
       "      <td>0.000000</td>\n",
       "      <td>2001.000000</td>\n",
       "      <td>0.000000</td>\n",
       "    </tr>\n",
       "    <tr>\n",
       "      <th>25%</th>\n",
       "      <td>1.330000</td>\n",
       "      <td>42.222045</td>\n",
       "      <td>-8.542590</td>\n",
       "      <td>0.000000</td>\n",
       "      <td>0.000000</td>\n",
       "      <td>1.200000</td>\n",
       "      <td>1.200000</td>\n",
       "      <td>7.000000</td>\n",
       "      <td>1.000000</td>\n",
       "      <td>0.000000</td>\n",
       "      <td>13.200000</td>\n",
       "      <td>0.000000</td>\n",
       "      <td>6.400000</td>\n",
       "      <td>19.400000</td>\n",
       "      <td>6.400000</td>\n",
       "      <td>7.200000</td>\n",
       "      <td>2003.000000</td>\n",
       "      <td>2.400000</td>\n",
       "    </tr>\n",
       "    <tr>\n",
       "      <th>50%</th>\n",
       "      <td>2.000000</td>\n",
       "      <td>42.552107</td>\n",
       "      <td>-8.074289</td>\n",
       "      <td>0.000000</td>\n",
       "      <td>0.000000</td>\n",
       "      <td>1.540000</td>\n",
       "      <td>1.540000</td>\n",
       "      <td>12.000000</td>\n",
       "      <td>2.000000</td>\n",
       "      <td>1076.500000</td>\n",
       "      <td>17.900000</td>\n",
       "      <td>0.000000</td>\n",
       "      <td>11.600000</td>\n",
       "      <td>23.700000</td>\n",
       "      <td>8.100000</td>\n",
       "      <td>9.700000</td>\n",
       "      <td>2006.000000</td>\n",
       "      <td>3.400000</td>\n",
       "    </tr>\n",
       "    <tr>\n",
       "      <th>75%</th>\n",
       "      <td>3.450000</td>\n",
       "      <td>42.939743</td>\n",
       "      <td>-7.657787</td>\n",
       "      <td>0.000000</td>\n",
       "      <td>0.000000</td>\n",
       "      <td>2.380000</td>\n",
       "      <td>2.380000</td>\n",
       "      <td>19.000000</td>\n",
       "      <td>3.000000</td>\n",
       "      <td>3732.750000</td>\n",
       "      <td>21.225000</td>\n",
       "      <td>0.000000</td>\n",
       "      <td>15.200000</td>\n",
       "      <td>28.400000</td>\n",
       "      <td>10.800000</td>\n",
       "      <td>11.500000</td>\n",
       "      <td>2011.000000</td>\n",
       "      <td>4.700000</td>\n",
       "    </tr>\n",
       "    <tr>\n",
       "      <th>max</th>\n",
       "      <td>10.200000</td>\n",
       "      <td>43.730713</td>\n",
       "      <td>-6.734889</td>\n",
       "      <td>1.000000</td>\n",
       "      <td>1.000000</td>\n",
       "      <td>4.190000</td>\n",
       "      <td>4.190000</td>\n",
       "      <td>258.000000</td>\n",
       "      <td>8.000000</td>\n",
       "      <td>658803.000000</td>\n",
       "      <td>31.200000</td>\n",
       "      <td>1.000000</td>\n",
       "      <td>23.400000</td>\n",
       "      <td>41.800000</td>\n",
       "      <td>28.300000</td>\n",
       "      <td>14.800000</td>\n",
       "      <td>2015.000000</td>\n",
       "      <td>8.600000</td>\n",
       "    </tr>\n",
       "  </tbody>\n",
       "</table>\n",
       "</div>"
      ],
      "text/plain": [
       "        superficie          lat          lng      muertos      heridos  \\\n",
       "count  8504.000000  8504.000000  8504.000000  8504.000000  8504.000000   \n",
       "mean      2.704065    42.587027    -8.078299     0.000118     0.001058   \n",
       "std       1.938164     0.442282     0.550397     0.010844     0.032517   \n",
       "min       1.000000    41.831486    -9.292834     0.000000     0.000000   \n",
       "25%       1.330000    42.222045    -8.542590     0.000000     0.000000   \n",
       "50%       2.000000    42.552107    -8.074289     0.000000     0.000000   \n",
       "75%       3.450000    42.939743    -7.657787     0.000000     0.000000   \n",
       "max      10.200000    43.730713    -6.734889     1.000000     1.000000   \n",
       "\n",
       "         time_ctrl     time_ext     personal       medios       perdidas  \\\n",
       "count  8504.000000  8504.000000  8504.000000  8504.000000    8504.000000   \n",
       "mean      1.854042     1.854042    14.604186     2.373119    3469.805386   \n",
       "std       0.897890     0.897890    11.033939     1.864551   13203.797619   \n",
       "min       0.000000     0.000000     0.000000     0.000000       0.000000   \n",
       "25%       1.200000     1.200000     7.000000     1.000000       0.000000   \n",
       "50%       1.540000     1.540000    12.000000     2.000000    1076.500000   \n",
       "75%       2.380000     2.380000    19.000000     3.000000    3732.750000   \n",
       "max       4.190000     4.190000   258.000000     8.000000  658803.000000   \n",
       "\n",
       "            TMEDIA  PRECIPITACION         TMIN         TMAX        RACHA  \\\n",
       "count  8504.000000    8504.000000  8504.000000  8504.000000  8504.000000   \n",
       "mean     17.163735       0.122060    10.475494    23.852258     8.638723   \n",
       "std       5.598738       0.327375     5.898333     6.717744     3.271247   \n",
       "min      -1.300000       0.000000    -8.600000     5.600000     1.700000   \n",
       "25%      13.200000       0.000000     6.400000    19.400000     6.400000   \n",
       "50%      17.900000       0.000000    11.600000    23.700000     8.100000   \n",
       "75%      21.225000       0.000000    15.200000    28.400000    10.800000   \n",
       "max      31.200000       1.000000    23.400000    41.800000    28.300000   \n",
       "\n",
       "               SOL          Año   PRES_RANGE  \n",
       "count  8504.000000  8504.000000  8504.000000  \n",
       "mean      9.003916  2006.473424     3.663688  \n",
       "std       3.361576     4.118239     1.616254  \n",
       "min       0.000000  2001.000000     0.000000  \n",
       "25%       7.200000  2003.000000     2.400000  \n",
       "50%       9.700000  2006.000000     3.400000  \n",
       "75%      11.500000  2011.000000     4.700000  \n",
       "max      14.800000  2015.000000     8.600000  "
      ]
     },
     "execution_count": 7,
     "metadata": {},
     "output_type": "execute_result"
    }
   ],
   "source": [
    "datos_galicia.describe()"
   ]
  },
  {
   "cell_type": "code",
   "execution_count": 8,
   "id": "c76e229a",
   "metadata": {},
   "outputs": [
    {
     "data": {
      "image/png": "[encoded data removed]",
      "text/plain": [
       "<Figure size 864x864 with 20 Axes>"
      ]
     },
     "metadata": {
      "needs_background": "light"
     },
     "output_type": "display_data"
    }
   ],
   "source": [
    "datos_galicia.hist(figsize = (12, 12));\n"
   ]
  },
  {
   "cell_type": "code",
   "execution_count": 9,
   "id": "ca9f1858",
   "metadata": {},
   "outputs": [
    {
     "data": {
      "text/plain": [
       "Index(['superficie', 'fecha', 'lat', 'lng', 'idprovincia', 'idmunicipio',\n",
       "       'causa', 'muertos', 'heridos', 'time_ctrl', 'time_ext', 'personal',\n",
       "       'medios', 'gastos', 'perdidas', 'ALTITUD', 'TMEDIA', 'PRECIPITACION',\n",
       "       'TMIN', 'TMAX', 'VELMEDIA', 'RACHA', 'SOL', 'Trimestre', 'Mes', 'Año',\n",
       "       'DIR_VIENTO', 'PRES_RANGE'],\n",
       "      dtype='object')"
      ]
     },
     "execution_count": 9,
     "metadata": {},
     "output_type": "execute_result"
    }
   ],
   "source": [
    "datos_galicia.columns"
   ]
  },
  {
   "cell_type": "markdown",
   "id": "43f42d55",
   "metadata": {},
   "source": [
    "Vamos a ver si los tipos de datos han migrado bien desde R"
   ]
  },
  {
   "cell_type": "code",
   "execution_count": 10,
   "id": "6c42fc64",
   "metadata": {},
   "outputs": [
    {
     "data": {
      "text/plain": [
       "superficie       float64\n",
       "fecha             object\n",
       "lat              float64\n",
       "lng              float64\n",
       "idprovincia       object\n",
       "idmunicipio       object\n",
       "causa             object\n",
       "muertos            int64\n",
       "heridos            int64\n",
       "time_ctrl        float64\n",
       "time_ext         float64\n",
       "personal           int64\n",
       "medios             int64\n",
       "gastos            object\n",
       "perdidas           int64\n",
       "ALTITUD           object\n",
       "TMEDIA           float64\n",
       "PRECIPITACION      int64\n",
       "TMIN             float64\n",
       "TMAX             float64\n",
       "VELMEDIA          object\n",
       "RACHA            float64\n",
       "SOL              float64\n",
       "Trimestre         object\n",
       "Mes               object\n",
       "Año                int64\n",
       "DIR_VIENTO        object\n",
       "PRES_RANGE       float64\n",
       "dtype: object"
      ]
     },
     "execution_count": 10,
     "metadata": {},
     "output_type": "execute_result"
    }
   ],
   "source": [
    "datos_galicia.dtypes"
   ]
  },
  {
   "cell_type": "markdown",
   "id": "04edae7d",
   "metadata": {},
   "source": [
    "Vamos a cambiar el tipo de dato de fecha"
   ]
  },
  {
   "cell_type": "code",
   "execution_count": 11,
   "id": "60d65d6d",
   "metadata": {},
   "outputs": [
    {
     "data": {
      "text/plain": [
       "superficie       float64\n",
       "fecha             object\n",
       "lat              float64\n",
       "lng              float64\n",
       "idprovincia       object\n",
       "idmunicipio       object\n",
       "causa             object\n",
       "muertos            int64\n",
       "heridos            int64\n",
       "time_ctrl        float64\n",
       "time_ext         float64\n",
       "personal           int64\n",
       "medios             int64\n",
       "gastos            object\n",
       "perdidas           int64\n",
       "ALTITUD           object\n",
       "TMEDIA           float64\n",
       "PRECIPITACION      int64\n",
       "TMIN             float64\n",
       "TMAX             float64\n",
       "VELMEDIA          object\n",
       "RACHA            float64\n",
       "SOL              float64\n",
       "Trimestre         object\n",
       "Mes               object\n",
       "Año                int64\n",
       "DIR_VIENTO        object\n",
       "PRES_RANGE       float64\n",
       "dtype: object"
      ]
     },
     "execution_count": 11,
     "metadata": {},
     "output_type": "execute_result"
    }
   ],
   "source": [
    "datos_galicia.dtypes"
   ]
  },
  {
   "cell_type": "markdown",
   "id": "0b9c5a5c",
   "metadata": {},
   "source": [
    "En primer lugar, creamos nuestras variables objetivo: las pérdidas como variable numérica y causas como variable categórica."
   ]
  },
  {
   "cell_type": "markdown",
   "id": "514e1fd3",
   "metadata": {},
   "source": [
    "### Empezamos con la numérica -> Pérdidas"
   ]
  },
  {
   "cell_type": "code",
   "execution_count": 12,
   "id": "bd2a3cd8",
   "metadata": {},
   "outputs": [],
   "source": [
    "datos_galicia_num = datos_galicia"
   ]
  },
  {
   "cell_type": "code",
   "execution_count": 13,
   "id": "00a46a68",
   "metadata": {},
   "outputs": [],
   "source": [
    "datos_galicia_num['target']=datos_galicia_num['perdidas']"
   ]
  },
  {
   "cell_type": "markdown",
   "id": "37073237",
   "metadata": {},
   "source": [
    "Eliminamos la variable fijada como target del dataset original"
   ]
  },
  {
   "cell_type": "code",
   "execution_count": 14,
   "id": "b5c458df",
   "metadata": {},
   "outputs": [],
   "source": [
    "datos_galicia_num = datos_galicia_num.drop(columns=['perdidas'])"
   ]
  },
  {
   "cell_type": "code",
   "execution_count": 15,
   "id": "a4580c63",
   "metadata": {},
   "outputs": [
    {
     "data": {
      "text/plain": [
       "Index(['superficie', 'fecha', 'lat', 'lng', 'idprovincia', 'idmunicipio',\n",
       "       'causa', 'muertos', 'heridos', 'time_ctrl', 'time_ext', 'personal',\n",
       "       'medios', 'gastos', 'perdidas', 'ALTITUD', 'TMEDIA', 'PRECIPITACION',\n",
       "       'TMIN', 'TMAX', 'VELMEDIA', 'RACHA', 'SOL', 'Trimestre', 'Mes', 'Año',\n",
       "       'DIR_VIENTO', 'PRES_RANGE', 'target'],\n",
       "      dtype='object')"
      ]
     },
     "execution_count": 15,
     "metadata": {},
     "output_type": "execute_result"
    }
   ],
   "source": [
    "datos_galicia.columns"
   ]
  },
  {
   "cell_type": "markdown",
   "id": "9d1b8866",
   "metadata": {},
   "source": [
    "Comprobamos que no haya NAs"
   ]
  },
  {
   "cell_type": "code",
   "execution_count": 16,
   "id": "c16631bf",
   "metadata": {},
   "outputs": [
    {
     "data": {
      "text/plain": [
       "superficie       0\n",
       "fecha            0\n",
       "lat              0\n",
       "lng              0\n",
       "idprovincia      0\n",
       "idmunicipio      0\n",
       "causa            0\n",
       "muertos          0\n",
       "heridos          0\n",
       "time_ctrl        0\n",
       "time_ext         0\n",
       "personal         0\n",
       "medios           0\n",
       "gastos           0\n",
       "ALTITUD          0\n",
       "TMEDIA           0\n",
       "PRECIPITACION    0\n",
       "TMIN             0\n",
       "TMAX             0\n",
       "VELMEDIA         0\n",
       "RACHA            0\n",
       "SOL              0\n",
       "Trimestre        0\n",
       "Mes              0\n",
       "Año              0\n",
       "DIR_VIENTO       0\n",
       "PRES_RANGE       0\n",
       "target           0\n",
       "dtype: int64"
      ]
     },
     "execution_count": 16,
     "metadata": {},
     "output_type": "execute_result"
    }
   ],
   "source": [
    "datos_galicia_num.isnull().sum()"
   ]
  },
  {
   "cell_type": "code",
   "execution_count": 17,
   "id": "df7268b1",
   "metadata": {},
   "outputs": [
    {
     "data": {
      "text/plain": [
       "(8504, 28)"
      ]
     },
     "execution_count": 17,
     "metadata": {},
     "output_type": "execute_result"
    }
   ],
   "source": [
    "datos_galicia_num.shape"
   ]
  },
  {
   "cell_type": "markdown",
   "id": "75fb31f2",
   "metadata": {},
   "source": [
    "Finalmente, tenemos un dataset de 8504 filas y 28 columnas"
   ]
  },
  {
   "cell_type": "markdown",
   "id": "c8a46343",
   "metadata": {},
   "source": [
    "Ahora, vamos a separar las variables categóricas de las numéricas"
   ]
  },
  {
   "cell_type": "code",
   "execution_count": 18,
   "id": "e3c9b81c",
   "metadata": {},
   "outputs": [],
   "source": [
    "lista_numericas=datos_galicia_num._get_numeric_data()\n",
    "lista_categoricas=datos_galicia_num.select_dtypes(include = [\"object\"])"
   ]
  },
  {
   "cell_type": "markdown",
   "id": "cf9ff651",
   "metadata": {},
   "source": [
    "Comprobamos"
   ]
  },
  {
   "cell_type": "code",
   "execution_count": 19,
   "id": "0159c75f",
   "metadata": {},
   "outputs": [
    {
     "data": {
      "text/plain": [
       "10"
      ]
     },
     "execution_count": 19,
     "metadata": {},
     "output_type": "execute_result"
    }
   ],
   "source": [
    "len(lista_categoricas.columns)"
   ]
  },
  {
   "cell_type": "code",
   "execution_count": 20,
   "id": "a64e6923",
   "metadata": {},
   "outputs": [
    {
     "data": {
      "text/plain": [
       "18"
      ]
     },
     "execution_count": 20,
     "metadata": {},
     "output_type": "execute_result"
    }
   ],
   "source": [
    "len(lista_numericas.columns)"
   ]
  },
  {
   "cell_type": "markdown",
   "id": "5c62f354",
   "metadata": {},
   "source": [
    "ha incluido correctamente todas las columnas. Vemos que incluye cada lista"
   ]
  },
  {
   "cell_type": "code",
   "execution_count": 21,
   "id": "f19b1958",
   "metadata": {},
   "outputs": [
    {
     "data": {
      "text/plain": [
       "Index(['fecha', 'idprovincia', 'idmunicipio', 'causa', 'gastos', 'ALTITUD',\n",
       "       'VELMEDIA', 'Trimestre', 'Mes', 'DIR_VIENTO'],\n",
       "      dtype='object')"
      ]
     },
     "execution_count": 21,
     "metadata": {},
     "output_type": "execute_result"
    }
   ],
   "source": [
    "lista_categoricas.columns"
   ]
  },
  {
   "cell_type": "code",
   "execution_count": 22,
   "id": "d6daf524",
   "metadata": {},
   "outputs": [
    {
     "data": {
      "text/plain": [
       "Index(['superficie', 'lat', 'lng', 'muertos', 'heridos', 'time_ctrl',\n",
       "       'time_ext', 'personal', 'medios', 'TMEDIA', 'PRECIPITACION', 'TMIN',\n",
       "       'TMAX', 'RACHA', 'SOL', 'Año', 'PRES_RANGE', 'target'],\n",
       "      dtype='object')"
      ]
     },
     "execution_count": 22,
     "metadata": {},
     "output_type": "execute_result"
    }
   ],
   "source": [
    "lista_numericas.columns"
   ]
  },
  {
   "cell_type": "markdown",
   "id": "a169c80f",
   "metadata": {},
   "source": [
    "Vamos a ver como se distribuyen los valores en las variables categoricas"
   ]
  },
  {
   "cell_type": "code",
   "execution_count": 23,
   "id": "e102fdb4",
   "metadata": {},
   "outputs": [
    {
     "name": "stdout",
     "output_type": "stream",
     "text": [
      "2002-09-02    42\n",
      "2001-09-18    42\n",
      "2006-08-09    37\n",
      "2006-08-06    33\n",
      "2002-08-31    33\n",
      "              ..\n",
      "2001-05-25     1\n",
      "2009-08-12     1\n",
      "2014-09-07     1\n",
      "2015-12-24     1\n",
      "2010-12-26     1\n",
      "Name: fecha, Length: 1970, dtype: int64\n",
      "Ourense       2983\n",
      "A Coruña      2415\n",
      "Pontevedra    2029\n",
      "Lugo          1077\n",
      "Name: idprovincia, dtype: int64\n",
      "VIANA DO BOLO           216\n",
      "SANTA COMBA             170\n",
      "MANZANEDA               164\n",
      "RODEIRO                 147\n",
      "MUIÃâOS              128\n",
      "                       ... \n",
      "CARIÃâO                1\n",
      "BARREIROS                 1\n",
      "CORCUBIÃâN             1\n",
      "RIBEIRA DE PIQUÃÂN      1\n",
      "LOURENZÃÂ               1\n",
      "Name: idmunicipio, Length: 268, dtype: int64\n",
      "intencionado         7158\n",
      "causa desconocida     667\n",
      "negligencia           441\n",
      "fuego reproducido     157\n",
      "rayo                   81\n",
      "Name: causa, dtype: int64\n",
      "NO INFO     6331\n",
      "1K-10K      1436\n",
      "< 1K         541\n",
      "10K-100K     192\n",
      "> 100K         4\n",
      "Name: gastos, dtype: int64\n",
      "Superior a 125    2983\n",
      "Inferior a 80     2415\n",
      "Entre 100-125     2029\n",
      "NO INFO           1077\n",
      "Name: ALTITUD, dtype: int64\n",
      "< 2 m/s    4719\n",
      "2-4 m/s    2619\n",
      "4-6 m/s     816\n",
      "6-8 m/s     248\n",
      "> 8 m/s     102\n",
      "Name: VELMEDIA, dtype: int64\n",
      "Q3    3579\n",
      "Q1    2070\n",
      "Q2    2062\n",
      "Q4     793\n",
      "Name: Trimestre, dtype: int64\n",
      "agosto        1526\n",
      "septiembre    1282\n",
      "marzo         1205\n",
      "abril          953\n",
      "febrero        785\n",
      "julio          771\n",
      "junio          655\n",
      "octubre        486\n",
      "mayo           454\n",
      "diciembre      199\n",
      "noviembre      108\n",
      "enero           80\n",
      "Name: Mes, dtype: int64\n",
      "N     1921\n",
      "NE    1811\n",
      "W     1585\n",
      "NW    1158\n",
      "E      921\n",
      "SW     439\n",
      "S      438\n",
      "SE     231\n",
      "Name: DIR_VIENTO, dtype: int64\n"
     ]
    }
   ],
   "source": [
    "for i in lista_categoricas:\n",
    "    print(datos_galicia_num[i].value_counts())"
   ]
  },
  {
   "cell_type": "markdown",
   "id": "f0d8b346",
   "metadata": {},
   "source": [
    "Eliminamos idmunicipio porque son demasiadas categorias"
   ]
  },
  {
   "cell_type": "code",
   "execution_count": 24,
   "id": "6ff27583",
   "metadata": {},
   "outputs": [],
   "source": [
    "datos_galicia_num = datos_galicia_num.drop(columns=['idmunicipio'])"
   ]
  },
  {
   "cell_type": "markdown",
   "id": "a834b077",
   "metadata": {},
   "source": [
    "## Transformamos las variables categóricas -> codificación one-hot"
   ]
  },
  {
   "cell_type": "markdown",
   "id": "14c76df1",
   "metadata": {},
   "source": [
    "Este método consiste en crear una nueva variable binaria por cada categoria existente en la variable inicial, donde \n",
    "1 serán las observaciones que pertenezcan a esa categoría y 0 las demás."
   ]
  },
  {
   "cell_type": "markdown",
   "id": "68743ec2",
   "metadata": {},
   "source": [
    "En muchas tareas, tales como la regresión lineal, es común usar k-1 variables binarias en lugar de k, donde k es el número total de categorías. Esto se debe a que estamos añadiendo una variable extra redundante que no es más que una combinación lineal de las otras y seguramente afectará de manera negativa al rendimiento del modelo. Además, al eliminar una variable no estamos perdiendo información, ya que se entiende que, si el resto de las categorías contienen un 0, la categoría correspondiente es la de la variable eliminada."
   ]
  },
  {
   "cell_type": "code",
   "execution_count": 25,
   "id": "758edb2d",
   "metadata": {},
   "outputs": [
    {
     "data": {
      "text/html": [
       "<div>\n",
       "<style scoped>\n",
       "    .dataframe tbody tr th:only-of-type {\n",
       "        vertical-align: middle;\n",
       "    }\n",
       "\n",
       "    .dataframe tbody tr th {\n",
       "        vertical-align: top;\n",
       "    }\n",
       "\n",
       "    .dataframe thead th {\n",
       "        text-align: right;\n",
       "    }\n",
       "</style>\n",
       "<table border=\"1\" class=\"dataframe\">\n",
       "  <thead>\n",
       "    <tr style=\"text-align: right;\">\n",
       "      <th></th>\n",
       "      <th>Lugo</th>\n",
       "      <th>Ourense</th>\n",
       "      <th>Pontevedra</th>\n",
       "    </tr>\n",
       "  </thead>\n",
       "  <tbody>\n",
       "    <tr>\n",
       "      <th>0</th>\n",
       "      <td>0</td>\n",
       "      <td>0</td>\n",
       "      <td>0</td>\n",
       "    </tr>\n",
       "    <tr>\n",
       "      <th>1</th>\n",
       "      <td>0</td>\n",
       "      <td>0</td>\n",
       "      <td>0</td>\n",
       "    </tr>\n",
       "    <tr>\n",
       "      <th>2</th>\n",
       "      <td>0</td>\n",
       "      <td>0</td>\n",
       "      <td>0</td>\n",
       "    </tr>\n",
       "    <tr>\n",
       "      <th>3</th>\n",
       "      <td>0</td>\n",
       "      <td>0</td>\n",
       "      <td>0</td>\n",
       "    </tr>\n",
       "    <tr>\n",
       "      <th>4</th>\n",
       "      <td>0</td>\n",
       "      <td>0</td>\n",
       "      <td>0</td>\n",
       "    </tr>\n",
       "  </tbody>\n",
       "</table>\n",
       "</div>"
      ],
      "text/plain": [
       "   Lugo  Ourense  Pontevedra\n",
       "0     0        0           0\n",
       "1     0        0           0\n",
       "2     0        0           0\n",
       "3     0        0           0\n",
       "4     0        0           0"
      ]
     },
     "execution_count": 25,
     "metadata": {},
     "output_type": "execute_result"
    }
   ],
   "source": [
    "dummies= pd.get_dummies(datos_galicia_num['idprovincia'], drop_first = True)\n",
    "dummies.head()"
   ]
  },
  {
   "cell_type": "code",
   "execution_count": 26,
   "id": "e5b70c48",
   "metadata": {},
   "outputs": [],
   "source": [
    "datos_galicia = pd.concat([datos_galicia_num, dummies], axis = 1)"
   ]
  },
  {
   "cell_type": "markdown",
   "id": "13052870",
   "metadata": {},
   "source": [
    "Lo hacemos con el resto de variables categoricas"
   ]
  },
  {
   "cell_type": "code",
   "execution_count": 27,
   "id": "3097a71d",
   "metadata": {},
   "outputs": [],
   "source": [
    "dummies2= pd.get_dummies(datos_galicia_num['gastos'], drop_first = True)\n",
    "datos_galicia = pd.concat([datos_galicia_num, dummies2], axis = 1)\n",
    "dummies3= pd.get_dummies(datos_galicia_num['ALTITUD'], drop_first = True)\n",
    "datos_galicia = pd.concat([datos_galicia_num, dummies3], axis = 1)\n",
    "dummies4= pd.get_dummies(datos_galicia_num['Trimestre'], drop_first = True)\n",
    "datos_galicia = pd.concat([datos_galicia_num, dummies4], axis = 1)\n",
    "dummies5= pd.get_dummies(datos_galicia_num['DIR_VIENTO'], drop_first = True)\n",
    "datos_galicia = pd.concat([datos_galicia_num, dummies5], axis = 1)\n",
    "dummies6= pd.get_dummies(datos_galicia_num['VELMEDIA'], drop_first = True)\n",
    "datos_galicia = pd.concat([datos_galicia_num, dummies6], axis = 1)\n",
    "dummies7= pd.get_dummies(datos_galicia_num['Mes'], drop_first = True)\n",
    "datos_galicia = pd.concat([datos_galicia_num, dummies7], axis = 1)\n",
    "dummies8= pd.get_dummies(datos_galicia_num['causa'], drop_first = True)\n",
    "datos_galicia = pd.concat([datos_galicia_num, dummies8], axis = 1)\n"
   ]
  },
  {
   "cell_type": "markdown",
   "id": "14cedc04",
   "metadata": {},
   "source": [
    "Ahora eliminamos las variables originales"
   ]
  },
  {
   "cell_type": "code",
   "execution_count": 28,
   "id": "c853e710",
   "metadata": {},
   "outputs": [],
   "source": [
    "datos_galicia_num = datos_galicia_num.drop(columns=['idprovincia'])\n",
    "datos_galicia_num = datos_galicia_num.drop(columns=['gastos'])\n",
    "datos_galicia_num = datos_galicia_num.drop(columns=['ALTITUD'])\n",
    "datos_galicia_num = datos_galicia_num.drop(columns=['Trimestre'])\n",
    "datos_galicia_num = datos_galicia_num.drop(columns=['DIR_VIENTO'])\n",
    "datos_galicia_num = datos_galicia_num.drop(columns=['VELMEDIA'])\n",
    "datos_galicia_num = datos_galicia_num.drop(columns=['Mes'])\n",
    "datos_galicia_num = datos_galicia_num.drop(columns=['causa'])"
   ]
  },
  {
   "cell_type": "code",
   "execution_count": 29,
   "id": "080c0217",
   "metadata": {},
   "outputs": [
    {
     "data": {
      "text/plain": [
       "Index(['superficie', 'fecha', 'lat', 'lng', 'muertos', 'heridos', 'time_ctrl',\n",
       "       'time_ext', 'personal', 'medios', 'TMEDIA', 'PRECIPITACION', 'TMIN',\n",
       "       'TMAX', 'RACHA', 'SOL', 'Año', 'PRES_RANGE', 'target'],\n",
       "      dtype='object')"
      ]
     },
     "execution_count": 29,
     "metadata": {},
     "output_type": "execute_result"
    }
   ],
   "source": [
    "datos_galicia_num.columns"
   ]
  },
  {
   "cell_type": "code",
   "execution_count": 30,
   "id": "b76ff88a",
   "metadata": {},
   "outputs": [
    {
     "data": {
      "text/plain": [
       "19"
      ]
     },
     "execution_count": 30,
     "metadata": {},
     "output_type": "execute_result"
    }
   ],
   "source": [
    "len(datos_galicia_num.columns)"
   ]
  },
  {
   "cell_type": "markdown",
   "id": "f09b3510",
   "metadata": {},
   "source": [
    "Vamos a escalar los datos"
   ]
  },
  {
   "cell_type": "markdown",
   "id": "22317298",
   "metadata": {},
   "source": [
    "# Modelado"
   ]
  },
  {
   "cell_type": "markdown",
   "id": "9187f46e",
   "metadata": {},
   "source": [
    "Dividimos los datos en Train y Test y separamos ambas entre x -> entradas ( variables explicativas) e y-> salidas ( variable objetivo)\n",
    "Nuestro conjunto de Train es el entrenamiento, en Test probaremos los resultados de nuestras predicciones.\n"
   ]
  },
  {
   "cell_type": "code",
   "execution_count": null,
   "id": "bf15ed58",
   "metadata": {},
   "outputs": [],
   "source": [
    "datos_galicia_num['fecha'] = pd.to_datetime(datos_galicia_num['fecha'])"
   ]
  },
  {
   "cell_type": "code",
   "execution_count": 31,
   "id": "53083cfc",
   "metadata": {},
   "outputs": [],
   "source": [
    "datos_galicia_num =  datos_galicia_num.drop('fecha', axis = 'columns')"
   ]
  },
  {
   "cell_type": "code",
   "execution_count": 32,
   "id": "5678db73",
   "metadata": {},
   "outputs": [
    {
     "data": {
      "text/plain": [
       "Index(['superficie', 'lat', 'lng', 'muertos', 'heridos', 'time_ctrl',\n",
       "       'time_ext', 'personal', 'medios', 'TMEDIA', 'PRECIPITACION', 'TMIN',\n",
       "       'TMAX', 'RACHA', 'SOL', 'Año', 'PRES_RANGE', 'target'],\n",
       "      dtype='object')"
      ]
     },
     "execution_count": 32,
     "metadata": {},
     "output_type": "execute_result"
    }
   ],
   "source": [
    "datos_galicia_num.columns"
   ]
  },
  {
   "cell_type": "code",
   "execution_count": 60,
   "id": "ee589b8f",
   "metadata": {},
   "outputs": [],
   "source": [
    "X_train, X_test, y_train, y_test = train_test_split(\n",
    "                                        datos_galicia_num.drop('target', axis = 'columns'),\n",
    "                                        datos_galicia_num['target'],\n",
    "                                        train_size   = 0.8,\n",
    "                                        random_state = 1234,\n",
    "                                        shuffle      = True)"
   ]
  },
  {
   "cell_type": "markdown",
   "id": "821c03b1",
   "metadata": {},
   "source": [
    "Comprobamos las dimensiones de Train y Test"
   ]
  },
  {
   "cell_type": "code",
   "execution_count": 34,
   "id": "75127e1c",
   "metadata": {},
   "outputs": [
    {
     "data": {
      "text/plain": [
       "(6803, 17)"
      ]
     },
     "execution_count": 34,
     "metadata": {},
     "output_type": "execute_result"
    }
   ],
   "source": [
    "X_train.shape"
   ]
  },
  {
   "cell_type": "code",
   "execution_count": 35,
   "id": "299b4ef6",
   "metadata": {},
   "outputs": [
    {
     "data": {
      "text/plain": [
       "(6803,)"
      ]
     },
     "execution_count": 35,
     "metadata": {},
     "output_type": "execute_result"
    }
   ],
   "source": [
    "y_train.shape"
   ]
  },
  {
   "cell_type": "code",
   "execution_count": 36,
   "id": "6526bb72",
   "metadata": {},
   "outputs": [
    {
     "data": {
      "text/plain": [
       "(1701, 17)"
      ]
     },
     "execution_count": 36,
     "metadata": {},
     "output_type": "execute_result"
    }
   ],
   "source": [
    "X_test.shape"
   ]
  },
  {
   "cell_type": "code",
   "execution_count": 37,
   "id": "16c8e169",
   "metadata": {},
   "outputs": [
    {
     "data": {
      "text/plain": [
       "(1701,)"
      ]
     },
     "execution_count": 37,
     "metadata": {},
     "output_type": "execute_result"
    }
   ],
   "source": [
    "y_test.shape"
   ]
  },
  {
   "cell_type": "markdown",
   "id": "25780bf0",
   "metadata": {},
   "source": [
    "Normalizamos"
   ]
  },
  {
   "cell_type": "code",
   "execution_count": 38,
   "id": "ece14b6a",
   "metadata": {},
   "outputs": [],
   "source": [
    "import tensorflow as tf\n",
    "from tensorflow import keras"
   ]
  },
  {
   "cell_type": "code",
   "execution_count": 41,
   "id": "c736371f",
   "metadata": {},
   "outputs": [],
   "source": [
    "import numpy as np\n",
    "\n",
    "X_train = np.asarray(X_train).astype(np.float32)"
   ]
  },
  {
   "cell_type": "code",
   "execution_count": 42,
   "id": "2e79c739",
   "metadata": {},
   "outputs": [],
   "source": [
    "norm= tf.keras.layers.experimental.preprocessing.Normalization(axis = -1,dtype=None,mean = None,variance=None)\n",
    "\n",
    "norm.adapt(X_train)\n",
    "x_train_norm = norm(X_train)"
   ]
  },
  {
   "cell_type": "code",
   "execution_count": 44,
   "id": "240056fb",
   "metadata": {},
   "outputs": [],
   "source": [
    "import tensorflow as tf\n",
    "from tensorflow import keras\n",
    "from tensorflow.keras import layers\n",
    "import matplotlib.pyplot as plt\n",
    "import pandas as pd\n",
    "import numpy as np"
   ]
  },
  {
   "cell_type": "markdown",
   "id": "e2b138db",
   "metadata": {},
   "source": [
    "Primero vamos a generar varios tipos de modelos con todas las variables para ver cuál puede ser el modelo que más se ajuste a nuestros datos"
   ]
  },
  {
   "cell_type": "markdown",
   "id": "63a78e8e",
   "metadata": {},
   "source": [
    "#### Regresión lineal múltiple"
   ]
  },
  {
   "cell_type": "markdown",
   "id": "896c7834",
   "metadata": {},
   "source": [
    "Los algoritmos son utilizados para aprender a predecir el valor de una variable continua a partir de una o más variables explicativas."
   ]
  },
  {
   "cell_type": "code",
   "execution_count": null,
   "id": "fdd1c4ab",
   "metadata": {},
   "outputs": [],
   "source": [
    "from sklearn import linear_model"
   ]
  },
  {
   "cell_type": "code",
   "execution_count": null,
   "id": "c2b8f9f1",
   "metadata": {},
   "outputs": [],
   "source": [
    "X_train.shape"
   ]
  },
  {
   "cell_type": "code",
   "execution_count": null,
   "id": "15b9957b",
   "metadata": {},
   "outputs": [],
   "source": [
    "model = LinearRegression()\n",
    "model.fit(X_train, y_train)"
   ]
  },
  {
   "cell_type": "code",
   "execution_count": null,
   "id": "de54f61b",
   "metadata": {},
   "outputs": [],
   "source": [
    "model.score(X_test,y_test)"
   ]
  },
  {
   "cell_type": "code",
   "execution_count": null,
   "id": "3d8f3893",
   "metadata": {},
   "outputs": [],
   "source": [
    "model.score(X_test,y_test)"
   ]
  },
  {
   "cell_type": "code",
   "execution_count": null,
   "id": "9a9954e0",
   "metadata": {},
   "outputs": [],
   "source": [
    "print('Coefficients: \\n', model.coef_)"
   ]
  },
  {
   "cell_type": "code",
   "execution_count": null,
   "id": "5bd12617",
   "metadata": {},
   "outputs": [],
   "source": [
    "y_pred = model.predict(X_test)"
   ]
  },
  {
   "cell_type": "code",
   "execution_count": null,
   "id": "6ea55e85",
   "metadata": {},
   "outputs": [],
   "source": [
    "x_ax = range(len(y_test))\n",
    "plt.plot(x_ax, y_test, label=\"original\")\n",
    "plt.plot(x_ax, y_pred, label=\"predicted\")\n",
    "plt.title(\"Boston test and predicted data\")\n",
    "plt.xlabel('X-axis')\n",
    "plt.ylabel('Y-axis')\n",
    "plt.legend(loc='best',fancybox=True, shadow=True)\n",
    "plt.grid(True)\n",
    "plt.show()   "
   ]
  },
  {
   "cell_type": "markdown",
   "id": "ae8aef52",
   "metadata": {},
   "source": [
    "### Arbol de decisión"
   ]
  },
  {
   "cell_type": "markdown",
   "id": "6dde5c6d",
   "metadata": {},
   "source": [
    "En el caso de regresión, en lugar de usar Gini como medida de impureza, usamos MSE, el error cuadrático medio. Para este problema,\n",
    "si usamos un árbol de decisión de profundidad 2, obtenemos el siguiente árbol."
   ]
  },
  {
   "cell_type": "code",
   "execution_count": null,
   "id": "5fb89752",
   "metadata": {},
   "outputs": [],
   "source": [
    "modelo_arbol = DecisionTreeRegressor()\n",
    "modelo_arbol.fit(X_train, y_train)"
   ]
  },
  {
   "cell_type": "code",
   "execution_count": null,
   "id": "819f6134",
   "metadata": {},
   "outputs": [],
   "source": [
    "score = modelo_arbol.score(X_train, y_train)\n",
    "print(\"R-squared:\", score)"
   ]
  },
  {
   "cell_type": "code",
   "execution_count": null,
   "id": "e2285333",
   "metadata": {},
   "outputs": [],
   "source": [
    "modelo_arbol.score(X_train,y_train)"
   ]
  },
  {
   "cell_type": "code",
   "execution_count": null,
   "id": "3aac6bb2",
   "metadata": {},
   "outputs": [],
   "source": [
    "modelo_arbol.score(X_test,y_test)"
   ]
  },
  {
   "cell_type": "code",
   "execution_count": null,
   "id": "28d30a7b",
   "metadata": {},
   "outputs": [],
   "source": [
    "y_pred        = modelo_arbol.predict(X_test)"
   ]
  },
  {
   "cell_type": "markdown",
   "id": "3d09cdfd",
   "metadata": {},
   "source": [
    "Representamos nuestro error"
   ]
  },
  {
   "cell_type": "code",
   "execution_count": null,
   "id": "2eab3fb8",
   "metadata": {},
   "outputs": [],
   "source": [
    "x_ax = range(len(y_test))\n",
    "plt.plot(x_ax, y_test, label=\"original\")\n",
    "plt.plot(x_ax, y_pred, label=\"predicción\")\n",
    "plt.title(\"Pérdidas test y predicción de los datos\")\n",
    "plt.xlabel('X-axis')\n",
    "plt.ylabel('Y-axis')\n",
    "plt.legend(loc='best',fancybox=True, shadow=True)\n",
    "plt.grid(True)\n",
    "plt.show()   \n"
   ]
  },
  {
   "cell_type": "markdown",
   "id": "b934a257",
   "metadata": {},
   "source": [
    "### Random Forest"
   ]
  },
  {
   "cell_type": "code",
   "execution_count": null,
   "id": "979ff67f",
   "metadata": {},
   "outputs": [],
   "source": [
    "from sklearn.ensemble import RandomForestRegressor\n",
    "from sklearn.datasets import make_regression"
   ]
  },
  {
   "cell_type": "code",
   "execution_count": null,
   "id": "84791029",
   "metadata": {},
   "outputs": [],
   "source": [
    "modelo_randfor = RandomForestRegressor().fit(X_train, y_train)\n",
    "y_pred        = modelo_randfor.predict(X_test)"
   ]
  },
  {
   "cell_type": "code",
   "execution_count": null,
   "id": "30372ac2",
   "metadata": {},
   "outputs": [],
   "source": [
    "errors = abs(y_pred - y_test)\n",
    "print('Mean Absolute Error:', round(np.mean(errors), 2), 'degrees.')"
   ]
  },
  {
   "cell_type": "code",
   "execution_count": null,
   "id": "38eb7d98",
   "metadata": {},
   "outputs": [],
   "source": [
    "modelo_randfor.score(X_train,y_train)"
   ]
  },
  {
   "cell_type": "markdown",
   "id": "fcaf3e28",
   "metadata": {},
   "source": [
    "### Naive Bayes"
   ]
  },
  {
   "cell_type": "markdown",
   "id": "415c50b9",
   "metadata": {},
   "source": [
    "Obtiene la probabilidad considerando las variables predictoras independientes, como si actuasen cada una de manera individual frente a la variable objetivo"
   ]
  },
  {
   "cell_type": "code",
   "execution_count": null,
   "id": "3fa9b6ba",
   "metadata": {},
   "outputs": [],
   "source": [
    "modelo_bayes = naive_bayes.GaussianNB().fit(X_train, y_train)\n",
    "y_pred        = modelo_bayes.predict(X_test)"
   ]
  },
  {
   "cell_type": "code",
   "execution_count": null,
   "id": "91542e64",
   "metadata": {},
   "outputs": [],
   "source": [
    "print(modelo_bayes.score(X_train, y_train))"
   ]
  },
  {
   "cell_type": "markdown",
   "id": "cfd05bc6",
   "metadata": {},
   "source": [
    "### Gradient Boosting"
   ]
  },
  {
   "cell_type": "code",
   "execution_count": null,
   "id": "15663570",
   "metadata": {},
   "outputs": [],
   "source": [
    "from sklearn.ensemble import GradientBoostingRegressor\n",
    "model_Gboost = GradientBoostingRegressor(random_state=0).fit(X_train, y_train)\n",
    "model_Gboost.score(X_train, y_train)\n",
    "\n",
    "model.score(X_test, y_test)"
   ]
  },
  {
   "cell_type": "markdown",
   "id": "a5aef2be",
   "metadata": {},
   "source": [
    "### Continuamos con la categórica -> Causa"
   ]
  },
  {
   "cell_type": "code",
   "execution_count": null,
   "id": "65fc4303",
   "metadata": {},
   "outputs": [],
   "source": [
    "import pandas as pd\n",
    "import numpy as np\n",
    "import matplotlib.pyplot as plt\n",
    "import seaborn as sns\n",
    "from sklearn.linear_model import LinearRegression\n",
    "from sklearn.model_selection import train_test_split\n",
    "from pandas.plotting import scatter_matrix\n",
    "from sklearn.model_selection import GridSearchCV\n",
    "from sklearn.metrics import accuracy_score, auc, confusion_matrix, f1_score, precision_score, recall_score, roc_curve\n",
    "import pickle"
   ]
  },
  {
   "cell_type": "markdown",
   "id": "1558cc3e",
   "metadata": {},
   "source": [
    "Creamos un dataset igual que el incial"
   ]
  },
  {
   "cell_type": "code",
   "execution_count": null,
   "id": "7ac90e3b",
   "metadata": {},
   "outputs": [],
   "source": [
    "datos_galicia_cat = datos_galicia"
   ]
  },
  {
   "cell_type": "code",
   "execution_count": null,
   "id": "ddaf0626",
   "metadata": {},
   "outputs": [],
   "source": [
    "datos_galicia_cat.dtypes"
   ]
  },
  {
   "cell_type": "code",
   "execution_count": null,
   "id": "a3e1c838",
   "metadata": {},
   "outputs": [],
   "source": [
    "datos_galicia_cat.shape"
   ]
  },
  {
   "cell_type": "code",
   "execution_count": null,
   "id": "7f1b05d7",
   "metadata": {},
   "outputs": [],
   "source": [
    "datos_galicia_cat['target']=datos_galicia_cat['causa']"
   ]
  },
  {
   "cell_type": "code",
   "execution_count": null,
   "id": "70e27aed",
   "metadata": {},
   "outputs": [],
   "source": [
    "datos_galicia_cat = datos_galicia_cat.drop(columns=['causa'])"
   ]
  },
  {
   "cell_type": "markdown",
   "id": "c6bbca99",
   "metadata": {},
   "source": [
    "Vemos como se distrubuye la variabe categórica"
   ]
  },
  {
   "cell_type": "code",
   "execution_count": null,
   "id": "dc0a0c75",
   "metadata": {},
   "outputs": [],
   "source": [
    "print(datos_galicia_cat.groupby('target').size())"
   ]
  },
  {
   "cell_type": "markdown",
   "id": "5b23bead",
   "metadata": {},
   "source": [
    "Separamos categóricas de numéricas"
   ]
  },
  {
   "cell_type": "code",
   "execution_count": null,
   "id": "a12a8378",
   "metadata": {},
   "outputs": [],
   "source": [
    "lista_numericas=datos_galicia_cat._get_numeric_data()\n",
    "lista_categoricas=datos_galicia_cat.select_dtypes(include = [\"object\"])"
   ]
  },
  {
   "cell_type": "code",
   "execution_count": null,
   "id": "5678f11c",
   "metadata": {},
   "outputs": [],
   "source": [
    "lista_numericas.columns"
   ]
  },
  {
   "cell_type": "code",
   "execution_count": null,
   "id": "29d861d4",
   "metadata": {},
   "outputs": [],
   "source": [
    "lista_categoricas.columns"
   ]
  },
  {
   "cell_type": "markdown",
   "id": "1a897100",
   "metadata": {},
   "source": [
    "Eliminamos idmunicipio por exceso de categorias"
   ]
  },
  {
   "cell_type": "markdown",
   "id": "9a4247c8",
   "metadata": {},
   "source": [
    "## Transformamos las variables categóricas -> numeración"
   ]
  },
  {
   "cell_type": "markdown",
   "id": "39db0645",
   "metadata": {},
   "source": [
    "Primero vemos las categorías que componen a cada una de ellas"
   ]
  },
  {
   "cell_type": "code",
   "execution_count": null,
   "id": "4b56e4dd",
   "metadata": {},
   "outputs": [],
   "source": [
    "for i in lista_categoricas:\n",
    "    print(datos_galicia_cat[i].value_counts())"
   ]
  },
  {
   "cell_type": "code",
   "execution_count": null,
   "id": "ef5ec32f",
   "metadata": {},
   "outputs": [],
   "source": [
    "datos_galicia_cat = datos_galicia_cat.drop(columns=['fecha'])"
   ]
  },
  {
   "cell_type": "code",
   "execution_count": null,
   "id": "8976022c",
   "metadata": {},
   "outputs": [],
   "source": [
    "datos_galicia_cat['gastos'].value_counts"
   ]
  },
  {
   "cell_type": "code",
   "execution_count": null,
   "id": "0be747b5",
   "metadata": {},
   "outputs": [],
   "source": [
    "datos_galicia_cat.idprovincia.replace(('A Coruña','Lugo','Ourense','Pontevedra'),\n",
    "                      (1,2,3,4),inplace=True)\n",
    "\n",
    "datos_galicia_cat.DIR_VIENTO.replace((\"N\",\"NE\",\"E\",\"SE\",\"S\",\"SW\",\"W\",\"NW\",\"N\"),\n",
    "                      (1,2,3,4,5,6,7,8,9),inplace=True)\n",
    "\n",
    "datos_galicia_cat.gastos.replace((\"NO INFO\",\"< 1K\",\"1K-10K\",\"10K-100K\",\"> 100K\"),\n",
    "                      (1,2,3,4,5),inplace=True)\n",
    "\n",
    "datos_galicia_cat.ALTITUD.replace((\"NO INFO\",\"Inferior a 80\",\"Entre 100-125\",\"Superior a 125\"),\n",
    "                      (1,2,3,4),inplace=True)\n",
    "\n",
    "datos_galicia_cat.VELMEDIA.replace((\"< 2 m/s\",\"2-4 m/s\",\"4-6 m/s\",\"6-8 m/\",\"> 8 m/s\"),\n",
    "                      (1,2,3,4,5),inplace=True)\n",
    "\n",
    "datos_galicia_cat.Trimestre.replace((\"Q1\",\"Q2\",\"Q3\",\"Q4\"),\n",
    "                      (1,2,3,4),inplace=True)\n",
    "\n",
    "datos_galicia_cat.Mes.replace(('enero','febrero','marzo','abril','mayo','junio','julio',\n",
    "                               'agosto','septiembre','octubre','noviembre','diciembre'),\n",
    "                      (1,2,3,4,5,6,7,8,9,10,11,12),inplace=True)"
   ]
  },
  {
   "cell_type": "code",
   "execution_count": null,
   "id": "bdcaf92d",
   "metadata": {},
   "outputs": [],
   "source": [
    "datos_galicia_cat.dtypes"
   ]
  },
  {
   "cell_type": "code",
   "execution_count": null,
   "id": "48fc794d",
   "metadata": {},
   "outputs": [],
   "source": [
    "def saca_metricas(y1, y2):\n",
    "    print('matriz de confusión')\n",
    "    print(confusion_matrix(y1, y2))\n",
    "    print('accuracy')\n",
    "    print(accuracy_score(y1, y2))\n",
    "    print('precision')\n",
    "    print(precision_score(y1, y2))\n",
    "    print('recall')\n",
    "    print(recall_score(y1, y2))\n",
    "    print('f1')\n",
    "    print(f1_score(y1, y2))\n",
    "    false_positive_rate, recall, thresholds = roc_curve(y1, y2)\n",
    "    roc_auc = auc(false_positive_rate, recall)\n",
    "    print('AUC')\n",
    "    print(roc_auc)\n",
    "    plt.plot(false_positive_rate, recall, 'b')\n",
    "    plt.plot([0, 1], [0, 1], 'r--')\n",
    "    plt.title('AUC = %0.2f' % roc_auc)"
   ]
  },
  {
   "cell_type": "code",
   "execution_count": null,
   "id": "035cf9c0",
   "metadata": {},
   "outputs": [],
   "source": [
    "#datos_galicia_cat = datos_galicia_cat.drop(columns=['gastos'])"
   ]
  },
  {
   "cell_type": "code",
   "execution_count": null,
   "id": "adabf789",
   "metadata": {},
   "outputs": [],
   "source": [
    "#datos_galicia_cat = datos_galicia_cat.drop(columns=['VELMEDIA'])"
   ]
  },
  {
   "cell_type": "code",
   "execution_count": null,
   "id": "a3e165e4",
   "metadata": {},
   "outputs": [],
   "source": [
    "X_train, X_test, y_train, y_test = train_test_split(\n",
    "                                        datos_galicia_cat.drop('target', axis = 'columns'),\n",
    "                                        datos_galicia_cat['target'],\n",
    "                                        train_size   = 0.8,\n",
    "                                        random_state = 1234,\n",
    "                                        shuffle      = True)"
   ]
  },
  {
   "cell_type": "code",
   "execution_count": null,
   "id": "83e1bb02",
   "metadata": {},
   "outputs": [],
   "source": [
    "!pip uninstall scikit-learn -y\n",
    "!pip install scikit-learn==0.24.1\n"
   ]
  },
  {
   "cell_type": "code",
   "execution_count": null,
   "id": "30957bad",
   "metadata": {},
   "outputs": [],
   "source": [
    "!pip3 install \"scikit_learn==0.22.2.post1\""
   ]
  },
  {
   "cell_type": "code",
   "execution_count": null,
   "id": "ad650692",
   "metadata": {},
   "outputs": [],
   "source": [
    "import sklearn"
   ]
  },
  {
   "cell_type": "code",
   "execution_count": null,
   "id": "70a241fa",
   "metadata": {},
   "outputs": [],
   "source": [
    "from sklearn.linear_model import LogisticRegression"
   ]
  },
  {
   "cell_type": "code",
   "execution_count": null,
   "id": "b0971ced",
   "metadata": {},
   "outputs": [],
   "source": [
    "import numpy as np\n",
    "from sklearn.preprocessing import LabelBinarizer\n",
    "y = datos_galicia_cat['target']\n",
    "y_dense = LabelBinarizer().fit_transform(y)\n",
    "print(y_dense)\n",
    "\n",
    "from scipy import sparse\n",
    "y_sparse = sparse.csr_matrix(y_dense)\n"
   ]
  },
  {
   "cell_type": "code",
   "execution_count": null,
   "id": "33dc711e",
   "metadata": {},
   "outputs": [],
   "source": [
    "from sklearn import datasets\n",
    "from sklearn.multiclass import OneVsRestClassifier\n",
    "from sklearn.svm import LinearSVC\n",
    "X, y = datos_galicia_cat(return_X_y=True)\n",
    "OneVsRestClassifier(LinearSVC(random_state=0)).fit(X, y).predict(X)"
   ]
  },
  {
   "cell_type": "code",
   "execution_count": null,
   "id": "078f970c",
   "metadata": {},
   "outputs": [],
   "source": []
  },
  {
   "cell_type": "code",
   "execution_count": null,
   "id": "0442897e",
   "metadata": {},
   "outputs": [],
   "source": [
    "classifier = RandomForestClassifier().fit(X_train, y_train)\n",
    "y_pred     = classifier.predict(X_test)"
   ]
  },
  {
   "cell_type": "code",
   "execution_count": null,
   "id": "4999d7f6",
   "metadata": {},
   "outputs": [],
   "source": [
    "from sklearn.datasets import make_classification\n",
    "from sklearn.multioutput import MultiOutputClassifier\n",
    "from sklearn.ensemble import RandomForestClassifier\n",
    "from sklearn.utils import shuffle"
   ]
  },
  {
   "cell_type": "code",
   "execution_count": null,
   "id": "ef6295e3",
   "metadata": {},
   "outputs": [],
   "source": [
    "forest = RandomForestClassifier(random_state=1)\n",
    ">>> multi_target_forest = MultiOutputClassifier(forest, n_jobs=-1)\n",
    ">>> multi_target_forest.fit(X, Y).predict(X)"
   ]
  },
  {
   "cell_type": "code",
   "execution_count": null,
   "id": "9c59227f",
   "metadata": {},
   "outputs": [],
   "source": [
    "from sklearn.tree import DecisionTreeClassifier\n",
    "dtree_model = DecisionTreeClassifier(max_depth = 2).fit(X_train, y_train)\n",
    "dtree_predictions = dtree_model.predict(X_test)\n",
    "  \n",
    "# creating a confusion matrix\n",
    "cm = confusion_matrix(y_test, dtree_predictions)"
   ]
  },
  {
   "cell_type": "code",
   "execution_count": null,
   "id": "f78ee3f9",
   "metadata": {},
   "outputs": [],
   "source": [
    "cm"
   ]
  },
  {
   "cell_type": "code",
   "execution_count": null,
   "id": "7e364d1a",
   "metadata": {},
   "outputs": [],
   "source": [
    "from sklearn.naive_bayes import GaussianNB\n",
    "gnb = GaussianNB().fit(X_train, y_train)\n",
    "gnb_predictions = gnb.predict(X_test)\n",
    "  \n",
    "# accuracy on X_test\n",
    "accuracy = gnb.score(X_test, y_test)\n",
    "print(accuracy)\n",
    "  \n",
    "# creating a confusion matrix\n",
    "cm = confusion_matrix(y_test, gnb_predictions)"
   ]
  },
  {
   "cell_type": "code",
   "execution_count": null,
   "id": "781d7608",
   "metadata": {},
   "outputs": [],
   "source": [
    "cm"
   ]
  }
 ],
 "metadata": {
  "kernelspec": {
   "display_name": "Python 3",
   "language": "python",
   "name": "python3"
  },
  "language_info": {
   "codemirror_mode": {
    "name": "ipython",
    "version": 3
   },
   "file_extension": ".py",
   "mimetype": "text/x-python",
   "name": "python",
   "nbconvert_exporter": "python",
   "pygments_lexer": "ipython3",
   "version": "3.8.8"
  }
 },
 "nbformat": 4,
 "nbformat_minor": 5
}
